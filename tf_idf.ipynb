{
  "nbformat": 4,
  "nbformat_minor": 0,
  "metadata": {
    "colab": {
      "provenance": []
    },
    "kernelspec": {
      "name": "python3",
      "display_name": "Python 3"
    },
    "language_info": {
      "name": "python"
    }
  },
  "cells": [
    {
      "cell_type": "code",
      "execution_count": 133,
      "metadata": {
        "colab": {
          "base_uri": "https://localhost:8080/",
          "height": 206
        },
        "id": "fZllsS1fW17O",
        "outputId": "781c221c-fb2c-4733-e4c5-ea01b1172948"
      },
      "outputs": [
        {
          "output_type": "execute_result",
          "data": {
            "text/plain": [
              "                                                text  Sentimen\n",
              "0  23:29:56,\"Semoga aplikasinya cepat diperbaiki,...         1\n",
              "1        23:31:43,Aplikasi apa ini nik tidak terbaca         1\n",
              "2    23:41:43,Entah lah susah di jelaskan....ribeet…         0\n",
              "3  23:45:23,Selevel negara kok tidak mampu bikin ...         0\n",
              "4   00:00:53,\"Maaf kasih 1 bintang karena engga e...         0"
            ],
            "text/html": [
              "\n",
              "  <div id=\"df-b44cb501-fb95-4988-8a5f-3ddb212a9fd4\">\n",
              "    <div class=\"colab-df-container\">\n",
              "      <div>\n",
              "<style scoped>\n",
              "    .dataframe tbody tr th:only-of-type {\n",
              "        vertical-align: middle;\n",
              "    }\n",
              "\n",
              "    .dataframe tbody tr th {\n",
              "        vertical-align: top;\n",
              "    }\n",
              "\n",
              "    .dataframe thead th {\n",
              "        text-align: right;\n",
              "    }\n",
              "</style>\n",
              "<table border=\"1\" class=\"dataframe\">\n",
              "  <thead>\n",
              "    <tr style=\"text-align: right;\">\n",
              "      <th></th>\n",
              "      <th>text</th>\n",
              "      <th>Sentimen</th>\n",
              "    </tr>\n",
              "  </thead>\n",
              "  <tbody>\n",
              "    <tr>\n",
              "      <th>0</th>\n",
              "      <td>23:29:56,\"Semoga aplikasinya cepat diperbaiki,...</td>\n",
              "      <td>1</td>\n",
              "    </tr>\n",
              "    <tr>\n",
              "      <th>1</th>\n",
              "      <td>23:31:43,Aplikasi apa ini nik tidak terbaca</td>\n",
              "      <td>1</td>\n",
              "    </tr>\n",
              "    <tr>\n",
              "      <th>2</th>\n",
              "      <td>23:41:43,Entah lah susah di jelaskan....ribeet…</td>\n",
              "      <td>0</td>\n",
              "    </tr>\n",
              "    <tr>\n",
              "      <th>3</th>\n",
              "      <td>23:45:23,Selevel negara kok tidak mampu bikin ...</td>\n",
              "      <td>0</td>\n",
              "    </tr>\n",
              "    <tr>\n",
              "      <th>4</th>\n",
              "      <td>00:00:53,\"Maaf kasih 1 bintang karena engga e...</td>\n",
              "      <td>0</td>\n",
              "    </tr>\n",
              "  </tbody>\n",
              "</table>\n",
              "</div>\n",
              "      <button class=\"colab-df-convert\" onclick=\"convertToInteractive('df-b44cb501-fb95-4988-8a5f-3ddb212a9fd4')\"\n",
              "              title=\"Convert this dataframe to an interactive table.\"\n",
              "              style=\"display:none;\">\n",
              "        \n",
              "  <svg xmlns=\"http://www.w3.org/2000/svg\" height=\"24px\"viewBox=\"0 0 24 24\"\n",
              "       width=\"24px\">\n",
              "    <path d=\"M0 0h24v24H0V0z\" fill=\"none\"/>\n",
              "    <path d=\"M18.56 5.44l.94 2.06.94-2.06 2.06-.94-2.06-.94-.94-2.06-.94 2.06-2.06.94zm-11 1L8.5 8.5l.94-2.06 2.06-.94-2.06-.94L8.5 2.5l-.94 2.06-2.06.94zm10 10l.94 2.06.94-2.06 2.06-.94-2.06-.94-.94-2.06-.94 2.06-2.06.94z\"/><path d=\"M17.41 7.96l-1.37-1.37c-.4-.4-.92-.59-1.43-.59-.52 0-1.04.2-1.43.59L10.3 9.45l-7.72 7.72c-.78.78-.78 2.05 0 2.83L4 21.41c.39.39.9.59 1.41.59.51 0 1.02-.2 1.41-.59l7.78-7.78 2.81-2.81c.8-.78.8-2.07 0-2.86zM5.41 20L4 18.59l7.72-7.72 1.47 1.35L5.41 20z\"/>\n",
              "  </svg>\n",
              "      </button>\n",
              "      \n",
              "  <style>\n",
              "    .colab-df-container {\n",
              "      display:flex;\n",
              "      flex-wrap:wrap;\n",
              "      gap: 12px;\n",
              "    }\n",
              "\n",
              "    .colab-df-convert {\n",
              "      background-color: #E8F0FE;\n",
              "      border: none;\n",
              "      border-radius: 50%;\n",
              "      cursor: pointer;\n",
              "      display: none;\n",
              "      fill: #1967D2;\n",
              "      height: 32px;\n",
              "      padding: 0 0 0 0;\n",
              "      width: 32px;\n",
              "    }\n",
              "\n",
              "    .colab-df-convert:hover {\n",
              "      background-color: #E2EBFA;\n",
              "      box-shadow: 0px 1px 2px rgba(60, 64, 67, 0.3), 0px 1px 3px 1px rgba(60, 64, 67, 0.15);\n",
              "      fill: #174EA6;\n",
              "    }\n",
              "\n",
              "    [theme=dark] .colab-df-convert {\n",
              "      background-color: #3B4455;\n",
              "      fill: #D2E3FC;\n",
              "    }\n",
              "\n",
              "    [theme=dark] .colab-df-convert:hover {\n",
              "      background-color: #434B5C;\n",
              "      box-shadow: 0px 1px 3px 1px rgba(0, 0, 0, 0.15);\n",
              "      filter: drop-shadow(0px 1px 2px rgba(0, 0, 0, 0.3));\n",
              "      fill: #FFFFFF;\n",
              "    }\n",
              "  </style>\n",
              "\n",
              "      <script>\n",
              "        const buttonEl =\n",
              "          document.querySelector('#df-b44cb501-fb95-4988-8a5f-3ddb212a9fd4 button.colab-df-convert');\n",
              "        buttonEl.style.display =\n",
              "          google.colab.kernel.accessAllowed ? 'block' : 'none';\n",
              "\n",
              "        async function convertToInteractive(key) {\n",
              "          const element = document.querySelector('#df-b44cb501-fb95-4988-8a5f-3ddb212a9fd4');\n",
              "          const dataTable =\n",
              "            await google.colab.kernel.invokeFunction('convertToInteractive',\n",
              "                                                     [key], {});\n",
              "          if (!dataTable) return;\n",
              "\n",
              "          const docLinkHtml = 'Like what you see? Visit the ' +\n",
              "            '<a target=\"_blank\" href=https://colab.research.google.com/notebooks/data_table.ipynb>data table notebook</a>'\n",
              "            + ' to learn more about interactive tables.';\n",
              "          element.innerHTML = '';\n",
              "          dataTable['output_type'] = 'display_data';\n",
              "          await google.colab.output.renderOutput(dataTable, element);\n",
              "          const docLink = document.createElement('div');\n",
              "          docLink.innerHTML = docLinkHtml;\n",
              "          element.appendChild(docLink);\n",
              "        }\n",
              "      </script>\n",
              "    </div>\n",
              "  </div>\n",
              "  "
            ]
          },
          "metadata": {},
          "execution_count": 133
        }
      ],
      "source": [
        "import pandas as pd\n",
        "import re\n",
        "from sklearn.metrics import accuracy_score\n",
        "import warnings\n",
        "warnings.filterwarnings('ignore', 'Solver terminated early.*')\n",
        "\n",
        "# Import dataset csv\n",
        "df_dataset= pd.read_excel(\"mypertaminadata.xlsx\")\n",
        "df_dataset.head()"
      ]
    },
    {
      "cell_type": "code",
      "source": [
        "# Cleansing dataset\n",
        "df_dataset['cleansing'] = df_dataset['text']\n",
        "df_dataset['cleansing'] = df_dataset['cleansing'].apply(lambda x: re.sub('(<.*?>)', ' ', x))\n",
        "df_dataset['cleansing'] = df_dataset['cleansing'].apply(lambda x: re.sub('[,\\.!?:()\"]', '', x))  \n",
        "df_dataset['cleansing'] = df_dataset['cleansing'].apply(lambda x: x.strip())\n",
        "df_dataset['cleansing'] = df_dataset['cleansing'].apply(lambda x: re.sub('[^a-zA-Z\"]',' ',x))\n",
        "# Contoh data pertama yg dicleansing\n",
        "df_dataset['cleansing'][0]"
      ],
      "metadata": {
        "colab": {
          "base_uri": "https://localhost:8080/",
          "height": 52
        },
        "id": "5kWmy1WiW-PP",
        "outputId": "d0b1add6-0a97-4c68-87cd-a8d31abc9991"
      },
      "execution_count": 134,
      "outputs": [
        {
          "output_type": "execute_result",
          "data": {
            "text/plain": [
              "'      Semoga aplikasinya cepat diperbaiki karena begitu banyak masalah saat menggunakan aplikasi ini aplikasi ini setidaknya jangan membuat kami tambah susah karena kami udah sangat susah'"
            ],
            "application/vnd.google.colaboratory.intrinsic+json": {
              "type": "string"
            }
          },
          "metadata": {},
          "execution_count": 134
        }
      ]
    },
    {
      "cell_type": "code",
      "source": [
        "# Dataset Casefolding\n",
        "df_dataset['casefolding'] = df_dataset['cleansing']\n",
        "df_dataset['casefolding'] = df_dataset['casefolding'].apply(lambda x: x.lower())\n",
        "# Contoh data pertama yg dicasefolding\n",
        "df_dataset['casefolding'][0]"
      ],
      "metadata": {
        "colab": {
          "base_uri": "https://localhost:8080/",
          "height": 52
        },
        "id": "7Rv5CT-tXAT6",
        "outputId": "1f621e62-b1eb-4dd3-8fb0-974ae19cb05c"
      },
      "execution_count": 135,
      "outputs": [
        {
          "output_type": "execute_result",
          "data": {
            "text/plain": [
              "'      semoga aplikasinya cepat diperbaiki karena begitu banyak masalah saat menggunakan aplikasi ini aplikasi ini setidaknya jangan membuat kami tambah susah karena kami udah sangat susah'"
            ],
            "application/vnd.google.colaboratory.intrinsic+json": {
              "type": "string"
            }
          },
          "metadata": {},
          "execution_count": 135
        }
      ]
    },
    {
      "cell_type": "code",
      "source": [
        "!pip install Sastrawi"
      ],
      "metadata": {
        "colab": {
          "base_uri": "https://localhost:8080/"
        },
        "id": "u_rQJ1I3XBcj",
        "outputId": "04cd698c-6cd4-4553-da82-d95f53f9dd19"
      },
      "execution_count": 136,
      "outputs": [
        {
          "output_type": "stream",
          "name": "stdout",
          "text": [
            "Looking in indexes: https://pypi.org/simple, https://us-python.pkg.dev/colab-wheels/public/simple/\n",
            "Requirement already satisfied: Sastrawi in /usr/local/lib/python3.9/dist-packages (1.0.1)\n"
          ]
        }
      ]
    },
    {
      "cell_type": "code",
      "source": [
        "# Steeming dataset\n",
        "\n",
        "from Sastrawi.Stemmer.StemmerFactory import StemmerFactory\n",
        "\n",
        "df_dataset['steemed'] = None\n",
        "for i in range (len(df_dataset['casefolding'])):\n",
        "    factory = StemmerFactory()\n",
        "    stemmer = factory.create_stemmer()\n",
        "    casefolding = stemmer.stem(df_dataset['casefolding'][i])\n",
        "    df_dataset['steemed'][i] = casefolding\n",
        "    print(i, end = ' ')"
      ],
      "metadata": {
        "colab": {
          "base_uri": "https://localhost:8080/"
        },
        "id": "hE7PF0WtXC1o",
        "outputId": "f2b87020-2df4-4233-a364-38e97d6ca8da"
      },
      "execution_count": 137,
      "outputs": [
        {
          "output_type": "stream",
          "name": "stderr",
          "text": [
            "<ipython-input-137-ea5852f28bb3>:10: SettingWithCopyWarning: \n",
            "A value is trying to be set on a copy of a slice from a DataFrame\n",
            "\n",
            "See the caveats in the documentation: https://pandas.pydata.org/pandas-docs/stable/user_guide/indexing.html#returning-a-view-versus-a-copy\n",
            "  df_dataset['steemed'][i] = casefolding\n"
          ]
        },
        {
          "output_type": "stream",
          "name": "stdout",
          "text": [
            "0 1 2 3 4 5 6 7 8 9 10 11 12 13 14 15 16 17 18 19 20 21 22 23 24 25 26 27 28 29 30 31 32 33 34 35 36 37 38 39 40 41 42 43 44 45 46 47 48 49 50 51 52 53 54 55 56 57 58 59 60 61 62 63 64 65 66 67 68 69 70 71 72 73 74 75 76 77 78 79 80 81 82 83 84 85 86 87 88 89 90 91 92 93 94 95 96 97 98 99 100 101 102 103 104 105 106 107 108 109 110 111 112 113 114 115 116 117 118 119 120 121 122 123 124 125 126 127 128 129 130 131 132 133 134 135 136 137 138 139 140 141 142 143 144 145 146 147 148 149 150 151 152 153 154 155 156 157 158 159 160 161 162 163 164 165 166 167 168 169 170 171 172 173 174 175 176 177 178 179 180 181 182 183 184 185 186 187 188 189 190 191 192 193 194 195 196 197 198 199 200 201 202 203 204 205 206 207 208 209 210 211 212 213 214 215 216 217 218 219 220 221 222 223 224 225 226 227 228 229 230 231 232 233 234 235 236 237 238 239 240 241 242 243 244 245 246 247 248 249 "
          ]
        }
      ]
    },
    {
      "cell_type": "code",
      "source": [
        "# Contoh data pertama yg disteeming\n",
        "df_dataset['steemed'][0]"
      ],
      "metadata": {
        "colab": {
          "base_uri": "https://localhost:8080/",
          "height": 52
        },
        "id": "KGAhAgkYXEVL",
        "outputId": "935ea547-34ab-45b7-8119-2249cf20f224"
      },
      "execution_count": 138,
      "outputs": [
        {
          "output_type": "execute_result",
          "data": {
            "text/plain": [
              "'moga aplikasi cepat baik karena begitu banyak masalah saat guna aplikasi ini aplikasi ini tidak jangan buat kami tambah susah karena kami udah sangat susah'"
            ],
            "application/vnd.google.colaboratory.intrinsic+json": {
              "type": "string"
            }
          },
          "metadata": {},
          "execution_count": 138
        }
      ]
    },
    {
      "cell_type": "code",
      "source": [
        "import nltk\n",
        "nltk.download('punkt')\n",
        "from nltk.tokenize import word_tokenize\n",
        "from nltk.tokenize import sent_tokenize\n",
        "\n",
        "# Proses tokeninzing\n",
        "data = []\n",
        "for i in range (len(df_dataset['steemed'])):\n",
        "    steemed = word_tokenize(df_dataset['steemed'][i])\n",
        "    data.append(steemed)\n",
        "\n",
        "# Contoh data pertama yang ditokenizing\n",
        "data[0]"
      ],
      "metadata": {
        "colab": {
          "base_uri": "https://localhost:8080/"
        },
        "id": "WJOOrQHFXIGC",
        "outputId": "eb93b67a-0285-41fe-bfdc-bee81dae95e0"
      },
      "execution_count": 139,
      "outputs": [
        {
          "output_type": "stream",
          "name": "stderr",
          "text": [
            "[nltk_data] Downloading package punkt to /root/nltk_data...\n",
            "[nltk_data]   Package punkt is already up-to-date!\n"
          ]
        },
        {
          "output_type": "execute_result",
          "data": {
            "text/plain": [
              "['moga',\n",
              " 'aplikasi',\n",
              " 'cepat',\n",
              " 'baik',\n",
              " 'karena',\n",
              " 'begitu',\n",
              " 'banyak',\n",
              " 'masalah',\n",
              " 'saat',\n",
              " 'guna',\n",
              " 'aplikasi',\n",
              " 'ini',\n",
              " 'aplikasi',\n",
              " 'ini',\n",
              " 'tidak',\n",
              " 'jangan',\n",
              " 'buat',\n",
              " 'kami',\n",
              " 'tambah',\n",
              " 'susah',\n",
              " 'karena',\n",
              " 'kami',\n",
              " 'udah',\n",
              " 'sangat',\n",
              " 'susah']"
            ]
          },
          "metadata": {},
          "execution_count": 139
        }
      ]
    },
    {
      "cell_type": "code",
      "source": [
        "# Data stopwords\n",
        "text_file = open(\"stopwords-id.txt\", \"r\")\n",
        "lines = text_file.readlines()\n",
        "stopwords = []\n",
        "for sub in lines:\n",
        "    stopwords.append(sub.replace(\"\\n\", \"\"))"
      ],
      "metadata": {
        "id": "AZNP_PPoXJkX"
      },
      "execution_count": 140,
      "outputs": []
    },
    {
      "cell_type": "code",
      "source": [
        "# Proses penghapusan stopwords\n",
        "quote_without_stopwords_arr = []\n",
        "\n",
        "for i in range(len(df_dataset['steemed'])):\n",
        "    quote_without_stopwords = []\n",
        "    for word in data[i]:\n",
        "        if word.casefold() not in stopwords:\n",
        "            quote_without_stopwords.append(word)\n",
        "    quote_without_stopwords_arr.append(quote_without_stopwords)\n",
        "\n",
        "# Contoh data pertama yang dihapus stopwordsnya\n",
        "quote_without_stopwords_arr[0]"
      ],
      "metadata": {
        "colab": {
          "base_uri": "https://localhost:8080/"
        },
        "id": "dqJ4L6oLXKy9",
        "outputId": "ac027418-2041-4a8c-f9aa-ea34df40fb70"
      },
      "execution_count": 141,
      "outputs": [
        {
          "output_type": "execute_result",
          "data": {
            "text/plain": [
              "['moga', 'aplikasi', 'cepat', 'aplikasi', 'aplikasi', 'susah', 'susah']"
            ]
          },
          "metadata": {},
          "execution_count": 141
        }
      ]
    },
    {
      "cell_type": "code",
      "source": [
        "# Masukkan data yang sudah dihapus stopwordnya & dijadikan list ke dalam dataframe\n",
        "df_dataset['normalisasi'] = None\n",
        "df_dataset['tokenizing'] = None\n",
        "for i in range(len(df_dataset['text'])):\n",
        "    df_dataset['normalisasi'][i] = ' '.join(quote_without_stopwords_arr[i])\n",
        "    df_dataset['tokenizing'][i] = quote_without_stopwords_arr[i]"
      ],
      "metadata": {
        "colab": {
          "base_uri": "https://localhost:8080/"
        },
        "id": "A-035TPcXL_W",
        "outputId": "f239e8ce-0a2f-4254-bc74-81550cf03596"
      },
      "execution_count": 142,
      "outputs": [
        {
          "output_type": "stream",
          "name": "stderr",
          "text": [
            "<ipython-input-142-cbb68b6a59d0>:5: SettingWithCopyWarning: \n",
            "A value is trying to be set on a copy of a slice from a DataFrame\n",
            "\n",
            "See the caveats in the documentation: https://pandas.pydata.org/pandas-docs/stable/user_guide/indexing.html#returning-a-view-versus-a-copy\n",
            "  df_dataset['normalisasi'][i] = ' '.join(quote_without_stopwords_arr[i])\n",
            "<ipython-input-142-cbb68b6a59d0>:6: SettingWithCopyWarning: \n",
            "A value is trying to be set on a copy of a slice from a DataFrame\n",
            "\n",
            "See the caveats in the documentation: https://pandas.pydata.org/pandas-docs/stable/user_guide/indexing.html#returning-a-view-versus-a-copy\n",
            "  df_dataset['tokenizing'][i] = quote_without_stopwords_arr[i]\n"
          ]
        }
      ]
    },
    {
      "cell_type": "code",
      "source": [
        "# Fungsi hitung nilai TF\n",
        "def calc_tf(document):\n",
        "    tf_dict = {}\n",
        "    for term in document:\n",
        "        if term in tf_dict:\n",
        "            tf_dict[term] += 1\n",
        "        else:\n",
        "            tf_dict[term] = 1\n",
        "            \n",
        "    for term in tf_dict:\n",
        "        tf_dict[term] = tf_dict[term] / len(document)\n",
        "    return tf_dict\n",
        "\n",
        "df_dataset[\"tf_dict\"] = df_dataset['tokenizing'].apply(calc_tf)\n",
        "\n",
        "df_dataset[\"tf_dict\"].head()"
      ],
      "metadata": {
        "id": "Vq8jKNOfXMGp",
        "colab": {
          "base_uri": "https://localhost:8080/"
        },
        "outputId": "79bba9eb-be05-4bee-caba-317712899889"
      },
      "execution_count": 143,
      "outputs": [
        {
          "output_type": "execute_result",
          "data": {
            "text/plain": [
              "0    {'moga': 0.14285714285714285, 'aplikasi': 0.42...\n",
              "1    {'aplikasi': 0.3333333333333333, 'nik': 0.3333...\n",
              "2                {'susah': 0.5, 'jelaskanribeet': 0.5}\n",
              "3    {'level': 0.06666666666666667, 'negara': 0.133...\n",
              "4    {'maaf': 0.125, 'kasih': 0.125, 'bintang': 0.1...\n",
              "Name: tf_dict, dtype: object"
            ]
          },
          "metadata": {},
          "execution_count": 143
        }
      ]
    },
    {
      "cell_type": "code",
      "source": [
        "# Fungsi hitung nilai DF\n",
        "def calc_df(tfDict):\n",
        "    count_df = {}\n",
        "    for document in tfDict:\n",
        "        for term in document:\n",
        "            if term in count_df:\n",
        "                count_df[term] += 1\n",
        "            else:\n",
        "                count_df[term] = 1\n",
        "    return count_df\n",
        "\n",
        "df = calc_df(quote_without_stopwords_arr)\n",
        "\n",
        "df_dataset[\"df\"] = None\n",
        "for i in range(len(df_dataset)):\n",
        "    df_dataset['df'][i] = {}\n",
        "\n",
        "for x, y in df.items():\n",
        "    for i in range(len(df_dataset)):\n",
        "        for j in range(len(df_dataset['tokenizing'][i])):\n",
        "            if(df_dataset['tokenizing'][i][j] == x):\n",
        "                df_dataset[\"df\"][i][x] = y\n",
        "\n",
        "df_dataset[\"df\"].head()"
      ],
      "metadata": {
        "id": "9Lh83i8ZXPLJ",
        "colab": {
          "base_uri": "https://localhost:8080/"
        },
        "outputId": "4cbceb7f-720d-482d-81e6-7dae5515c064"
      },
      "execution_count": 144,
      "outputs": [
        {
          "output_type": "stream",
          "name": "stderr",
          "text": [
            "<ipython-input-144-a9ca7ec91cf0>:16: SettingWithCopyWarning: \n",
            "A value is trying to be set on a copy of a slice from a DataFrame\n",
            "\n",
            "See the caveats in the documentation: https://pandas.pydata.org/pandas-docs/stable/user_guide/indexing.html#returning-a-view-versus-a-copy\n",
            "  df_dataset['df'][i] = {}\n"
          ]
        },
        {
          "output_type": "execute_result",
          "data": {
            "text/plain": [
              "0    {'moga': 11, 'aplikasi': 144, 'cepat': 6, 'sus...\n",
              "1               {'aplikasi': 144, 'nik': 8, 'baca': 3}\n",
              "2                   {'susah': 40, 'jelaskanribeet': 1}\n",
              "3    {'aplikasi': 144, 'level': 1, 'negara': 3, 'da...\n",
              "4    {'susah': 40, 'daftar': 73, 'maaf': 1, 'kasih'...\n",
              "Name: df, dtype: object"
            ]
          },
          "metadata": {},
          "execution_count": 144
        }
      ]
    },
    {
      "cell_type": "code",
      "source": [
        "df_dataset[\"df_all\"] = None\n",
        "for i in range(len(df_dataset[\"df_all\"])):\n",
        "    df_dataset[\"df_all\"][i] = df\n",
        "\n",
        "df_dataset[\"df_all\"]"
      ],
      "metadata": {
        "colab": {
          "base_uri": "https://localhost:8080/"
        },
        "id": "QQ6Ypzfy1W3J",
        "outputId": "4d7bff44-8b14-4726-c4bf-79d4b9bb5468"
      },
      "execution_count": 145,
      "outputs": [
        {
          "output_type": "stream",
          "name": "stderr",
          "text": [
            "<ipython-input-145-9eb6fb0d06cb>:3: SettingWithCopyWarning: \n",
            "A value is trying to be set on a copy of a slice from a DataFrame\n",
            "\n",
            "See the caveats in the documentation: https://pandas.pydata.org/pandas-docs/stable/user_guide/indexing.html#returning-a-view-versus-a-copy\n",
            "  df_dataset[\"df_all\"][i] = df\n"
          ]
        },
        {
          "output_type": "execute_result",
          "data": {
            "text/plain": [
              "0      {'moga': 11, 'aplikasi': 144, 'cepat': 6, 'sus...\n",
              "1      {'moga': 11, 'aplikasi': 144, 'cepat': 6, 'sus...\n",
              "2      {'moga': 11, 'aplikasi': 144, 'cepat': 6, 'sus...\n",
              "3      {'moga': 11, 'aplikasi': 144, 'cepat': 6, 'sus...\n",
              "4      {'moga': 11, 'aplikasi': 144, 'cepat': 6, 'sus...\n",
              "                             ...                        \n",
              "245    {'moga': 11, 'aplikasi': 144, 'cepat': 6, 'sus...\n",
              "246    {'moga': 11, 'aplikasi': 144, 'cepat': 6, 'sus...\n",
              "247    {'moga': 11, 'aplikasi': 144, 'cepat': 6, 'sus...\n",
              "248    {'moga': 11, 'aplikasi': 144, 'cepat': 6, 'sus...\n",
              "249    {'moga': 11, 'aplikasi': 144, 'cepat': 6, 'sus...\n",
              "Name: df_all, Length: 250, dtype: object"
            ]
          },
          "metadata": {},
          "execution_count": 145
        }
      ]
    },
    {
      "cell_type": "code",
      "source": [
        "import numpy as np\n",
        "\n",
        "# Fungsi hitung nilai IDF\n",
        "\n",
        "n_document = len(df_dataset)\n",
        "\n",
        "def calc_idf(n_document, df):\n",
        "    idf_Dict = {}\n",
        "    for term in df:\n",
        "        idf_Dict[term] = np.log(n_document / (df[term] + 1))\n",
        "    return idf_Dict\n",
        "  \n",
        "idf = calc_idf(n_document, df)\n",
        "\n",
        "df_dataset[\"idf_dict\"] = None\n",
        "for i in range(len(df_dataset)):\n",
        "    df_dataset['idf_dict'][i] = {}\n",
        "\n",
        "for x, y in idf.items():\n",
        "    for i in range(len(df_dataset)):\n",
        "        for j in range(len(df_dataset['tokenizing'][i])):\n",
        "            if(df_dataset['tokenizing'][i][j] == x):\n",
        "                df_dataset[\"idf_dict\"][i][x] = y\n",
        "df_dataset[\"idf_dict\"].head()"
      ],
      "metadata": {
        "id": "ymINVLF3XQWC",
        "colab": {
          "base_uri": "https://localhost:8080/"
        },
        "outputId": "9229181d-428b-4634-9015-bc2fcfa65aff"
      },
      "execution_count": 146,
      "outputs": [
        {
          "output_type": "stream",
          "name": "stderr",
          "text": [
            "<ipython-input-146-7a6eea6d3706>:17: SettingWithCopyWarning: \n",
            "A value is trying to be set on a copy of a slice from a DataFrame\n",
            "\n",
            "See the caveats in the documentation: https://pandas.pydata.org/pandas-docs/stable/user_guide/indexing.html#returning-a-view-versus-a-copy\n",
            "  df_dataset['idf_dict'][i] = {}\n"
          ]
        },
        {
          "output_type": "execute_result",
          "data": {
            "text/plain": [
              "0    {'moga': 3.036554268074246, 'aplikasi': 0.5447...\n",
              "1    {'aplikasi': 0.5447271754416719, 'nik': 3.3242...\n",
              "2    {'susah': 1.8078888511579387, 'jelaskanribeet'...\n",
              "3    {'aplikasi': 0.5447271754416719, 'level': 4.82...\n",
              "4    {'susah': 1.8078888511579387, 'daftar': 1.2173...\n",
              "Name: idf_dict, dtype: object"
            ]
          },
          "metadata": {},
          "execution_count": 146
        }
      ]
    },
    {
      "cell_type": "code",
      "source": [
        "df_dataset[\"idf_all\"] = None\n",
        "for i in range(len(df_dataset[\"idf_all\"])):\n",
        "    df_dataset[\"idf_all\"][i] = idf\n",
        "\n",
        "df_dataset[\"idf_all\"]"
      ],
      "metadata": {
        "colab": {
          "base_uri": "https://localhost:8080/"
        },
        "id": "Ns2DPxrk0nX5",
        "outputId": "5b8c1b19-f827-4af5-966a-57e3cc621e04"
      },
      "execution_count": 147,
      "outputs": [
        {
          "output_type": "stream",
          "name": "stderr",
          "text": [
            "<ipython-input-147-db2d3f67879a>:3: SettingWithCopyWarning: \n",
            "A value is trying to be set on a copy of a slice from a DataFrame\n",
            "\n",
            "See the caveats in the documentation: https://pandas.pydata.org/pandas-docs/stable/user_guide/indexing.html#returning-a-view-versus-a-copy\n",
            "  df_dataset[\"idf_all\"][i] = idf\n"
          ]
        },
        {
          "output_type": "execute_result",
          "data": {
            "text/plain": [
              "0      {'moga': 3.036554268074246, 'aplikasi': 0.5447...\n",
              "1      {'moga': 3.036554268074246, 'aplikasi': 0.5447...\n",
              "2      {'moga': 3.036554268074246, 'aplikasi': 0.5447...\n",
              "3      {'moga': 3.036554268074246, 'aplikasi': 0.5447...\n",
              "4      {'moga': 3.036554268074246, 'aplikasi': 0.5447...\n",
              "                             ...                        \n",
              "245    {'moga': 3.036554268074246, 'aplikasi': 0.5447...\n",
              "246    {'moga': 3.036554268074246, 'aplikasi': 0.5447...\n",
              "247    {'moga': 3.036554268074246, 'aplikasi': 0.5447...\n",
              "248    {'moga': 3.036554268074246, 'aplikasi': 0.5447...\n",
              "249    {'moga': 3.036554268074246, 'aplikasi': 0.5447...\n",
              "Name: idf_all, Length: 250, dtype: object"
            ]
          },
          "metadata": {},
          "execution_count": 147
        }
      ]
    },
    {
      "cell_type": "code",
      "source": [
        "# Hitung nilai TH-IDF\n",
        "\n",
        "def calc_tf_idf(tf):\n",
        "    tf_idf_Dict = {}\n",
        "    for key in tf:\n",
        "        tf_idf_Dict[key] = tf[key] * idf[key]\n",
        "    return tf_idf_Dict\n",
        "\n",
        "df_dataset[\"tf_idf_dict\"] = df_dataset[\"tf_dict\"].apply(calc_tf_idf)\n",
        "\n",
        "df_dataset[\"tf_idf_dict\"].head()"
      ],
      "metadata": {
        "id": "y-vm26JIXRlW",
        "colab": {
          "base_uri": "https://localhost:8080/"
        },
        "outputId": "d550f187-7a29-40e1-9598-6a28319a16cc"
      },
      "execution_count": 148,
      "outputs": [
        {
          "output_type": "execute_result",
          "data": {
            "text/plain": [
              "0    {'moga': 0.43379346686774944, 'aplikasi': 0.23...\n",
              "1    {'aplikasi': 0.18157572514722398, 'nik': 1.108...\n",
              "2    {'susah': 0.9039444255789694, 'jelaskanribeet'...\n",
              "3    {'level': 0.3218875824868201, 'negara': 0.5513...\n",
              "4    {'maaf': 0.6035392171627877, 'kasih': 0.343609...\n",
              "Name: tf_idf_dict, dtype: object"
            ]
          },
          "metadata": {},
          "execution_count": 148
        }
      ]
    },
    {
      "cell_type": "code",
      "source": [
        "feature = 75\n",
        "sorted_df = sorted(df.items(), key=lambda kv: kv[1], reverse=True)[:feature]\n",
        "\n",
        "unique_term = [item[0] for item in sorted_df]\n",
        "\n",
        "def calc_tf_idf_vec(tf_idf_dict):\n",
        "    tf_idf_vector = [0.0] * len(unique_term)\n",
        "\n",
        "    for i, term in enumerate(unique_term):\n",
        "        if term in tf_idf_dict:\n",
        "            tf_idf_vector[i] = tf_idf_dict[term]\n",
        "    return tf_idf_vector\n",
        "\n",
        "df_dataset[\"tf_idf_vec\"] = df_dataset[\"tf_idf_dict\"].apply(calc_tf_idf_vec)\n",
        "\n",
        "print(\"Sort\")\n",
        "print(sorted_df)\n",
        "print(\"print first row matrix tf_idf_vec Series\\n\")\n",
        "print(df_dataset[\"tf_idf_vec\"][0])\n",
        "\n",
        "print(\"\\nmatrix size : \", len(df_dataset[\"tf_idf_vec\"][0]))"
      ],
      "metadata": {
        "colab": {
          "base_uri": "https://localhost:8080/"
        },
        "id": "0tPAEou7XS28",
        "outputId": "b777e1f4-82f0-48d1-d6fe-3d7033907737"
      },
      "execution_count": 149,
      "outputs": [
        {
          "output_type": "stream",
          "name": "stdout",
          "text": [
            "Sort\n",
            "[('aplikasi', 144), ('daftar', 73), ('susah', 40), ('aja', 34), ('pertamina', 33), ('bagus', 30), ('beli', 29), ('data', 29), ('mudah', 27), ('ribet', 26), ('isi', 26), ('subsidi', 25), ('spbu', 25), ('bayar', 24), ('sulit', 23), ('bbm', 23), ('hp', 21), ('mypertamina', 21), ('pakai', 21), ('rakyat', 19), ('my', 19), ('kasih', 15), ('masyarakat', 15), ('engga', 14), ('hidup', 13), ('bensin', 13), ('pake', 13), ('salah', 12), ('moga', 11), ('bintang', 11), ('banget', 11), ('login', 10), ('link', 10), ('kendara', 10), ('android', 10), ('sih', 9), ('bantu', 9), ('coba', 9), ('verifikasi', 9), ('qr', 9), ('nik', 8), ('email', 8), ('app', 8), ('suruh', 8), ('tolong', 8), ('kode', 8), ('uang', 8), ('bodoh', 8), ('layan', 8), ('password', 7), ('error', 7), ('foto', 7), ('terima', 7), ('bawa', 7), ('selesai', 7), ('program', 7), ('repot', 7), ('atur', 7), ('cepat', 6), ('dgn', 6), ('main', 6), ('beban', 6), ('buruk', 6), ('gimana', 6), ('gin', 6), ('pas', 6), ('waktu', 6), ('bijak', 6), ('paksa', 6), ('tau', 6), ('bug', 6), ('anjing', 6), ('sistem', 6), ('indonesia', 6), ('pertalite', 6)]\n",
            "print first row matrix tf_idf_vec Series\n",
            "\n",
            "[0.23345450376071653, 0.0, 0.5165396717594111, 0.0, 0.0, 0.0, 0.0, 0.0, 0.0, 0.0, 0.0, 0.0, 0.0, 0.0, 0.0, 0.0, 0.0, 0.0, 0.0, 0.0, 0.0, 0.0, 0.0, 0.0, 0.0, 0.0, 0.0, 0.0, 0.43379346686774944, 0.0, 0.0, 0.0, 0.0, 0.0, 0.0, 0.0, 0.0, 0.0, 0.0, 0.0, 0.0, 0.0, 0.0, 0.0, 0.0, 0.0, 0.0, 0.0, 0.0, 0.0, 0.0, 0.0, 0.0, 0.0, 0.0, 0.0, 0.0, 0.0, 0.5107929669724189, 0.0, 0.0, 0.0, 0.0, 0.0, 0.0, 0.0, 0.0, 0.0, 0.0, 0.0, 0.0, 0.0, 0.0, 0.0, 0.0]\n",
            "\n",
            "matrix size :  75\n"
          ]
        }
      ]
    },
    {
      "cell_type": "code",
      "source": [
        "df_dataset.head()"
      ],
      "metadata": {
        "id": "gEINdfviX2FG",
        "outputId": "d5fdb500-6f3c-4211-affd-d63b126a08f7",
        "colab": {
          "base_uri": "https://localhost:8080/",
          "height": 704
        }
      },
      "execution_count": 150,
      "outputs": [
        {
          "output_type": "execute_result",
          "data": {
            "text/plain": [
              "                                                text  Sentimen  \\\n",
              "0  23:29:56,\"Semoga aplikasinya cepat diperbaiki,...         1   \n",
              "1        23:31:43,Aplikasi apa ini nik tidak terbaca         1   \n",
              "2    23:41:43,Entah lah susah di jelaskan....ribeet…         0   \n",
              "3  23:45:23,Selevel negara kok tidak mampu bikin ...         0   \n",
              "4   00:00:53,\"Maaf kasih 1 bintang karena engga e...         0   \n",
              "\n",
              "                                           cleansing  \\\n",
              "0        Semoga aplikasinya cepat diperbaiki kare...   \n",
              "1                 Aplikasi apa ini nik tidak terbaca   \n",
              "2                 Entah lah susah di jelaskanribeet    \n",
              "3        Selevel negara kok tidak mampu bikin apl...   \n",
              "4        Maaf kasih   bintang karena engga epekti...   \n",
              "\n",
              "                                         casefolding  \\\n",
              "0        semoga aplikasinya cepat diperbaiki kare...   \n",
              "1                 aplikasi apa ini nik tidak terbaca   \n",
              "2                 entah lah susah di jelaskanribeet    \n",
              "3        selevel negara kok tidak mampu bikin apl...   \n",
              "4        maaf kasih   bintang karena engga epekti...   \n",
              "\n",
              "                                             steemed  \\\n",
              "0  moga aplikasi cepat baik karena begitu banyak ...   \n",
              "1                    aplikasi apa ini nik tidak baca   \n",
              "2                  entah lah susah di jelaskanribeet   \n",
              "3  level negara kok tidak mampu bikin aplikasi ya...   \n",
              "4  maaf kasih bintang karena engga epektif malah ...   \n",
              "\n",
              "                                         normalisasi  \\\n",
              "0  moga aplikasi cepat aplikasi aplikasi susah susah   \n",
              "1                                  aplikasi nik baca   \n",
              "2                               susah jelaskanribeet   \n",
              "3  level negara aplikasi daftar ulang login no hp...   \n",
              "4  maaf kasih bintang engga epektif ribet daftar ...   \n",
              "\n",
              "                                          tokenizing  \\\n",
              "0  [moga, aplikasi, cepat, aplikasi, aplikasi, su...   \n",
              "1                              [aplikasi, nik, baca]   \n",
              "2                            [susah, jelaskanribeet]   \n",
              "3  [level, negara, aplikasi, daftar, ulang, login...   \n",
              "4  [maaf, kasih, bintang, engga, epektif, ribet, ...   \n",
              "\n",
              "                                             tf_dict  \\\n",
              "0  {'moga': 0.14285714285714285, 'aplikasi': 0.42...   \n",
              "1  {'aplikasi': 0.3333333333333333, 'nik': 0.3333...   \n",
              "2              {'susah': 0.5, 'jelaskanribeet': 0.5}   \n",
              "3  {'level': 0.06666666666666667, 'negara': 0.133...   \n",
              "4  {'maaf': 0.125, 'kasih': 0.125, 'bintang': 0.1...   \n",
              "\n",
              "                                                  df  \\\n",
              "0  {'moga': 11, 'aplikasi': 144, 'cepat': 6, 'sus...   \n",
              "1             {'aplikasi': 144, 'nik': 8, 'baca': 3}   \n",
              "2                 {'susah': 40, 'jelaskanribeet': 1}   \n",
              "3  {'aplikasi': 144, 'level': 1, 'negara': 3, 'da...   \n",
              "4  {'susah': 40, 'daftar': 73, 'maaf': 1, 'kasih'...   \n",
              "\n",
              "                                              df_all  \\\n",
              "0  {'moga': 11, 'aplikasi': 144, 'cepat': 6, 'sus...   \n",
              "1  {'moga': 11, 'aplikasi': 144, 'cepat': 6, 'sus...   \n",
              "2  {'moga': 11, 'aplikasi': 144, 'cepat': 6, 'sus...   \n",
              "3  {'moga': 11, 'aplikasi': 144, 'cepat': 6, 'sus...   \n",
              "4  {'moga': 11, 'aplikasi': 144, 'cepat': 6, 'sus...   \n",
              "\n",
              "                                            idf_dict  \\\n",
              "0  {'moga': 3.036554268074246, 'aplikasi': 0.5447...   \n",
              "1  {'aplikasi': 0.5447271754416719, 'nik': 3.3242...   \n",
              "2  {'susah': 1.8078888511579387, 'jelaskanribeet'...   \n",
              "3  {'aplikasi': 0.5447271754416719, 'level': 4.82...   \n",
              "4  {'susah': 1.8078888511579387, 'daftar': 1.2173...   \n",
              "\n",
              "                                             idf_all  \\\n",
              "0  {'moga': 3.036554268074246, 'aplikasi': 0.5447...   \n",
              "1  {'moga': 3.036554268074246, 'aplikasi': 0.5447...   \n",
              "2  {'moga': 3.036554268074246, 'aplikasi': 0.5447...   \n",
              "3  {'moga': 3.036554268074246, 'aplikasi': 0.5447...   \n",
              "4  {'moga': 3.036554268074246, 'aplikasi': 0.5447...   \n",
              "\n",
              "                                         tf_idf_dict  \\\n",
              "0  {'moga': 0.43379346686774944, 'aplikasi': 0.23...   \n",
              "1  {'aplikasi': 0.18157572514722398, 'nik': 1.108...   \n",
              "2  {'susah': 0.9039444255789694, 'jelaskanribeet'...   \n",
              "3  {'level': 0.3218875824868201, 'negara': 0.5513...   \n",
              "4  {'maaf': 0.6035392171627877, 'kasih': 0.343609...   \n",
              "\n",
              "                                          tf_idf_vec  \n",
              "0  [0.23345450376071653, 0.0, 0.5165396717594111,...  \n",
              "1  [0.18157572514722398, 0.0, 0.0, 0.0, 0.0, 0.0,...  \n",
              "2  [0.0, 0.0, 0.9039444255789694, 0.0, 0.0, 0.0, ...  \n",
              "3  [0.036315145029444794, 0.08115972164387178, 0....  \n",
              "4  [0.0, 0.1521744780822596, 0.22598610639474234,...  "
            ],
            "text/html": [
              "\n",
              "  <div id=\"df-79a346f7-27f4-4e77-b500-abdd4d3276c3\">\n",
              "    <div class=\"colab-df-container\">\n",
              "      <div>\n",
              "<style scoped>\n",
              "    .dataframe tbody tr th:only-of-type {\n",
              "        vertical-align: middle;\n",
              "    }\n",
              "\n",
              "    .dataframe tbody tr th {\n",
              "        vertical-align: top;\n",
              "    }\n",
              "\n",
              "    .dataframe thead th {\n",
              "        text-align: right;\n",
              "    }\n",
              "</style>\n",
              "<table border=\"1\" class=\"dataframe\">\n",
              "  <thead>\n",
              "    <tr style=\"text-align: right;\">\n",
              "      <th></th>\n",
              "      <th>text</th>\n",
              "      <th>Sentimen</th>\n",
              "      <th>cleansing</th>\n",
              "      <th>casefolding</th>\n",
              "      <th>steemed</th>\n",
              "      <th>normalisasi</th>\n",
              "      <th>tokenizing</th>\n",
              "      <th>tf_dict</th>\n",
              "      <th>df</th>\n",
              "      <th>df_all</th>\n",
              "      <th>idf_dict</th>\n",
              "      <th>idf_all</th>\n",
              "      <th>tf_idf_dict</th>\n",
              "      <th>tf_idf_vec</th>\n",
              "    </tr>\n",
              "  </thead>\n",
              "  <tbody>\n",
              "    <tr>\n",
              "      <th>0</th>\n",
              "      <td>23:29:56,\"Semoga aplikasinya cepat diperbaiki,...</td>\n",
              "      <td>1</td>\n",
              "      <td>Semoga aplikasinya cepat diperbaiki kare...</td>\n",
              "      <td>semoga aplikasinya cepat diperbaiki kare...</td>\n",
              "      <td>moga aplikasi cepat baik karena begitu banyak ...</td>\n",
              "      <td>moga aplikasi cepat aplikasi aplikasi susah susah</td>\n",
              "      <td>[moga, aplikasi, cepat, aplikasi, aplikasi, su...</td>\n",
              "      <td>{'moga': 0.14285714285714285, 'aplikasi': 0.42...</td>\n",
              "      <td>{'moga': 11, 'aplikasi': 144, 'cepat': 6, 'sus...</td>\n",
              "      <td>{'moga': 11, 'aplikasi': 144, 'cepat': 6, 'sus...</td>\n",
              "      <td>{'moga': 3.036554268074246, 'aplikasi': 0.5447...</td>\n",
              "      <td>{'moga': 3.036554268074246, 'aplikasi': 0.5447...</td>\n",
              "      <td>{'moga': 0.43379346686774944, 'aplikasi': 0.23...</td>\n",
              "      <td>[0.23345450376071653, 0.0, 0.5165396717594111,...</td>\n",
              "    </tr>\n",
              "    <tr>\n",
              "      <th>1</th>\n",
              "      <td>23:31:43,Aplikasi apa ini nik tidak terbaca</td>\n",
              "      <td>1</td>\n",
              "      <td>Aplikasi apa ini nik tidak terbaca</td>\n",
              "      <td>aplikasi apa ini nik tidak terbaca</td>\n",
              "      <td>aplikasi apa ini nik tidak baca</td>\n",
              "      <td>aplikasi nik baca</td>\n",
              "      <td>[aplikasi, nik, baca]</td>\n",
              "      <td>{'aplikasi': 0.3333333333333333, 'nik': 0.3333...</td>\n",
              "      <td>{'aplikasi': 144, 'nik': 8, 'baca': 3}</td>\n",
              "      <td>{'moga': 11, 'aplikasi': 144, 'cepat': 6, 'sus...</td>\n",
              "      <td>{'aplikasi': 0.5447271754416719, 'nik': 3.3242...</td>\n",
              "      <td>{'moga': 3.036554268074246, 'aplikasi': 0.5447...</td>\n",
              "      <td>{'aplikasi': 0.18157572514722398, 'nik': 1.108...</td>\n",
              "      <td>[0.18157572514722398, 0.0, 0.0, 0.0, 0.0, 0.0,...</td>\n",
              "    </tr>\n",
              "    <tr>\n",
              "      <th>2</th>\n",
              "      <td>23:41:43,Entah lah susah di jelaskan....ribeet…</td>\n",
              "      <td>0</td>\n",
              "      <td>Entah lah susah di jelaskanribeet</td>\n",
              "      <td>entah lah susah di jelaskanribeet</td>\n",
              "      <td>entah lah susah di jelaskanribeet</td>\n",
              "      <td>susah jelaskanribeet</td>\n",
              "      <td>[susah, jelaskanribeet]</td>\n",
              "      <td>{'susah': 0.5, 'jelaskanribeet': 0.5}</td>\n",
              "      <td>{'susah': 40, 'jelaskanribeet': 1}</td>\n",
              "      <td>{'moga': 11, 'aplikasi': 144, 'cepat': 6, 'sus...</td>\n",
              "      <td>{'susah': 1.8078888511579387, 'jelaskanribeet'...</td>\n",
              "      <td>{'moga': 3.036554268074246, 'aplikasi': 0.5447...</td>\n",
              "      <td>{'susah': 0.9039444255789694, 'jelaskanribeet'...</td>\n",
              "      <td>[0.0, 0.0, 0.9039444255789694, 0.0, 0.0, 0.0, ...</td>\n",
              "    </tr>\n",
              "    <tr>\n",
              "      <th>3</th>\n",
              "      <td>23:45:23,Selevel negara kok tidak mampu bikin ...</td>\n",
              "      <td>0</td>\n",
              "      <td>Selevel negara kok tidak mampu bikin apl...</td>\n",
              "      <td>selevel negara kok tidak mampu bikin apl...</td>\n",
              "      <td>level negara kok tidak mampu bikin aplikasi ya...</td>\n",
              "      <td>level negara aplikasi daftar ulang login no hp...</td>\n",
              "      <td>[level, negara, aplikasi, daftar, ulang, login...</td>\n",
              "      <td>{'level': 0.06666666666666667, 'negara': 0.133...</td>\n",
              "      <td>{'aplikasi': 144, 'level': 1, 'negara': 3, 'da...</td>\n",
              "      <td>{'moga': 11, 'aplikasi': 144, 'cepat': 6, 'sus...</td>\n",
              "      <td>{'aplikasi': 0.5447271754416719, 'level': 4.82...</td>\n",
              "      <td>{'moga': 3.036554268074246, 'aplikasi': 0.5447...</td>\n",
              "      <td>{'level': 0.3218875824868201, 'negara': 0.5513...</td>\n",
              "      <td>[0.036315145029444794, 0.08115972164387178, 0....</td>\n",
              "    </tr>\n",
              "    <tr>\n",
              "      <th>4</th>\n",
              "      <td>00:00:53,\"Maaf kasih 1 bintang karena engga e...</td>\n",
              "      <td>0</td>\n",
              "      <td>Maaf kasih   bintang karena engga epekti...</td>\n",
              "      <td>maaf kasih   bintang karena engga epekti...</td>\n",
              "      <td>maaf kasih bintang karena engga epektif malah ...</td>\n",
              "      <td>maaf kasih bintang engga epektif ribet daftar ...</td>\n",
              "      <td>[maaf, kasih, bintang, engga, epektif, ribet, ...</td>\n",
              "      <td>{'maaf': 0.125, 'kasih': 0.125, 'bintang': 0.1...</td>\n",
              "      <td>{'susah': 40, 'daftar': 73, 'maaf': 1, 'kasih'...</td>\n",
              "      <td>{'moga': 11, 'aplikasi': 144, 'cepat': 6, 'sus...</td>\n",
              "      <td>{'susah': 1.8078888511579387, 'daftar': 1.2173...</td>\n",
              "      <td>{'moga': 3.036554268074246, 'aplikasi': 0.5447...</td>\n",
              "      <td>{'maaf': 0.6035392171627877, 'kasih': 0.343609...</td>\n",
              "      <td>[0.0, 0.1521744780822596, 0.22598610639474234,...</td>\n",
              "    </tr>\n",
              "  </tbody>\n",
              "</table>\n",
              "</div>\n",
              "      <button class=\"colab-df-convert\" onclick=\"convertToInteractive('df-79a346f7-27f4-4e77-b500-abdd4d3276c3')\"\n",
              "              title=\"Convert this dataframe to an interactive table.\"\n",
              "              style=\"display:none;\">\n",
              "        \n",
              "  <svg xmlns=\"http://www.w3.org/2000/svg\" height=\"24px\"viewBox=\"0 0 24 24\"\n",
              "       width=\"24px\">\n",
              "    <path d=\"M0 0h24v24H0V0z\" fill=\"none\"/>\n",
              "    <path d=\"M18.56 5.44l.94 2.06.94-2.06 2.06-.94-2.06-.94-.94-2.06-.94 2.06-2.06.94zm-11 1L8.5 8.5l.94-2.06 2.06-.94-2.06-.94L8.5 2.5l-.94 2.06-2.06.94zm10 10l.94 2.06.94-2.06 2.06-.94-2.06-.94-.94-2.06-.94 2.06-2.06.94z\"/><path d=\"M17.41 7.96l-1.37-1.37c-.4-.4-.92-.59-1.43-.59-.52 0-1.04.2-1.43.59L10.3 9.45l-7.72 7.72c-.78.78-.78 2.05 0 2.83L4 21.41c.39.39.9.59 1.41.59.51 0 1.02-.2 1.41-.59l7.78-7.78 2.81-2.81c.8-.78.8-2.07 0-2.86zM5.41 20L4 18.59l7.72-7.72 1.47 1.35L5.41 20z\"/>\n",
              "  </svg>\n",
              "      </button>\n",
              "      \n",
              "  <style>\n",
              "    .colab-df-container {\n",
              "      display:flex;\n",
              "      flex-wrap:wrap;\n",
              "      gap: 12px;\n",
              "    }\n",
              "\n",
              "    .colab-df-convert {\n",
              "      background-color: #E8F0FE;\n",
              "      border: none;\n",
              "      border-radius: 50%;\n",
              "      cursor: pointer;\n",
              "      display: none;\n",
              "      fill: #1967D2;\n",
              "      height: 32px;\n",
              "      padding: 0 0 0 0;\n",
              "      width: 32px;\n",
              "    }\n",
              "\n",
              "    .colab-df-convert:hover {\n",
              "      background-color: #E2EBFA;\n",
              "      box-shadow: 0px 1px 2px rgba(60, 64, 67, 0.3), 0px 1px 3px 1px rgba(60, 64, 67, 0.15);\n",
              "      fill: #174EA6;\n",
              "    }\n",
              "\n",
              "    [theme=dark] .colab-df-convert {\n",
              "      background-color: #3B4455;\n",
              "      fill: #D2E3FC;\n",
              "    }\n",
              "\n",
              "    [theme=dark] .colab-df-convert:hover {\n",
              "      background-color: #434B5C;\n",
              "      box-shadow: 0px 1px 3px 1px rgba(0, 0, 0, 0.15);\n",
              "      filter: drop-shadow(0px 1px 2px rgba(0, 0, 0, 0.3));\n",
              "      fill: #FFFFFF;\n",
              "    }\n",
              "  </style>\n",
              "\n",
              "      <script>\n",
              "        const buttonEl =\n",
              "          document.querySelector('#df-79a346f7-27f4-4e77-b500-abdd4d3276c3 button.colab-df-convert');\n",
              "        buttonEl.style.display =\n",
              "          google.colab.kernel.accessAllowed ? 'block' : 'none';\n",
              "\n",
              "        async function convertToInteractive(key) {\n",
              "          const element = document.querySelector('#df-79a346f7-27f4-4e77-b500-abdd4d3276c3');\n",
              "          const dataTable =\n",
              "            await google.colab.kernel.invokeFunction('convertToInteractive',\n",
              "                                                     [key], {});\n",
              "          if (!dataTable) return;\n",
              "\n",
              "          const docLinkHtml = 'Like what you see? Visit the ' +\n",
              "            '<a target=\"_blank\" href=https://colab.research.google.com/notebooks/data_table.ipynb>data table notebook</a>'\n",
              "            + ' to learn more about interactive tables.';\n",
              "          element.innerHTML = '';\n",
              "          dataTable['output_type'] = 'display_data';\n",
              "          await google.colab.output.renderOutput(dataTable, element);\n",
              "          const docLink = document.createElement('div');\n",
              "          docLink.innerHTML = docLinkHtml;\n",
              "          element.appendChild(docLink);\n",
              "        }\n",
              "      </script>\n",
              "    </div>\n",
              "  </div>\n",
              "  "
            ]
          },
          "metadata": {},
          "execution_count": 150
        }
      ]
    },
    {
      "cell_type": "code",
      "source": [
        "len(df_dataset['tf_idf_vec'][0])"
      ],
      "metadata": {
        "colab": {
          "base_uri": "https://localhost:8080/"
        },
        "id": "rXXXEGLzrm2G",
        "outputId": "7a42a2b3-1945-4c8f-e394-f3454ff3a44b"
      },
      "execution_count": 151,
      "outputs": [
        {
          "output_type": "execute_result",
          "data": {
            "text/plain": [
              "75"
            ]
          },
          "metadata": {},
          "execution_count": 151
        }
      ]
    },
    {
      "cell_type": "code",
      "source": [
        "# Export ke csv & excel\n",
        "from google.colab import drive\n",
        "from google.colab import files\n",
        "drive.mount('/content/drive')\n",
        "\n",
        "df_dataset.to_csv('/content/drive/MyDrive/Colab Notebooks/data.csv')\n",
        "df_dataset.to_excel('/content/drive/MyDrive/Colab Notebooks/data.xlsx')"
      ],
      "metadata": {
        "id": "E8Z3NkuDXUu3",
        "colab": {
          "base_uri": "https://localhost:8080/"
        },
        "outputId": "52f100ad-8fad-4d70-d345-5468314a4701"
      },
      "execution_count": 152,
      "outputs": [
        {
          "output_type": "stream",
          "name": "stdout",
          "text": [
            "Drive already mounted at /content/drive; to attempt to forcibly remount, call drive.mount(\"/content/drive\", force_remount=True).\n"
          ]
        }
      ]
    },
    {
      "cell_type": "code",
      "source": [
        "files.download('/content/drive/MyDrive/Colab Notebooks/data.xlsx')"
      ],
      "metadata": {
        "colab": {
          "base_uri": "https://localhost:8080/",
          "height": 17
        },
        "id": "7nN1P3Kbrv2F",
        "outputId": "a9584068-7799-4beb-980f-168554773efb"
      },
      "execution_count": 153,
      "outputs": [
        {
          "output_type": "display_data",
          "data": {
            "text/plain": [
              "<IPython.core.display.Javascript object>"
            ],
            "application/javascript": [
              "\n",
              "    async function download(id, filename, size) {\n",
              "      if (!google.colab.kernel.accessAllowed) {\n",
              "        return;\n",
              "      }\n",
              "      const div = document.createElement('div');\n",
              "      const label = document.createElement('label');\n",
              "      label.textContent = `Downloading \"${filename}\": `;\n",
              "      div.appendChild(label);\n",
              "      const progress = document.createElement('progress');\n",
              "      progress.max = size;\n",
              "      div.appendChild(progress);\n",
              "      document.body.appendChild(div);\n",
              "\n",
              "      const buffers = [];\n",
              "      let downloaded = 0;\n",
              "\n",
              "      const channel = await google.colab.kernel.comms.open(id);\n",
              "      // Send a message to notify the kernel that we're ready.\n",
              "      channel.send({})\n",
              "\n",
              "      for await (const message of channel.messages) {\n",
              "        // Send a message to notify the kernel that we're ready.\n",
              "        channel.send({})\n",
              "        if (message.buffers) {\n",
              "          for (const buffer of message.buffers) {\n",
              "            buffers.push(buffer);\n",
              "            downloaded += buffer.byteLength;\n",
              "            progress.value = downloaded;\n",
              "          }\n",
              "        }\n",
              "      }\n",
              "      const blob = new Blob(buffers, {type: 'application/binary'});\n",
              "      const a = document.createElement('a');\n",
              "      a.href = window.URL.createObjectURL(blob);\n",
              "      a.download = filename;\n",
              "      div.appendChild(a);\n",
              "      a.click();\n",
              "      div.remove();\n",
              "    }\n",
              "  "
            ]
          },
          "metadata": {}
        },
        {
          "output_type": "display_data",
          "data": {
            "text/plain": [
              "<IPython.core.display.Javascript object>"
            ],
            "application/javascript": [
              "download(\"download_1d673f63-b30d-49d5-b637-a79282473d12\", \"data.xlsx\", 2085719)"
            ]
          },
          "metadata": {}
        }
      ]
    }
  ]
}