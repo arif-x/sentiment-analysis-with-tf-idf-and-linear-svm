{
  "nbformat": 4,
  "nbformat_minor": 0,
  "metadata": {
    "colab": {
      "provenance": []
    },
    "kernelspec": {
      "name": "python3",
      "display_name": "Python 3"
    },
    "language_info": {
      "name": "python"
    }
  },
  "cells": [
    {
      "cell_type": "code",
      "execution_count": 1,
      "metadata": {
        "colab": {
          "base_uri": "https://localhost:8080/",
          "height": 206
        },
        "id": "fZllsS1fW17O",
        "outputId": "9718d820-6667-409a-f855-d1436747b8c8"
      },
      "outputs": [
        {
          "output_type": "execute_result",
          "data": {
            "text/plain": [
              "                                                text  Sentimen\n",
              "0  23:29:56,\"Semoga aplikasinya cepat diperbaiki,...         1\n",
              "1        23:31:43,Aplikasi apa ini nik tidak terbaca         1\n",
              "2    23:41:43,Ntah laah susah di jelaskan....ribeet…         0\n",
              "3  23:45:23,Selevel negara kok g mampu bikin apli...         0\n",
              "4   00:00:53,\"Maaf kasih 1 bntng karna ga epektif...         0"
            ],
            "text/html": [
              "\n",
              "  <div id=\"df-3e4e3cc9-cf9e-438c-ae3b-46e62e25ee2f\">\n",
              "    <div class=\"colab-df-container\">\n",
              "      <div>\n",
              "<style scoped>\n",
              "    .dataframe tbody tr th:only-of-type {\n",
              "        vertical-align: middle;\n",
              "    }\n",
              "\n",
              "    .dataframe tbody tr th {\n",
              "        vertical-align: top;\n",
              "    }\n",
              "\n",
              "    .dataframe thead th {\n",
              "        text-align: right;\n",
              "    }\n",
              "</style>\n",
              "<table border=\"1\" class=\"dataframe\">\n",
              "  <thead>\n",
              "    <tr style=\"text-align: right;\">\n",
              "      <th></th>\n",
              "      <th>text</th>\n",
              "      <th>Sentimen</th>\n",
              "    </tr>\n",
              "  </thead>\n",
              "  <tbody>\n",
              "    <tr>\n",
              "      <th>0</th>\n",
              "      <td>23:29:56,\"Semoga aplikasinya cepat diperbaiki,...</td>\n",
              "      <td>1</td>\n",
              "    </tr>\n",
              "    <tr>\n",
              "      <th>1</th>\n",
              "      <td>23:31:43,Aplikasi apa ini nik tidak terbaca</td>\n",
              "      <td>1</td>\n",
              "    </tr>\n",
              "    <tr>\n",
              "      <th>2</th>\n",
              "      <td>23:41:43,Ntah laah susah di jelaskan....ribeet…</td>\n",
              "      <td>0</td>\n",
              "    </tr>\n",
              "    <tr>\n",
              "      <th>3</th>\n",
              "      <td>23:45:23,Selevel negara kok g mampu bikin apli...</td>\n",
              "      <td>0</td>\n",
              "    </tr>\n",
              "    <tr>\n",
              "      <th>4</th>\n",
              "      <td>00:00:53,\"Maaf kasih 1 bntng karna ga epektif...</td>\n",
              "      <td>0</td>\n",
              "    </tr>\n",
              "  </tbody>\n",
              "</table>\n",
              "</div>\n",
              "      <button class=\"colab-df-convert\" onclick=\"convertToInteractive('df-3e4e3cc9-cf9e-438c-ae3b-46e62e25ee2f')\"\n",
              "              title=\"Convert this dataframe to an interactive table.\"\n",
              "              style=\"display:none;\">\n",
              "        \n",
              "  <svg xmlns=\"http://www.w3.org/2000/svg\" height=\"24px\"viewBox=\"0 0 24 24\"\n",
              "       width=\"24px\">\n",
              "    <path d=\"M0 0h24v24H0V0z\" fill=\"none\"/>\n",
              "    <path d=\"M18.56 5.44l.94 2.06.94-2.06 2.06-.94-2.06-.94-.94-2.06-.94 2.06-2.06.94zm-11 1L8.5 8.5l.94-2.06 2.06-.94-2.06-.94L8.5 2.5l-.94 2.06-2.06.94zm10 10l.94 2.06.94-2.06 2.06-.94-2.06-.94-.94-2.06-.94 2.06-2.06.94z\"/><path d=\"M17.41 7.96l-1.37-1.37c-.4-.4-.92-.59-1.43-.59-.52 0-1.04.2-1.43.59L10.3 9.45l-7.72 7.72c-.78.78-.78 2.05 0 2.83L4 21.41c.39.39.9.59 1.41.59.51 0 1.02-.2 1.41-.59l7.78-7.78 2.81-2.81c.8-.78.8-2.07 0-2.86zM5.41 20L4 18.59l7.72-7.72 1.47 1.35L5.41 20z\"/>\n",
              "  </svg>\n",
              "      </button>\n",
              "      \n",
              "  <style>\n",
              "    .colab-df-container {\n",
              "      display:flex;\n",
              "      flex-wrap:wrap;\n",
              "      gap: 12px;\n",
              "    }\n",
              "\n",
              "    .colab-df-convert {\n",
              "      background-color: #E8F0FE;\n",
              "      border: none;\n",
              "      border-radius: 50%;\n",
              "      cursor: pointer;\n",
              "      display: none;\n",
              "      fill: #1967D2;\n",
              "      height: 32px;\n",
              "      padding: 0 0 0 0;\n",
              "      width: 32px;\n",
              "    }\n",
              "\n",
              "    .colab-df-convert:hover {\n",
              "      background-color: #E2EBFA;\n",
              "      box-shadow: 0px 1px 2px rgba(60, 64, 67, 0.3), 0px 1px 3px 1px rgba(60, 64, 67, 0.15);\n",
              "      fill: #174EA6;\n",
              "    }\n",
              "\n",
              "    [theme=dark] .colab-df-convert {\n",
              "      background-color: #3B4455;\n",
              "      fill: #D2E3FC;\n",
              "    }\n",
              "\n",
              "    [theme=dark] .colab-df-convert:hover {\n",
              "      background-color: #434B5C;\n",
              "      box-shadow: 0px 1px 3px 1px rgba(0, 0, 0, 0.15);\n",
              "      filter: drop-shadow(0px 1px 2px rgba(0, 0, 0, 0.3));\n",
              "      fill: #FFFFFF;\n",
              "    }\n",
              "  </style>\n",
              "\n",
              "      <script>\n",
              "        const buttonEl =\n",
              "          document.querySelector('#df-3e4e3cc9-cf9e-438c-ae3b-46e62e25ee2f button.colab-df-convert');\n",
              "        buttonEl.style.display =\n",
              "          google.colab.kernel.accessAllowed ? 'block' : 'none';\n",
              "\n",
              "        async function convertToInteractive(key) {\n",
              "          const element = document.querySelector('#df-3e4e3cc9-cf9e-438c-ae3b-46e62e25ee2f');\n",
              "          const dataTable =\n",
              "            await google.colab.kernel.invokeFunction('convertToInteractive',\n",
              "                                                     [key], {});\n",
              "          if (!dataTable) return;\n",
              "\n",
              "          const docLinkHtml = 'Like what you see? Visit the ' +\n",
              "            '<a target=\"_blank\" href=https://colab.research.google.com/notebooks/data_table.ipynb>data table notebook</a>'\n",
              "            + ' to learn more about interactive tables.';\n",
              "          element.innerHTML = '';\n",
              "          dataTable['output_type'] = 'display_data';\n",
              "          await google.colab.output.renderOutput(dataTable, element);\n",
              "          const docLink = document.createElement('div');\n",
              "          docLink.innerHTML = docLinkHtml;\n",
              "          element.appendChild(docLink);\n",
              "        }\n",
              "      </script>\n",
              "    </div>\n",
              "  </div>\n",
              "  "
            ]
          },
          "metadata": {},
          "execution_count": 1
        }
      ],
      "source": [
        "import pandas as pd\n",
        "import re\n",
        "from sklearn.metrics import accuracy_score\n",
        "import warnings\n",
        "warnings.filterwarnings('ignore', 'Solver terminated early.*')\n",
        "\n",
        "# Import dataset csv\n",
        "df_dataset= pd.read_excel(\"mypertaminadata.xlsx\")\n",
        "df_dataset.head()"
      ]
    },
    {
      "cell_type": "code",
      "source": [
        "# Cleansing dataset\n",
        "df_dataset['cleansing'] = df_dataset['text']\n",
        "df_dataset['cleansing'] = df_dataset['cleansing'].apply(lambda x: re.sub('(<.*?>)', ' ', x))\n",
        "df_dataset['cleansing'] = df_dataset['cleansing'].apply(lambda x: re.sub('[,\\.!?:()\"]', '', x))  \n",
        "df_dataset['cleansing'] = df_dataset['cleansing'].apply(lambda x: x.strip())\n",
        "df_dataset['cleansing'] = df_dataset['cleansing'].apply(lambda x: re.sub('[^a-zA-Z\"]',' ',x))\n",
        "# Contoh data pertama yg dicleansing\n",
        "df_dataset['cleansing'][0]"
      ],
      "metadata": {
        "colab": {
          "base_uri": "https://localhost:8080/",
          "height": 52
        },
        "id": "5kWmy1WiW-PP",
        "outputId": "328b0e00-354c-4afb-f6a5-5d3f52957a4c"
      },
      "execution_count": 2,
      "outputs": [
        {
          "output_type": "execute_result",
          "data": {
            "text/plain": [
              "'      Semoga aplikasinya cepat diperbaiki karena begitu banyak masalah saat menggunakan aplikasi ini aplikasi ini setidaknya jangan membuat kami tambah susahkarena kami udah sangat susah'"
            ],
            "application/vnd.google.colaboratory.intrinsic+json": {
              "type": "string"
            }
          },
          "metadata": {},
          "execution_count": 2
        }
      ]
    },
    {
      "cell_type": "code",
      "source": [
        "# Dataset Casefolding\n",
        "df_dataset['casefolding'] = df_dataset['cleansing']\n",
        "df_dataset['casefolding'] = df_dataset['casefolding'].apply(lambda x: x.lower())\n",
        "# Contoh data pertama yg dicasefolding\n",
        "df_dataset['casefolding'][0]"
      ],
      "metadata": {
        "colab": {
          "base_uri": "https://localhost:8080/",
          "height": 52
        },
        "id": "7Rv5CT-tXAT6",
        "outputId": "c8c647f6-c1be-4acc-b884-f5ce8739b6e7"
      },
      "execution_count": 3,
      "outputs": [
        {
          "output_type": "execute_result",
          "data": {
            "text/plain": [
              "'      semoga aplikasinya cepat diperbaiki karena begitu banyak masalah saat menggunakan aplikasi ini aplikasi ini setidaknya jangan membuat kami tambah susahkarena kami udah sangat susah'"
            ],
            "application/vnd.google.colaboratory.intrinsic+json": {
              "type": "string"
            }
          },
          "metadata": {},
          "execution_count": 3
        }
      ]
    },
    {
      "cell_type": "code",
      "source": [
        "!pip install Sastrawi"
      ],
      "metadata": {
        "colab": {
          "base_uri": "https://localhost:8080/"
        },
        "id": "u_rQJ1I3XBcj",
        "outputId": "1e7602d3-9d22-4803-f9c1-b273bdf84791"
      },
      "execution_count": 4,
      "outputs": [
        {
          "output_type": "stream",
          "name": "stdout",
          "text": [
            "Looking in indexes: https://pypi.org/simple, https://us-python.pkg.dev/colab-wheels/public/simple/\n",
            "Collecting Sastrawi\n",
            "  Downloading Sastrawi-1.0.1-py2.py3-none-any.whl (209 kB)\n",
            "\u001b[2K     \u001b[90m━━━━━━━━━━━━━━━━━━━━━━━━━━━━━━━━━━━━━━\u001b[0m \u001b[32m209.7/209.7 KB\u001b[0m \u001b[31m13.0 MB/s\u001b[0m eta \u001b[36m0:00:00\u001b[0m\n",
            "\u001b[?25hInstalling collected packages: Sastrawi\n",
            "Successfully installed Sastrawi-1.0.1\n"
          ]
        }
      ]
    },
    {
      "cell_type": "code",
      "source": [
        "# Steeming dataset\n",
        "\n",
        "from Sastrawi.Stemmer.StemmerFactory import StemmerFactory\n",
        "\n",
        "df_dataset['steemed'] = None\n",
        "for i in range (len(df_dataset['casefolding'])):\n",
        "    factory = StemmerFactory()\n",
        "    stemmer = factory.create_stemmer()\n",
        "    casefolding = stemmer.stem(df_dataset['casefolding'][i])\n",
        "    df_dataset['steemed'][i] = casefolding\n",
        "    print(i, end = ' ')"
      ],
      "metadata": {
        "colab": {
          "base_uri": "https://localhost:8080/"
        },
        "id": "hE7PF0WtXC1o",
        "outputId": "dfe28352-afb2-4c63-9757-604dbf597298"
      },
      "execution_count": 5,
      "outputs": [
        {
          "output_type": "stream",
          "name": "stderr",
          "text": [
            "<ipython-input-5-ea5852f28bb3>:10: SettingWithCopyWarning: \n",
            "A value is trying to be set on a copy of a slice from a DataFrame\n",
            "\n",
            "See the caveats in the documentation: https://pandas.pydata.org/pandas-docs/stable/user_guide/indexing.html#returning-a-view-versus-a-copy\n",
            "  df_dataset['steemed'][i] = casefolding\n"
          ]
        },
        {
          "output_type": "stream",
          "name": "stdout",
          "text": [
            "0 1 2 3 4 5 6 7 8 9 10 11 12 13 14 15 16 17 18 19 20 21 22 23 24 25 26 27 28 29 30 31 32 33 34 35 36 37 38 39 40 41 42 43 44 45 46 47 48 49 50 51 52 53 54 55 56 57 58 59 60 61 62 63 64 65 66 67 68 69 70 71 72 73 74 75 76 77 78 79 80 81 82 83 84 85 86 87 88 89 90 91 92 93 94 95 96 97 98 99 100 101 102 103 104 105 106 107 108 109 110 111 112 113 114 115 116 117 118 119 120 121 122 123 124 125 126 127 128 129 130 131 132 133 134 135 136 137 138 139 140 141 142 143 144 145 146 147 148 149 150 151 152 153 154 155 156 157 158 159 160 161 162 163 164 165 166 167 168 169 170 171 172 173 174 175 176 177 178 179 180 181 182 183 184 185 186 187 188 189 190 191 192 193 194 195 196 197 198 199 200 201 202 203 204 205 206 207 208 209 210 211 212 213 214 215 216 217 218 219 220 221 222 223 224 225 226 227 228 229 230 231 232 233 234 235 236 237 238 239 240 241 242 243 244 245 246 247 248 249 "
          ]
        }
      ]
    },
    {
      "cell_type": "code",
      "source": [
        "# Contoh data pertama yg disteeming\n",
        "df_dataset['steemed'][0]"
      ],
      "metadata": {
        "colab": {
          "base_uri": "https://localhost:8080/",
          "height": 52
        },
        "id": "KGAhAgkYXEVL",
        "outputId": "c3f6c863-5b57-450d-a03d-e2121cbb93b6"
      },
      "execution_count": 6,
      "outputs": [
        {
          "output_type": "execute_result",
          "data": {
            "text/plain": [
              "'moga aplikasi cepat baik karena begitu banyak masalah saat guna aplikasi ini aplikasi ini tidak jangan buat kami tambah susahkarena kami udah sangat susah'"
            ],
            "application/vnd.google.colaboratory.intrinsic+json": {
              "type": "string"
            }
          },
          "metadata": {},
          "execution_count": 6
        }
      ]
    },
    {
      "cell_type": "code",
      "source": [
        "import nltk\n",
        "nltk.download('punkt')\n",
        "from nltk.tokenize import word_tokenize\n",
        "from nltk.tokenize import sent_tokenize\n",
        "\n",
        "# Proses tokeninzing\n",
        "data = []\n",
        "for i in range (len(df_dataset['steemed'])):\n",
        "    steemed = word_tokenize(df_dataset['steemed'][i])\n",
        "    data.append(steemed)\n",
        "\n",
        "# Contoh data pertama yang ditokenizing\n",
        "data[0]"
      ],
      "metadata": {
        "colab": {
          "base_uri": "https://localhost:8080/"
        },
        "id": "WJOOrQHFXIGC",
        "outputId": "765e9ed3-9c60-4618-963d-3db129711360"
      },
      "execution_count": 7,
      "outputs": [
        {
          "output_type": "stream",
          "name": "stderr",
          "text": [
            "[nltk_data] Downloading package punkt to /root/nltk_data...\n",
            "[nltk_data]   Unzipping tokenizers/punkt.zip.\n"
          ]
        },
        {
          "output_type": "execute_result",
          "data": {
            "text/plain": [
              "['moga',\n",
              " 'aplikasi',\n",
              " 'cepat',\n",
              " 'baik',\n",
              " 'karena',\n",
              " 'begitu',\n",
              " 'banyak',\n",
              " 'masalah',\n",
              " 'saat',\n",
              " 'guna',\n",
              " 'aplikasi',\n",
              " 'ini',\n",
              " 'aplikasi',\n",
              " 'ini',\n",
              " 'tidak',\n",
              " 'jangan',\n",
              " 'buat',\n",
              " 'kami',\n",
              " 'tambah',\n",
              " 'susahkarena',\n",
              " 'kami',\n",
              " 'udah',\n",
              " 'sangat',\n",
              " 'susah']"
            ]
          },
          "metadata": {},
          "execution_count": 7
        }
      ]
    },
    {
      "cell_type": "code",
      "source": [
        "# Data stopwords\n",
        "text_file = open(\"stopwords-id.txt\", \"r\")\n",
        "lines = text_file.readlines()\n",
        "stopwords = []\n",
        "for sub in lines:\n",
        "    stopwords.append(sub.replace(\"\\n\", \"\"))"
      ],
      "metadata": {
        "id": "AZNP_PPoXJkX"
      },
      "execution_count": 8,
      "outputs": []
    },
    {
      "cell_type": "code",
      "source": [
        "# Proses penghapusan stopwords\n",
        "quote_without_stopwords_arr = []\n",
        "\n",
        "for i in range(len(df_dataset['steemed'])):\n",
        "    quote_without_stopwords = []\n",
        "    for word in data[i]:\n",
        "        if word.casefold() not in stopwords:\n",
        "            quote_without_stopwords.append(word)\n",
        "    quote_without_stopwords_arr.append(quote_without_stopwords)\n",
        "\n",
        "# Contoh data pertama yang dihapus stopwordsnya\n",
        "quote_without_stopwords_arr[0]"
      ],
      "metadata": {
        "colab": {
          "base_uri": "https://localhost:8080/"
        },
        "id": "dqJ4L6oLXKy9",
        "outputId": "c32d7df1-47c8-4b85-b687-417abc757cb7"
      },
      "execution_count": 9,
      "outputs": [
        {
          "output_type": "execute_result",
          "data": {
            "text/plain": [
              "['moga',\n",
              " 'aplikasi',\n",
              " 'cepat',\n",
              " 'aplikasi',\n",
              " 'aplikasi',\n",
              " 'susahkarena',\n",
              " 'udah',\n",
              " 'susah']"
            ]
          },
          "metadata": {},
          "execution_count": 9
        }
      ]
    },
    {
      "cell_type": "code",
      "source": [
        "# Masukkan data yang sudah dihapus stopwordnya & dijadikan list ke dalam dataframe\n",
        "df_dataset['normalisasi'] = None\n",
        "df_dataset['tokenizing'] = None\n",
        "for i in range(len(df_dataset['text'])):\n",
        "    df_dataset['normalisasi'][i] = ' '.join(quote_without_stopwords_arr[i])\n",
        "    df_dataset['tokenizing'][i] = quote_without_stopwords_arr[i]"
      ],
      "metadata": {
        "colab": {
          "base_uri": "https://localhost:8080/"
        },
        "id": "A-035TPcXL_W",
        "outputId": "310a71a3-244e-44ab-e430-a0683666ab32"
      },
      "execution_count": 10,
      "outputs": [
        {
          "output_type": "stream",
          "name": "stderr",
          "text": [
            "<ipython-input-10-cbb68b6a59d0>:5: SettingWithCopyWarning: \n",
            "A value is trying to be set on a copy of a slice from a DataFrame\n",
            "\n",
            "See the caveats in the documentation: https://pandas.pydata.org/pandas-docs/stable/user_guide/indexing.html#returning-a-view-versus-a-copy\n",
            "  df_dataset['normalisasi'][i] = ' '.join(quote_without_stopwords_arr[i])\n",
            "<ipython-input-10-cbb68b6a59d0>:6: SettingWithCopyWarning: \n",
            "A value is trying to be set on a copy of a slice from a DataFrame\n",
            "\n",
            "See the caveats in the documentation: https://pandas.pydata.org/pandas-docs/stable/user_guide/indexing.html#returning-a-view-versus-a-copy\n",
            "  df_dataset['tokenizing'][i] = quote_without_stopwords_arr[i]\n"
          ]
        }
      ]
    },
    {
      "cell_type": "code",
      "source": [
        "# Fungsi hitung nilai TF\n",
        "def calc_tf(document):\n",
        "    tf_dict = {}\n",
        "    for term in document:\n",
        "        if term in tf_dict:\n",
        "            tf_dict[term] += 1\n",
        "        else:\n",
        "            tf_dict[term] = 1\n",
        "            \n",
        "    for term in tf_dict:\n",
        "        tf_dict[term] = tf_dict[term] / len(document)\n",
        "    return tf_dict\n",
        "\n",
        "df_dataset[\"tf_dict\"] = df_dataset['tokenizing'].apply(calc_tf)"
      ],
      "metadata": {
        "id": "Vq8jKNOfXMGp"
      },
      "execution_count": 11,
      "outputs": []
    },
    {
      "cell_type": "code",
      "source": [
        "# Fungsi hitung nilai DF\n",
        "def calc_df(tfDict):\n",
        "    count_df = {}\n",
        "    for document in tfDict:\n",
        "        for term in document:\n",
        "            if term in count_df:\n",
        "                count_df[term] += 1\n",
        "            else:\n",
        "                count_df[term] = 1\n",
        "    return count_df\n",
        "\n",
        "df = calc_df(quote_without_stopwords_arr)"
      ],
      "metadata": {
        "id": "9Lh83i8ZXPLJ"
      },
      "execution_count": 12,
      "outputs": []
    },
    {
      "cell_type": "code",
      "source": [
        "import numpy as np\n",
        "\n",
        "# Fungsi hitung nilai IDF\n",
        "\n",
        "n_document = len(df_dataset)\n",
        "\n",
        "def calc_idf(n_document, df):\n",
        "    idf_Dict = {}\n",
        "    for term in df:\n",
        "        idf_Dict[term] = np.log(n_document / (df[term] + 1))\n",
        "    return idf_Dict\n",
        "  \n",
        "idf = calc_idf(n_document, df)"
      ],
      "metadata": {
        "id": "ymINVLF3XQWC"
      },
      "execution_count": 13,
      "outputs": []
    },
    {
      "cell_type": "code",
      "source": [
        "# Hitung nilai TH-IDF\n",
        "\n",
        "def calc_tf_idf(tf):\n",
        "    tf_idf_Dict = {}\n",
        "    for key in tf:\n",
        "        tf_idf_Dict[key] = tf[key] * idf[key]\n",
        "    return tf_idf_Dict\n",
        "\n",
        "df_dataset[\"tf_idf_dict\"] = df_dataset[\"tf_dict\"].apply(calc_tf_idf)"
      ],
      "metadata": {
        "id": "y-vm26JIXRlW"
      },
      "execution_count": 14,
      "outputs": []
    },
    {
      "cell_type": "code",
      "source": [
        "feature = 25\n",
        "sorted_df = sorted(df.items(), key=lambda kv: kv[1], reverse=True)[:feature]\n",
        "\n",
        "unique_term = [item[0] for item in sorted_df]\n",
        "\n",
        "def calc_tf_idf_vec(tf_idf_dict):\n",
        "    tf_idf_vector = [0.0] * len(unique_term)\n",
        "\n",
        "    for i, term in enumerate(unique_term):\n",
        "        if term in tf_idf_dict:\n",
        "            tf_idf_vector[i] = tf_idf_dict[term]\n",
        "    return tf_idf_vector\n",
        "\n",
        "df_dataset[\"tf_idf_vec\"] = df_dataset[\"tf_idf_dict\"].apply(calc_tf_idf_vec)\n",
        "\n",
        "print(\"Sort\")\n",
        "print(sorted_df)\n",
        "print(\"print first row matrix tf_idf_vec Series\\n\")\n",
        "print(df_dataset[\"tf_idf_vec\"][0])\n",
        "\n",
        "print(\"\\nmatrix size : \", len(df_dataset[\"tf_idf_vec\"][0]))"
      ],
      "metadata": {
        "colab": {
          "base_uri": "https://localhost:8080/"
        },
        "id": "0tPAEou7XS28",
        "outputId": "4e871834-ed2b-43ea-a0ba-fd44af648fcd"
      },
      "execution_count": 15,
      "outputs": [
        {
          "output_type": "stream",
          "name": "stdout",
          "text": [
            "Sort\n",
            "[('aplikasi', 135), ('daftar', 71), ('yg', 57), ('nya', 46), ('susah', 39), ('aja', 38), ('pertamina', 33), ('gak', 32), ('data', 29), ('bagus', 29), ('beli', 28), ('udah', 27), ('bikin', 27), ('mudah', 27), ('ribet', 26), ('ga', 25), ('spbu', 25), ('isi', 25), ('bayar', 24), ('subsidi', 24), ('sulit', 23), ('bbm', 23), ('hp', 21), ('mypertamina', 21), ('rakyat', 19)]\n",
            "print first row matrix tf_idf_vec Series\n",
            "\n",
            "[0.22830226204732287, 0.0, 0.0, 0.0, 0.22907268296853878, 0.0, 0.0, 0.0, 0.0, 0.0, 0.0, 0.27365705096088033, 0.0, 0.0, 0.0, 0.0, 0.0, 0.0, 0.0, 0.0, 0.0, 0.0, 0.0, 0.0, 0.0]\n",
            "\n",
            "matrix size :  25\n"
          ]
        }
      ]
    },
    {
      "cell_type": "code",
      "source": [
        "df_dataset.head()"
      ],
      "metadata": {
        "id": "gEINdfviX2FG",
        "outputId": "6c2fdff3-dc2e-42c6-bf0e-9314e70e8b9f",
        "colab": {
          "base_uri": "https://localhost:8080/",
          "height": 547
        }
      },
      "execution_count": 16,
      "outputs": [
        {
          "output_type": "execute_result",
          "data": {
            "text/plain": [
              "                                                text  Sentimen  \\\n",
              "0  23:29:56,\"Semoga aplikasinya cepat diperbaiki,...         1   \n",
              "1        23:31:43,Aplikasi apa ini nik tidak terbaca         1   \n",
              "2    23:41:43,Ntah laah susah di jelaskan....ribeet…         0   \n",
              "3  23:45:23,Selevel negara kok g mampu bikin apli...         0   \n",
              "4   00:00:53,\"Maaf kasih 1 bntng karna ga epektif...         0   \n",
              "\n",
              "                                           cleansing  \\\n",
              "0        Semoga aplikasinya cepat diperbaiki kare...   \n",
              "1                 Aplikasi apa ini nik tidak terbaca   \n",
              "2                 Ntah laah susah di jelaskanribeet    \n",
              "3        Selevel negara kok g mampu bikin aplikas...   \n",
              "4        Maaf kasih   bntng karna ga epektif mala...   \n",
              "\n",
              "                                         casefolding  \\\n",
              "0        semoga aplikasinya cepat diperbaiki kare...   \n",
              "1                 aplikasi apa ini nik tidak terbaca   \n",
              "2                 ntah laah susah di jelaskanribeet    \n",
              "3        selevel negara kok g mampu bikin aplikas...   \n",
              "4        maaf kasih   bntng karna ga epektif mala...   \n",
              "\n",
              "                                             steemed  \\\n",
              "0  moga aplikasi cepat baik karena begitu banyak ...   \n",
              "1                    aplikasi apa ini nik tidak baca   \n",
              "2                  ntah laah susah di jelaskanribeet   \n",
              "3  level negara kok g mampu bikin aplikasi yg bai...   \n",
              "4  maaf kasih bntng karna ga epektif malah tambah...   \n",
              "\n",
              "                                         normalisasi  \\\n",
              "0  moga aplikasi cepat aplikasi aplikasi susahkar...   \n",
              "1                                  aplikasi nik baca   \n",
              "2                     ntah laah susah jelaskanribeet   \n",
              "3  level negara g bikin aplikasi yg udah dftr ula...   \n",
              "4  maaf kasih bntng karna ga epektif ribet daftar...   \n",
              "\n",
              "                                          tokenizing  \\\n",
              "0  [moga, aplikasi, cepat, aplikasi, aplikasi, su...   \n",
              "1                              [aplikasi, nik, baca]   \n",
              "2                [ntah, laah, susah, jelaskanribeet]   \n",
              "3  [level, negara, g, bikin, aplikasi, yg, udah, ...   \n",
              "4  [maaf, kasih, bntng, karna, ga, epektif, ribet...   \n",
              "\n",
              "                                             tf_dict  \\\n",
              "0  {'moga': 0.125, 'aplikasi': 0.375, 'cepat': 0....   \n",
              "1  {'aplikasi': 0.3333333333333333, 'nik': 0.3333...   \n",
              "2  {'ntah': 0.25, 'laah': 0.25, 'susah': 0.25, 'j...   \n",
              "3  {'level': 0.037037037037037035, 'negara': 0.07...   \n",
              "4  {'maaf': 0.1, 'kasih': 0.1, 'bntng': 0.1, 'kar...   \n",
              "\n",
              "                                         tf_idf_dict  \\\n",
              "0  {'moga': 0.37956928350928076, 'aplikasi': 0.22...   \n",
              "1  {'aplikasi': 0.20293534404206476, 'nik': 1.108...   \n",
              "2  {'ntah': 1.2070784343255754, 'laah': 1.2070784...   \n",
              "3  {'level': 0.17882643471490003, 'negara': 0.306...   \n",
              "4  {'maaf': 0.48283137373023016, 'kasih': 0.27488...   \n",
              "\n",
              "                                          tf_idf_vec  \n",
              "0  [0.22830226204732287, 0.0, 0.0, 0.0, 0.2290726...  \n",
              "1  [0.20293534404206476, 0.0, 0.0, 0.0, 0.0, 0.0,...  \n",
              "2  [0.0, 0.0, 0.0, 0.0, 0.45814536593707755, 0.0,...  \n",
              "3  [0.02254837156022942, 0.0, 0.05411177434503063...  \n",
              "4  [0.0, 0.12447947988461912, 0.0, 0.0, 0.1832581...  "
            ],
            "text/html": [
              "\n",
              "  <div id=\"df-21c54385-a769-4f5e-9121-8b3ddd903fdf\">\n",
              "    <div class=\"colab-df-container\">\n",
              "      <div>\n",
              "<style scoped>\n",
              "    .dataframe tbody tr th:only-of-type {\n",
              "        vertical-align: middle;\n",
              "    }\n",
              "\n",
              "    .dataframe tbody tr th {\n",
              "        vertical-align: top;\n",
              "    }\n",
              "\n",
              "    .dataframe thead th {\n",
              "        text-align: right;\n",
              "    }\n",
              "</style>\n",
              "<table border=\"1\" class=\"dataframe\">\n",
              "  <thead>\n",
              "    <tr style=\"text-align: right;\">\n",
              "      <th></th>\n",
              "      <th>text</th>\n",
              "      <th>Sentimen</th>\n",
              "      <th>cleansing</th>\n",
              "      <th>casefolding</th>\n",
              "      <th>steemed</th>\n",
              "      <th>normalisasi</th>\n",
              "      <th>tokenizing</th>\n",
              "      <th>tf_dict</th>\n",
              "      <th>tf_idf_dict</th>\n",
              "      <th>tf_idf_vec</th>\n",
              "    </tr>\n",
              "  </thead>\n",
              "  <tbody>\n",
              "    <tr>\n",
              "      <th>0</th>\n",
              "      <td>23:29:56,\"Semoga aplikasinya cepat diperbaiki,...</td>\n",
              "      <td>1</td>\n",
              "      <td>Semoga aplikasinya cepat diperbaiki kare...</td>\n",
              "      <td>semoga aplikasinya cepat diperbaiki kare...</td>\n",
              "      <td>moga aplikasi cepat baik karena begitu banyak ...</td>\n",
              "      <td>moga aplikasi cepat aplikasi aplikasi susahkar...</td>\n",
              "      <td>[moga, aplikasi, cepat, aplikasi, aplikasi, su...</td>\n",
              "      <td>{'moga': 0.125, 'aplikasi': 0.375, 'cepat': 0....</td>\n",
              "      <td>{'moga': 0.37956928350928076, 'aplikasi': 0.22...</td>\n",
              "      <td>[0.22830226204732287, 0.0, 0.0, 0.0, 0.2290726...</td>\n",
              "    </tr>\n",
              "    <tr>\n",
              "      <th>1</th>\n",
              "      <td>23:31:43,Aplikasi apa ini nik tidak terbaca</td>\n",
              "      <td>1</td>\n",
              "      <td>Aplikasi apa ini nik tidak terbaca</td>\n",
              "      <td>aplikasi apa ini nik tidak terbaca</td>\n",
              "      <td>aplikasi apa ini nik tidak baca</td>\n",
              "      <td>aplikasi nik baca</td>\n",
              "      <td>[aplikasi, nik, baca]</td>\n",
              "      <td>{'aplikasi': 0.3333333333333333, 'nik': 0.3333...</td>\n",
              "      <td>{'aplikasi': 0.20293534404206476, 'nik': 1.108...</td>\n",
              "      <td>[0.20293534404206476, 0.0, 0.0, 0.0, 0.0, 0.0,...</td>\n",
              "    </tr>\n",
              "    <tr>\n",
              "      <th>2</th>\n",
              "      <td>23:41:43,Ntah laah susah di jelaskan....ribeet…</td>\n",
              "      <td>0</td>\n",
              "      <td>Ntah laah susah di jelaskanribeet</td>\n",
              "      <td>ntah laah susah di jelaskanribeet</td>\n",
              "      <td>ntah laah susah di jelaskanribeet</td>\n",
              "      <td>ntah laah susah jelaskanribeet</td>\n",
              "      <td>[ntah, laah, susah, jelaskanribeet]</td>\n",
              "      <td>{'ntah': 0.25, 'laah': 0.25, 'susah': 0.25, 'j...</td>\n",
              "      <td>{'ntah': 1.2070784343255754, 'laah': 1.2070784...</td>\n",
              "      <td>[0.0, 0.0, 0.0, 0.0, 0.45814536593707755, 0.0,...</td>\n",
              "    </tr>\n",
              "    <tr>\n",
              "      <th>3</th>\n",
              "      <td>23:45:23,Selevel negara kok g mampu bikin apli...</td>\n",
              "      <td>0</td>\n",
              "      <td>Selevel negara kok g mampu bikin aplikas...</td>\n",
              "      <td>selevel negara kok g mampu bikin aplikas...</td>\n",
              "      <td>level negara kok g mampu bikin aplikasi yg bai...</td>\n",
              "      <td>level negara g bikin aplikasi yg udah dftr ula...</td>\n",
              "      <td>[level, negara, g, bikin, aplikasi, yg, udah, ...</td>\n",
              "      <td>{'level': 0.037037037037037035, 'negara': 0.07...</td>\n",
              "      <td>{'level': 0.17882643471490003, 'negara': 0.306...</td>\n",
              "      <td>[0.02254837156022942, 0.0, 0.05411177434503063...</td>\n",
              "    </tr>\n",
              "    <tr>\n",
              "      <th>4</th>\n",
              "      <td>00:00:53,\"Maaf kasih 1 bntng karna ga epektif...</td>\n",
              "      <td>0</td>\n",
              "      <td>Maaf kasih   bntng karna ga epektif mala...</td>\n",
              "      <td>maaf kasih   bntng karna ga epektif mala...</td>\n",
              "      <td>maaf kasih bntng karna ga epektif malah tambah...</td>\n",
              "      <td>maaf kasih bntng karna ga epektif ribet daftar...</td>\n",
              "      <td>[maaf, kasih, bntng, karna, ga, epektif, ribet...</td>\n",
              "      <td>{'maaf': 0.1, 'kasih': 0.1, 'bntng': 0.1, 'kar...</td>\n",
              "      <td>{'maaf': 0.48283137373023016, 'kasih': 0.27488...</td>\n",
              "      <td>[0.0, 0.12447947988461912, 0.0, 0.0, 0.1832581...</td>\n",
              "    </tr>\n",
              "  </tbody>\n",
              "</table>\n",
              "</div>\n",
              "      <button class=\"colab-df-convert\" onclick=\"convertToInteractive('df-21c54385-a769-4f5e-9121-8b3ddd903fdf')\"\n",
              "              title=\"Convert this dataframe to an interactive table.\"\n",
              "              style=\"display:none;\">\n",
              "        \n",
              "  <svg xmlns=\"http://www.w3.org/2000/svg\" height=\"24px\"viewBox=\"0 0 24 24\"\n",
              "       width=\"24px\">\n",
              "    <path d=\"M0 0h24v24H0V0z\" fill=\"none\"/>\n",
              "    <path d=\"M18.56 5.44l.94 2.06.94-2.06 2.06-.94-2.06-.94-.94-2.06-.94 2.06-2.06.94zm-11 1L8.5 8.5l.94-2.06 2.06-.94-2.06-.94L8.5 2.5l-.94 2.06-2.06.94zm10 10l.94 2.06.94-2.06 2.06-.94-2.06-.94-.94-2.06-.94 2.06-2.06.94z\"/><path d=\"M17.41 7.96l-1.37-1.37c-.4-.4-.92-.59-1.43-.59-.52 0-1.04.2-1.43.59L10.3 9.45l-7.72 7.72c-.78.78-.78 2.05 0 2.83L4 21.41c.39.39.9.59 1.41.59.51 0 1.02-.2 1.41-.59l7.78-7.78 2.81-2.81c.8-.78.8-2.07 0-2.86zM5.41 20L4 18.59l7.72-7.72 1.47 1.35L5.41 20z\"/>\n",
              "  </svg>\n",
              "      </button>\n",
              "      \n",
              "  <style>\n",
              "    .colab-df-container {\n",
              "      display:flex;\n",
              "      flex-wrap:wrap;\n",
              "      gap: 12px;\n",
              "    }\n",
              "\n",
              "    .colab-df-convert {\n",
              "      background-color: #E8F0FE;\n",
              "      border: none;\n",
              "      border-radius: 50%;\n",
              "      cursor: pointer;\n",
              "      display: none;\n",
              "      fill: #1967D2;\n",
              "      height: 32px;\n",
              "      padding: 0 0 0 0;\n",
              "      width: 32px;\n",
              "    }\n",
              "\n",
              "    .colab-df-convert:hover {\n",
              "      background-color: #E2EBFA;\n",
              "      box-shadow: 0px 1px 2px rgba(60, 64, 67, 0.3), 0px 1px 3px 1px rgba(60, 64, 67, 0.15);\n",
              "      fill: #174EA6;\n",
              "    }\n",
              "\n",
              "    [theme=dark] .colab-df-convert {\n",
              "      background-color: #3B4455;\n",
              "      fill: #D2E3FC;\n",
              "    }\n",
              "\n",
              "    [theme=dark] .colab-df-convert:hover {\n",
              "      background-color: #434B5C;\n",
              "      box-shadow: 0px 1px 3px 1px rgba(0, 0, 0, 0.15);\n",
              "      filter: drop-shadow(0px 1px 2px rgba(0, 0, 0, 0.3));\n",
              "      fill: #FFFFFF;\n",
              "    }\n",
              "  </style>\n",
              "\n",
              "      <script>\n",
              "        const buttonEl =\n",
              "          document.querySelector('#df-21c54385-a769-4f5e-9121-8b3ddd903fdf button.colab-df-convert');\n",
              "        buttonEl.style.display =\n",
              "          google.colab.kernel.accessAllowed ? 'block' : 'none';\n",
              "\n",
              "        async function convertToInteractive(key) {\n",
              "          const element = document.querySelector('#df-21c54385-a769-4f5e-9121-8b3ddd903fdf');\n",
              "          const dataTable =\n",
              "            await google.colab.kernel.invokeFunction('convertToInteractive',\n",
              "                                                     [key], {});\n",
              "          if (!dataTable) return;\n",
              "\n",
              "          const docLinkHtml = 'Like what you see? Visit the ' +\n",
              "            '<a target=\"_blank\" href=https://colab.research.google.com/notebooks/data_table.ipynb>data table notebook</a>'\n",
              "            + ' to learn more about interactive tables.';\n",
              "          element.innerHTML = '';\n",
              "          dataTable['output_type'] = 'display_data';\n",
              "          await google.colab.output.renderOutput(dataTable, element);\n",
              "          const docLink = document.createElement('div');\n",
              "          docLink.innerHTML = docLinkHtml;\n",
              "          element.appendChild(docLink);\n",
              "        }\n",
              "      </script>\n",
              "    </div>\n",
              "  </div>\n",
              "  "
            ]
          },
          "metadata": {},
          "execution_count": 16
        }
      ]
    },
    {
      "cell_type": "code",
      "source": [
        "# Export ke csv & excel\n",
        "from google.colab import drive\n",
        "drive.mount('/content/drive')\n",
        "\n",
        "df_dataset.to_csv('/content/drive/MyDrive/Colab Notebooks/data.csv')\n",
        "df_dataset.to_excel('/content/drive/MyDrive/Colab Notebooks/data.xlsx')"
      ],
      "metadata": {
        "id": "E8Z3NkuDXUu3",
        "colab": {
          "base_uri": "https://localhost:8080/"
        },
        "outputId": "e08f4bb3-27d3-4a37-adf5-81f8a8670706"
      },
      "execution_count": 17,
      "outputs": [
        {
          "output_type": "stream",
          "name": "stdout",
          "text": [
            "Mounted at /content/drive\n"
          ]
        }
      ]
    }
  ]
}