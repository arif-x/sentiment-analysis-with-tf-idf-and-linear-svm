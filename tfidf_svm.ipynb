{
  "nbformat": 4,
  "nbformat_minor": 0,
  "metadata": {
    "colab": {
      "provenance": []
    },
    "kernelspec": {
      "name": "python3",
      "display_name": "Python 3"
    },
    "language_info": {
      "name": "python"
    }
  },
  "cells": [
    {
      "cell_type": "code",
      "execution_count": 1219,
      "metadata": {
        "colab": {
          "base_uri": "https://localhost:8080/",
          "height": 206
        },
        "id": "qsAahsRvoonV",
        "outputId": "4d493dd5-35a6-4d7c-e8b0-44f87734a871"
      },
      "outputs": [
        {
          "output_type": "execute_result",
          "data": {
            "text/plain": [
              "                                                text  Sentimen\n",
              "0  Caessar Titto,1,2022-07-15 23:29:56,\"Semoga ap...         1\n",
              "1  dimas aulia rahman,1,2022-07-15 23:31:43,Aplik...         1\n",
              "2  Batterfly 12,1,2022-07-15 23:41:43,Ntah laah s...         0\n",
              "3  Keyaan Channel,1,2022-0 7-15 23:45:23,Selevel ...         0\n",
              "4  karya saputra,1,2022-07-16 00:00:53,\"Maaf kasi...         0"
            ],
            "text/html": [
              "\n",
              "  <div id=\"df-11a5aa2c-0550-4d94-a3b8-ff516cd70ad0\">\n",
              "    <div class=\"colab-df-container\">\n",
              "      <div>\n",
              "<style scoped>\n",
              "    .dataframe tbody tr th:only-of-type {\n",
              "        vertical-align: middle;\n",
              "    }\n",
              "\n",
              "    .dataframe tbody tr th {\n",
              "        vertical-align: top;\n",
              "    }\n",
              "\n",
              "    .dataframe thead th {\n",
              "        text-align: right;\n",
              "    }\n",
              "</style>\n",
              "<table border=\"1\" class=\"dataframe\">\n",
              "  <thead>\n",
              "    <tr style=\"text-align: right;\">\n",
              "      <th></th>\n",
              "      <th>text</th>\n",
              "      <th>Sentimen</th>\n",
              "    </tr>\n",
              "  </thead>\n",
              "  <tbody>\n",
              "    <tr>\n",
              "      <th>0</th>\n",
              "      <td>Caessar Titto,1,2022-07-15 23:29:56,\"Semoga ap...</td>\n",
              "      <td>1</td>\n",
              "    </tr>\n",
              "    <tr>\n",
              "      <th>1</th>\n",
              "      <td>dimas aulia rahman,1,2022-07-15 23:31:43,Aplik...</td>\n",
              "      <td>1</td>\n",
              "    </tr>\n",
              "    <tr>\n",
              "      <th>2</th>\n",
              "      <td>Batterfly 12,1,2022-07-15 23:41:43,Ntah laah s...</td>\n",
              "      <td>0</td>\n",
              "    </tr>\n",
              "    <tr>\n",
              "      <th>3</th>\n",
              "      <td>Keyaan Channel,1,2022-0 7-15 23:45:23,Selevel ...</td>\n",
              "      <td>0</td>\n",
              "    </tr>\n",
              "    <tr>\n",
              "      <th>4</th>\n",
              "      <td>karya saputra,1,2022-07-16 00:00:53,\"Maaf kasi...</td>\n",
              "      <td>0</td>\n",
              "    </tr>\n",
              "  </tbody>\n",
              "</table>\n",
              "</div>\n",
              "      <button class=\"colab-df-convert\" onclick=\"convertToInteractive('df-11a5aa2c-0550-4d94-a3b8-ff516cd70ad0')\"\n",
              "              title=\"Convert this dataframe to an interactive table.\"\n",
              "              style=\"display:none;\">\n",
              "        \n",
              "  <svg xmlns=\"http://www.w3.org/2000/svg\" height=\"24px\"viewBox=\"0 0 24 24\"\n",
              "       width=\"24px\">\n",
              "    <path d=\"M0 0h24v24H0V0z\" fill=\"none\"/>\n",
              "    <path d=\"M18.56 5.44l.94 2.06.94-2.06 2.06-.94-2.06-.94-.94-2.06-.94 2.06-2.06.94zm-11 1L8.5 8.5l.94-2.06 2.06-.94-2.06-.94L8.5 2.5l-.94 2.06-2.06.94zm10 10l.94 2.06.94-2.06 2.06-.94-2.06-.94-.94-2.06-.94 2.06-2.06.94z\"/><path d=\"M17.41 7.96l-1.37-1.37c-.4-.4-.92-.59-1.43-.59-.52 0-1.04.2-1.43.59L10.3 9.45l-7.72 7.72c-.78.78-.78 2.05 0 2.83L4 21.41c.39.39.9.59 1.41.59.51 0 1.02-.2 1.41-.59l7.78-7.78 2.81-2.81c.8-.78.8-2.07 0-2.86zM5.41 20L4 18.59l7.72-7.72 1.47 1.35L5.41 20z\"/>\n",
              "  </svg>\n",
              "      </button>\n",
              "      \n",
              "  <style>\n",
              "    .colab-df-container {\n",
              "      display:flex;\n",
              "      flex-wrap:wrap;\n",
              "      gap: 12px;\n",
              "    }\n",
              "\n",
              "    .colab-df-convert {\n",
              "      background-color: #E8F0FE;\n",
              "      border: none;\n",
              "      border-radius: 50%;\n",
              "      cursor: pointer;\n",
              "      display: none;\n",
              "      fill: #1967D2;\n",
              "      height: 32px;\n",
              "      padding: 0 0 0 0;\n",
              "      width: 32px;\n",
              "    }\n",
              "\n",
              "    .colab-df-convert:hover {\n",
              "      background-color: #E2EBFA;\n",
              "      box-shadow: 0px 1px 2px rgba(60, 64, 67, 0.3), 0px 1px 3px 1px rgba(60, 64, 67, 0.15);\n",
              "      fill: #174EA6;\n",
              "    }\n",
              "\n",
              "    [theme=dark] .colab-df-convert {\n",
              "      background-color: #3B4455;\n",
              "      fill: #D2E3FC;\n",
              "    }\n",
              "\n",
              "    [theme=dark] .colab-df-convert:hover {\n",
              "      background-color: #434B5C;\n",
              "      box-shadow: 0px 1px 3px 1px rgba(0, 0, 0, 0.15);\n",
              "      filter: drop-shadow(0px 1px 2px rgba(0, 0, 0, 0.3));\n",
              "      fill: #FFFFFF;\n",
              "    }\n",
              "  </style>\n",
              "\n",
              "      <script>\n",
              "        const buttonEl =\n",
              "          document.querySelector('#df-11a5aa2c-0550-4d94-a3b8-ff516cd70ad0 button.colab-df-convert');\n",
              "        buttonEl.style.display =\n",
              "          google.colab.kernel.accessAllowed ? 'block' : 'none';\n",
              "\n",
              "        async function convertToInteractive(key) {\n",
              "          const element = document.querySelector('#df-11a5aa2c-0550-4d94-a3b8-ff516cd70ad0');\n",
              "          const dataTable =\n",
              "            await google.colab.kernel.invokeFunction('convertToInteractive',\n",
              "                                                     [key], {});\n",
              "          if (!dataTable) return;\n",
              "\n",
              "          const docLinkHtml = 'Like what you see? Visit the ' +\n",
              "            '<a target=\"_blank\" href=https://colab.research.google.com/notebooks/data_table.ipynb>data table notebook</a>'\n",
              "            + ' to learn more about interactive tables.';\n",
              "          element.innerHTML = '';\n",
              "          dataTable['output_type'] = 'display_data';\n",
              "          await google.colab.output.renderOutput(dataTable, element);\n",
              "          const docLink = document.createElement('div');\n",
              "          docLink.innerHTML = docLinkHtml;\n",
              "          element.appendChild(docLink);\n",
              "        }\n",
              "      </script>\n",
              "    </div>\n",
              "  </div>\n",
              "  "
            ]
          },
          "metadata": {},
          "execution_count": 1219
        }
      ],
      "source": [
        "import pandas as pd\n",
        "import re\n",
        "from sklearn.metrics import accuracy_score\n",
        "import warnings\n",
        "warnings.filterwarnings('ignore', 'Solver terminated early.*')\n",
        "\n",
        "df_dataset= pd.read_excel(\"mypertaminadata.xlsx\")\n",
        "df_dataset.head()"
      ]
    },
    {
      "cell_type": "code",
      "source": [
        "df_dataset['text'] = df_dataset['text'].apply(lambda x: re.sub('(<.*?>)', ' ', x))\n",
        "df_dataset['text'] = df_dataset['text'].apply(lambda x: re.sub('[,\\.!?:()\"]', '', x))  \n",
        "df_dataset['text'] = df_dataset['text'].apply(lambda x: x.strip())\n",
        "df_dataset['text'] = df_dataset['text'].apply(lambda x: re.sub('[^a-zA-Z\"]',' ',x))\n",
        "df_dataset['text'] = df_dataset['text'].apply(lambda x: x.lower())"
      ],
      "metadata": {
        "id": "Quj3EXTi5E54"
      },
      "execution_count": 1220,
      "outputs": []
    },
    {
      "cell_type": "code",
      "source": [
        "import nltk\n",
        "\n",
        "nltk.download('punkt')\n",
        "\n",
        "from nltk.tokenize import word_tokenize\n",
        "# text = \"Dear Gojek yang saya yakin para programmernya memiliki ilmu yang sangat tinggi mengenai manajemen sistem, mohon perbaiki ALAMAT FAVORIT, coba kembalikan fungsinya seperti semula, yaitu mempermudah memilih tujuan. Aplikasinya sudah saya update beberapa kali, tapi tetap saja tidak diperbaiki, yang harusnya tinggal klik alamat untuk memilih tujuan dan titik jemput, sekarang malah cuma menampilkan informasi alamat, dan paling menjengkelkan lagi, kita harus memilih alamat lewat peta. Tolong PERBAIKI\"\n",
        "# print(word_tokenize(text))"
      ],
      "metadata": {
        "colab": {
          "base_uri": "https://localhost:8080/"
        },
        "id": "0AGB8-kYtlau",
        "outputId": "1a475b84-9e8d-470a-c5eb-823558688d59"
      },
      "execution_count": 1221,
      "outputs": [
        {
          "output_type": "stream",
          "name": "stderr",
          "text": [
            "[nltk_data] Downloading package punkt to /root/nltk_data...\n",
            "[nltk_data]   Package punkt is already up-to-date!\n"
          ]
        }
      ]
    },
    {
      "cell_type": "code",
      "source": [
        "from nltk.tokenize import sent_tokenize\n",
        "\n",
        "data = []\n",
        "for i in range (len(df_dataset['text'])):\n",
        "    text = word_tokenize(df_dataset['text'][i])\n",
        "    data.append(text)\n",
        "\n",
        "data[0]"
      ],
      "metadata": {
        "colab": {
          "base_uri": "https://localhost:8080/"
        },
        "id": "iLkilnaItv7R",
        "outputId": "44aed882-ee36-49fe-81f5-3cc6fb43de6c"
      },
      "execution_count": 1222,
      "outputs": [
        {
          "output_type": "execute_result",
          "data": {
            "text/plain": [
              "['caessar',\n",
              " 'titto',\n",
              " 'semoga',\n",
              " 'aplikasinya',\n",
              " 'cepat',\n",
              " 'diperbaiki',\n",
              " 'karena',\n",
              " 'begitu',\n",
              " 'banyak',\n",
              " 'masalah',\n",
              " 'saat',\n",
              " 'menggunakan',\n",
              " 'aplikasi',\n",
              " 'ini',\n",
              " 'aplikasi',\n",
              " 'ini',\n",
              " 'setidaknya',\n",
              " 'jangan',\n",
              " 'membuat',\n",
              " 'kami',\n",
              " 'tambah',\n",
              " 'susahkarena',\n",
              " 'kami',\n",
              " 'udah',\n",
              " 'sangat',\n",
              " 'susah']"
            ]
          },
          "metadata": {},
          "execution_count": 1222
        }
      ]
    },
    {
      "cell_type": "code",
      "source": [
        "text_file = open(\"stopwords-id.txt\", \"r\")\n",
        "lines = text_file.readlines()\n",
        "stopwords = []\n",
        "for sub in lines:\n",
        "    stopwords.append(sub.replace(\"\\n\", \"\"))"
      ],
      "metadata": {
        "id": "zXpyxx6Zvmph"
      },
      "execution_count": 1223,
      "outputs": []
    },
    {
      "cell_type": "code",
      "source": [
        "quote_without_stopwords_arr = []\n",
        "\n",
        "for i in range(len(df_dataset['text'])):\n",
        "    quote_without_stopwords = []\n",
        "    for word in data[i]:\n",
        "        if word.casefold() not in stopwords:\n",
        "            quote_without_stopwords.append(word)\n",
        "    quote_without_stopwords_arr.append(quote_without_stopwords)\n",
        "\n",
        "quote_without_stopwords_arr[0]"
      ],
      "metadata": {
        "colab": {
          "base_uri": "https://localhost:8080/"
        },
        "id": "ITpE7-qsv2ZK",
        "outputId": "daae1f9b-5c70-469c-817d-9ef34be27930"
      },
      "execution_count": 1224,
      "outputs": [
        {
          "output_type": "execute_result",
          "data": {
            "text/plain": [
              "['caessar',\n",
              " 'titto',\n",
              " 'semoga',\n",
              " 'aplikasinya',\n",
              " 'cepat',\n",
              " 'diperbaiki',\n",
              " 'aplikasi',\n",
              " 'aplikasi',\n",
              " 'susahkarena',\n",
              " 'udah',\n",
              " 'susah']"
            ]
          },
          "metadata": {},
          "execution_count": 1224
        }
      ]
    },
    {
      "cell_type": "code",
      "source": [
        "df_dataset['processed_text'] = None\n",
        "df_dataset['text_list'] = None\n",
        "for i in range(len(df_dataset['text'])):\n",
        "    df_dataset['processed_text'][i] = ' '.join(quote_without_stopwords_arr[i])\n",
        "    df_dataset['text_list'][i] = quote_without_stopwords_arr[i]"
      ],
      "metadata": {
        "colab": {
          "base_uri": "https://localhost:8080/"
        },
        "id": "5afCyBKI0pBz",
        "outputId": "c26b31e8-3b69-4725-e124-ad6e573e4ad1"
      },
      "execution_count": 1225,
      "outputs": [
        {
          "output_type": "stream",
          "name": "stderr",
          "text": [
            "<ipython-input-1225-547eb24a6d32>:4: SettingWithCopyWarning: \n",
            "A value is trying to be set on a copy of a slice from a DataFrame\n",
            "\n",
            "See the caveats in the documentation: https://pandas.pydata.org/pandas-docs/stable/user_guide/indexing.html#returning-a-view-versus-a-copy\n",
            "  df_dataset['processed_text'][i] = ' '.join(quote_without_stopwords_arr[i])\n",
            "<ipython-input-1225-547eb24a6d32>:5: SettingWithCopyWarning: \n",
            "A value is trying to be set on a copy of a slice from a DataFrame\n",
            "\n",
            "See the caveats in the documentation: https://pandas.pydata.org/pandas-docs/stable/user_guide/indexing.html#returning-a-view-versus-a-copy\n",
            "  df_dataset['text_list'][i] = quote_without_stopwords_arr[i]\n"
          ]
        }
      ]
    },
    {
      "cell_type": "code",
      "source": [
        "df_dataset.head()"
      ],
      "metadata": {
        "colab": {
          "base_uri": "https://localhost:8080/",
          "height": 337
        },
        "id": "WxE8dq_X1-u2",
        "outputId": "f31c0ae2-4e3a-4aeb-9d5b-f12c2db82168"
      },
      "execution_count": 1226,
      "outputs": [
        {
          "output_type": "execute_result",
          "data": {
            "text/plain": [
              "                                                text  Sentimen  \\\n",
              "0  caessar titto                  semoga aplikasi...         1   \n",
              "1  dimas aulia rahman                  aplikasi a...         1   \n",
              "2  batterfly                     ntah laah susah ...         0   \n",
              "3  keyaan channel                   selevel negar...         0   \n",
              "4  karya saputra                  maaf kasih   bn...         0   \n",
              "\n",
              "                                      processed_text  \\\n",
              "0  caessar titto semoga aplikasinya cepat diperba...   \n",
              "1            dimas aulia rahman aplikasi nik terbaca   \n",
              "2           batterfly ntah laah susah jelaskanribeet   \n",
              "3  keyaan channel selevel negara g bikin aplikasi...   \n",
              "4  karya saputra maaf kasih bntng karna ga epekti...   \n",
              "\n",
              "                                           text_list  \n",
              "0  [caessar, titto, semoga, aplikasinya, cepat, d...  \n",
              "1     [dimas, aulia, rahman, aplikasi, nik, terbaca]  \n",
              "2     [batterfly, ntah, laah, susah, jelaskanribeet]  \n",
              "3  [keyaan, channel, selevel, negara, g, bikin, a...  \n",
              "4  [karya, saputra, maaf, kasih, bntng, karna, ga...  "
            ],
            "text/html": [
              "\n",
              "  <div id=\"df-811d662e-032c-4867-9ec8-ab9d8ec66a65\">\n",
              "    <div class=\"colab-df-container\">\n",
              "      <div>\n",
              "<style scoped>\n",
              "    .dataframe tbody tr th:only-of-type {\n",
              "        vertical-align: middle;\n",
              "    }\n",
              "\n",
              "    .dataframe tbody tr th {\n",
              "        vertical-align: top;\n",
              "    }\n",
              "\n",
              "    .dataframe thead th {\n",
              "        text-align: right;\n",
              "    }\n",
              "</style>\n",
              "<table border=\"1\" class=\"dataframe\">\n",
              "  <thead>\n",
              "    <tr style=\"text-align: right;\">\n",
              "      <th></th>\n",
              "      <th>text</th>\n",
              "      <th>Sentimen</th>\n",
              "      <th>processed_text</th>\n",
              "      <th>text_list</th>\n",
              "    </tr>\n",
              "  </thead>\n",
              "  <tbody>\n",
              "    <tr>\n",
              "      <th>0</th>\n",
              "      <td>caessar titto                  semoga aplikasi...</td>\n",
              "      <td>1</td>\n",
              "      <td>caessar titto semoga aplikasinya cepat diperba...</td>\n",
              "      <td>[caessar, titto, semoga, aplikasinya, cepat, d...</td>\n",
              "    </tr>\n",
              "    <tr>\n",
              "      <th>1</th>\n",
              "      <td>dimas aulia rahman                  aplikasi a...</td>\n",
              "      <td>1</td>\n",
              "      <td>dimas aulia rahman aplikasi nik terbaca</td>\n",
              "      <td>[dimas, aulia, rahman, aplikasi, nik, terbaca]</td>\n",
              "    </tr>\n",
              "    <tr>\n",
              "      <th>2</th>\n",
              "      <td>batterfly                     ntah laah susah ...</td>\n",
              "      <td>0</td>\n",
              "      <td>batterfly ntah laah susah jelaskanribeet</td>\n",
              "      <td>[batterfly, ntah, laah, susah, jelaskanribeet]</td>\n",
              "    </tr>\n",
              "    <tr>\n",
              "      <th>3</th>\n",
              "      <td>keyaan channel                   selevel negar...</td>\n",
              "      <td>0</td>\n",
              "      <td>keyaan channel selevel negara g bikin aplikasi...</td>\n",
              "      <td>[keyaan, channel, selevel, negara, g, bikin, a...</td>\n",
              "    </tr>\n",
              "    <tr>\n",
              "      <th>4</th>\n",
              "      <td>karya saputra                  maaf kasih   bn...</td>\n",
              "      <td>0</td>\n",
              "      <td>karya saputra maaf kasih bntng karna ga epekti...</td>\n",
              "      <td>[karya, saputra, maaf, kasih, bntng, karna, ga...</td>\n",
              "    </tr>\n",
              "  </tbody>\n",
              "</table>\n",
              "</div>\n",
              "      <button class=\"colab-df-convert\" onclick=\"convertToInteractive('df-811d662e-032c-4867-9ec8-ab9d8ec66a65')\"\n",
              "              title=\"Convert this dataframe to an interactive table.\"\n",
              "              style=\"display:none;\">\n",
              "        \n",
              "  <svg xmlns=\"http://www.w3.org/2000/svg\" height=\"24px\"viewBox=\"0 0 24 24\"\n",
              "       width=\"24px\">\n",
              "    <path d=\"M0 0h24v24H0V0z\" fill=\"none\"/>\n",
              "    <path d=\"M18.56 5.44l.94 2.06.94-2.06 2.06-.94-2.06-.94-.94-2.06-.94 2.06-2.06.94zm-11 1L8.5 8.5l.94-2.06 2.06-.94-2.06-.94L8.5 2.5l-.94 2.06-2.06.94zm10 10l.94 2.06.94-2.06 2.06-.94-2.06-.94-.94-2.06-.94 2.06-2.06.94z\"/><path d=\"M17.41 7.96l-1.37-1.37c-.4-.4-.92-.59-1.43-.59-.52 0-1.04.2-1.43.59L10.3 9.45l-7.72 7.72c-.78.78-.78 2.05 0 2.83L4 21.41c.39.39.9.59 1.41.59.51 0 1.02-.2 1.41-.59l7.78-7.78 2.81-2.81c.8-.78.8-2.07 0-2.86zM5.41 20L4 18.59l7.72-7.72 1.47 1.35L5.41 20z\"/>\n",
              "  </svg>\n",
              "      </button>\n",
              "      \n",
              "  <style>\n",
              "    .colab-df-container {\n",
              "      display:flex;\n",
              "      flex-wrap:wrap;\n",
              "      gap: 12px;\n",
              "    }\n",
              "\n",
              "    .colab-df-convert {\n",
              "      background-color: #E8F0FE;\n",
              "      border: none;\n",
              "      border-radius: 50%;\n",
              "      cursor: pointer;\n",
              "      display: none;\n",
              "      fill: #1967D2;\n",
              "      height: 32px;\n",
              "      padding: 0 0 0 0;\n",
              "      width: 32px;\n",
              "    }\n",
              "\n",
              "    .colab-df-convert:hover {\n",
              "      background-color: #E2EBFA;\n",
              "      box-shadow: 0px 1px 2px rgba(60, 64, 67, 0.3), 0px 1px 3px 1px rgba(60, 64, 67, 0.15);\n",
              "      fill: #174EA6;\n",
              "    }\n",
              "\n",
              "    [theme=dark] .colab-df-convert {\n",
              "      background-color: #3B4455;\n",
              "      fill: #D2E3FC;\n",
              "    }\n",
              "\n",
              "    [theme=dark] .colab-df-convert:hover {\n",
              "      background-color: #434B5C;\n",
              "      box-shadow: 0px 1px 3px 1px rgba(0, 0, 0, 0.15);\n",
              "      filter: drop-shadow(0px 1px 2px rgba(0, 0, 0, 0.3));\n",
              "      fill: #FFFFFF;\n",
              "    }\n",
              "  </style>\n",
              "\n",
              "      <script>\n",
              "        const buttonEl =\n",
              "          document.querySelector('#df-811d662e-032c-4867-9ec8-ab9d8ec66a65 button.colab-df-convert');\n",
              "        buttonEl.style.display =\n",
              "          google.colab.kernel.accessAllowed ? 'block' : 'none';\n",
              "\n",
              "        async function convertToInteractive(key) {\n",
              "          const element = document.querySelector('#df-811d662e-032c-4867-9ec8-ab9d8ec66a65');\n",
              "          const dataTable =\n",
              "            await google.colab.kernel.invokeFunction('convertToInteractive',\n",
              "                                                     [key], {});\n",
              "          if (!dataTable) return;\n",
              "\n",
              "          const docLinkHtml = 'Like what you see? Visit the ' +\n",
              "            '<a target=\"_blank\" href=https://colab.research.google.com/notebooks/data_table.ipynb>data table notebook</a>'\n",
              "            + ' to learn more about interactive tables.';\n",
              "          element.innerHTML = '';\n",
              "          dataTable['output_type'] = 'display_data';\n",
              "          await google.colab.output.renderOutput(dataTable, element);\n",
              "          const docLink = document.createElement('div');\n",
              "          docLink.innerHTML = docLinkHtml;\n",
              "          element.appendChild(docLink);\n",
              "        }\n",
              "      </script>\n",
              "    </div>\n",
              "  </div>\n",
              "  "
            ]
          },
          "metadata": {},
          "execution_count": 1226
        }
      ]
    },
    {
      "cell_type": "code",
      "source": [
        "def calc_tf(document):\n",
        "    tf_dict = {}\n",
        "    for term in document:\n",
        "        if term in tf_dict:\n",
        "            tf_dict[term] += 1\n",
        "        else:\n",
        "            tf_dict[term] = 1\n",
        "            \n",
        "    for term in tf_dict:\n",
        "        tf_dict[term] = tf_dict[term] / len(document)\n",
        "    return tf_dict\n",
        "\n",
        "df_dataset[\"tf_dict\"] = df_dataset['text_list'].apply(calc_tf)"
      ],
      "metadata": {
        "id": "wKQ4NtYwI_nA"
      },
      "execution_count": 1227,
      "outputs": []
    },
    {
      "cell_type": "code",
      "source": [
        "def calc_df(tfDict):\n",
        "    count_df = {}\n",
        "    for document in tfDict:\n",
        "        for term in document:\n",
        "            if term in count_df:\n",
        "                count_df[term] += 1\n",
        "            else:\n",
        "                count_df[term] = 1\n",
        "    return count_df\n",
        "\n",
        "df = calc_df(quote_without_stopwords_arr)"
      ],
      "metadata": {
        "id": "UG7ZYNpuGxyB"
      },
      "execution_count": 1228,
      "outputs": []
    },
    {
      "cell_type": "code",
      "source": [
        "import numpy as np\n",
        "\n",
        "n_document = len(df_dataset)\n",
        "\n",
        "def calc_idf(n_document, df):\n",
        "    idf_Dict = {}\n",
        "    for term in df:\n",
        "        idf_Dict[term] = np.log(n_document / (df[term] + 1))\n",
        "    return idf_Dict\n",
        "  \n",
        "idf = calc_idf(n_document, df)"
      ],
      "metadata": {
        "id": "fsbzVnJTHZ7n"
      },
      "execution_count": 1229,
      "outputs": []
    },
    {
      "cell_type": "code",
      "source": [
        "def calc_tf_idf(tf):\n",
        "    tf_idf_Dict = {}\n",
        "    for key in tf:\n",
        "        tf_idf_Dict[key] = tf[key] * idf[key]\n",
        "    return tf_idf_Dict\n",
        "\n",
        "df_dataset[\"tf_idf_dict\"] = df_dataset[\"tf_dict\"].apply(calc_tf_idf)"
      ],
      "metadata": {
        "id": "YUiFWYuxIyc5"
      },
      "execution_count": 1230,
      "outputs": []
    },
    {
      "cell_type": "code",
      "source": [
        "df_dataset.head()"
      ],
      "metadata": {
        "colab": {
          "base_uri": "https://localhost:8080/",
          "height": 475
        },
        "id": "NZ00-mvAJXJb",
        "outputId": "051d67a8-2618-42de-9e30-366cceadb636"
      },
      "execution_count": 1231,
      "outputs": [
        {
          "output_type": "execute_result",
          "data": {
            "text/plain": [
              "                                                text  Sentimen  \\\n",
              "0  caessar titto                  semoga aplikasi...         1   \n",
              "1  dimas aulia rahman                  aplikasi a...         1   \n",
              "2  batterfly                     ntah laah susah ...         0   \n",
              "3  keyaan channel                   selevel negar...         0   \n",
              "4  karya saputra                  maaf kasih   bn...         0   \n",
              "\n",
              "                                      processed_text  \\\n",
              "0  caessar titto semoga aplikasinya cepat diperba...   \n",
              "1            dimas aulia rahman aplikasi nik terbaca   \n",
              "2           batterfly ntah laah susah jelaskanribeet   \n",
              "3  keyaan channel selevel negara g bikin aplikasi...   \n",
              "4  karya saputra maaf kasih bntng karna ga epekti...   \n",
              "\n",
              "                                           text_list  \\\n",
              "0  [caessar, titto, semoga, aplikasinya, cepat, d...   \n",
              "1     [dimas, aulia, rahman, aplikasi, nik, terbaca]   \n",
              "2     [batterfly, ntah, laah, susah, jelaskanribeet]   \n",
              "3  [keyaan, channel, selevel, negara, g, bikin, a...   \n",
              "4  [karya, saputra, maaf, kasih, bntng, karna, ga...   \n",
              "\n",
              "                                             tf_dict  \\\n",
              "0  {'caessar': 0.09090909090909091, 'titto': 0.09...   \n",
              "1  {'dimas': 0.16666666666666666, 'aulia': 0.1666...   \n",
              "2  {'batterfly': 0.2, 'ntah': 0.2, 'laah': 0.2, '...   \n",
              "3  {'keyaan': 0.034482758620689655, 'channel': 0....   \n",
              "4  {'karya': 0.08333333333333333, 'saputra': 0.08...   \n",
              "\n",
              "                                         tf_idf_dict  \n",
              "0  {'caessar': 0.40207714810855794, 'titto': 0.40...  \n",
              "1  {'dimas': 0.6520038342380243, 'aulia': 0.80471...  \n",
              "2  {'batterfly': 0.9656627474604603, 'ntah': 0.96...  \n",
              "3  {'keyaan': 0.16649357714835522, 'channel': 0.1...  \n",
              "4  {'karya': 0.4023594781085251, 'saputra': 0.344...  "
            ],
            "text/html": [
              "\n",
              "  <div id=\"df-e0487036-a544-4546-aebe-9432d44147c5\">\n",
              "    <div class=\"colab-df-container\">\n",
              "      <div>\n",
              "<style scoped>\n",
              "    .dataframe tbody tr th:only-of-type {\n",
              "        vertical-align: middle;\n",
              "    }\n",
              "\n",
              "    .dataframe tbody tr th {\n",
              "        vertical-align: top;\n",
              "    }\n",
              "\n",
              "    .dataframe thead th {\n",
              "        text-align: right;\n",
              "    }\n",
              "</style>\n",
              "<table border=\"1\" class=\"dataframe\">\n",
              "  <thead>\n",
              "    <tr style=\"text-align: right;\">\n",
              "      <th></th>\n",
              "      <th>text</th>\n",
              "      <th>Sentimen</th>\n",
              "      <th>processed_text</th>\n",
              "      <th>text_list</th>\n",
              "      <th>tf_dict</th>\n",
              "      <th>tf_idf_dict</th>\n",
              "    </tr>\n",
              "  </thead>\n",
              "  <tbody>\n",
              "    <tr>\n",
              "      <th>0</th>\n",
              "      <td>caessar titto                  semoga aplikasi...</td>\n",
              "      <td>1</td>\n",
              "      <td>caessar titto semoga aplikasinya cepat diperba...</td>\n",
              "      <td>[caessar, titto, semoga, aplikasinya, cepat, d...</td>\n",
              "      <td>{'caessar': 0.09090909090909091, 'titto': 0.09...</td>\n",
              "      <td>{'caessar': 0.40207714810855794, 'titto': 0.40...</td>\n",
              "    </tr>\n",
              "    <tr>\n",
              "      <th>1</th>\n",
              "      <td>dimas aulia rahman                  aplikasi a...</td>\n",
              "      <td>1</td>\n",
              "      <td>dimas aulia rahman aplikasi nik terbaca</td>\n",
              "      <td>[dimas, aulia, rahman, aplikasi, nik, terbaca]</td>\n",
              "      <td>{'dimas': 0.16666666666666666, 'aulia': 0.1666...</td>\n",
              "      <td>{'dimas': 0.6520038342380243, 'aulia': 0.80471...</td>\n",
              "    </tr>\n",
              "    <tr>\n",
              "      <th>2</th>\n",
              "      <td>batterfly                     ntah laah susah ...</td>\n",
              "      <td>0</td>\n",
              "      <td>batterfly ntah laah susah jelaskanribeet</td>\n",
              "      <td>[batterfly, ntah, laah, susah, jelaskanribeet]</td>\n",
              "      <td>{'batterfly': 0.2, 'ntah': 0.2, 'laah': 0.2, '...</td>\n",
              "      <td>{'batterfly': 0.9656627474604603, 'ntah': 0.96...</td>\n",
              "    </tr>\n",
              "    <tr>\n",
              "      <th>3</th>\n",
              "      <td>keyaan channel                   selevel negar...</td>\n",
              "      <td>0</td>\n",
              "      <td>keyaan channel selevel negara g bikin aplikasi...</td>\n",
              "      <td>[keyaan, channel, selevel, negara, g, bikin, a...</td>\n",
              "      <td>{'keyaan': 0.034482758620689655, 'channel': 0....</td>\n",
              "      <td>{'keyaan': 0.16649357714835522, 'channel': 0.1...</td>\n",
              "    </tr>\n",
              "    <tr>\n",
              "      <th>4</th>\n",
              "      <td>karya saputra                  maaf kasih   bn...</td>\n",
              "      <td>0</td>\n",
              "      <td>karya saputra maaf kasih bntng karna ga epekti...</td>\n",
              "      <td>[karya, saputra, maaf, kasih, bntng, karna, ga...</td>\n",
              "      <td>{'karya': 0.08333333333333333, 'saputra': 0.08...</td>\n",
              "      <td>{'karya': 0.4023594781085251, 'saputra': 0.344...</td>\n",
              "    </tr>\n",
              "  </tbody>\n",
              "</table>\n",
              "</div>\n",
              "      <button class=\"colab-df-convert\" onclick=\"convertToInteractive('df-e0487036-a544-4546-aebe-9432d44147c5')\"\n",
              "              title=\"Convert this dataframe to an interactive table.\"\n",
              "              style=\"display:none;\">\n",
              "        \n",
              "  <svg xmlns=\"http://www.w3.org/2000/svg\" height=\"24px\"viewBox=\"0 0 24 24\"\n",
              "       width=\"24px\">\n",
              "    <path d=\"M0 0h24v24H0V0z\" fill=\"none\"/>\n",
              "    <path d=\"M18.56 5.44l.94 2.06.94-2.06 2.06-.94-2.06-.94-.94-2.06-.94 2.06-2.06.94zm-11 1L8.5 8.5l.94-2.06 2.06-.94-2.06-.94L8.5 2.5l-.94 2.06-2.06.94zm10 10l.94 2.06.94-2.06 2.06-.94-2.06-.94-.94-2.06-.94 2.06-2.06.94z\"/><path d=\"M17.41 7.96l-1.37-1.37c-.4-.4-.92-.59-1.43-.59-.52 0-1.04.2-1.43.59L10.3 9.45l-7.72 7.72c-.78.78-.78 2.05 0 2.83L4 21.41c.39.39.9.59 1.41.59.51 0 1.02-.2 1.41-.59l7.78-7.78 2.81-2.81c.8-.78.8-2.07 0-2.86zM5.41 20L4 18.59l7.72-7.72 1.47 1.35L5.41 20z\"/>\n",
              "  </svg>\n",
              "      </button>\n",
              "      \n",
              "  <style>\n",
              "    .colab-df-container {\n",
              "      display:flex;\n",
              "      flex-wrap:wrap;\n",
              "      gap: 12px;\n",
              "    }\n",
              "\n",
              "    .colab-df-convert {\n",
              "      background-color: #E8F0FE;\n",
              "      border: none;\n",
              "      border-radius: 50%;\n",
              "      cursor: pointer;\n",
              "      display: none;\n",
              "      fill: #1967D2;\n",
              "      height: 32px;\n",
              "      padding: 0 0 0 0;\n",
              "      width: 32px;\n",
              "    }\n",
              "\n",
              "    .colab-df-convert:hover {\n",
              "      background-color: #E2EBFA;\n",
              "      box-shadow: 0px 1px 2px rgba(60, 64, 67, 0.3), 0px 1px 3px 1px rgba(60, 64, 67, 0.15);\n",
              "      fill: #174EA6;\n",
              "    }\n",
              "\n",
              "    [theme=dark] .colab-df-convert {\n",
              "      background-color: #3B4455;\n",
              "      fill: #D2E3FC;\n",
              "    }\n",
              "\n",
              "    [theme=dark] .colab-df-convert:hover {\n",
              "      background-color: #434B5C;\n",
              "      box-shadow: 0px 1px 3px 1px rgba(0, 0, 0, 0.15);\n",
              "      filter: drop-shadow(0px 1px 2px rgba(0, 0, 0, 0.3));\n",
              "      fill: #FFFFFF;\n",
              "    }\n",
              "  </style>\n",
              "\n",
              "      <script>\n",
              "        const buttonEl =\n",
              "          document.querySelector('#df-e0487036-a544-4546-aebe-9432d44147c5 button.colab-df-convert');\n",
              "        buttonEl.style.display =\n",
              "          google.colab.kernel.accessAllowed ? 'block' : 'none';\n",
              "\n",
              "        async function convertToInteractive(key) {\n",
              "          const element = document.querySelector('#df-e0487036-a544-4546-aebe-9432d44147c5');\n",
              "          const dataTable =\n",
              "            await google.colab.kernel.invokeFunction('convertToInteractive',\n",
              "                                                     [key], {});\n",
              "          if (!dataTable) return;\n",
              "\n",
              "          const docLinkHtml = 'Like what you see? Visit the ' +\n",
              "            '<a target=\"_blank\" href=https://colab.research.google.com/notebooks/data_table.ipynb>data table notebook</a>'\n",
              "            + ' to learn more about interactive tables.';\n",
              "          element.innerHTML = '';\n",
              "          dataTable['output_type'] = 'display_data';\n",
              "          await google.colab.output.renderOutput(dataTable, element);\n",
              "          const docLink = document.createElement('div');\n",
              "          docLink.innerHTML = docLinkHtml;\n",
              "          element.appendChild(docLink);\n",
              "        }\n",
              "      </script>\n",
              "    </div>\n",
              "  </div>\n",
              "  "
            ]
          },
          "metadata": {},
          "execution_count": 1231
        }
      ]
    },
    {
      "cell_type": "code",
      "source": [
        "feature = 50\n",
        "sorted_df = sorted(df.items(), key=lambda kv: kv[1], reverse=True)[:feature]\n",
        "\n",
        "unique_term = [item[0] for item in sorted_df]\n",
        "\n",
        "def calc_tf_idf_vec(tf_idf_dict):\n",
        "    tf_idf_vector = [0.0] * len(unique_term)\n",
        "\n",
        "    for i, term in enumerate(unique_term):\n",
        "        if term in tf_idf_dict:\n",
        "            tf_idf_vector[i] = tf_idf_dict[term]\n",
        "    return tf_idf_vector\n",
        "\n",
        "df_dataset[\"tf_idf_vec\"] = df_dataset[\"tf_idf_dict\"].apply(calc_tf_idf_vec)\n",
        "\n",
        "print(\"Sort\")\n",
        "print(sorted_df)\n",
        "print(\"print first row matrix tf_idf_vec Series\\n\")\n",
        "print(df_dataset[\"tf_idf_vec\"][0])\n",
        "\n",
        "print(\"\\nmatrix size : \", len(df_dataset[\"tf_idf_vec\"][0]))"
      ],
      "metadata": {
        "colab": {
          "base_uri": "https://localhost:8080/"
        },
        "id": "zxpFN8CcJo27",
        "outputId": "2dc64428-8bc9-4590-a9a8-92b896e5aff3"
      },
      "execution_count": 1232,
      "outputs": [
        {
          "output_type": "stream",
          "name": "stdout",
          "text": [
            "Sort\n",
            "[('aplikasi', 118), ('yg', 58), ('nya', 46), ('daftar', 45), ('aja', 39), ('susah', 34), ('pertamina', 33), ('gak', 32), ('data', 28), ('udah', 27), ('bikin', 27), ('bagus', 27), ('ribet', 26), ('ga', 25), ('spbu', 25), ('bbm', 23), ('hp', 21), ('mypertamina', 21), ('subsidi', 21), ('my', 19), ('rakyat', 18), ('aplikasinya', 16), ('beli', 16), ('pakai', 16), ('isi', 15), ('masyarakat', 15), ('ya', 15), ('d', 15), ('kasih', 14), ('orang', 14), ('pake', 14), ('pembayaran', 14), ('masuk', 13), ('apk', 13), ('mempersulit', 12), ('hidup', 12), ('bensin', 12), ('sdh', 11), ('banget', 11), ('mudah', 11), ('semoga', 10), ('g', 10), ('login', 10), ('salah', 10), ('link', 10), ('bintang', 10), ('kendaraan', 10), ('android', 10), ('app', 9), ('coba', 9)]\n",
            "print first row matrix tf_idf_vec Series\n",
            "\n",
            "[0.13497044086376675, 0.0, 0.0, 0.0, 0.0, 0.17873753239753026, 0.0, 0.0, 0.0, 0.19902330978973115, 0.0, 0.0, 0.0, 0.0, 0.0, 0.0, 0.0, 0.0, 0.0, 0.0, 0.0, 0.2443861430732755, 0.0, 0.0, 0.0, 0.0, 0.0, 0.0, 0.0, 0.0, 0.0, 0.0, 0.0, 0.0, 0.0, 0.0, 0.0, 0.0, 0.0, 0.0, 0.2839605131876251, 0.0, 0.0, 0.0, 0.0, 0.0, 0.0, 0.0, 0.0, 0.0]\n",
            "\n",
            "matrix size :  50\n"
          ]
        }
      ]
    },
    {
      "cell_type": "code",
      "source": [
        "df_dataset.head()"
      ],
      "metadata": {
        "colab": {
          "base_uri": "https://localhost:8080/",
          "height": 582
        },
        "id": "QnZiUfsvLcsO",
        "outputId": "1bde53e3-178d-4b1b-f0b3-d5b2f54d89e7"
      },
      "execution_count": 1233,
      "outputs": [
        {
          "output_type": "execute_result",
          "data": {
            "text/plain": [
              "                                                text  Sentimen  \\\n",
              "0  caessar titto                  semoga aplikasi...         1   \n",
              "1  dimas aulia rahman                  aplikasi a...         1   \n",
              "2  batterfly                     ntah laah susah ...         0   \n",
              "3  keyaan channel                   selevel negar...         0   \n",
              "4  karya saputra                  maaf kasih   bn...         0   \n",
              "\n",
              "                                      processed_text  \\\n",
              "0  caessar titto semoga aplikasinya cepat diperba...   \n",
              "1            dimas aulia rahman aplikasi nik terbaca   \n",
              "2           batterfly ntah laah susah jelaskanribeet   \n",
              "3  keyaan channel selevel negara g bikin aplikasi...   \n",
              "4  karya saputra maaf kasih bntng karna ga epekti...   \n",
              "\n",
              "                                           text_list  \\\n",
              "0  [caessar, titto, semoga, aplikasinya, cepat, d...   \n",
              "1     [dimas, aulia, rahman, aplikasi, nik, terbaca]   \n",
              "2     [batterfly, ntah, laah, susah, jelaskanribeet]   \n",
              "3  [keyaan, channel, selevel, negara, g, bikin, a...   \n",
              "4  [karya, saputra, maaf, kasih, bntng, karna, ga...   \n",
              "\n",
              "                                             tf_dict  \\\n",
              "0  {'caessar': 0.09090909090909091, 'titto': 0.09...   \n",
              "1  {'dimas': 0.16666666666666666, 'aulia': 0.1666...   \n",
              "2  {'batterfly': 0.2, 'ntah': 0.2, 'laah': 0.2, '...   \n",
              "3  {'keyaan': 0.034482758620689655, 'channel': 0....   \n",
              "4  {'karya': 0.08333333333333333, 'saputra': 0.08...   \n",
              "\n",
              "                                         tf_idf_dict  \\\n",
              "0  {'caessar': 0.40207714810855794, 'titto': 0.40...   \n",
              "1  {'dimas': 0.6520038342380243, 'aulia': 0.80471...   \n",
              "2  {'batterfly': 0.9656627474604603, 'ntah': 0.96...   \n",
              "3  {'keyaan': 0.16649357714835522, 'channel': 0.1...   \n",
              "4  {'karya': 0.4023594781085251, 'saputra': 0.344...   \n",
              "\n",
              "                                          tf_idf_vec  \n",
              "0  [0.13497044086376675, 0.0, 0.0, 0.0, 0.0, 0.17...  \n",
              "1  [0.1237229041251195, 0.0, 0.0, 0.0, 0.0, 0.0, ...  \n",
              "2  [0.0, 0.0, 0.0, 0.0, 0.0, 0.39322257127456656,...  \n",
              "3  [0.025597842232783347, 0.04979046461919059, 0....  \n",
              "4  [0.0, 0.0, 0.0, 0.14106829344776262, 0.0, 0.16...  "
            ],
            "text/html": [
              "\n",
              "  <div id=\"df-59522114-020a-494e-8c0d-f65778fc7e77\">\n",
              "    <div class=\"colab-df-container\">\n",
              "      <div>\n",
              "<style scoped>\n",
              "    .dataframe tbody tr th:only-of-type {\n",
              "        vertical-align: middle;\n",
              "    }\n",
              "\n",
              "    .dataframe tbody tr th {\n",
              "        vertical-align: top;\n",
              "    }\n",
              "\n",
              "    .dataframe thead th {\n",
              "        text-align: right;\n",
              "    }\n",
              "</style>\n",
              "<table border=\"1\" class=\"dataframe\">\n",
              "  <thead>\n",
              "    <tr style=\"text-align: right;\">\n",
              "      <th></th>\n",
              "      <th>text</th>\n",
              "      <th>Sentimen</th>\n",
              "      <th>processed_text</th>\n",
              "      <th>text_list</th>\n",
              "      <th>tf_dict</th>\n",
              "      <th>tf_idf_dict</th>\n",
              "      <th>tf_idf_vec</th>\n",
              "    </tr>\n",
              "  </thead>\n",
              "  <tbody>\n",
              "    <tr>\n",
              "      <th>0</th>\n",
              "      <td>caessar titto                  semoga aplikasi...</td>\n",
              "      <td>1</td>\n",
              "      <td>caessar titto semoga aplikasinya cepat diperba...</td>\n",
              "      <td>[caessar, titto, semoga, aplikasinya, cepat, d...</td>\n",
              "      <td>{'caessar': 0.09090909090909091, 'titto': 0.09...</td>\n",
              "      <td>{'caessar': 0.40207714810855794, 'titto': 0.40...</td>\n",
              "      <td>[0.13497044086376675, 0.0, 0.0, 0.0, 0.0, 0.17...</td>\n",
              "    </tr>\n",
              "    <tr>\n",
              "      <th>1</th>\n",
              "      <td>dimas aulia rahman                  aplikasi a...</td>\n",
              "      <td>1</td>\n",
              "      <td>dimas aulia rahman aplikasi nik terbaca</td>\n",
              "      <td>[dimas, aulia, rahman, aplikasi, nik, terbaca]</td>\n",
              "      <td>{'dimas': 0.16666666666666666, 'aulia': 0.1666...</td>\n",
              "      <td>{'dimas': 0.6520038342380243, 'aulia': 0.80471...</td>\n",
              "      <td>[0.1237229041251195, 0.0, 0.0, 0.0, 0.0, 0.0, ...</td>\n",
              "    </tr>\n",
              "    <tr>\n",
              "      <th>2</th>\n",
              "      <td>batterfly                     ntah laah susah ...</td>\n",
              "      <td>0</td>\n",
              "      <td>batterfly ntah laah susah jelaskanribeet</td>\n",
              "      <td>[batterfly, ntah, laah, susah, jelaskanribeet]</td>\n",
              "      <td>{'batterfly': 0.2, 'ntah': 0.2, 'laah': 0.2, '...</td>\n",
              "      <td>{'batterfly': 0.9656627474604603, 'ntah': 0.96...</td>\n",
              "      <td>[0.0, 0.0, 0.0, 0.0, 0.0, 0.39322257127456656,...</td>\n",
              "    </tr>\n",
              "    <tr>\n",
              "      <th>3</th>\n",
              "      <td>keyaan channel                   selevel negar...</td>\n",
              "      <td>0</td>\n",
              "      <td>keyaan channel selevel negara g bikin aplikasi...</td>\n",
              "      <td>[keyaan, channel, selevel, negara, g, bikin, a...</td>\n",
              "      <td>{'keyaan': 0.034482758620689655, 'channel': 0....</td>\n",
              "      <td>{'keyaan': 0.16649357714835522, 'channel': 0.1...</td>\n",
              "      <td>[0.025597842232783347, 0.04979046461919059, 0....</td>\n",
              "    </tr>\n",
              "    <tr>\n",
              "      <th>4</th>\n",
              "      <td>karya saputra                  maaf kasih   bn...</td>\n",
              "      <td>0</td>\n",
              "      <td>karya saputra maaf kasih bntng karna ga epekti...</td>\n",
              "      <td>[karya, saputra, maaf, kasih, bntng, karna, ga...</td>\n",
              "      <td>{'karya': 0.08333333333333333, 'saputra': 0.08...</td>\n",
              "      <td>{'karya': 0.4023594781085251, 'saputra': 0.344...</td>\n",
              "      <td>[0.0, 0.0, 0.0, 0.14106829344776262, 0.0, 0.16...</td>\n",
              "    </tr>\n",
              "  </tbody>\n",
              "</table>\n",
              "</div>\n",
              "      <button class=\"colab-df-convert\" onclick=\"convertToInteractive('df-59522114-020a-494e-8c0d-f65778fc7e77')\"\n",
              "              title=\"Convert this dataframe to an interactive table.\"\n",
              "              style=\"display:none;\">\n",
              "        \n",
              "  <svg xmlns=\"http://www.w3.org/2000/svg\" height=\"24px\"viewBox=\"0 0 24 24\"\n",
              "       width=\"24px\">\n",
              "    <path d=\"M0 0h24v24H0V0z\" fill=\"none\"/>\n",
              "    <path d=\"M18.56 5.44l.94 2.06.94-2.06 2.06-.94-2.06-.94-.94-2.06-.94 2.06-2.06.94zm-11 1L8.5 8.5l.94-2.06 2.06-.94-2.06-.94L8.5 2.5l-.94 2.06-2.06.94zm10 10l.94 2.06.94-2.06 2.06-.94-2.06-.94-.94-2.06-.94 2.06-2.06.94z\"/><path d=\"M17.41 7.96l-1.37-1.37c-.4-.4-.92-.59-1.43-.59-.52 0-1.04.2-1.43.59L10.3 9.45l-7.72 7.72c-.78.78-.78 2.05 0 2.83L4 21.41c.39.39.9.59 1.41.59.51 0 1.02-.2 1.41-.59l7.78-7.78 2.81-2.81c.8-.78.8-2.07 0-2.86zM5.41 20L4 18.59l7.72-7.72 1.47 1.35L5.41 20z\"/>\n",
              "  </svg>\n",
              "      </button>\n",
              "      \n",
              "  <style>\n",
              "    .colab-df-container {\n",
              "      display:flex;\n",
              "      flex-wrap:wrap;\n",
              "      gap: 12px;\n",
              "    }\n",
              "\n",
              "    .colab-df-convert {\n",
              "      background-color: #E8F0FE;\n",
              "      border: none;\n",
              "      border-radius: 50%;\n",
              "      cursor: pointer;\n",
              "      display: none;\n",
              "      fill: #1967D2;\n",
              "      height: 32px;\n",
              "      padding: 0 0 0 0;\n",
              "      width: 32px;\n",
              "    }\n",
              "\n",
              "    .colab-df-convert:hover {\n",
              "      background-color: #E2EBFA;\n",
              "      box-shadow: 0px 1px 2px rgba(60, 64, 67, 0.3), 0px 1px 3px 1px rgba(60, 64, 67, 0.15);\n",
              "      fill: #174EA6;\n",
              "    }\n",
              "\n",
              "    [theme=dark] .colab-df-convert {\n",
              "      background-color: #3B4455;\n",
              "      fill: #D2E3FC;\n",
              "    }\n",
              "\n",
              "    [theme=dark] .colab-df-convert:hover {\n",
              "      background-color: #434B5C;\n",
              "      box-shadow: 0px 1px 3px 1px rgba(0, 0, 0, 0.15);\n",
              "      filter: drop-shadow(0px 1px 2px rgba(0, 0, 0, 0.3));\n",
              "      fill: #FFFFFF;\n",
              "    }\n",
              "  </style>\n",
              "\n",
              "      <script>\n",
              "        const buttonEl =\n",
              "          document.querySelector('#df-59522114-020a-494e-8c0d-f65778fc7e77 button.colab-df-convert');\n",
              "        buttonEl.style.display =\n",
              "          google.colab.kernel.accessAllowed ? 'block' : 'none';\n",
              "\n",
              "        async function convertToInteractive(key) {\n",
              "          const element = document.querySelector('#df-59522114-020a-494e-8c0d-f65778fc7e77');\n",
              "          const dataTable =\n",
              "            await google.colab.kernel.invokeFunction('convertToInteractive',\n",
              "                                                     [key], {});\n",
              "          if (!dataTable) return;\n",
              "\n",
              "          const docLinkHtml = 'Like what you see? Visit the ' +\n",
              "            '<a target=\"_blank\" href=https://colab.research.google.com/notebooks/data_table.ipynb>data table notebook</a>'\n",
              "            + ' to learn more about interactive tables.';\n",
              "          element.innerHTML = '';\n",
              "          dataTable['output_type'] = 'display_data';\n",
              "          await google.colab.output.renderOutput(dataTable, element);\n",
              "          const docLink = document.createElement('div');\n",
              "          docLink.innerHTML = docLinkHtml;\n",
              "          element.appendChild(docLink);\n",
              "        }\n",
              "      </script>\n",
              "    </div>\n",
              "  </div>\n",
              "  "
            ]
          },
          "metadata": {},
          "execution_count": 1233
        }
      ]
    },
    {
      "cell_type": "code",
      "source": [
        "from sklearn.svm import SVC\n",
        "from sklearn.preprocessing import LabelEncoder\n",
        "from sklearn.model_selection import train_test_split\n",
        "from sklearn.metrics import accuracy_score, confusion_matrix, classification_report"
      ],
      "metadata": {
        "id": "B_W3-bi5KAiM"
      },
      "execution_count": 1234,
      "outputs": []
    },
    {
      "cell_type": "code",
      "source": [
        "enc = LabelEncoder()\n",
        "df_dataset['Sentimen'] = enc.fit_transform(df_dataset['Sentimen'].values)\n",
        "cls = df_dataset['Sentimen']\n",
        "cls"
      ],
      "metadata": {
        "colab": {
          "base_uri": "https://localhost:8080/"
        },
        "id": "J1KfPNhlKGWd",
        "outputId": "6aba079a-8d83-4a93-c6ad-cfdfe6c2d7a0"
      },
      "execution_count": 1235,
      "outputs": [
        {
          "output_type": "execute_result",
          "data": {
            "text/plain": [
              "0      1\n",
              "1      1\n",
              "2      0\n",
              "3      0\n",
              "4      0\n",
              "      ..\n",
              "245    1\n",
              "246    1\n",
              "247    0\n",
              "248    1\n",
              "249    0\n",
              "Name: Sentimen, Length: 250, dtype: int64"
            ]
          },
          "metadata": {},
          "execution_count": 1235
        }
      ]
    },
    {
      "cell_type": "code",
      "source": [
        "attrs = df_dataset['tf_idf_vec']\n",
        "attrs"
      ],
      "metadata": {
        "colab": {
          "base_uri": "https://localhost:8080/"
        },
        "id": "2wlM4iJBKUjm",
        "outputId": "3c7ee8dc-aff2-4109-dcaa-14901c6a035b"
      },
      "execution_count": 1236,
      "outputs": [
        {
          "output_type": "execute_result",
          "data": {
            "text/plain": [
              "0      [0.13497044086376675, 0.0, 0.0, 0.0, 0.0, 0.17...\n",
              "1      [0.1237229041251195, 0.0, 0.0, 0.0, 0.0, 0.0, ...\n",
              "2      [0.0, 0.0, 0.0, 0.0, 0.0, 0.39322257127456656,...\n",
              "3      [0.025597842232783347, 0.04979046461919059, 0....\n",
              "4      [0.0, 0.0, 0.0, 0.14106829344776262, 0.0, 0.16...\n",
              "                             ...                        \n",
              "245    [0.0, 0.0, 0.0, 0.0, 0.0, 0.0, 0.0, 0.0, 0.195...\n",
              "246    [0.37116871237535853, 0.0, 0.0, 0.0, 0.0, 0.0,...\n",
              "247    [0.09279217809383963, 0.0, 0.20891416451902348...\n",
              "248    [0.0, 0.20627478199378957, 0.0, 0.0, 0.0, 0.0,...\n",
              "249    [0.0, 0.0, 0.0, 0.0, 0.0, 0.0, 0.0, 0.0, 0.0, ...\n",
              "Name: tf_idf_vec, Length: 250, dtype: object"
            ]
          },
          "metadata": {},
          "execution_count": 1236
        }
      ]
    },
    {
      "cell_type": "code",
      "source": [
        "column_name = []\n",
        "dataset = []\n",
        "\n",
        "for i in range(len(attrs[0])):\n",
        "    column_name.append(\"X\"+str(i))\n",
        "\n",
        "for i in range(len(attrs)):\n",
        "    dataset.append(attrs[i])\n",
        "\n",
        "attr = pd.DataFrame(dataset, columns=column_name)\n",
        "attr"
      ],
      "metadata": {
        "id": "oCZpBoN4L9Yv",
        "colab": {
          "base_uri": "https://localhost:8080/",
          "height": 487
        },
        "outputId": "5eea3b3f-5767-46fa-c57f-c8e818771c85"
      },
      "execution_count": 1237,
      "outputs": [
        {
          "output_type": "execute_result",
          "data": {
            "text/plain": [
              "           X0        X1        X2        X3   X4        X5   X6   X7  \\\n",
              "0    0.134970  0.000000  0.000000  0.000000  0.0  0.178738  0.0  0.0   \n",
              "1    0.123723  0.000000  0.000000  0.000000  0.0  0.000000  0.0  0.0   \n",
              "2    0.000000  0.000000  0.000000  0.000000  0.0  0.393223  0.0  0.0   \n",
              "3    0.025598  0.049790  0.000000  0.000000  0.0  0.000000  0.0  0.0   \n",
              "4    0.000000  0.000000  0.000000  0.141068  0.0  0.163843  0.0  0.0   \n",
              "..        ...       ...       ...       ...  ...       ...  ...  ...   \n",
              "245  0.000000  0.000000  0.000000  0.000000  0.0  0.000000  0.0  0.0   \n",
              "246  0.371169  0.000000  0.000000  0.000000  0.0  0.000000  0.0  0.0   \n",
              "247  0.092792  0.000000  0.208914  0.000000  0.0  0.000000  0.0  0.0   \n",
              "248  0.000000  0.206275  0.000000  0.000000  0.0  0.000000  0.0  0.0   \n",
              "249  0.000000  0.000000  0.000000  0.000000  0.0  0.000000  0.0  0.0   \n",
              "\n",
              "           X8        X9  ...       X40       X41       X42       X43  X44  \\\n",
              "0    0.000000  0.199023  ...  0.283961  0.000000  0.000000  0.000000  0.0   \n",
              "1    0.000000  0.000000  ...  0.000000  0.000000  0.000000  0.000000  0.0   \n",
              "2    0.000000  0.000000  ...  0.000000  0.000000  0.000000  0.000000  0.0   \n",
              "3    0.000000  0.075492  ...  0.000000  0.430837  0.107709  0.107709  0.0   \n",
              "4    0.000000  0.000000  ...  0.000000  0.000000  0.000000  0.000000  0.0   \n",
              "..        ...       ...  ...       ...       ...       ...       ...  ...   \n",
              "245  0.195833  0.000000  ...  0.000000  0.000000  0.000000  0.000000  0.0   \n",
              "246  0.000000  0.000000  ...  0.000000  0.000000  0.000000  0.000000  0.0   \n",
              "247  0.000000  0.000000  ...  0.000000  0.000000  0.000000  0.000000  0.0   \n",
              "248  0.000000  0.000000  ...  0.000000  0.000000  0.000000  0.000000  0.0   \n",
              "249  0.000000  0.000000  ...  0.000000  0.000000  0.000000  0.000000  0.0   \n",
              "\n",
              "     X45  X46  X47  X48  X49  \n",
              "0    0.0  0.0  0.0  0.0  0.0  \n",
              "1    0.0  0.0  0.0  0.0  0.0  \n",
              "2    0.0  0.0  0.0  0.0  0.0  \n",
              "3    0.0  0.0  0.0  0.0  0.0  \n",
              "4    0.0  0.0  0.0  0.0  0.0  \n",
              "..   ...  ...  ...  ...  ...  \n",
              "245  0.0  0.0  0.0  0.0  0.0  \n",
              "246  0.0  0.0  0.0  0.0  0.0  \n",
              "247  0.0  0.0  0.0  0.0  0.0  \n",
              "248  0.0  0.0  0.0  0.0  0.0  \n",
              "249  0.0  0.0  0.0  0.0  0.0  \n",
              "\n",
              "[250 rows x 50 columns]"
            ],
            "text/html": [
              "\n",
              "  <div id=\"df-7de14810-d1dd-4a3e-8e99-5d797f4054a1\">\n",
              "    <div class=\"colab-df-container\">\n",
              "      <div>\n",
              "<style scoped>\n",
              "    .dataframe tbody tr th:only-of-type {\n",
              "        vertical-align: middle;\n",
              "    }\n",
              "\n",
              "    .dataframe tbody tr th {\n",
              "        vertical-align: top;\n",
              "    }\n",
              "\n",
              "    .dataframe thead th {\n",
              "        text-align: right;\n",
              "    }\n",
              "</style>\n",
              "<table border=\"1\" class=\"dataframe\">\n",
              "  <thead>\n",
              "    <tr style=\"text-align: right;\">\n",
              "      <th></th>\n",
              "      <th>X0</th>\n",
              "      <th>X1</th>\n",
              "      <th>X2</th>\n",
              "      <th>X3</th>\n",
              "      <th>X4</th>\n",
              "      <th>X5</th>\n",
              "      <th>X6</th>\n",
              "      <th>X7</th>\n",
              "      <th>X8</th>\n",
              "      <th>X9</th>\n",
              "      <th>...</th>\n",
              "      <th>X40</th>\n",
              "      <th>X41</th>\n",
              "      <th>X42</th>\n",
              "      <th>X43</th>\n",
              "      <th>X44</th>\n",
              "      <th>X45</th>\n",
              "      <th>X46</th>\n",
              "      <th>X47</th>\n",
              "      <th>X48</th>\n",
              "      <th>X49</th>\n",
              "    </tr>\n",
              "  </thead>\n",
              "  <tbody>\n",
              "    <tr>\n",
              "      <th>0</th>\n",
              "      <td>0.134970</td>\n",
              "      <td>0.000000</td>\n",
              "      <td>0.000000</td>\n",
              "      <td>0.000000</td>\n",
              "      <td>0.0</td>\n",
              "      <td>0.178738</td>\n",
              "      <td>0.0</td>\n",
              "      <td>0.0</td>\n",
              "      <td>0.000000</td>\n",
              "      <td>0.199023</td>\n",
              "      <td>...</td>\n",
              "      <td>0.283961</td>\n",
              "      <td>0.000000</td>\n",
              "      <td>0.000000</td>\n",
              "      <td>0.000000</td>\n",
              "      <td>0.0</td>\n",
              "      <td>0.0</td>\n",
              "      <td>0.0</td>\n",
              "      <td>0.0</td>\n",
              "      <td>0.0</td>\n",
              "      <td>0.0</td>\n",
              "    </tr>\n",
              "    <tr>\n",
              "      <th>1</th>\n",
              "      <td>0.123723</td>\n",
              "      <td>0.000000</td>\n",
              "      <td>0.000000</td>\n",
              "      <td>0.000000</td>\n",
              "      <td>0.0</td>\n",
              "      <td>0.000000</td>\n",
              "      <td>0.0</td>\n",
              "      <td>0.0</td>\n",
              "      <td>0.000000</td>\n",
              "      <td>0.000000</td>\n",
              "      <td>...</td>\n",
              "      <td>0.000000</td>\n",
              "      <td>0.000000</td>\n",
              "      <td>0.000000</td>\n",
              "      <td>0.000000</td>\n",
              "      <td>0.0</td>\n",
              "      <td>0.0</td>\n",
              "      <td>0.0</td>\n",
              "      <td>0.0</td>\n",
              "      <td>0.0</td>\n",
              "      <td>0.0</td>\n",
              "    </tr>\n",
              "    <tr>\n",
              "      <th>2</th>\n",
              "      <td>0.000000</td>\n",
              "      <td>0.000000</td>\n",
              "      <td>0.000000</td>\n",
              "      <td>0.000000</td>\n",
              "      <td>0.0</td>\n",
              "      <td>0.393223</td>\n",
              "      <td>0.0</td>\n",
              "      <td>0.0</td>\n",
              "      <td>0.000000</td>\n",
              "      <td>0.000000</td>\n",
              "      <td>...</td>\n",
              "      <td>0.000000</td>\n",
              "      <td>0.000000</td>\n",
              "      <td>0.000000</td>\n",
              "      <td>0.000000</td>\n",
              "      <td>0.0</td>\n",
              "      <td>0.0</td>\n",
              "      <td>0.0</td>\n",
              "      <td>0.0</td>\n",
              "      <td>0.0</td>\n",
              "      <td>0.0</td>\n",
              "    </tr>\n",
              "    <tr>\n",
              "      <th>3</th>\n",
              "      <td>0.025598</td>\n",
              "      <td>0.049790</td>\n",
              "      <td>0.000000</td>\n",
              "      <td>0.000000</td>\n",
              "      <td>0.0</td>\n",
              "      <td>0.000000</td>\n",
              "      <td>0.0</td>\n",
              "      <td>0.0</td>\n",
              "      <td>0.000000</td>\n",
              "      <td>0.075492</td>\n",
              "      <td>...</td>\n",
              "      <td>0.000000</td>\n",
              "      <td>0.430837</td>\n",
              "      <td>0.107709</td>\n",
              "      <td>0.107709</td>\n",
              "      <td>0.0</td>\n",
              "      <td>0.0</td>\n",
              "      <td>0.0</td>\n",
              "      <td>0.0</td>\n",
              "      <td>0.0</td>\n",
              "      <td>0.0</td>\n",
              "    </tr>\n",
              "    <tr>\n",
              "      <th>4</th>\n",
              "      <td>0.000000</td>\n",
              "      <td>0.000000</td>\n",
              "      <td>0.000000</td>\n",
              "      <td>0.141068</td>\n",
              "      <td>0.0</td>\n",
              "      <td>0.163843</td>\n",
              "      <td>0.0</td>\n",
              "      <td>0.0</td>\n",
              "      <td>0.000000</td>\n",
              "      <td>0.000000</td>\n",
              "      <td>...</td>\n",
              "      <td>0.000000</td>\n",
              "      <td>0.000000</td>\n",
              "      <td>0.000000</td>\n",
              "      <td>0.000000</td>\n",
              "      <td>0.0</td>\n",
              "      <td>0.0</td>\n",
              "      <td>0.0</td>\n",
              "      <td>0.0</td>\n",
              "      <td>0.0</td>\n",
              "      <td>0.0</td>\n",
              "    </tr>\n",
              "    <tr>\n",
              "      <th>...</th>\n",
              "      <td>...</td>\n",
              "      <td>...</td>\n",
              "      <td>...</td>\n",
              "      <td>...</td>\n",
              "      <td>...</td>\n",
              "      <td>...</td>\n",
              "      <td>...</td>\n",
              "      <td>...</td>\n",
              "      <td>...</td>\n",
              "      <td>...</td>\n",
              "      <td>...</td>\n",
              "      <td>...</td>\n",
              "      <td>...</td>\n",
              "      <td>...</td>\n",
              "      <td>...</td>\n",
              "      <td>...</td>\n",
              "      <td>...</td>\n",
              "      <td>...</td>\n",
              "      <td>...</td>\n",
              "      <td>...</td>\n",
              "      <td>...</td>\n",
              "    </tr>\n",
              "    <tr>\n",
              "      <th>245</th>\n",
              "      <td>0.000000</td>\n",
              "      <td>0.000000</td>\n",
              "      <td>0.000000</td>\n",
              "      <td>0.000000</td>\n",
              "      <td>0.0</td>\n",
              "      <td>0.000000</td>\n",
              "      <td>0.0</td>\n",
              "      <td>0.0</td>\n",
              "      <td>0.195833</td>\n",
              "      <td>0.000000</td>\n",
              "      <td>...</td>\n",
              "      <td>0.000000</td>\n",
              "      <td>0.000000</td>\n",
              "      <td>0.000000</td>\n",
              "      <td>0.000000</td>\n",
              "      <td>0.0</td>\n",
              "      <td>0.0</td>\n",
              "      <td>0.0</td>\n",
              "      <td>0.0</td>\n",
              "      <td>0.0</td>\n",
              "      <td>0.0</td>\n",
              "    </tr>\n",
              "    <tr>\n",
              "      <th>246</th>\n",
              "      <td>0.371169</td>\n",
              "      <td>0.000000</td>\n",
              "      <td>0.000000</td>\n",
              "      <td>0.000000</td>\n",
              "      <td>0.0</td>\n",
              "      <td>0.000000</td>\n",
              "      <td>0.0</td>\n",
              "      <td>0.0</td>\n",
              "      <td>0.000000</td>\n",
              "      <td>0.000000</td>\n",
              "      <td>...</td>\n",
              "      <td>0.000000</td>\n",
              "      <td>0.000000</td>\n",
              "      <td>0.000000</td>\n",
              "      <td>0.000000</td>\n",
              "      <td>0.0</td>\n",
              "      <td>0.0</td>\n",
              "      <td>0.0</td>\n",
              "      <td>0.0</td>\n",
              "      <td>0.0</td>\n",
              "      <td>0.0</td>\n",
              "    </tr>\n",
              "    <tr>\n",
              "      <th>247</th>\n",
              "      <td>0.092792</td>\n",
              "      <td>0.000000</td>\n",
              "      <td>0.208914</td>\n",
              "      <td>0.000000</td>\n",
              "      <td>0.0</td>\n",
              "      <td>0.000000</td>\n",
              "      <td>0.0</td>\n",
              "      <td>0.0</td>\n",
              "      <td>0.000000</td>\n",
              "      <td>0.000000</td>\n",
              "      <td>...</td>\n",
              "      <td>0.000000</td>\n",
              "      <td>0.000000</td>\n",
              "      <td>0.000000</td>\n",
              "      <td>0.000000</td>\n",
              "      <td>0.0</td>\n",
              "      <td>0.0</td>\n",
              "      <td>0.0</td>\n",
              "      <td>0.0</td>\n",
              "      <td>0.0</td>\n",
              "      <td>0.0</td>\n",
              "    </tr>\n",
              "    <tr>\n",
              "      <th>248</th>\n",
              "      <td>0.000000</td>\n",
              "      <td>0.206275</td>\n",
              "      <td>0.000000</td>\n",
              "      <td>0.000000</td>\n",
              "      <td>0.0</td>\n",
              "      <td>0.000000</td>\n",
              "      <td>0.0</td>\n",
              "      <td>0.0</td>\n",
              "      <td>0.000000</td>\n",
              "      <td>0.000000</td>\n",
              "      <td>...</td>\n",
              "      <td>0.000000</td>\n",
              "      <td>0.000000</td>\n",
              "      <td>0.000000</td>\n",
              "      <td>0.000000</td>\n",
              "      <td>0.0</td>\n",
              "      <td>0.0</td>\n",
              "      <td>0.0</td>\n",
              "      <td>0.0</td>\n",
              "      <td>0.0</td>\n",
              "      <td>0.0</td>\n",
              "    </tr>\n",
              "    <tr>\n",
              "      <th>249</th>\n",
              "      <td>0.000000</td>\n",
              "      <td>0.000000</td>\n",
              "      <td>0.000000</td>\n",
              "      <td>0.000000</td>\n",
              "      <td>0.0</td>\n",
              "      <td>0.000000</td>\n",
              "      <td>0.0</td>\n",
              "      <td>0.0</td>\n",
              "      <td>0.000000</td>\n",
              "      <td>0.000000</td>\n",
              "      <td>...</td>\n",
              "      <td>0.000000</td>\n",
              "      <td>0.000000</td>\n",
              "      <td>0.000000</td>\n",
              "      <td>0.000000</td>\n",
              "      <td>0.0</td>\n",
              "      <td>0.0</td>\n",
              "      <td>0.0</td>\n",
              "      <td>0.0</td>\n",
              "      <td>0.0</td>\n",
              "      <td>0.0</td>\n",
              "    </tr>\n",
              "  </tbody>\n",
              "</table>\n",
              "<p>250 rows × 50 columns</p>\n",
              "</div>\n",
              "      <button class=\"colab-df-convert\" onclick=\"convertToInteractive('df-7de14810-d1dd-4a3e-8e99-5d797f4054a1')\"\n",
              "              title=\"Convert this dataframe to an interactive table.\"\n",
              "              style=\"display:none;\">\n",
              "        \n",
              "  <svg xmlns=\"http://www.w3.org/2000/svg\" height=\"24px\"viewBox=\"0 0 24 24\"\n",
              "       width=\"24px\">\n",
              "    <path d=\"M0 0h24v24H0V0z\" fill=\"none\"/>\n",
              "    <path d=\"M18.56 5.44l.94 2.06.94-2.06 2.06-.94-2.06-.94-.94-2.06-.94 2.06-2.06.94zm-11 1L8.5 8.5l.94-2.06 2.06-.94-2.06-.94L8.5 2.5l-.94 2.06-2.06.94zm10 10l.94 2.06.94-2.06 2.06-.94-2.06-.94-.94-2.06-.94 2.06-2.06.94z\"/><path d=\"M17.41 7.96l-1.37-1.37c-.4-.4-.92-.59-1.43-.59-.52 0-1.04.2-1.43.59L10.3 9.45l-7.72 7.72c-.78.78-.78 2.05 0 2.83L4 21.41c.39.39.9.59 1.41.59.51 0 1.02-.2 1.41-.59l7.78-7.78 2.81-2.81c.8-.78.8-2.07 0-2.86zM5.41 20L4 18.59l7.72-7.72 1.47 1.35L5.41 20z\"/>\n",
              "  </svg>\n",
              "      </button>\n",
              "      \n",
              "  <style>\n",
              "    .colab-df-container {\n",
              "      display:flex;\n",
              "      flex-wrap:wrap;\n",
              "      gap: 12px;\n",
              "    }\n",
              "\n",
              "    .colab-df-convert {\n",
              "      background-color: #E8F0FE;\n",
              "      border: none;\n",
              "      border-radius: 50%;\n",
              "      cursor: pointer;\n",
              "      display: none;\n",
              "      fill: #1967D2;\n",
              "      height: 32px;\n",
              "      padding: 0 0 0 0;\n",
              "      width: 32px;\n",
              "    }\n",
              "\n",
              "    .colab-df-convert:hover {\n",
              "      background-color: #E2EBFA;\n",
              "      box-shadow: 0px 1px 2px rgba(60, 64, 67, 0.3), 0px 1px 3px 1px rgba(60, 64, 67, 0.15);\n",
              "      fill: #174EA6;\n",
              "    }\n",
              "\n",
              "    [theme=dark] .colab-df-convert {\n",
              "      background-color: #3B4455;\n",
              "      fill: #D2E3FC;\n",
              "    }\n",
              "\n",
              "    [theme=dark] .colab-df-convert:hover {\n",
              "      background-color: #434B5C;\n",
              "      box-shadow: 0px 1px 3px 1px rgba(0, 0, 0, 0.15);\n",
              "      filter: drop-shadow(0px 1px 2px rgba(0, 0, 0, 0.3));\n",
              "      fill: #FFFFFF;\n",
              "    }\n",
              "  </style>\n",
              "\n",
              "      <script>\n",
              "        const buttonEl =\n",
              "          document.querySelector('#df-7de14810-d1dd-4a3e-8e99-5d797f4054a1 button.colab-df-convert');\n",
              "        buttonEl.style.display =\n",
              "          google.colab.kernel.accessAllowed ? 'block' : 'none';\n",
              "\n",
              "        async function convertToInteractive(key) {\n",
              "          const element = document.querySelector('#df-7de14810-d1dd-4a3e-8e99-5d797f4054a1');\n",
              "          const dataTable =\n",
              "            await google.colab.kernel.invokeFunction('convertToInteractive',\n",
              "                                                     [key], {});\n",
              "          if (!dataTable) return;\n",
              "\n",
              "          const docLinkHtml = 'Like what you see? Visit the ' +\n",
              "            '<a target=\"_blank\" href=https://colab.research.google.com/notebooks/data_table.ipynb>data table notebook</a>'\n",
              "            + ' to learn more about interactive tables.';\n",
              "          element.innerHTML = '';\n",
              "          dataTable['output_type'] = 'display_data';\n",
              "          await google.colab.output.renderOutput(dataTable, element);\n",
              "          const docLink = document.createElement('div');\n",
              "          docLink.innerHTML = docLinkHtml;\n",
              "          element.appendChild(docLink);\n",
              "        }\n",
              "      </script>\n",
              "    </div>\n",
              "  </div>\n",
              "  "
            ]
          },
          "metadata": {},
          "execution_count": 1237
        }
      ]
    },
    {
      "cell_type": "code",
      "source": [
        "from sklearn.preprocessing import MinMaxScaler\n",
        "from sklearn.model_selection import KFold\n",
        "\n",
        "kf = KFold(n_splits=5)\n",
        "kf.get_n_splits(attr)\n",
        "x_train_data = [0,0,0,0,0]\n",
        "x_test_data = [0,0,0,0,0]\n",
        "y_train_data = [0,0,0,0,0]\n",
        "y_test_data = [0,0,0,0,0]\n",
        "for i, (train_index, test_index) in enumerate(kf.split(attr)):\n",
        "    # x_train, x_test, y_train, y_test = train_test_split(attr, cls, test_size = 0.2)\n",
        "    x_train , x_test = attr.iloc[train_index,:],attr.iloc[test_index,:]\n",
        "    y_train , y_test = cls[train_index] , cls[test_index]\n",
        "\n",
        "    # scaler = MinMaxScaler()\n",
        "    # x_train = scaler.fit_transform(x_train)\n",
        "    # x_test = scaler.transform(x_test)\n",
        "\n",
        "    tree = SVC()\n",
        "    tree.fit(x_train, y_train)\n",
        "\n",
        "    x_train_data[i] = x_train\n",
        "    x_test_data[i] = x_test\n",
        "    y_train_data[i] = y_train\n",
        "    y_test_data[i] = y_test"
      ],
      "metadata": {
        "id": "QtlAFHsV9MzU"
      },
      "execution_count": 1238,
      "outputs": []
    },
    {
      "cell_type": "code",
      "source": [
        "import matplotlib.pyplot as plt\n",
        "import seaborn as sn\n",
        "%matplotlib inline"
      ],
      "metadata": {
        "id": "BGsACCLCCc3m"
      },
      "execution_count": 1239,
      "outputs": []
    },
    {
      "cell_type": "code",
      "source": [
        "fig = plt.subplots(figsize=(18,6))\n",
        "barWidth = 0.15\n",
        "X_TRAIN = [len(x_train_data[0]), len(x_train_data[1]), len(x_train_data[2]), len(x_train_data[3]), len(x_train_data[4])]\n",
        "X_TEST = [len(x_test_data[0]), len(x_test_data[1]), len(x_test_data[2]), len(x_test_data[3]), len(x_test_data[4])]\n",
        "Y_TRAIN = [len(y_train_data[0]), len(y_train_data[1]), len(y_train_data[2]), len(y_train_data[3]), len(y_train_data[4])]                                                                              \n",
        "Y_TEST = [len(y_test_data[0]), len(y_test_data[1]), len(y_test_data[2]), len(y_test_data[3]), len(y_test_data[4])]                                                                              \n",
        "\n",
        "br1 = np.arange(len(X_TRAIN))\n",
        "br2 = [x + barWidth for x in br1]\n",
        "br3 = [x + barWidth for x in br2]\n",
        "br4 = [x + barWidth for x in br3]\n",
        "\n",
        "plt.title(\"Train & Test Data Per Fold\")\n",
        "plt.bar(br1, X_TRAIN, color ='r', width = barWidth,\n",
        "        edgecolor ='grey', label ='X_TRAIN')\n",
        "plt.bar(br2, X_TEST, color ='g', width = barWidth,\n",
        "        edgecolor ='grey', label ='X_TEST')\n",
        "plt.bar(br3, Y_TRAIN, color ='b', width = barWidth,\n",
        "        edgecolor ='grey', label ='Y_TRAIN')\n",
        "plt.bar(br4, Y_TEST, color ='m', width = barWidth,\n",
        "        edgecolor ='grey', label ='Y_TEST')\n",
        "\n",
        "plt.xticks([r + barWidth for r in range(len(X_TRAIN))],\n",
        "        [\"Fold 1\", \"Fold 2\", \"Fold 3\", \"Fold 4\", \"Fold 5\"])\n",
        " \n",
        "plt.legend()\n",
        "plt.show()"
      ],
      "metadata": {
        "colab": {
          "base_uri": "https://localhost:8080/",
          "height": 324
        },
        "id": "e4ms4MphHNPn",
        "outputId": "cfcdb671-f9d9-4223-c2b1-e0fad073ffb7"
      },
      "execution_count": 1240,
      "outputs": [
        {
          "output_type": "display_data",
          "data": {
            "text/plain": [
              "<Figure size 1296x432 with 1 Axes>"
            ],
            "image/png": "[encoded data removed]"
          },
          "metadata": {
            "needs_background": "light"
          }
        }
      ]
    },
    {
      "cell_type": "code",
      "source": [
        "fig = plt.subplots(figsize=(18,6))\n",
        "barWidth = 0.15\n",
        "# Y_TRAIN_POS = [sum(p == 1 for p in y_train_data[0]), sum(p == 1 for p in y_train_data[1]), sum(p == 1 for p in y_train_data[2]), sum(p == 1 for p in y_train_data[3]), sum(p == 1 for p in y_train_data[4])]\n",
        "# Y_TRAIN_NEG = [sum(p == 0 for p in y_train_data[0]), sum(p == 0 for p in y_train_data[1]), sum(p == 0 for p in y_train_data[2]), sum(p == 0 for p in y_train_data[3]), sum(p == 0 for p in y_train_data[4])]\n",
        "Y_TEST_POS = [sum(p == 1 for p in y_test_data[0]), sum(p == 1 for p in y_test_data[1]), sum(p == 1 for p in y_test_data[2]), sum(p == 1 for p in y_test_data[3]), sum(p == 1 for p in y_test_data[4])]\n",
        "Y_TEST_NEG = [sum(p == 0 for p in y_test_data[0]), sum(p == 0 for p in y_test_data[1]), sum(p == 0 for p in y_test_data[2]), sum(p == 0 for p in y_test_data[3]), sum(p == 0 for p in y_test_data[4])]\n",
        "\n",
        "# br1 = np.arange(len(Y_TRAIN))\n",
        "# br2 = [x + barWidth for x in br1]\n",
        "# br3 = [x + barWidth for x in br2]\n",
        "# br4 = [x + barWidth for x in br3]\n",
        "\n",
        "br1 = np.arange(len(Y_TEST_POS))\n",
        "br2 = [x + barWidth for x in br1]\n",
        "\n",
        "plt.title(\"Total Y Train & Y Test Class Per Fold\")\n",
        "# plt.bar(br1, Y_TRAIN_POS, color ='r', width = barWidth,\n",
        "#         edgecolor ='grey', label ='Y_TRAIN_POS')\n",
        "# plt.bar(br2, Y_TRAIN_NEG, color ='g', width = barWidth,\n",
        "#         edgecolor ='grey', label ='Y_TRAIN_NEG')\n",
        "plt.bar(br1, Y_TEST_POS, color ='b', width = barWidth,\n",
        "        edgecolor ='grey', label ='Y_TEST_POS')\n",
        "plt.bar(br2, Y_TEST_NEG, color ='m', width = barWidth,\n",
        "        edgecolor ='grey', label ='Y_TEST_NEG')\n",
        "\n",
        "plt.xticks([r + barWidth for r in range(len(Y_TRAIN))],\n",
        "        [\"Fold 1\", \"Fold 2\", \"Fold 3\", \"Fold 4\", \"Fold 5\"])\n",
        " \n",
        "plt.legend()\n",
        "plt.show()"
      ],
      "metadata": {
        "colab": {
          "base_uri": "https://localhost:8080/",
          "height": 325
        },
        "id": "sptVwxp8J7oY",
        "outputId": "e6d8e04e-8d93-494f-fe71-3b474014a05c"
      },
      "execution_count": 1241,
      "outputs": [
        {
          "output_type": "display_data",
          "data": {
            "text/plain": [
              "<Figure size 1296x432 with 1 Axes>"
            ],
            "image/png": "[encoded data removed]"
          },
          "metadata": {
            "needs_background": "light"
          }
        }
      ]
    },
    {
      "cell_type": "code",
      "source": [
        "c_data = 15\n",
        "max_iteration = 1000\n",
        "tolerance = 0.01"
      ],
      "metadata": {
        "id": "ymPZMmcJS-no"
      },
      "execution_count": 1242,
      "outputs": []
    },
    {
      "cell_type": "code",
      "source": [
        "np.random.seed(100)\n",
        "\n",
        "model_1 = SVC(\n",
        "    C = c_data,\n",
        "    kernel = 'linear',\n",
        "    max_iter = max_iteration,\n",
        "    random_state = 0,\n",
        "    tol = tolerance,\n",
        "    )\n",
        "\n",
        "model_1 = model_1.fit(x_train_data[0], y_train_data[0])\n",
        "\n",
        "prediction_1 = model_1.predict(x_test_data[0])\n",
        "false_1 = (prediction_1 != y_test_data[0]).sum()\n",
        "true_1 = (prediction_1 == y_test_data[0]).sum()\n",
        "tn_1, fp_1, fn_1, tp_1 = confusion_matrix(y_test_data[0], prediction_1).ravel()\n",
        "precision_score_1 = tp_1 / (tp_1 + fp_1)\n",
        "recall_score_1 = tp_1 / (tp_1 + fn_1)\n",
        "f1_score_1 = 2 * (recall_score_1 * precision_score_1) / (recall_score_1 + precision_score_1)\n",
        "print(\"Accuration: \", true_1 / (true_1 + false_1) * 100, '%')\n",
        "print(\"Precission: \", precision_score_1)\n",
        "print(\"Recall: \", recall_score_1)\n",
        "print(\"F1 Score: \", f1_score_1)\n",
        "print(\"======================\")\n",
        "\n",
        "cm_1 = confusion_matrix(y_test, prediction_1)\n",
        "plt.figure(figsize=(10,7))\n",
        "sn.heatmap(cm_1, annot=True)\n",
        "plt.xlabel('Predicted')\n",
        "plt.ylabel('Truth')"
      ],
      "metadata": {
        "colab": {
          "base_uri": "https://localhost:8080/",
          "height": 546
        },
        "id": "4Hwj8On9AhKL",
        "outputId": "e933f13c-9246-44d7-ccc8-baae2ee12a19"
      },
      "execution_count": 1243,
      "outputs": [
        {
          "output_type": "stream",
          "name": "stdout",
          "text": [
            "Accuration:  80.0 %\n",
            "Precission:  0.8\n",
            "Recall:  0.5\n",
            "F1 Score:  0.6153846153846154\n",
            "======================\n"
          ]
        },
        {
          "output_type": "execute_result",
          "data": {
            "text/plain": [
              "Text(69.0, 0.5, 'Truth')"
            ]
          },
          "metadata": {},
          "execution_count": 1243
        },
        {
          "output_type": "display_data",
          "data": {
            "text/plain": [
              "<Figure size 720x504 with 2 Axes>"
            ],
            "image/png": "[encoded data removed]"
          },
          "metadata": {
            "needs_background": "light"
          }
        }
      ]
    },
    {
      "cell_type": "code",
      "source": [
        "np.random.seed(100)\n",
        "\n",
        "model_2 = SVC(\n",
        "    C = c_data,\n",
        "    kernel = 'linear',\n",
        "    max_iter = max_iteration,\n",
        "    random_state = 0,\n",
        "    tol = tolerance,\n",
        "    )\n",
        "\n",
        "model_2 = model_2.fit(x_train_data[1], y_train_data[1])\n",
        "\n",
        "prediction_2 = model_2.predict(x_test_data[1])\n",
        "false_2 = (prediction_2 != y_test_data[1]).sum()\n",
        "true_2 = (prediction_2 == y_test_data[1]).sum()\n",
        "tn_2, fp_2, fn_2, tp_2 = confusion_matrix(y_test_data[1], prediction_2).ravel()\n",
        "precision_score_2 = tp_2 / (tp_2 + fp_2)\n",
        "recall_score_2 = tp_2 / (tp_2 + fn_2)\n",
        "f1_score_2 = 2 * (recall_score_2 * precision_score_2) / (recall_score_2 + precision_score_2)\n",
        "print(\"Accuration: \", true_2 / (true_2 + false_2) * 100, '%')\n",
        "print(\"Precission: \", precision_score_2)\n",
        "print(\"Recall: \", recall_score_2)\n",
        "print(\"F1 Score: \", f1_score_2)\n",
        "print(\"======================\")\n",
        "\n",
        "cm_2 = confusion_matrix(y_test, prediction_2)\n",
        "plt.figure(figsize=(10,7))\n",
        "sn.heatmap(cm_2, annot=True)\n",
        "plt.xlabel('Predicted')\n",
        "plt.ylabel('Truth')"
      ],
      "metadata": {
        "colab": {
          "base_uri": "https://localhost:8080/",
          "height": 550
        },
        "id": "IG0JzHYBCGj1",
        "outputId": "d0733cb7-8f13-4114-91f5-57ee00b356e9"
      },
      "execution_count": 1244,
      "outputs": [
        {
          "output_type": "stream",
          "name": "stdout",
          "text": [
            "Accuration:  68.0 %\n",
            "Precission:  0.7368421052631579\n",
            "Recall:  0.56\n",
            "F1 Score:  0.6363636363636364\n",
            "======================\n"
          ]
        },
        {
          "output_type": "execute_result",
          "data": {
            "text/plain": [
              "Text(69.0, 0.5, 'Truth')"
            ]
          },
          "metadata": {},
          "execution_count": 1244
        },
        {
          "output_type": "display_data",
          "data": {
            "text/plain": [
              "<Figure size 720x504 with 2 Axes>"
            ],
            "image/png": "[encoded data removed]"
          },
          "metadata": {
            "needs_background": "light"
          }
        }
      ]
    },
    {
      "cell_type": "code",
      "source": [
        "np.random.seed(100)\n",
        "\n",
        "model_3 = SVC(\n",
        "    C = c_data,\n",
        "    kernel = 'linear',\n",
        "    max_iter = max_iteration,\n",
        "    random_state = 0,\n",
        "    tol = tolerance,\n",
        "    )\n",
        "\n",
        "model_3 = model_3.fit(x_train_data[2], y_train_data[2])\n",
        "\n",
        "prediction_3 = model_3.predict(x_test_data[2])\n",
        "false_3 = (prediction_3 != y_test_data[2]).sum()\n",
        "true_3 = (prediction_3 == y_test_data[2]).sum()\n",
        "tn_3, fp_3, fn_3, tp_3 = confusion_matrix(y_test_data[2], prediction_3).ravel()\n",
        "precision_score_3 = tp_3 / (tp_3 + fp_3)\n",
        "recall_score_3 = tp_3 / (tp_3 + fn_3)\n",
        "f1_score_3 = 2 * (recall_score_3 * precision_score_3) / (recall_score_3 + precision_score_3)\n",
        "print(\"Accuration: \", true_3 / (true_3 + false_3) * 100, '%')\n",
        "print(\"Precission: \", precision_score_3)\n",
        "print(\"Recall: \", recall_score_3)\n",
        "print(\"F1 Score: \", f1_score_3)\n",
        "print(\"======================\")\n",
        "\n",
        "cm_3 = confusion_matrix(y_test, prediction_3)\n",
        "plt.figure(figsize=(10,7))\n",
        "sn.heatmap(cm_3, annot=True)\n",
        "plt.xlabel('Predicted')\n",
        "plt.ylabel('Truth')"
      ],
      "metadata": {
        "colab": {
          "base_uri": "https://localhost:8080/",
          "height": 546
        },
        "id": "0zbzi_Z-CqHY",
        "outputId": "665b9be7-19ab-4c6d-f2c1-01c59ea8826d"
      },
      "execution_count": 1245,
      "outputs": [
        {
          "output_type": "stream",
          "name": "stdout",
          "text": [
            "Accuration:  90.0 %\n",
            "Precission:  0.8461538461538461\n",
            "Recall:  0.7857142857142857\n",
            "F1 Score:  0.8148148148148148\n",
            "======================\n"
          ]
        },
        {
          "output_type": "execute_result",
          "data": {
            "text/plain": [
              "Text(69.0, 0.5, 'Truth')"
            ]
          },
          "metadata": {},
          "execution_count": 1245
        },
        {
          "output_type": "display_data",
          "data": {
            "text/plain": [
              "<Figure size 720x504 with 2 Axes>"
            ],
            "image/png": "[encoded data removed]"
          },
          "metadata": {
            "needs_background": "light"
          }
        }
      ]
    },
    {
      "cell_type": "code",
      "source": [
        "np.random.seed(100)\n",
        "\n",
        "model_4 = SVC(\n",
        "    C = c_data,\n",
        "    kernel = 'linear',\n",
        "    max_iter = max_iteration,\n",
        "    random_state = 0,\n",
        "    tol = tolerance,\n",
        "    )\n",
        "\n",
        "model_4 = model_4.fit(x_train_data[3], y_train_data[3])\n",
        "\n",
        "prediction_4 = model_4.predict(x_test_data[3])\n",
        "false_4 = (prediction_4 != y_test_data[3]).sum()\n",
        "true_4 = (prediction_4 == y_test_data[3]).sum()\n",
        "tn_4, fp_4, fn_4, tp_4 = confusion_matrix(y_test_data[3], prediction_4).ravel()\n",
        "precision_score_4 = tp_4 / (tp_4 + fp_4)\n",
        "recall_score_4 = tp_4 / (tp_4 + fn_4)\n",
        "f1_score_4 = 2 * (recall_score_4 * precision_score_4) / (recall_score_4 + precision_score_4)\n",
        "print(\"Accuration: \", true_4 / (true_4 + false_4) * 100, '%')\n",
        "print(\"Precission: \", precision_score_4)\n",
        "print(\"Recall: \", recall_score_4)\n",
        "print(\"F1 Score: \", f1_score_4)\n",
        "print(\"======================\")\n",
        "\n",
        "cm_4 = confusion_matrix(y_test, prediction_4)\n",
        "plt.figure(figsize=(10,7))\n",
        "sn.heatmap(cm_4, annot=True)\n",
        "plt.xlabel('Predicted')\n",
        "plt.ylabel('Truth')"
      ],
      "metadata": {
        "colab": {
          "base_uri": "https://localhost:8080/",
          "height": 550
        },
        "id": "Ldc9VfNMCu9J",
        "outputId": "46552beb-4ceb-43c9-9a45-275f8adc0e27"
      },
      "execution_count": 1246,
      "outputs": [
        {
          "output_type": "stream",
          "name": "stdout",
          "text": [
            "Accuration:  74.0 %\n",
            "Precission:  0.625\n",
            "Recall:  0.5882352941176471\n",
            "F1 Score:  0.6060606060606061\n",
            "======================\n"
          ]
        },
        {
          "output_type": "execute_result",
          "data": {
            "text/plain": [
              "Text(69.0, 0.5, 'Truth')"
            ]
          },
          "metadata": {},
          "execution_count": 1246
        },
        {
          "output_type": "display_data",
          "data": {
            "text/plain": [
              "<Figure size 720x504 with 2 Axes>"
            ],
            "image/png": "[encoded data removed]"
          },
          "metadata": {
            "needs_background": "light"
          }
        }
      ]
    },
    {
      "cell_type": "code",
      "source": [
        "np.random.seed(100)\n",
        "\n",
        "model_5 = SVC(\n",
        "    C = c_data,\n",
        "    kernel = 'linear',\n",
        "    max_iter = max_iteration,\n",
        "    random_state = 0,\n",
        "    tol = tolerance,\n",
        "    )\n",
        "\n",
        "model_5 = model_5.fit(x_train_data[4], y_train_data[4])\n",
        "\n",
        "prediction_5 = model_5.predict(x_test_data[4])\n",
        "false_5 = (prediction_5 != y_test_data[4]).sum()\n",
        "true_5 = (prediction_5 == y_test_data[4]).sum()\n",
        "tn_5, fp_5, fn_5, tp_5 = confusion_matrix(y_test_data[4], prediction_5).ravel()\n",
        "precision_score_5 = tp_5 / (tp_5 + fp_5)\n",
        "recall_score_5 = tp_5 / (tp_5 + fn_5)\n",
        "f1_score_5 = 2 * (recall_score_5 * precision_score_5) / (recall_score_5 + precision_score_5)\n",
        "print(\"Accuration: \", true_5 / (true_5 + false_5) * 100, '%')\n",
        "print(\"Precission: \", precision_score_5)\n",
        "print(\"Recall: \", recall_score_5)\n",
        "print(\"F1 Score: \", f1_score_5)\n",
        "print(\"======================\")\n",
        "\n",
        "cm_5 = confusion_matrix(y_test, prediction_5)\n",
        "plt.figure(figsize=(10,7))\n",
        "sn.heatmap(cm_5, annot=True)\n",
        "plt.xlabel('Predicted')\n",
        "plt.ylabel('Truth')"
      ],
      "metadata": {
        "colab": {
          "base_uri": "https://localhost:8080/",
          "height": 546
        },
        "id": "gaKe5dLNC0xs",
        "outputId": "128859bd-df53-4794-bf66-d823f721cd14"
      },
      "execution_count": 1247,
      "outputs": [
        {
          "output_type": "stream",
          "name": "stdout",
          "text": [
            "Accuration:  68.0 %\n",
            "Precission:  0.6153846153846154\n",
            "Recall:  0.42105263157894735\n",
            "F1 Score:  0.5\n",
            "======================\n"
          ]
        },
        {
          "output_type": "execute_result",
          "data": {
            "text/plain": [
              "Text(69.0, 0.5, 'Truth')"
            ]
          },
          "metadata": {},
          "execution_count": 1247
        },
        {
          "output_type": "display_data",
          "data": {
            "text/plain": [
              "<Figure size 720x504 with 2 Axes>"
            ],
            "image/png": "[encoded data removed]"
          },
          "metadata": {
            "needs_background": "light"
          }
        }
      ]
    },
    {
      "cell_type": "code",
      "source": [
        "fig = plt.subplots(figsize=(18,6))\n",
        "barWidth = 0.25\n",
        "ACCURACY = [(true_1 / (true_1 + false_1) * 100), (true_2 / (true_2 + false_2) * 100), (true_3 / (true_3 + false_3) * 100), (true_4 / (true_4 + false_4) * 100), (true_5 / (true_5 + false_5) * 100)]\n",
        "PRECISION = [precision_score_1 * 100, precision_score_2 * 100, precision_score_3 * 100, precision_score_4 * 100, precision_score_5 * 100]\n",
        "RECALL = [recall_score_1 * 100, recall_score_2 * 100, recall_score_3 * 100, recall_score_4 * 100, recall_score_5 * 100]\n",
        " \n",
        "br1 = np.arange(len(ACCURACY))\n",
        "br2 = [x + barWidth for x in br1]\n",
        "br3 = [x + barWidth for x in br2]\n",
        "\n",
        "plt.title(\"ACCURATION PLOT PER FOLD\")\n",
        "plt.bar(br1, ACCURACY, color ='r', width = barWidth,\n",
        "        edgecolor ='grey', label ='AKURASI')\n",
        "plt.bar(br2, PRECISION, color ='g', width = barWidth,\n",
        "        edgecolor ='grey', label ='PRESISI')\n",
        "plt.bar(br3, RECALL, color ='b', width = barWidth,\n",
        "        edgecolor ='grey', label ='RECALL')\n",
        "\n",
        "plt.xticks([r + barWidth for r in range(len(ACCURACY))],\n",
        "    [\"Fold 1\", \"Fold 2\", \"Fold 3\", \"Fold 4\", \"Fold 5\"])\n",
        " \n",
        "plt.legend()\n",
        "plt.show()"
      ],
      "metadata": {
        "colab": {
          "base_uri": "https://localhost:8080/",
          "height": 325
        },
        "id": "sNaGE92uExr7",
        "outputId": "1880f51b-ec97-4f13-9684-817821245f30"
      },
      "execution_count": 1255,
      "outputs": [
        {
          "output_type": "display_data",
          "data": {
            "text/plain": [
              "<Figure size 1296x432 with 1 Axes>"
            ],
            "image/png": "[encoded data removed]"
          },
          "metadata": {
            "needs_background": "light"
          }
        }
      ]
    },
    {
      "cell_type": "code",
      "source": [
        "avg = (true_1 / (true_1 + false_1) * 100) + (true_2 / (true_2 + false_2) * 100) + (true_3 / (true_3 + false_3) * 100) + (true_4 / (true_4 + false_4) * 100) + (true_5 / (true_5 + false_5) * 100)\n",
        "avg = avg/5\n",
        "avg"
      ],
      "metadata": {
        "colab": {
          "base_uri": "https://localhost:8080/"
        },
        "id": "YUT8ettrPu8B",
        "outputId": "544edfed-80ed-4385-9d4e-adbb242ff447"
      },
      "execution_count": 1249,
      "outputs": [
        {
          "output_type": "execute_result",
          "data": {
            "text/plain": [
              "76.0"
            ]
          },
          "metadata": {},
          "execution_count": 1249
        }
      ]
    },
    {
      "cell_type": "code",
      "source": [
        "# np.random.seed(100)\n",
        "\n",
        "# model = SVC(\n",
        "#     C = 15,\n",
        "#     decision_function_shape = 'ovr',\n",
        "#     gamma = 1.0,\n",
        "#     kernel = 'linear',\n",
        "#     max_iter = 125,\n",
        "#     random_state = 0,\n",
        "#     tol = 0.01,\n",
        "#     )\n",
        "\n",
        "# model = model.fit(x_train, y_train)"
      ],
      "metadata": {
        "id": "kyIDH-7pGLv1"
      },
      "execution_count": 1250,
      "outputs": []
    },
    {
      "cell_type": "code",
      "source": [
        "# prediction = model.predict(x_test)\n",
        "# false = (prediction != y_test).sum()\n",
        "# true = (prediction == y_test).sum()\n",
        "# tn, fp, fn, tp = confusion_matrix(y_test, prediction).ravel()\n",
        "# precision_score = tp / (tp + fp)\n",
        "# recall_score = tp / (tp + fn)\n",
        "# f1_score = 2 * (recall_score * precision_score) / (recall_score + precision_score)\n",
        "# print(\"Accuration: \", true / (true + false) * 100, '%')\n",
        "# print(\"Precission: \", precision_score)\n",
        "# print(\"Recall: \", recall_score)\n",
        "# print(\"F1 Score: \", f1_score)"
      ],
      "metadata": {
        "id": "r9fzaA1ysTP8"
      },
      "execution_count": 1251,
      "outputs": []
    },
    {
      "cell_type": "code",
      "source": [
        "# import matplotlib.pyplot as plt\n",
        "# import seaborn as sn\n",
        "# %matplotlib inline\n",
        "\n",
        "# cm = confusion_matrix(y_test, prediction)\n",
        "\n",
        "# plt.figure(figsize=(10,7))\n",
        "# sn.heatmap(cm, annot=True)\n",
        "# plt.xlabel('Predicted')\n",
        "# plt.ylabel('Truth')"
      ],
      "metadata": {
        "id": "tVm0TW_bqdmr"
      },
      "execution_count": 1252,
      "outputs": []
    },
    {
      "cell_type": "code",
      "source": [
        "# from sklearn.metrics import RocCurveDisplay\n",
        "# svc_disp = RocCurveDisplay.from_estimator(model, x_test, y_test)"
      ],
      "metadata": {
        "id": "Tq3aOkXDYtK6"
      },
      "execution_count": 1253,
      "outputs": []
    },
    {
      "cell_type": "code",
      "source": [
        "# from sklearn.metrics import PrecisionRecallDisplay\n",
        "\n",
        "# y_score = model.decision_function(x_test)\n",
        "\n",
        "# display = PrecisionRecallDisplay.from_predictions(y_test, y_score, name=\"LinearSVC\")\n",
        "# display.ax_.set_title(\"2-class Precision-Recall curve\")"
      ],
      "metadata": {
        "id": "PQ7c6k-QadeR"
      },
      "execution_count": 1254,
      "outputs": []
    }
  ]
}