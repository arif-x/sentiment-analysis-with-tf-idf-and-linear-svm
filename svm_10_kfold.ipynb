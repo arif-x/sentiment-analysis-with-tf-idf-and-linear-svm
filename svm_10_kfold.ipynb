{
  "nbformat": 4,
  "nbformat_minor": 0,
  "metadata": {
    "colab": {
      "provenance": []
    },
    "kernelspec": {
      "name": "python3",
      "display_name": "Python 3"
    },
    "language_info": {
      "name": "python"
    }
  },
  "cells": [
    {
      "cell_type": "code",
      "execution_count": 337,
      "metadata": {
        "colab": {
          "base_uri": "https://localhost:8080/",
          "height": 1000
        },
        "id": "qsAahsRvoonV",
        "outputId": "daf0ad67-1534-4aee-905f-e2103f00fb51"
      },
      "outputs": [
        {
          "output_type": "stream",
          "name": "stdout",
          "text": [
            "Drive already mounted at /content/drive; to attempt to forcibly remount, call drive.mount(\"/content/drive\", force_remount=True).\n"
          ]
        },
        {
          "output_type": "execute_result",
          "data": {
            "text/plain": [
              "     Unnamed: 0                                               text  Sentimen  \\\n",
              "0             0  23:29:56,\"Semoga aplikasinya cepat diperbaiki,...         1   \n",
              "1             1        23:31:43,Aplikasi apa ini nik tidak terbaca         1   \n",
              "2             2    23:41:43,Entah lah susah di jelaskan....ribeet…         0   \n",
              "3             3  23:45:23,Selevel negara kok tidak mampu bikin ...         0   \n",
              "4             4   00:00:53,\"Maaf kasih 1 bintang karena engga e...         0   \n",
              "..          ...                                                ...       ...   \n",
              "245         245  Setelah hampir sehari mengisi data diri,di sub...         1   \n",
              "246         246                      Dengan aplikasi MyPertamina👍👍         1   \n",
              "247         247  Masih ada banyak kekurangan / ada banyak sekal...         0   \n",
              "248         248  Tolong di batasin donk pembelian pertalite yg ...         1   \n",
              "249         249  tidak semua konsumen punya smartphone....beli ...         0   \n",
              "\n",
              "                                             cleansing  \\\n",
              "0          Semoga aplikasinya cepat diperbaiki kare...   \n",
              "1                   Aplikasi apa ini nik tidak terbaca   \n",
              "2                   Entah lah susah di jelaskanribeet    \n",
              "3          Selevel negara kok tidak mampu bikin apl...   \n",
              "4          Maaf kasih   bintang karena engga epekti...   \n",
              "..                                                 ...   \n",
              "245  Setelah hampir sehari mengisi data diridi subs...   \n",
              "246                      Dengan aplikasi MyPertamina     \n",
              "247  Masih ada banyak kekurangan   ada banyak sekal...   \n",
              "248  Tolong di batasin donk pembelian pertalite yg ...   \n",
              "249  tidak semua konsumen punya smartphonebeli bbm ...   \n",
              "\n",
              "                                           casefolding  \\\n",
              "0          semoga aplikasinya cepat diperbaiki kare...   \n",
              "1                   aplikasi apa ini nik tidak terbaca   \n",
              "2                   entah lah susah di jelaskanribeet    \n",
              "3          selevel negara kok tidak mampu bikin apl...   \n",
              "4          maaf kasih   bintang karena engga epekti...   \n",
              "..                                                 ...   \n",
              "245  setelah hampir sehari mengisi data diridi subs...   \n",
              "246                      dengan aplikasi mypertamina     \n",
              "247  masih ada banyak kekurangan   ada banyak sekal...   \n",
              "248  tolong di batasin donk pembelian pertalite yg ...   \n",
              "249  tidak semua konsumen punya smartphonebeli bbm ...   \n",
              "\n",
              "                                               steemed  \\\n",
              "0    moga aplikasi cepat baik karena begitu banyak ...   \n",
              "1                      aplikasi apa ini nik tidak baca   \n",
              "2                    entah lah susah di jelaskanribeet   \n",
              "3    level negara kok tidak mampu bikin aplikasi ya...   \n",
              "4    maaf kasih bintang karena engga epektif malah ...   \n",
              "..                                                 ...   \n",
              "245  telah hampir hari isi data ridi subsidi tepat ...   \n",
              "246                        dengan aplikasi mypertamina   \n",
              "247  masih ada banyak kurang ada banyak sekali bug ...   \n",
              "248  tolong di batasin donk beli pertalite yg guna ...   \n",
              "249  tidak semua konsumen punya smartphonebeli bbm ...   \n",
              "\n",
              "                                           normalisasi  \\\n",
              "0    moga aplikasi cepat aplikasi aplikasi susah susah   \n",
              "1                                    aplikasi nik baca   \n",
              "2                                 susah jelaskanribeet   \n",
              "3    level negara aplikasi daftar ulang login no hp...   \n",
              "4    maaf kasih bintang engga epektif ribet daftar ...   \n",
              "..                                                 ...   \n",
              "245  isi data ridi subsidi sasaranpilihan simpan dn...   \n",
              "246                               aplikasi mypertamina   \n",
              "247                           bug sulit aplikasi tolol   \n",
              "248       tolong batasin donk beli pertalite kapasitas   \n",
              "249  konsumen smartphonebeli bbm ribetinfrastruktur...   \n",
              "\n",
              "                                            tokenizing  \\\n",
              "0    ['moga', 'aplikasi', 'cepat', 'aplikasi', 'apl...   \n",
              "1                          ['aplikasi', 'nik', 'baca']   \n",
              "2                          ['susah', 'jelaskanribeet']   \n",
              "3    ['level', 'negara', 'aplikasi', 'daftar', 'ula...   \n",
              "4    ['maaf', 'kasih', 'bintang', 'engga', 'epektif...   \n",
              "..                                                 ...   \n",
              "245  ['isi', 'data', 'ridi', 'subsidi', 'sasaranpil...   \n",
              "246                        ['aplikasi', 'mypertamina']   \n",
              "247              ['bug', 'sulit', 'aplikasi', 'tolol']   \n",
              "248  ['tolong', 'batasin', 'donk', 'beli', 'pertali...   \n",
              "249  ['konsumen', 'smartphonebeli', 'bbm', 'ribetin...   \n",
              "\n",
              "                                               tf_dict  \\\n",
              "0    {'moga': 0.14285714285714285, 'aplikasi': 0.42...   \n",
              "1    {'aplikasi': 0.3333333333333333, 'nik': 0.3333...   \n",
              "2                {'susah': 0.5, 'jelaskanribeet': 0.5}   \n",
              "3    {'level': 0.06666666666666667, 'negara': 0.133...   \n",
              "4    {'maaf': 0.125, 'kasih': 0.125, 'bintang': 0.1...   \n",
              "..                                                 ...   \n",
              "245  {'isi': 0.1111111111111111, 'data': 0.11111111...   \n",
              "246              {'aplikasi': 0.5, 'mypertamina': 0.5}   \n",
              "247  {'bug': 0.25, 'sulit': 0.25, 'aplikasi': 0.25,...   \n",
              "248  {'tolong': 0.16666666666666666, 'batasin': 0.1...   \n",
              "249  {'konsumen': 0.06666666666666667, 'smartphoneb...   \n",
              "\n",
              "                                                    df  \\\n",
              "0    {'moga': 11, 'aplikasi': 144, 'cepat': 6, 'sus...   \n",
              "1               {'aplikasi': 144, 'nik': 8, 'baca': 3}   \n",
              "2                   {'susah': 40, 'jelaskanribeet': 1}   \n",
              "3    {'aplikasi': 144, 'level': 1, 'negara': 3, 'da...   \n",
              "4    {'susah': 40, 'daftar': 73, 'maaf': 1, 'kasih'...   \n",
              "..                                                 ...   \n",
              "245  {'simpan': 4, 'subsidi': 25, 'tolong': 8, 'isi...   \n",
              "246               {'aplikasi': 144, 'mypertamina': 21}   \n",
              "247  {'aplikasi': 144, 'sulit': 23, 'bug': 6, 'tolo...   \n",
              "248  {'beli': 29, 'tolong': 8, 'pertalite': 6, 'don...   \n",
              "249  {'negara': 3, 'rakyat': 19, 'hidup': 13, 'bbm'...   \n",
              "\n",
              "                                                df_all  \\\n",
              "0    {'moga': 11, 'aplikasi': 144, 'cepat': 6, 'sus...   \n",
              "1    {'moga': 11, 'aplikasi': 144, 'cepat': 6, 'sus...   \n",
              "2    {'moga': 11, 'aplikasi': 144, 'cepat': 6, 'sus...   \n",
              "3    {'moga': 11, 'aplikasi': 144, 'cepat': 6, 'sus...   \n",
              "4    {'moga': 11, 'aplikasi': 144, 'cepat': 6, 'sus...   \n",
              "..                                                 ...   \n",
              "245  {'moga': 11, 'aplikasi': 144, 'cepat': 6, 'sus...   \n",
              "246  {'moga': 11, 'aplikasi': 144, 'cepat': 6, 'sus...   \n",
              "247  {'moga': 11, 'aplikasi': 144, 'cepat': 6, 'sus...   \n",
              "248  {'moga': 11, 'aplikasi': 144, 'cepat': 6, 'sus...   \n",
              "249  {'moga': 11, 'aplikasi': 144, 'cepat': 6, 'sus...   \n",
              "\n",
              "                                              idf_dict  \\\n",
              "0    {'moga': 3.036554268074246, 'aplikasi': 0.5447...   \n",
              "1    {'aplikasi': 0.5447271754416719, 'nik': 3.3242...   \n",
              "2    {'susah': 1.8078888511579387, 'jelaskanribeet'...   \n",
              "3    {'aplikasi': 0.5447271754416719, 'level': 4.82...   \n",
              "4    {'susah': 1.8078888511579387, 'daftar': 1.2173...   \n",
              "..                                                 ...   \n",
              "245  {'simpan': 3.912023005428146, 'subsidi': 2.263...   \n",
              "246  {'aplikasi': 0.5447271754416719, 'mypertamina'...   \n",
              "247  {'aplikasi': 0.5447271754416719, 'sulit': 2.34...   \n",
              "248  {'beli': 2.120263536200091, 'tolong': 3.324236...   \n",
              "249  {'negara': 4.135166556742356, 'rakyat': 2.5257...   \n",
              "\n",
              "                                               idf_all  \\\n",
              "0    {'moga': 3.036554268074246, 'aplikasi': 0.5447...   \n",
              "1    {'moga': 3.036554268074246, 'aplikasi': 0.5447...   \n",
              "2    {'moga': 3.036554268074246, 'aplikasi': 0.5447...   \n",
              "3    {'moga': 3.036554268074246, 'aplikasi': 0.5447...   \n",
              "4    {'moga': 3.036554268074246, 'aplikasi': 0.5447...   \n",
              "..                                                 ...   \n",
              "245  {'moga': 3.036554268074246, 'aplikasi': 0.5447...   \n",
              "246  {'moga': 3.036554268074246, 'aplikasi': 0.5447...   \n",
              "247  {'moga': 3.036554268074246, 'aplikasi': 0.5447...   \n",
              "248  {'moga': 3.036554268074246, 'aplikasi': 0.5447...   \n",
              "249  {'moga': 3.036554268074246, 'aplikasi': 0.5447...   \n",
              "\n",
              "                                           tf_idf_dict  \\\n",
              "0    {'moga': 0.43379346686774944, 'aplikasi': 0.23...   \n",
              "1    {'aplikasi': 0.18157572514722398, 'nik': 1.108...   \n",
              "2    {'susah': 0.9039444255789694, 'jelaskanribeet'...   \n",
              "3    {'level': 0.3218875824868201, 'negara': 0.5513...   \n",
              "4    {'maaf': 0.6035392171627877, 'kasih': 0.343609...   \n",
              "..                                                 ...   \n",
              "245  {'isi': 0.24729156131754637, 'data': 0.2355848...   \n",
              "246  {'aplikasi': 0.27236358772083596, 'mypertamina...   \n",
              "247  {'bug': 0.8938876922017333, 'sulit': 0.5858517...   \n",
              "248  {'tolong': 0.5540393900876711, 'batasin': 0.80...   \n",
              "249  {'konsumen': 0.3218875824868201, 'smartphonebe...   \n",
              "\n",
              "                                            tf_idf_vec  \n",
              "0    [0.23345450376071653, 0.0, 0.5165396717594111,...  \n",
              "1    [0.18157572514722398, 0.0, 0.0, 0.0, 0.0, 0.0,...  \n",
              "2    [0.0, 0.0, 0.9039444255789694, 0.0, 0.0, 0.0, ...  \n",
              "3    [0.036315145029444794, 0.08115972164387178, 0....  \n",
              "4    [0.0, 0.1521744780822596, 0.22598610639474234,...  \n",
              "..                                                 ...  \n",
              "245  [0.0, 0.0, 0.0, 0.0, 0.0, 0.0, 0.0, 0.23558483...  \n",
              "246  [0.27236358772083596, 0.0, 0.0, 0.0, 0.0, 0.0,...  \n",
              "247  [0.13618179386041798, 0.0, 0.0, 0.0, 0.0, 0.0,...  \n",
              "248  [0.0, 0.0, 0.0, 0.0, 0.0, 0.0, 0.3533772560333...  \n",
              "249  [0.0, 0.0, 0.0, 0.0, 0.0, 0.0, 0.0, 0.0, 0.0, ...  \n",
              "\n",
              "[250 rows x 15 columns]"
            ],
            "text/html": [
              "\n",
              "  <div id=\"df-75835f61-91bb-4f24-9628-1e8196de38a7\">\n",
              "    <div class=\"colab-df-container\">\n",
              "      <div>\n",
              "<style scoped>\n",
              "    .dataframe tbody tr th:only-of-type {\n",
              "        vertical-align: middle;\n",
              "    }\n",
              "\n",
              "    .dataframe tbody tr th {\n",
              "        vertical-align: top;\n",
              "    }\n",
              "\n",
              "    .dataframe thead th {\n",
              "        text-align: right;\n",
              "    }\n",
              "</style>\n",
              "<table border=\"1\" class=\"dataframe\">\n",
              "  <thead>\n",
              "    <tr style=\"text-align: right;\">\n",
              "      <th></th>\n",
              "      <th>Unnamed: 0</th>\n",
              "      <th>text</th>\n",
              "      <th>Sentimen</th>\n",
              "      <th>cleansing</th>\n",
              "      <th>casefolding</th>\n",
              "      <th>steemed</th>\n",
              "      <th>normalisasi</th>\n",
              "      <th>tokenizing</th>\n",
              "      <th>tf_dict</th>\n",
              "      <th>df</th>\n",
              "      <th>df_all</th>\n",
              "      <th>idf_dict</th>\n",
              "      <th>idf_all</th>\n",
              "      <th>tf_idf_dict</th>\n",
              "      <th>tf_idf_vec</th>\n",
              "    </tr>\n",
              "  </thead>\n",
              "  <tbody>\n",
              "    <tr>\n",
              "      <th>0</th>\n",
              "      <td>0</td>\n",
              "      <td>23:29:56,\"Semoga aplikasinya cepat diperbaiki,...</td>\n",
              "      <td>1</td>\n",
              "      <td>Semoga aplikasinya cepat diperbaiki kare...</td>\n",
              "      <td>semoga aplikasinya cepat diperbaiki kare...</td>\n",
              "      <td>moga aplikasi cepat baik karena begitu banyak ...</td>\n",
              "      <td>moga aplikasi cepat aplikasi aplikasi susah susah</td>\n",
              "      <td>['moga', 'aplikasi', 'cepat', 'aplikasi', 'apl...</td>\n",
              "      <td>{'moga': 0.14285714285714285, 'aplikasi': 0.42...</td>\n",
              "      <td>{'moga': 11, 'aplikasi': 144, 'cepat': 6, 'sus...</td>\n",
              "      <td>{'moga': 11, 'aplikasi': 144, 'cepat': 6, 'sus...</td>\n",
              "      <td>{'moga': 3.036554268074246, 'aplikasi': 0.5447...</td>\n",
              "      <td>{'moga': 3.036554268074246, 'aplikasi': 0.5447...</td>\n",
              "      <td>{'moga': 0.43379346686774944, 'aplikasi': 0.23...</td>\n",
              "      <td>[0.23345450376071653, 0.0, 0.5165396717594111,...</td>\n",
              "    </tr>\n",
              "    <tr>\n",
              "      <th>1</th>\n",
              "      <td>1</td>\n",
              "      <td>23:31:43,Aplikasi apa ini nik tidak terbaca</td>\n",
              "      <td>1</td>\n",
              "      <td>Aplikasi apa ini nik tidak terbaca</td>\n",
              "      <td>aplikasi apa ini nik tidak terbaca</td>\n",
              "      <td>aplikasi apa ini nik tidak baca</td>\n",
              "      <td>aplikasi nik baca</td>\n",
              "      <td>['aplikasi', 'nik', 'baca']</td>\n",
              "      <td>{'aplikasi': 0.3333333333333333, 'nik': 0.3333...</td>\n",
              "      <td>{'aplikasi': 144, 'nik': 8, 'baca': 3}</td>\n",
              "      <td>{'moga': 11, 'aplikasi': 144, 'cepat': 6, 'sus...</td>\n",
              "      <td>{'aplikasi': 0.5447271754416719, 'nik': 3.3242...</td>\n",
              "      <td>{'moga': 3.036554268074246, 'aplikasi': 0.5447...</td>\n",
              "      <td>{'aplikasi': 0.18157572514722398, 'nik': 1.108...</td>\n",
              "      <td>[0.18157572514722398, 0.0, 0.0, 0.0, 0.0, 0.0,...</td>\n",
              "    </tr>\n",
              "    <tr>\n",
              "      <th>2</th>\n",
              "      <td>2</td>\n",
              "      <td>23:41:43,Entah lah susah di jelaskan....ribeet…</td>\n",
              "      <td>0</td>\n",
              "      <td>Entah lah susah di jelaskanribeet</td>\n",
              "      <td>entah lah susah di jelaskanribeet</td>\n",
              "      <td>entah lah susah di jelaskanribeet</td>\n",
              "      <td>susah jelaskanribeet</td>\n",
              "      <td>['susah', 'jelaskanribeet']</td>\n",
              "      <td>{'susah': 0.5, 'jelaskanribeet': 0.5}</td>\n",
              "      <td>{'susah': 40, 'jelaskanribeet': 1}</td>\n",
              "      <td>{'moga': 11, 'aplikasi': 144, 'cepat': 6, 'sus...</td>\n",
              "      <td>{'susah': 1.8078888511579387, 'jelaskanribeet'...</td>\n",
              "      <td>{'moga': 3.036554268074246, 'aplikasi': 0.5447...</td>\n",
              "      <td>{'susah': 0.9039444255789694, 'jelaskanribeet'...</td>\n",
              "      <td>[0.0, 0.0, 0.9039444255789694, 0.0, 0.0, 0.0, ...</td>\n",
              "    </tr>\n",
              "    <tr>\n",
              "      <th>3</th>\n",
              "      <td>3</td>\n",
              "      <td>23:45:23,Selevel negara kok tidak mampu bikin ...</td>\n",
              "      <td>0</td>\n",
              "      <td>Selevel negara kok tidak mampu bikin apl...</td>\n",
              "      <td>selevel negara kok tidak mampu bikin apl...</td>\n",
              "      <td>level negara kok tidak mampu bikin aplikasi ya...</td>\n",
              "      <td>level negara aplikasi daftar ulang login no hp...</td>\n",
              "      <td>['level', 'negara', 'aplikasi', 'daftar', 'ula...</td>\n",
              "      <td>{'level': 0.06666666666666667, 'negara': 0.133...</td>\n",
              "      <td>{'aplikasi': 144, 'level': 1, 'negara': 3, 'da...</td>\n",
              "      <td>{'moga': 11, 'aplikasi': 144, 'cepat': 6, 'sus...</td>\n",
              "      <td>{'aplikasi': 0.5447271754416719, 'level': 4.82...</td>\n",
              "      <td>{'moga': 3.036554268074246, 'aplikasi': 0.5447...</td>\n",
              "      <td>{'level': 0.3218875824868201, 'negara': 0.5513...</td>\n",
              "      <td>[0.036315145029444794, 0.08115972164387178, 0....</td>\n",
              "    </tr>\n",
              "    <tr>\n",
              "      <th>4</th>\n",
              "      <td>4</td>\n",
              "      <td>00:00:53,\"Maaf kasih 1 bintang karena engga e...</td>\n",
              "      <td>0</td>\n",
              "      <td>Maaf kasih   bintang karena engga epekti...</td>\n",
              "      <td>maaf kasih   bintang karena engga epekti...</td>\n",
              "      <td>maaf kasih bintang karena engga epektif malah ...</td>\n",
              "      <td>maaf kasih bintang engga epektif ribet daftar ...</td>\n",
              "      <td>['maaf', 'kasih', 'bintang', 'engga', 'epektif...</td>\n",
              "      <td>{'maaf': 0.125, 'kasih': 0.125, 'bintang': 0.1...</td>\n",
              "      <td>{'susah': 40, 'daftar': 73, 'maaf': 1, 'kasih'...</td>\n",
              "      <td>{'moga': 11, 'aplikasi': 144, 'cepat': 6, 'sus...</td>\n",
              "      <td>{'susah': 1.8078888511579387, 'daftar': 1.2173...</td>\n",
              "      <td>{'moga': 3.036554268074246, 'aplikasi': 0.5447...</td>\n",
              "      <td>{'maaf': 0.6035392171627877, 'kasih': 0.343609...</td>\n",
              "      <td>[0.0, 0.1521744780822596, 0.22598610639474234,...</td>\n",
              "    </tr>\n",
              "    <tr>\n",
              "      <th>...</th>\n",
              "      <td>...</td>\n",
              "      <td>...</td>\n",
              "      <td>...</td>\n",
              "      <td>...</td>\n",
              "      <td>...</td>\n",
              "      <td>...</td>\n",
              "      <td>...</td>\n",
              "      <td>...</td>\n",
              "      <td>...</td>\n",
              "      <td>...</td>\n",
              "      <td>...</td>\n",
              "      <td>...</td>\n",
              "      <td>...</td>\n",
              "      <td>...</td>\n",
              "      <td>...</td>\n",
              "    </tr>\n",
              "    <tr>\n",
              "      <th>245</th>\n",
              "      <td>245</td>\n",
              "      <td>Setelah hampir sehari mengisi data diri,di sub...</td>\n",
              "      <td>1</td>\n",
              "      <td>Setelah hampir sehari mengisi data diridi subs...</td>\n",
              "      <td>setelah hampir sehari mengisi data diridi subs...</td>\n",
              "      <td>telah hampir hari isi data ridi subsidi tepat ...</td>\n",
              "      <td>isi data ridi subsidi sasaranpilihan simpan dn...</td>\n",
              "      <td>['isi', 'data', 'ridi', 'subsidi', 'sasaranpil...</td>\n",
              "      <td>{'isi': 0.1111111111111111, 'data': 0.11111111...</td>\n",
              "      <td>{'simpan': 4, 'subsidi': 25, 'tolong': 8, 'isi...</td>\n",
              "      <td>{'moga': 11, 'aplikasi': 144, 'cepat': 6, 'sus...</td>\n",
              "      <td>{'simpan': 3.912023005428146, 'subsidi': 2.263...</td>\n",
              "      <td>{'moga': 3.036554268074246, 'aplikasi': 0.5447...</td>\n",
              "      <td>{'isi': 0.24729156131754637, 'data': 0.2355848...</td>\n",
              "      <td>[0.0, 0.0, 0.0, 0.0, 0.0, 0.0, 0.0, 0.23558483...</td>\n",
              "    </tr>\n",
              "    <tr>\n",
              "      <th>246</th>\n",
              "      <td>246</td>\n",
              "      <td>Dengan aplikasi MyPertamina👍👍</td>\n",
              "      <td>1</td>\n",
              "      <td>Dengan aplikasi MyPertamina</td>\n",
              "      <td>dengan aplikasi mypertamina</td>\n",
              "      <td>dengan aplikasi mypertamina</td>\n",
              "      <td>aplikasi mypertamina</td>\n",
              "      <td>['aplikasi', 'mypertamina']</td>\n",
              "      <td>{'aplikasi': 0.5, 'mypertamina': 0.5}</td>\n",
              "      <td>{'aplikasi': 144, 'mypertamina': 21}</td>\n",
              "      <td>{'moga': 11, 'aplikasi': 144, 'cepat': 6, 'sus...</td>\n",
              "      <td>{'aplikasi': 0.5447271754416719, 'mypertamina'...</td>\n",
              "      <td>{'moga': 3.036554268074246, 'aplikasi': 0.5447...</td>\n",
              "      <td>{'aplikasi': 0.27236358772083596, 'mypertamina...</td>\n",
              "      <td>[0.27236358772083596, 0.0, 0.0, 0.0, 0.0, 0.0,...</td>\n",
              "    </tr>\n",
              "    <tr>\n",
              "      <th>247</th>\n",
              "      <td>247</td>\n",
              "      <td>Masih ada banyak kekurangan / ada banyak sekal...</td>\n",
              "      <td>0</td>\n",
              "      <td>Masih ada banyak kekurangan   ada banyak sekal...</td>\n",
              "      <td>masih ada banyak kekurangan   ada banyak sekal...</td>\n",
              "      <td>masih ada banyak kurang ada banyak sekali bug ...</td>\n",
              "      <td>bug sulit aplikasi tolol</td>\n",
              "      <td>['bug', 'sulit', 'aplikasi', 'tolol']</td>\n",
              "      <td>{'bug': 0.25, 'sulit': 0.25, 'aplikasi': 0.25,...</td>\n",
              "      <td>{'aplikasi': 144, 'sulit': 23, 'bug': 6, 'tolo...</td>\n",
              "      <td>{'moga': 11, 'aplikasi': 144, 'cepat': 6, 'sus...</td>\n",
              "      <td>{'aplikasi': 0.5447271754416719, 'sulit': 2.34...</td>\n",
              "      <td>{'moga': 3.036554268074246, 'aplikasi': 0.5447...</td>\n",
              "      <td>{'bug': 0.8938876922017333, 'sulit': 0.5858517...</td>\n",
              "      <td>[0.13618179386041798, 0.0, 0.0, 0.0, 0.0, 0.0,...</td>\n",
              "    </tr>\n",
              "    <tr>\n",
              "      <th>248</th>\n",
              "      <td>248</td>\n",
              "      <td>Tolong di batasin donk pembelian pertalite yg ...</td>\n",
              "      <td>1</td>\n",
              "      <td>Tolong di batasin donk pembelian pertalite yg ...</td>\n",
              "      <td>tolong di batasin donk pembelian pertalite yg ...</td>\n",
              "      <td>tolong di batasin donk beli pertalite yg guna ...</td>\n",
              "      <td>tolong batasin donk beli pertalite kapasitas</td>\n",
              "      <td>['tolong', 'batasin', 'donk', 'beli', 'pertali...</td>\n",
              "      <td>{'tolong': 0.16666666666666666, 'batasin': 0.1...</td>\n",
              "      <td>{'beli': 29, 'tolong': 8, 'pertalite': 6, 'don...</td>\n",
              "      <td>{'moga': 11, 'aplikasi': 144, 'cepat': 6, 'sus...</td>\n",
              "      <td>{'beli': 2.120263536200091, 'tolong': 3.324236...</td>\n",
              "      <td>{'moga': 3.036554268074246, 'aplikasi': 0.5447...</td>\n",
              "      <td>{'tolong': 0.5540393900876711, 'batasin': 0.80...</td>\n",
              "      <td>[0.0, 0.0, 0.0, 0.0, 0.0, 0.0, 0.3533772560333...</td>\n",
              "    </tr>\n",
              "    <tr>\n",
              "      <th>249</th>\n",
              "      <td>249</td>\n",
              "      <td>tidak semua konsumen punya smartphone....beli ...</td>\n",
              "      <td>0</td>\n",
              "      <td>tidak semua konsumen punya smartphonebeli bbm ...</td>\n",
              "      <td>tidak semua konsumen punya smartphonebeli bbm ...</td>\n",
              "      <td>tidak semua konsumen punya smartphonebeli bbm ...</td>\n",
              "      <td>konsumen smartphonebeli bbm ribetinfrastruktur...</td>\n",
              "      <td>['konsumen', 'smartphonebeli', 'bbm', 'ribetin...</td>\n",
              "      <td>{'konsumen': 0.06666666666666667, 'smartphoneb...</td>\n",
              "      <td>{'negara': 3, 'rakyat': 19, 'hidup': 13, 'bbm'...</td>\n",
              "      <td>{'moga': 11, 'aplikasi': 144, 'cepat': 6, 'sus...</td>\n",
              "      <td>{'negara': 4.135166556742356, 'rakyat': 2.5257...</td>\n",
              "      <td>{'moga': 3.036554268074246, 'aplikasi': 0.5447...</td>\n",
              "      <td>{'konsumen': 0.3218875824868201, 'smartphonebe...</td>\n",
              "      <td>[0.0, 0.0, 0.0, 0.0, 0.0, 0.0, 0.0, 0.0, 0.0, ...</td>\n",
              "    </tr>\n",
              "  </tbody>\n",
              "</table>\n",
              "<p>250 rows × 15 columns</p>\n",
              "</div>\n",
              "      <button class=\"colab-df-convert\" onclick=\"convertToInteractive('df-75835f61-91bb-4f24-9628-1e8196de38a7')\"\n",
              "              title=\"Convert this dataframe to an interactive table.\"\n",
              "              style=\"display:none;\">\n",
              "        \n",
              "  <svg xmlns=\"http://www.w3.org/2000/svg\" height=\"24px\"viewBox=\"0 0 24 24\"\n",
              "       width=\"24px\">\n",
              "    <path d=\"M0 0h24v24H0V0z\" fill=\"none\"/>\n",
              "    <path d=\"M18.56 5.44l.94 2.06.94-2.06 2.06-.94-2.06-.94-.94-2.06-.94 2.06-2.06.94zm-11 1L8.5 8.5l.94-2.06 2.06-.94-2.06-.94L8.5 2.5l-.94 2.06-2.06.94zm10 10l.94 2.06.94-2.06 2.06-.94-2.06-.94-.94-2.06-.94 2.06-2.06.94z\"/><path d=\"M17.41 7.96l-1.37-1.37c-.4-.4-.92-.59-1.43-.59-.52 0-1.04.2-1.43.59L10.3 9.45l-7.72 7.72c-.78.78-.78 2.05 0 2.83L4 21.41c.39.39.9.59 1.41.59.51 0 1.02-.2 1.41-.59l7.78-7.78 2.81-2.81c.8-.78.8-2.07 0-2.86zM5.41 20L4 18.59l7.72-7.72 1.47 1.35L5.41 20z\"/>\n",
              "  </svg>\n",
              "      </button>\n",
              "      \n",
              "  <style>\n",
              "    .colab-df-container {\n",
              "      display:flex;\n",
              "      flex-wrap:wrap;\n",
              "      gap: 12px;\n",
              "    }\n",
              "\n",
              "    .colab-df-convert {\n",
              "      background-color: #E8F0FE;\n",
              "      border: none;\n",
              "      border-radius: 50%;\n",
              "      cursor: pointer;\n",
              "      display: none;\n",
              "      fill: #1967D2;\n",
              "      height: 32px;\n",
              "      padding: 0 0 0 0;\n",
              "      width: 32px;\n",
              "    }\n",
              "\n",
              "    .colab-df-convert:hover {\n",
              "      background-color: #E2EBFA;\n",
              "      box-shadow: 0px 1px 2px rgba(60, 64, 67, 0.3), 0px 1px 3px 1px rgba(60, 64, 67, 0.15);\n",
              "      fill: #174EA6;\n",
              "    }\n",
              "\n",
              "    [theme=dark] .colab-df-convert {\n",
              "      background-color: #3B4455;\n",
              "      fill: #D2E3FC;\n",
              "    }\n",
              "\n",
              "    [theme=dark] .colab-df-convert:hover {\n",
              "      background-color: #434B5C;\n",
              "      box-shadow: 0px 1px 3px 1px rgba(0, 0, 0, 0.15);\n",
              "      filter: drop-shadow(0px 1px 2px rgba(0, 0, 0, 0.3));\n",
              "      fill: #FFFFFF;\n",
              "    }\n",
              "  </style>\n",
              "\n",
              "      <script>\n",
              "        const buttonEl =\n",
              "          document.querySelector('#df-75835f61-91bb-4f24-9628-1e8196de38a7 button.colab-df-convert');\n",
              "        buttonEl.style.display =\n",
              "          google.colab.kernel.accessAllowed ? 'block' : 'none';\n",
              "\n",
              "        async function convertToInteractive(key) {\n",
              "          const element = document.querySelector('#df-75835f61-91bb-4f24-9628-1e8196de38a7');\n",
              "          const dataTable =\n",
              "            await google.colab.kernel.invokeFunction('convertToInteractive',\n",
              "                                                     [key], {});\n",
              "          if (!dataTable) return;\n",
              "\n",
              "          const docLinkHtml = 'Like what you see? Visit the ' +\n",
              "            '<a target=\"_blank\" href=https://colab.research.google.com/notebooks/data_table.ipynb>data table notebook</a>'\n",
              "            + ' to learn more about interactive tables.';\n",
              "          element.innerHTML = '';\n",
              "          dataTable['output_type'] = 'display_data';\n",
              "          await google.colab.output.renderOutput(dataTable, element);\n",
              "          const docLink = document.createElement('div');\n",
              "          docLink.innerHTML = docLinkHtml;\n",
              "          element.appendChild(docLink);\n",
              "        }\n",
              "      </script>\n",
              "    </div>\n",
              "  </div>\n",
              "  "
            ]
          },
          "metadata": {},
          "execution_count": 337
        }
      ],
      "source": [
        "import requests\n",
        "import pandas as pd\n",
        "import re\n",
        "from sklearn.metrics import accuracy_score\n",
        "import warnings\n",
        "import numpy as np\n",
        "\n",
        "# Import dataset dari hasil TF-IDF\n",
        "from google.colab import drive\n",
        "drive.mount('/content/drive')\n",
        "\n",
        "df_dataset = pd.read_excel('/content/drive/MyDrive/Colab Notebooks/data.xlsx')\n",
        "df_dataset"
      ]
    },
    {
      "cell_type": "code",
      "source": [
        "from sklearn.svm import SVC\n",
        "from sklearn.preprocessing import LabelEncoder\n",
        "from sklearn.model_selection import train_test_split\n",
        "from sklearn.metrics import accuracy_score, confusion_matrix, classification_report"
      ],
      "metadata": {
        "id": "B_W3-bi5KAiM"
      },
      "execution_count": 338,
      "outputs": []
    },
    {
      "cell_type": "code",
      "source": [
        "# Jadikan sentimen (nilai y) menjadi nilai 0 dan 1\n",
        "\n",
        "enc = LabelEncoder()\n",
        "df_dataset['Sentimen'] = enc.fit_transform(df_dataset['Sentimen'].values)\n",
        "cls = df_dataset['Sentimen']\n",
        "cls"
      ],
      "metadata": {
        "colab": {
          "base_uri": "https://localhost:8080/"
        },
        "id": "J1KfPNhlKGWd",
        "outputId": "17663555-9f44-4f9d-87b9-dbde74a7697d"
      },
      "execution_count": 339,
      "outputs": [
        {
          "output_type": "execute_result",
          "data": {
            "text/plain": [
              "0      1\n",
              "1      1\n",
              "2      0\n",
              "3      0\n",
              "4      0\n",
              "      ..\n",
              "245    1\n",
              "246    1\n",
              "247    0\n",
              "248    1\n",
              "249    0\n",
              "Name: Sentimen, Length: 250, dtype: int64"
            ]
          },
          "metadata": {},
          "execution_count": 339
        }
      ]
    },
    {
      "cell_type": "code",
      "source": [
        "# Tetapkan nilai X dari hasil TF-IDF \n",
        "\n",
        "attrs = df_dataset['tf_idf_vec']\n",
        "attrs"
      ],
      "metadata": {
        "colab": {
          "base_uri": "https://localhost:8080/"
        },
        "id": "2wlM4iJBKUjm",
        "outputId": "2bd17790-9e19-40fb-a53a-ee8b8c62b4e8"
      },
      "execution_count": 340,
      "outputs": [
        {
          "output_type": "execute_result",
          "data": {
            "text/plain": [
              "0      [0.23345450376071653, 0.0, 0.5165396717594111,...\n",
              "1      [0.18157572514722398, 0.0, 0.0, 0.0, 0.0, 0.0,...\n",
              "2      [0.0, 0.0, 0.9039444255789694, 0.0, 0.0, 0.0, ...\n",
              "3      [0.036315145029444794, 0.08115972164387178, 0....\n",
              "4      [0.0, 0.1521744780822596, 0.22598610639474234,...\n",
              "                             ...                        \n",
              "245    [0.0, 0.0, 0.0, 0.0, 0.0, 0.0, 0.0, 0.23558483...\n",
              "246    [0.27236358772083596, 0.0, 0.0, 0.0, 0.0, 0.0,...\n",
              "247    [0.13618179386041798, 0.0, 0.0, 0.0, 0.0, 0.0,...\n",
              "248    [0.0, 0.0, 0.0, 0.0, 0.0, 0.0, 0.3533772560333...\n",
              "249    [0.0, 0.0, 0.0, 0.0, 0.0, 0.0, 0.0, 0.0, 0.0, ...\n",
              "Name: tf_idf_vec, Length: 250, dtype: object"
            ]
          },
          "metadata": {},
          "execution_count": 340
        }
      ]
    },
    {
      "cell_type": "code",
      "source": [
        "# Jadikan nilai x menjadi dataframe\n",
        "import ast\n",
        "for i in range(len(attrs)):\n",
        "    attrs[i] = ast.literal_eval(attrs[i])\n",
        "\n",
        "column_name = []\n",
        "dataset = []\n",
        "\n",
        "for i in range(len(attrs[0])):\n",
        "    column_name.append(\"X\"+str(i))\n",
        "\n",
        "for i in range(len(attrs)):\n",
        "    dataset.append(attrs[i])\n",
        "\n",
        "attr = pd.DataFrame(dataset, columns=column_name)\n",
        "attr"
      ],
      "metadata": {
        "id": "oCZpBoN4L9Yv",
        "colab": {
          "base_uri": "https://localhost:8080/",
          "height": 510
        },
        "outputId": "c56b2032-6fa7-45d8-89d0-09c3b53425fe"
      },
      "execution_count": 341,
      "outputs": [
        {
          "output_type": "stream",
          "name": "stderr",
          "text": [
            "<ipython-input-341-c3bd5cb043e1>:4: SettingWithCopyWarning: \n",
            "A value is trying to be set on a copy of a slice from a DataFrame\n",
            "\n",
            "See the caveats in the documentation: https://pandas.pydata.org/pandas-docs/stable/user_guide/indexing.html#returning-a-view-versus-a-copy\n",
            "  attrs[i] = ast.literal_eval(attrs[i])\n"
          ]
        },
        {
          "output_type": "execute_result",
          "data": {
            "text/plain": [
              "           X0        X1        X2   X3   X4   X5        X6        X7   X8  \\\n",
              "0    0.233455  0.000000  0.516540  0.0  0.0  0.0  0.000000  0.000000  0.0   \n",
              "1    0.181576  0.000000  0.000000  0.0  0.0  0.0  0.000000  0.000000  0.0   \n",
              "2    0.000000  0.000000  0.903944  0.0  0.0  0.0  0.000000  0.000000  0.0   \n",
              "3    0.036315  0.081160  0.000000  0.0  0.0  0.0  0.000000  0.000000  0.0   \n",
              "4    0.000000  0.152174  0.225986  0.0  0.0  0.0  0.000000  0.000000  0.0   \n",
              "..        ...       ...       ...  ...  ...  ...       ...       ...  ...   \n",
              "245  0.000000  0.000000  0.000000  0.0  0.0  0.0  0.000000  0.235585  0.0   \n",
              "246  0.272364  0.000000  0.000000  0.0  0.0  0.0  0.000000  0.000000  0.0   \n",
              "247  0.136182  0.000000  0.000000  0.0  0.0  0.0  0.000000  0.000000  0.0   \n",
              "248  0.000000  0.000000  0.000000  0.0  0.0  0.0  0.353377  0.000000  0.0   \n",
              "249  0.000000  0.000000  0.000000  0.0  0.0  0.0  0.000000  0.000000  0.0   \n",
              "\n",
              "           X9  ...  X65  X66  X67  X68  X69       X70  X71  X72  X73       X74  \n",
              "0    0.000000  ...  0.0  0.0  0.0  0.0  0.0  0.000000  0.0  0.0  0.0  0.000000  \n",
              "1    0.000000  ...  0.0  0.0  0.0  0.0  0.0  0.000000  0.0  0.0  0.0  0.000000  \n",
              "2    0.000000  ...  0.0  0.0  0.0  0.0  0.0  0.000000  0.0  0.0  0.0  0.000000  \n",
              "3    0.000000  ...  0.0  0.0  0.0  0.0  0.0  0.000000  0.0  0.0  0.0  0.000000  \n",
              "4    0.278203  ...  0.0  0.0  0.0  0.0  0.0  0.000000  0.0  0.0  0.0  0.000000  \n",
              "..        ...  ...  ...  ...  ...  ...  ...       ...  ...  ...  ...       ...  \n",
              "245  0.000000  ...  0.0  0.0  0.0  0.0  0.0  0.000000  0.0  0.0  0.0  0.000000  \n",
              "246  0.000000  ...  0.0  0.0  0.0  0.0  0.0  0.000000  0.0  0.0  0.0  0.000000  \n",
              "247  0.000000  ...  0.0  0.0  0.0  0.0  0.0  0.893888  0.0  0.0  0.0  0.000000  \n",
              "248  0.000000  ...  0.0  0.0  0.0  0.0  0.0  0.000000  0.0  0.0  0.0  0.595925  \n",
              "249  0.000000  ...  0.0  0.0  0.0  0.0  0.0  0.000000  0.0  0.0  0.0  0.000000  \n",
              "\n",
              "[250 rows x 75 columns]"
            ],
            "text/html": [
              "\n",
              "  <div id=\"df-4d2c5ed5-a5f3-474c-af15-fb72c786ca21\">\n",
              "    <div class=\"colab-df-container\">\n",
              "      <div>\n",
              "<style scoped>\n",
              "    .dataframe tbody tr th:only-of-type {\n",
              "        vertical-align: middle;\n",
              "    }\n",
              "\n",
              "    .dataframe tbody tr th {\n",
              "        vertical-align: top;\n",
              "    }\n",
              "\n",
              "    .dataframe thead th {\n",
              "        text-align: right;\n",
              "    }\n",
              "</style>\n",
              "<table border=\"1\" class=\"dataframe\">\n",
              "  <thead>\n",
              "    <tr style=\"text-align: right;\">\n",
              "      <th></th>\n",
              "      <th>X0</th>\n",
              "      <th>X1</th>\n",
              "      <th>X2</th>\n",
              "      <th>X3</th>\n",
              "      <th>X4</th>\n",
              "      <th>X5</th>\n",
              "      <th>X6</th>\n",
              "      <th>X7</th>\n",
              "      <th>X8</th>\n",
              "      <th>X9</th>\n",
              "      <th>...</th>\n",
              "      <th>X65</th>\n",
              "      <th>X66</th>\n",
              "      <th>X67</th>\n",
              "      <th>X68</th>\n",
              "      <th>X69</th>\n",
              "      <th>X70</th>\n",
              "      <th>X71</th>\n",
              "      <th>X72</th>\n",
              "      <th>X73</th>\n",
              "      <th>X74</th>\n",
              "    </tr>\n",
              "  </thead>\n",
              "  <tbody>\n",
              "    <tr>\n",
              "      <th>0</th>\n",
              "      <td>0.233455</td>\n",
              "      <td>0.000000</td>\n",
              "      <td>0.516540</td>\n",
              "      <td>0.0</td>\n",
              "      <td>0.0</td>\n",
              "      <td>0.0</td>\n",
              "      <td>0.000000</td>\n",
              "      <td>0.000000</td>\n",
              "      <td>0.0</td>\n",
              "      <td>0.000000</td>\n",
              "      <td>...</td>\n",
              "      <td>0.0</td>\n",
              "      <td>0.0</td>\n",
              "      <td>0.0</td>\n",
              "      <td>0.0</td>\n",
              "      <td>0.0</td>\n",
              "      <td>0.000000</td>\n",
              "      <td>0.0</td>\n",
              "      <td>0.0</td>\n",
              "      <td>0.0</td>\n",
              "      <td>0.000000</td>\n",
              "    </tr>\n",
              "    <tr>\n",
              "      <th>1</th>\n",
              "      <td>0.181576</td>\n",
              "      <td>0.000000</td>\n",
              "      <td>0.000000</td>\n",
              "      <td>0.0</td>\n",
              "      <td>0.0</td>\n",
              "      <td>0.0</td>\n",
              "      <td>0.000000</td>\n",
              "      <td>0.000000</td>\n",
              "      <td>0.0</td>\n",
              "      <td>0.000000</td>\n",
              "      <td>...</td>\n",
              "      <td>0.0</td>\n",
              "      <td>0.0</td>\n",
              "      <td>0.0</td>\n",
              "      <td>0.0</td>\n",
              "      <td>0.0</td>\n",
              "      <td>0.000000</td>\n",
              "      <td>0.0</td>\n",
              "      <td>0.0</td>\n",
              "      <td>0.0</td>\n",
              "      <td>0.000000</td>\n",
              "    </tr>\n",
              "    <tr>\n",
              "      <th>2</th>\n",
              "      <td>0.000000</td>\n",
              "      <td>0.000000</td>\n",
              "      <td>0.903944</td>\n",
              "      <td>0.0</td>\n",
              "      <td>0.0</td>\n",
              "      <td>0.0</td>\n",
              "      <td>0.000000</td>\n",
              "      <td>0.000000</td>\n",
              "      <td>0.0</td>\n",
              "      <td>0.000000</td>\n",
              "      <td>...</td>\n",
              "      <td>0.0</td>\n",
              "      <td>0.0</td>\n",
              "      <td>0.0</td>\n",
              "      <td>0.0</td>\n",
              "      <td>0.0</td>\n",
              "      <td>0.000000</td>\n",
              "      <td>0.0</td>\n",
              "      <td>0.0</td>\n",
              "      <td>0.0</td>\n",
              "      <td>0.000000</td>\n",
              "    </tr>\n",
              "    <tr>\n",
              "      <th>3</th>\n",
              "      <td>0.036315</td>\n",
              "      <td>0.081160</td>\n",
              "      <td>0.000000</td>\n",
              "      <td>0.0</td>\n",
              "      <td>0.0</td>\n",
              "      <td>0.0</td>\n",
              "      <td>0.000000</td>\n",
              "      <td>0.000000</td>\n",
              "      <td>0.0</td>\n",
              "      <td>0.000000</td>\n",
              "      <td>...</td>\n",
              "      <td>0.0</td>\n",
              "      <td>0.0</td>\n",
              "      <td>0.0</td>\n",
              "      <td>0.0</td>\n",
              "      <td>0.0</td>\n",
              "      <td>0.000000</td>\n",
              "      <td>0.0</td>\n",
              "      <td>0.0</td>\n",
              "      <td>0.0</td>\n",
              "      <td>0.000000</td>\n",
              "    </tr>\n",
              "    <tr>\n",
              "      <th>4</th>\n",
              "      <td>0.000000</td>\n",
              "      <td>0.152174</td>\n",
              "      <td>0.225986</td>\n",
              "      <td>0.0</td>\n",
              "      <td>0.0</td>\n",
              "      <td>0.0</td>\n",
              "      <td>0.000000</td>\n",
              "      <td>0.000000</td>\n",
              "      <td>0.0</td>\n",
              "      <td>0.278203</td>\n",
              "      <td>...</td>\n",
              "      <td>0.0</td>\n",
              "      <td>0.0</td>\n",
              "      <td>0.0</td>\n",
              "      <td>0.0</td>\n",
              "      <td>0.0</td>\n",
              "      <td>0.000000</td>\n",
              "      <td>0.0</td>\n",
              "      <td>0.0</td>\n",
              "      <td>0.0</td>\n",
              "      <td>0.000000</td>\n",
              "    </tr>\n",
              "    <tr>\n",
              "      <th>...</th>\n",
              "      <td>...</td>\n",
              "      <td>...</td>\n",
              "      <td>...</td>\n",
              "      <td>...</td>\n",
              "      <td>...</td>\n",
              "      <td>...</td>\n",
              "      <td>...</td>\n",
              "      <td>...</td>\n",
              "      <td>...</td>\n",
              "      <td>...</td>\n",
              "      <td>...</td>\n",
              "      <td>...</td>\n",
              "      <td>...</td>\n",
              "      <td>...</td>\n",
              "      <td>...</td>\n",
              "      <td>...</td>\n",
              "      <td>...</td>\n",
              "      <td>...</td>\n",
              "      <td>...</td>\n",
              "      <td>...</td>\n",
              "      <td>...</td>\n",
              "    </tr>\n",
              "    <tr>\n",
              "      <th>245</th>\n",
              "      <td>0.000000</td>\n",
              "      <td>0.000000</td>\n",
              "      <td>0.000000</td>\n",
              "      <td>0.0</td>\n",
              "      <td>0.0</td>\n",
              "      <td>0.0</td>\n",
              "      <td>0.000000</td>\n",
              "      <td>0.235585</td>\n",
              "      <td>0.0</td>\n",
              "      <td>0.000000</td>\n",
              "      <td>...</td>\n",
              "      <td>0.0</td>\n",
              "      <td>0.0</td>\n",
              "      <td>0.0</td>\n",
              "      <td>0.0</td>\n",
              "      <td>0.0</td>\n",
              "      <td>0.000000</td>\n",
              "      <td>0.0</td>\n",
              "      <td>0.0</td>\n",
              "      <td>0.0</td>\n",
              "      <td>0.000000</td>\n",
              "    </tr>\n",
              "    <tr>\n",
              "      <th>246</th>\n",
              "      <td>0.272364</td>\n",
              "      <td>0.000000</td>\n",
              "      <td>0.000000</td>\n",
              "      <td>0.0</td>\n",
              "      <td>0.0</td>\n",
              "      <td>0.0</td>\n",
              "      <td>0.000000</td>\n",
              "      <td>0.000000</td>\n",
              "      <td>0.0</td>\n",
              "      <td>0.000000</td>\n",
              "      <td>...</td>\n",
              "      <td>0.0</td>\n",
              "      <td>0.0</td>\n",
              "      <td>0.0</td>\n",
              "      <td>0.0</td>\n",
              "      <td>0.0</td>\n",
              "      <td>0.000000</td>\n",
              "      <td>0.0</td>\n",
              "      <td>0.0</td>\n",
              "      <td>0.0</td>\n",
              "      <td>0.000000</td>\n",
              "    </tr>\n",
              "    <tr>\n",
              "      <th>247</th>\n",
              "      <td>0.136182</td>\n",
              "      <td>0.000000</td>\n",
              "      <td>0.000000</td>\n",
              "      <td>0.0</td>\n",
              "      <td>0.0</td>\n",
              "      <td>0.0</td>\n",
              "      <td>0.000000</td>\n",
              "      <td>0.000000</td>\n",
              "      <td>0.0</td>\n",
              "      <td>0.000000</td>\n",
              "      <td>...</td>\n",
              "      <td>0.0</td>\n",
              "      <td>0.0</td>\n",
              "      <td>0.0</td>\n",
              "      <td>0.0</td>\n",
              "      <td>0.0</td>\n",
              "      <td>0.893888</td>\n",
              "      <td>0.0</td>\n",
              "      <td>0.0</td>\n",
              "      <td>0.0</td>\n",
              "      <td>0.000000</td>\n",
              "    </tr>\n",
              "    <tr>\n",
              "      <th>248</th>\n",
              "      <td>0.000000</td>\n",
              "      <td>0.000000</td>\n",
              "      <td>0.000000</td>\n",
              "      <td>0.0</td>\n",
              "      <td>0.0</td>\n",
              "      <td>0.0</td>\n",
              "      <td>0.353377</td>\n",
              "      <td>0.000000</td>\n",
              "      <td>0.0</td>\n",
              "      <td>0.000000</td>\n",
              "      <td>...</td>\n",
              "      <td>0.0</td>\n",
              "      <td>0.0</td>\n",
              "      <td>0.0</td>\n",
              "      <td>0.0</td>\n",
              "      <td>0.0</td>\n",
              "      <td>0.000000</td>\n",
              "      <td>0.0</td>\n",
              "      <td>0.0</td>\n",
              "      <td>0.0</td>\n",
              "      <td>0.595925</td>\n",
              "    </tr>\n",
              "    <tr>\n",
              "      <th>249</th>\n",
              "      <td>0.000000</td>\n",
              "      <td>0.000000</td>\n",
              "      <td>0.000000</td>\n",
              "      <td>0.0</td>\n",
              "      <td>0.0</td>\n",
              "      <td>0.0</td>\n",
              "      <td>0.000000</td>\n",
              "      <td>0.000000</td>\n",
              "      <td>0.0</td>\n",
              "      <td>0.000000</td>\n",
              "      <td>...</td>\n",
              "      <td>0.0</td>\n",
              "      <td>0.0</td>\n",
              "      <td>0.0</td>\n",
              "      <td>0.0</td>\n",
              "      <td>0.0</td>\n",
              "      <td>0.000000</td>\n",
              "      <td>0.0</td>\n",
              "      <td>0.0</td>\n",
              "      <td>0.0</td>\n",
              "      <td>0.000000</td>\n",
              "    </tr>\n",
              "  </tbody>\n",
              "</table>\n",
              "<p>250 rows × 75 columns</p>\n",
              "</div>\n",
              "      <button class=\"colab-df-convert\" onclick=\"convertToInteractive('df-4d2c5ed5-a5f3-474c-af15-fb72c786ca21')\"\n",
              "              title=\"Convert this dataframe to an interactive table.\"\n",
              "              style=\"display:none;\">\n",
              "        \n",
              "  <svg xmlns=\"http://www.w3.org/2000/svg\" height=\"24px\"viewBox=\"0 0 24 24\"\n",
              "       width=\"24px\">\n",
              "    <path d=\"M0 0h24v24H0V0z\" fill=\"none\"/>\n",
              "    <path d=\"M18.56 5.44l.94 2.06.94-2.06 2.06-.94-2.06-.94-.94-2.06-.94 2.06-2.06.94zm-11 1L8.5 8.5l.94-2.06 2.06-.94-2.06-.94L8.5 2.5l-.94 2.06-2.06.94zm10 10l.94 2.06.94-2.06 2.06-.94-2.06-.94-.94-2.06-.94 2.06-2.06.94z\"/><path d=\"M17.41 7.96l-1.37-1.37c-.4-.4-.92-.59-1.43-.59-.52 0-1.04.2-1.43.59L10.3 9.45l-7.72 7.72c-.78.78-.78 2.05 0 2.83L4 21.41c.39.39.9.59 1.41.59.51 0 1.02-.2 1.41-.59l7.78-7.78 2.81-2.81c.8-.78.8-2.07 0-2.86zM5.41 20L4 18.59l7.72-7.72 1.47 1.35L5.41 20z\"/>\n",
              "  </svg>\n",
              "      </button>\n",
              "      \n",
              "  <style>\n",
              "    .colab-df-container {\n",
              "      display:flex;\n",
              "      flex-wrap:wrap;\n",
              "      gap: 12px;\n",
              "    }\n",
              "\n",
              "    .colab-df-convert {\n",
              "      background-color: #E8F0FE;\n",
              "      border: none;\n",
              "      border-radius: 50%;\n",
              "      cursor: pointer;\n",
              "      display: none;\n",
              "      fill: #1967D2;\n",
              "      height: 32px;\n",
              "      padding: 0 0 0 0;\n",
              "      width: 32px;\n",
              "    }\n",
              "\n",
              "    .colab-df-convert:hover {\n",
              "      background-color: #E2EBFA;\n",
              "      box-shadow: 0px 1px 2px rgba(60, 64, 67, 0.3), 0px 1px 3px 1px rgba(60, 64, 67, 0.15);\n",
              "      fill: #174EA6;\n",
              "    }\n",
              "\n",
              "    [theme=dark] .colab-df-convert {\n",
              "      background-color: #3B4455;\n",
              "      fill: #D2E3FC;\n",
              "    }\n",
              "\n",
              "    [theme=dark] .colab-df-convert:hover {\n",
              "      background-color: #434B5C;\n",
              "      box-shadow: 0px 1px 3px 1px rgba(0, 0, 0, 0.15);\n",
              "      filter: drop-shadow(0px 1px 2px rgba(0, 0, 0, 0.3));\n",
              "      fill: #FFFFFF;\n",
              "    }\n",
              "  </style>\n",
              "\n",
              "      <script>\n",
              "        const buttonEl =\n",
              "          document.querySelector('#df-4d2c5ed5-a5f3-474c-af15-fb72c786ca21 button.colab-df-convert');\n",
              "        buttonEl.style.display =\n",
              "          google.colab.kernel.accessAllowed ? 'block' : 'none';\n",
              "\n",
              "        async function convertToInteractive(key) {\n",
              "          const element = document.querySelector('#df-4d2c5ed5-a5f3-474c-af15-fb72c786ca21');\n",
              "          const dataTable =\n",
              "            await google.colab.kernel.invokeFunction('convertToInteractive',\n",
              "                                                     [key], {});\n",
              "          if (!dataTable) return;\n",
              "\n",
              "          const docLinkHtml = 'Like what you see? Visit the ' +\n",
              "            '<a target=\"_blank\" href=https://colab.research.google.com/notebooks/data_table.ipynb>data table notebook</a>'\n",
              "            + ' to learn more about interactive tables.';\n",
              "          element.innerHTML = '';\n",
              "          dataTable['output_type'] = 'display_data';\n",
              "          await google.colab.output.renderOutput(dataTable, element);\n",
              "          const docLink = document.createElement('div');\n",
              "          docLink.innerHTML = docLinkHtml;\n",
              "          element.appendChild(docLink);\n",
              "        }\n",
              "      </script>\n",
              "    </div>\n",
              "  </div>\n",
              "  "
            ]
          },
          "metadata": {},
          "execution_count": 341
        }
      ]
    },
    {
      "cell_type": "code",
      "source": [
        "from sklearn.preprocessing import MinMaxScaler\n",
        "from sklearn.model_selection import KFold\n",
        "\n",
        "# Proses K-FOLDING\n",
        "kf = KFold(n_splits=10)\n",
        "kf.get_n_splits(attr)\n",
        "x_train_data = [0,0,0,0,0,0,0,0,0,0]\n",
        "x_test_data = [0,0,0,0,0,0,0,0,0,0]\n",
        "y_train_data = [0,0,0,0,0,0,0,0,0,0]\n",
        "y_test_data = [0,0,0,0,0,0,0,0,0,0]\n",
        "for i, (train_index, test_index) in enumerate(kf.split(attr)):\n",
        "    # x_train, x_test, y_train, y_test = train_test_split(attr, cls, test_size = 0.2)\n",
        "    x_train , x_test = attr.iloc[train_index,:],attr.iloc[test_index,:]\n",
        "    y_train , y_test = cls[train_index] , cls[test_index]\n",
        "\n",
        "    scaler = MinMaxScaler()\n",
        "    x_train = scaler.fit_transform(x_train)\n",
        "    x_test = scaler.transform(x_test)\n",
        "\n",
        "    tree = SVC()\n",
        "    tree.fit(x_train, y_train)\n",
        "\n",
        "    x_train_data[i] = x_train\n",
        "    x_test_data[i] = x_test\n",
        "    y_train_data[i] = y_train\n",
        "    y_test_data[i] = y_test"
      ],
      "metadata": {
        "id": "QtlAFHsV9MzU"
      },
      "execution_count": 342,
      "outputs": []
    },
    {
      "cell_type": "code",
      "source": [
        "import matplotlib.pyplot as plt\n",
        "import seaborn as sn\n",
        "%matplotlib inline"
      ],
      "metadata": {
        "id": "BGsACCLCCc3m"
      },
      "execution_count": 343,
      "outputs": []
    },
    {
      "cell_type": "code",
      "source": [
        "# PLot nilai Y test per fold\n",
        "\n",
        "fig = plt.subplots(figsize=(18,6))\n",
        "barWidth = 0.15\n",
        "Y_TEST_POS = [sum(p == 1 for p in y_test_data[0]), sum(p == 1 for p in y_test_data[1]), sum(p == 1 for p in y_test_data[2]), sum(p == 1 for p in y_test_data[3]), sum(p == 1 for p in y_test_data[4]), sum(p == 1 for p in y_test_data[5]), sum(p == 1 for p in y_test_data[6]), sum(p == 1 for p in y_test_data[7]), sum(p == 1 for p in y_test_data[8]), sum(p == 1 for p in y_test_data[9])]\n",
        "Y_TEST_NEG = [sum(p == 0 for p in y_test_data[0]), sum(p == 0 for p in y_test_data[1]), sum(p == 0 for p in y_test_data[2]), sum(p == 0 for p in y_test_data[3]), sum(p == 0 for p in y_test_data[4]), sum(p == 0 for p in y_test_data[5]), sum(p == 0 for p in y_test_data[6]), sum(p == 0 for p in y_test_data[7]), sum(p == 0 for p in y_test_data[8]), sum(p == 0 for p in y_test_data[9])]\n",
        "\n",
        "br1 = np.arange(len(Y_TEST_POS))\n",
        "br2 = [x + barWidth for x in br1]\n",
        "\n",
        "plt.title(\"Total Y Train & Y Test Class Per Fold\")\n",
        "plt.bar(br1, Y_TEST_POS, color ='b', width = barWidth,\n",
        "        edgecolor ='grey', label ='Y_TEST_POS')\n",
        "plt.bar(br2, Y_TEST_NEG, color ='m', width = barWidth,\n",
        "        edgecolor ='grey', label ='Y_TEST_NEG')\n",
        "\n",
        "plt.xticks([r + barWidth for r in range(len(Y_TEST_POS))],\n",
        "        [\"Fold 1\", \"Fold 2\", \"Fold 3\", \"Fold 4\", \"Fold 5\", \"Fold 6\", \"Fold 7\", \"Fold 8\", \"Fold 9\", \"Fold 10\"])\n",
        " \n",
        "plt.legend()\n",
        "plt.show()"
      ],
      "metadata": {
        "colab": {
          "base_uri": "https://localhost:8080/",
          "height": 390
        },
        "id": "sptVwxp8J7oY",
        "outputId": "9264287c-b2f6-4f37-b0fa-8a5573f2ffc1"
      },
      "execution_count": 344,
      "outputs": [
        {
          "output_type": "display_data",
          "data": {
            "text/plain": [
              "<Figure size 1296x432 with 1 Axes>"
            ],
            "image/png": "[encoded data removed]"
          },
          "metadata": {
            "needs_background": "light"
          }
        }
      ]
    },
    {
      "cell_type": "code",
      "source": [
        "# Parameter SVM\n",
        "\n",
        "c_data = 1.0\n",
        "max_iteration = 5000\n",
        "tolerance = 0.001\n",
        "np.random.seed(25)"
      ],
      "metadata": {
        "id": "ymPZMmcJS-no"
      },
      "execution_count": 345,
      "outputs": []
    },
    {
      "cell_type": "code",
      "source": [
        "# Proses training FOLD-1\n",
        "\n",
        "fold_1 = SVC(\n",
        "    C = c_data,\n",
        "    kernel = 'linear',\n",
        "    max_iter = max_iteration,\n",
        "    random_state = 0,\n",
        "    tol = tolerance,\n",
        "    )\n",
        "\n",
        "# Proses testing FOLD-1\n",
        "fold_1 = fold_1.fit(x_train_data[0], y_train_data[0])\n",
        "\n",
        "prediction_1 = fold_1.predict(x_test_data[0])\n",
        "false_1 = (prediction_1 != y_test_data[0]).sum()\n",
        "true_1 = (prediction_1 == y_test_data[0]).sum()\n",
        "tn_1, fp_1, fn_1, tp_1 = confusion_matrix(y_test_data[0], prediction_1).ravel()\n",
        "precision_score_1 = tp_1 / (tp_1 + fp_1)\n",
        "recall_score_1 = tp_1 / (tp_1 + fn_1)\n",
        "f1_score_1 = 2 * (recall_score_1 * precision_score_1) / (recall_score_1 + precision_score_1)\n",
        "\n",
        "# Hasil Akurasi\n",
        "print(\"Accuration: \", true_1 / (true_1 + false_1) * 100, '%')\n",
        "# Hasil Presisi\n",
        "print(\"Precission: \", precision_score_1 * 100, \"%\")\n",
        "# Hasil Recall\n",
        "print(\"Recall: \", recall_score_1 * 100, \"%\")\n",
        "# Hasil F1\n",
        "print(\"F1 Score: \", f1_score_1 * 100, \"%\")\n",
        "print(\"======================\")\n",
        "# Plot Confusion Matrix\n",
        "cm_1 = confusion_matrix(y_test, prediction_1)\n",
        "plt.figure(figsize=(10,7))\n",
        "sn.heatmap(cm_1, annot=True)\n",
        "plt.xlabel('Predicted')\n",
        "plt.ylabel('Truth')"
      ],
      "metadata": {
        "colab": {
          "base_uri": "https://localhost:8080/",
          "height": 550
        },
        "id": "4Hwj8On9AhKL",
        "outputId": "3090be80-f15c-4cee-da86-8de88f4c097d"
      },
      "execution_count": 346,
      "outputs": [
        {
          "output_type": "stream",
          "name": "stdout",
          "text": [
            "Accuration:  80.0 %\n",
            "Precission:  100.0 %\n",
            "Recall:  44.44444444444444 %\n",
            "F1 Score:  61.53846153846153 %\n",
            "======================\n"
          ]
        },
        {
          "output_type": "execute_result",
          "data": {
            "text/plain": [
              "Text(69.0, 0.5, 'Truth')"
            ]
          },
          "metadata": {},
          "execution_count": 346
        },
        {
          "output_type": "display_data",
          "data": {
            "text/plain": [
              "<Figure size 720x504 with 2 Axes>"
            ],
            "image/png": "[encoded data removed]"
          },
          "metadata": {
            "needs_background": "light"
          }
        }
      ]
    },
    {
      "cell_type": "code",
      "source": [
        "# Proses training FOLD-2\n",
        "\n",
        "fold_2 = SVC(\n",
        "    C = c_data,\n",
        "    kernel = 'linear',\n",
        "    max_iter = max_iteration,\n",
        "    random_state = 0,\n",
        "    tol = tolerance,\n",
        "    )\n",
        "\n",
        "# Proses testing FOLD-2\n",
        "fold_2 = fold_2.fit(x_train_data[1], y_train_data[1])\n",
        "\n",
        "prediction_2 = fold_2.predict(x_test_data[1])\n",
        "false_2 = (prediction_2 != y_test_data[1]).sum()\n",
        "true_2 = (prediction_2 == y_test_data[1]).sum()\n",
        "tn_2, fp_2, fn_2, tp_2 = confusion_matrix(y_test_data[1], prediction_2).ravel()\n",
        "precision_score_2 = tp_2 / (tp_2 + fp_2)\n",
        "recall_score_2 = tp_2 / (tp_2 + fn_2)\n",
        "f1_score_2 = 2 * (recall_score_2 * precision_score_2) / (recall_score_2 + precision_score_2)\n",
        "\n",
        "# Hasil Akurasi\n",
        "print(\"Accuration: \", true_2 / (true_2 + false_2) * 100, '%')\n",
        "# Hasil Presisi\n",
        "print(\"Precission: \", precision_score_2 * 100, \"%\")\n",
        "# Hasil Recall\n",
        "print(\"Recall: \", recall_score_2 * 100, \"%\")\n",
        "# Hasil F1\n",
        "print(\"F1 Score: \", f1_score_2 * 100, \"%\")\n",
        "print(\"======================\")\n",
        "# Plot Confusion Matrix\n",
        "cm_2 = confusion_matrix(y_test, prediction_2)\n",
        "plt.figure(figsize=(10,7))\n",
        "sn.heatmap(cm_2, annot=True)\n",
        "plt.xlabel('Predicted')\n",
        "plt.ylabel('Truth')"
      ],
      "metadata": {
        "colab": {
          "base_uri": "https://localhost:8080/",
          "height": 550
        },
        "id": "IG0JzHYBCGj1",
        "outputId": "f30b0953-677d-45f6-e90e-d352240829f1"
      },
      "execution_count": 347,
      "outputs": [
        {
          "output_type": "stream",
          "name": "stdout",
          "text": [
            "Accuration:  84.0 %\n",
            "Precission:  80.0 %\n",
            "Recall:  57.14285714285714 %\n",
            "F1 Score:  66.66666666666666 %\n",
            "======================\n"
          ]
        },
        {
          "output_type": "execute_result",
          "data": {
            "text/plain": [
              "Text(69.0, 0.5, 'Truth')"
            ]
          },
          "metadata": {},
          "execution_count": 347
        },
        {
          "output_type": "display_data",
          "data": {
            "text/plain": [
              "<Figure size 720x504 with 2 Axes>"
            ],
            "image/png": "[encoded data removed]"
          },
          "metadata": {
            "needs_background": "light"
          }
        }
      ]
    },
    {
      "cell_type": "code",
      "source": [
        "# Proses training FOLD-3\n",
        "\n",
        "fold_3 = SVC(\n",
        "    C = c_data,\n",
        "    kernel = 'linear',\n",
        "    max_iter = max_iteration,\n",
        "    random_state = 0,\n",
        "    tol = tolerance,\n",
        "    )\n",
        "\n",
        "# Proses testing FOLD-3\n",
        "fold_3 = fold_3.fit(x_train_data[2], y_train_data[2])\n",
        "\n",
        "prediction_3 = fold_3.predict(x_test_data[2])\n",
        "false_3 = (prediction_3 != y_test_data[2]).sum()\n",
        "true_3 = (prediction_3 == y_test_data[2]).sum()\n",
        "tn_3, fp_3, fn_3, tp_3 = confusion_matrix(y_test_data[2], prediction_3).ravel()\n",
        "precision_score_3 = tp_3 / (tp_3 + fp_3)\n",
        "recall_score_3 = tp_3 / (tp_3 + fn_3)\n",
        "f1_score_3 = 2 * (recall_score_3 * precision_score_3) / (recall_score_3 + precision_score_3)\n",
        "\n",
        "# Hasil Akurasi\n",
        "print(\"Accuration: \", true_3 / (true_3 + false_3) * 100, '%')\n",
        "# Hasil Presisi\n",
        "print(\"Precission: \", precision_score_3 * 100, \"%\")\n",
        "# Hasil Recall\n",
        "print(\"Recall: \", recall_score_3 * 100, \"%\")\n",
        "# Hasil F1\n",
        "print(\"F1 Score: \", f1_score_3 * 100, \"%\")\n",
        "print(\"======================\")\n",
        "# Plot Confusion Matrix\n",
        "cm_3 = confusion_matrix(y_test, prediction_3)\n",
        "plt.figure(figsize=(10,7))\n",
        "sn.heatmap(cm_3, annot=True)\n",
        "plt.xlabel('Predicted')\n",
        "plt.ylabel('Truth')"
      ],
      "metadata": {
        "colab": {
          "base_uri": "https://localhost:8080/",
          "height": 550
        },
        "id": "0zbzi_Z-CqHY",
        "outputId": "cdb8be67-7185-4aab-956d-8fc0e3ff4693"
      },
      "execution_count": 348,
      "outputs": [
        {
          "output_type": "stream",
          "name": "stdout",
          "text": [
            "Accuration:  56.00000000000001 %\n",
            "Precission:  80.0 %\n",
            "Recall:  47.05882352941176 %\n",
            "F1 Score:  59.25925925925927 %\n",
            "======================\n"
          ]
        },
        {
          "output_type": "execute_result",
          "data": {
            "text/plain": [
              "Text(69.0, 0.5, 'Truth')"
            ]
          },
          "metadata": {},
          "execution_count": 348
        },
        {
          "output_type": "display_data",
          "data": {
            "text/plain": [
              "<Figure size 720x504 with 2 Axes>"
            ],
            "image/png": "[encoded data removed]"
          },
          "metadata": {
            "needs_background": "light"
          }
        }
      ]
    },
    {
      "cell_type": "code",
      "source": [
        "# Proses training FOLD-4\n",
        "\n",
        "fold_4 = SVC(\n",
        "    C = c_data,\n",
        "    kernel = 'linear',\n",
        "    max_iter = max_iteration,\n",
        "    random_state = 0,\n",
        "    tol = tolerance,\n",
        "    )\n",
        "\n",
        "# Proses testing FOLD-4\n",
        "fold_4 = fold_4.fit(x_train_data[3], y_train_data[3])\n",
        "\n",
        "prediction_4 = fold_4.predict(x_test_data[3])\n",
        "false_4 = (prediction_4 != y_test_data[3]).sum()\n",
        "true_4 = (prediction_4 == y_test_data[3]).sum()\n",
        "tn_4, fp_4, fn_4, tp_4 = confusion_matrix(y_test_data[3], prediction_4).ravel()\n",
        "precision_score_4 = tp_4 / (tp_4 + fp_4)\n",
        "recall_score_4 = tp_4 / (tp_4 + fn_4)\n",
        "f1_score_4 = 2 * (recall_score_4 * precision_score_4) / (recall_score_4 + precision_score_4)\n",
        "\n",
        "# Hasil Akurasi\n",
        "print(\"Accuration: \", true_4 / (true_4 + false_4) * 100, '%')\n",
        "# Hasil Presisi\n",
        "print(\"Precission: \", precision_score_4 * 100, \"%\")\n",
        "# Hasil Recall\n",
        "print(\"Recall: \", recall_score_4 * 100, \"%\")\n",
        "# Hasil F1\n",
        "print(\"F1 Score: \", f1_score_4 * 100, \"%\")\n",
        "print(\"======================\")\n",
        "# Plot Confusion Matrix\n",
        "cm_4 = confusion_matrix(y_test, prediction_4)\n",
        "plt.figure(figsize=(10,7))\n",
        "sn.heatmap(cm_4, annot=True)\n",
        "plt.xlabel('Predicted')\n",
        "plt.ylabel('Truth')"
      ],
      "metadata": {
        "colab": {
          "base_uri": "https://localhost:8080/",
          "height": 550
        },
        "id": "Ldc9VfNMCu9J",
        "outputId": "4c076ed7-bae0-4347-a203-be3eea6af06d"
      },
      "execution_count": 349,
      "outputs": [
        {
          "output_type": "stream",
          "name": "stdout",
          "text": [
            "Accuration:  60.0 %\n",
            "Precission:  40.0 %\n",
            "Recall:  50.0 %\n",
            "F1 Score:  44.44444444444445 %\n",
            "======================\n"
          ]
        },
        {
          "output_type": "execute_result",
          "data": {
            "text/plain": [
              "Text(69.0, 0.5, 'Truth')"
            ]
          },
          "metadata": {},
          "execution_count": 349
        },
        {
          "output_type": "display_data",
          "data": {
            "text/plain": [
              "<Figure size 720x504 with 2 Axes>"
            ],
            "image/png": "[encoded data removed]"
          },
          "metadata": {
            "needs_background": "light"
          }
        }
      ]
    },
    {
      "cell_type": "code",
      "source": [
        "# Proses training FOLD-5\n",
        "\n",
        "fold_5 = SVC(\n",
        "    C = c_data,\n",
        "    kernel = 'linear',\n",
        "    max_iter = max_iteration,\n",
        "    random_state = 0,\n",
        "    tol = tolerance,\n",
        "    )\n",
        "\n",
        "# Proses testing FOLD-5\n",
        "fold_5 = fold_5.fit(x_train_data[4], y_train_data[4])\n",
        "\n",
        "prediction_5 = fold_5.predict(x_test_data[4])\n",
        "false_5 = (prediction_5 != y_test_data[4]).sum()\n",
        "true_5 = (prediction_5 == y_test_data[4]).sum()\n",
        "tn_5, fp_5, fn_5, tp_5 = confusion_matrix(y_test_data[4], prediction_5).ravel()\n",
        "precision_score_5 = tp_5 / (tp_5 + fp_5)\n",
        "recall_score_5 = tp_5 / (tp_5 + fn_5)\n",
        "f1_score_5 = 2 * (recall_score_5 * precision_score_5) / (recall_score_5 + precision_score_5)\n",
        "\n",
        "# Hasil Akurasi\n",
        "print(\"Accuration: \", true_5 / (true_5 + false_5) * 100, '%')\n",
        "# Hasil Presisi\n",
        "print(\"Precission: \", precision_score_5 * 100, \"%\")\n",
        "# Hasil Recall\n",
        "print(\"Recall: \", recall_score_5 * 100, \"%\")\n",
        "# Hasil F1\n",
        "print(\"F1 Score: \", f1_score_5 * 100, \"%\")\n",
        "print(\"======================\")\n",
        "# Plot Confusion Matrix\n",
        "cm_5 = confusion_matrix(y_test, prediction_5)\n",
        "plt.figure(figsize=(10,7))\n",
        "sn.heatmap(cm_5, annot=True)\n",
        "plt.xlabel('Predicted')\n",
        "plt.ylabel('Truth')"
      ],
      "metadata": {
        "colab": {
          "base_uri": "https://localhost:8080/",
          "height": 550
        },
        "id": "gaKe5dLNC0xs",
        "outputId": "6f918356-4000-4c96-eeca-b15163ebec77"
      },
      "execution_count": 350,
      "outputs": [
        {
          "output_type": "stream",
          "name": "stdout",
          "text": [
            "Accuration:  88.0 %\n",
            "Precission:  100.0 %\n",
            "Recall:  72.72727272727273 %\n",
            "F1 Score:  84.21052631578948 %\n",
            "======================\n"
          ]
        },
        {
          "output_type": "execute_result",
          "data": {
            "text/plain": [
              "Text(69.0, 0.5, 'Truth')"
            ]
          },
          "metadata": {},
          "execution_count": 350
        },
        {
          "output_type": "display_data",
          "data": {
            "text/plain": [
              "<Figure size 720x504 with 2 Axes>"
            ],
            "image/png": "[encoded data removed]"
          },
          "metadata": {
            "needs_background": "light"
          }
        }
      ]
    },
    {
      "cell_type": "code",
      "source": [
        "# Proses training FOLD-5\n",
        "\n",
        "fold_6 = SVC(\n",
        "    C = c_data,\n",
        "    kernel = 'linear',\n",
        "    max_iter = max_iteration,\n",
        "    random_state = 0,\n",
        "    tol = tolerance,\n",
        "    )\n",
        "\n",
        "# Proses testing FOLD-5\n",
        "fold_6 = fold_6.fit(x_train_data[5], y_train_data[5])\n",
        "\n",
        "prediction_6 = fold_6.predict(x_test_data[5])\n",
        "false_6 = (prediction_6 != y_test_data[5]).sum()\n",
        "true_6 = (prediction_6 == y_test_data[5]).sum()\n",
        "tn_6, fp_6, fn_6, tp_6 = confusion_matrix(y_test_data[5], prediction_6).ravel()\n",
        "precision_score_6 = tp_6 / (tp_6 + fp_6)\n",
        "recall_score_6 = tp_6 / (tp_6 + fn_6)\n",
        "f1_score_6 = 2 * (recall_score_6 * precision_score_6) / (recall_score_6 + precision_score_6)\n",
        "\n",
        "# Hasil Akurasi\n",
        "print(\"Accuration: \", true_6 / (true_6 + false_6) * 100, '%')\n",
        "# Hasil Presisi\n",
        "print(\"Precission: \", precision_score_6 * 100, \"%\")\n",
        "# Hasil Recall\n",
        "print(\"Recall: \", recall_score_6 * 100, \"%\")\n",
        "# Hasil F1\n",
        "print(\"F1 Score: \", f1_score_6 * 100, \"%\")\n",
        "print(\"======================\")\n",
        "# Plot Confusion Matrix\n",
        "cm_6 = confusion_matrix(y_test, prediction_6)\n",
        "plt.figure(figsize=(10,7))\n",
        "sn.heatmap(cm_6, annot=True)\n",
        "plt.xlabel('Predicted')\n",
        "plt.ylabel('Truth')"
      ],
      "metadata": {
        "colab": {
          "base_uri": "https://localhost:8080/",
          "height": 546
        },
        "id": "9VFPasL9jdvT",
        "outputId": "294d5266-794a-44b5-c110-b5b6043dc35c"
      },
      "execution_count": 351,
      "outputs": [
        {
          "output_type": "stream",
          "name": "stdout",
          "text": [
            "Accuration:  92.0 %\n",
            "Precission:  100.0 %\n",
            "Recall:  33.33333333333333 %\n",
            "F1 Score:  50.0 %\n",
            "======================\n"
          ]
        },
        {
          "output_type": "execute_result",
          "data": {
            "text/plain": [
              "Text(69.0, 0.5, 'Truth')"
            ]
          },
          "metadata": {},
          "execution_count": 351
        },
        {
          "output_type": "display_data",
          "data": {
            "text/plain": [
              "<Figure size 720x504 with 2 Axes>"
            ],
            "image/png": "[encoded data removed]"
          },
          "metadata": {
            "needs_background": "light"
          }
        }
      ]
    },
    {
      "cell_type": "code",
      "source": [
        "# Proses training FOLD-5\n",
        "\n",
        "fold_7 = SVC(\n",
        "    C = c_data,\n",
        "    kernel = 'linear',\n",
        "    max_iter = max_iteration,\n",
        "    random_state = 0,\n",
        "    tol = tolerance,\n",
        "    )\n",
        "\n",
        "# Proses testing FOLD-5\n",
        "fold_7 = fold_7.fit(x_train_data[6], y_train_data[6])\n",
        "\n",
        "prediction_7 = fold_7.predict(x_test_data[6])\n",
        "false_7 = (prediction_7 != y_test_data[6]).sum()\n",
        "true_7 = (prediction_7 == y_test_data[6]).sum()\n",
        "tn_7, fp_7, fn_7, tp_7 = confusion_matrix(y_test_data[6], prediction_7).ravel()\n",
        "precision_score_7 = tp_7 / (tp_7 + fp_7)\n",
        "recall_score_7 = tp_7 / (tp_7 + fn_7)\n",
        "f1_score_7 = 2 * (recall_score_7 * precision_score_7) / (recall_score_7 + precision_score_7)\n",
        "\n",
        "# Hasil Akurasi\n",
        "print(\"Accuration: \", true_7 / (true_7 + false_7) * 100, '%')\n",
        "# Hasil Presisi\n",
        "print(\"Precission: \", precision_score_7 * 100, \"%\")\n",
        "# Hasil Recall\n",
        "print(\"Recall: \", recall_score_7 * 100, \"%\")\n",
        "# Hasil F1\n",
        "print(\"F1 Score: \", f1_score_7 * 100, \"%\")\n",
        "print(\"======================\")\n",
        "# Plot Confusion Matrix\n",
        "cm_7 = confusion_matrix(y_test, prediction_7)\n",
        "plt.figure(figsize=(10,7))\n",
        "sn.heatmap(cm_7, annot=True)\n",
        "plt.xlabel('Predicted')\n",
        "plt.ylabel('Truth')"
      ],
      "metadata": {
        "colab": {
          "base_uri": "https://localhost:8080/",
          "height": 550
        },
        "id": "5qscLuVCjh12",
        "outputId": "e449635d-85e2-48b4-e517-4cb89b6a781c"
      },
      "execution_count": 352,
      "outputs": [
        {
          "output_type": "stream",
          "name": "stdout",
          "text": [
            "Accuration:  80.0 %\n",
            "Precission:  100.0 %\n",
            "Recall:  28.57142857142857 %\n",
            "F1 Score:  44.44444444444445 %\n",
            "======================\n"
          ]
        },
        {
          "output_type": "execute_result",
          "data": {
            "text/plain": [
              "Text(69.0, 0.5, 'Truth')"
            ]
          },
          "metadata": {},
          "execution_count": 352
        },
        {
          "output_type": "display_data",
          "data": {
            "text/plain": [
              "<Figure size 720x504 with 2 Axes>"
            ],
            "image/png": "[encoded data removed]"
          },
          "metadata": {
            "needs_background": "light"
          }
        }
      ]
    },
    {
      "cell_type": "code",
      "source": [
        "# Proses training FOLD-5\n",
        "\n",
        "fold_8 = SVC(\n",
        "    C = c_data,\n",
        "    kernel = 'linear',\n",
        "    max_iter = max_iteration,\n",
        "    random_state = 0,\n",
        "    tol = tolerance,\n",
        "    )\n",
        "\n",
        "# Proses testing FOLD-5\n",
        "fold_8 = fold_8.fit(x_train_data[7], y_train_data[7])\n",
        "\n",
        "prediction_8 = fold_8.predict(x_test_data[7])\n",
        "false_8 = (prediction_8 != y_test_data[7]).sum()\n",
        "true_8 = (prediction_8 == y_test_data[7]).sum()\n",
        "tn_8, fp_8, fn_8, tp_8 = confusion_matrix(y_test_data[7], prediction_8).ravel()\n",
        "precision_score_8 = tp_8 / (tp_8 + fp_8)\n",
        "recall_score_8 = tp_8 / (tp_8 + fn_8)\n",
        "f1_score_8 = 2 * (recall_score_8 * precision_score_8) / (recall_score_8 + precision_score_8)\n",
        "\n",
        "# Hasil Akurasi\n",
        "print(\"Accuration: \", true_8 / (true_8 + false_8) * 100, '%')\n",
        "# Hasil Presisi\n",
        "print(\"Precission: \", precision_score_8 * 100, \"%\")\n",
        "# Hasil Recall\n",
        "print(\"Recall: \", recall_score_8 * 100, \"%\")\n",
        "# Hasil F1\n",
        "print(\"F1 Score: \", f1_score_8 * 100, \"%\")\n",
        "print(\"======================\")\n",
        "# Plot Confusion Matrix\n",
        "cm_8 = confusion_matrix(y_test, prediction_8)\n",
        "plt.figure(figsize=(10,7))\n",
        "sn.heatmap(cm_8, annot=True)\n",
        "plt.xlabel('Predicted')\n",
        "plt.ylabel('Truth')"
      ],
      "metadata": {
        "colab": {
          "base_uri": "https://localhost:8080/",
          "height": 550
        },
        "id": "IjXvAc5ujlN_",
        "outputId": "2688a8e6-41e4-45b3-e58f-5880c6702ec9"
      },
      "execution_count": 353,
      "outputs": [
        {
          "output_type": "stream",
          "name": "stdout",
          "text": [
            "Accuration:  68.0 %\n",
            "Precission:  66.66666666666666 %\n",
            "Recall:  40.0 %\n",
            "F1 Score:  50.0 %\n",
            "======================\n"
          ]
        },
        {
          "output_type": "execute_result",
          "data": {
            "text/plain": [
              "Text(69.0, 0.5, 'Truth')"
            ]
          },
          "metadata": {},
          "execution_count": 353
        },
        {
          "output_type": "display_data",
          "data": {
            "text/plain": [
              "<Figure size 720x504 with 2 Axes>"
            ],
            "image/png": "[encoded data removed]"
          },
          "metadata": {
            "needs_background": "light"
          }
        }
      ]
    },
    {
      "cell_type": "code",
      "source": [
        "# Proses training FOLD-5\n",
        "\n",
        "fold_9 = SVC(\n",
        "    C = c_data,\n",
        "    kernel = 'linear',\n",
        "    max_iter = max_iteration,\n",
        "    random_state = 0,\n",
        "    tol = tolerance,\n",
        "    )\n",
        "\n",
        "# Proses testing FOLD-5\n",
        "fold_9 = fold_9.fit(x_train_data[8], y_train_data[8])\n",
        "\n",
        "prediction_9 = fold_9.predict(x_test_data[8])\n",
        "false_9 = (prediction_9 != y_test_data[8]).sum()\n",
        "true_9 = (prediction_9 == y_test_data[8]).sum()\n",
        "tn_9, fp_9, fn_9, tp_9 = confusion_matrix(y_test_data[8], prediction_9).ravel()\n",
        "precision_score_9 = tp_9 / (tp_9 + fp_9)\n",
        "recall_score_9 = tp_9 / (tp_9 + fn_9)\n",
        "f1_score_9 = 2 * (recall_score_9 * precision_score_9) / (recall_score_9 + precision_score_9)\n",
        "\n",
        "# Hasil Akurasi\n",
        "print(\"Accuration: \", true_9 / (true_9 + false_9) * 100, '%')\n",
        "# Hasil Presisi\n",
        "print(\"Precission: \", precision_score_9 * 100, \"%\")\n",
        "# Hasil Recall\n",
        "print(\"Recall: \", recall_score_9 * 100, \"%\")\n",
        "# Hasil F1\n",
        "print(\"F1 Score: \", f1_score_9 * 100, \"%\")\n",
        "print(\"======================\")\n",
        "# Plot Confusion Matrix\n",
        "cm_9 = confusion_matrix(y_test, prediction_9)\n",
        "plt.figure(figsize=(10,7))\n",
        "sn.heatmap(cm_9, annot=True)\n",
        "plt.xlabel('Predicted')\n",
        "plt.ylabel('Truth')"
      ],
      "metadata": {
        "colab": {
          "base_uri": "https://localhost:8080/",
          "height": 550
        },
        "id": "JhK6qj8NjotQ",
        "outputId": "02383e56-6973-4092-ee33-94a8acfacbd3"
      },
      "execution_count": 354,
      "outputs": [
        {
          "output_type": "stream",
          "name": "stdout",
          "text": [
            "Accuration:  92.0 %\n",
            "Precission:  83.33333333333334 %\n",
            "Recall:  83.33333333333334 %\n",
            "F1 Score:  83.33333333333334 %\n",
            "======================\n"
          ]
        },
        {
          "output_type": "execute_result",
          "data": {
            "text/plain": [
              "Text(69.0, 0.5, 'Truth')"
            ]
          },
          "metadata": {},
          "execution_count": 354
        },
        {
          "output_type": "display_data",
          "data": {
            "text/plain": [
              "<Figure size 720x504 with 2 Axes>"
            ],
            "image/png": "[encoded data removed]"
          },
          "metadata": {
            "needs_background": "light"
          }
        }
      ]
    },
    {
      "cell_type": "code",
      "source": [
        "# Proses training FOLD-5\n",
        "\n",
        "fold_10 = SVC(\n",
        "    C = c_data,\n",
        "    kernel = 'linear',\n",
        "    max_iter = max_iteration,\n",
        "    random_state = 0,\n",
        "    tol = tolerance,\n",
        "    )\n",
        "\n",
        "# Proses testing FOLD-5\n",
        "fold_10 = fold_10.fit(x_train_data[9], y_train_data[9])\n",
        "\n",
        "prediction_10 = fold_10.predict(x_test_data[9])\n",
        "false_10 = (prediction_10 != y_test_data[9]).sum()\n",
        "true_10 = (prediction_10 == y_test_data[9]).sum()\n",
        "tn_10, fp_10, fn_10, tp_10 = confusion_matrix(y_test_data[9], prediction_10).ravel()\n",
        "precision_score_10 = tp_10 / (tp_10 + fp_10)\n",
        "recall_score_10 = tp_10 / (tp_10 + fn_10)\n",
        "f1_score_10 = 2 * (recall_score_10 * precision_score_10) / (recall_score_10 + precision_score_10)\n",
        "\n",
        "# Hasil Akurasi\n",
        "print(\"Accuration: \", true_10 / (true_10 + false_10) * 100, '%')\n",
        "# Hasil Presisi\n",
        "print(\"Precission: \", precision_score_10 * 100, \"%\")\n",
        "# Hasil Recall\n",
        "print(\"Recall: \", recall_score_10 * 100, \"%\")\n",
        "# Hasil F1\n",
        "print(\"F1 Score: \", f1_score_10 * 100, \"%\")\n",
        "print(\"======================\")\n",
        "# Plot Confusion Matrix\n",
        "cm_10 = confusion_matrix(y_test, prediction_10)\n",
        "plt.figure(figsize=(10,7))\n",
        "sn.heatmap(cm_10, annot=True)\n",
        "plt.xlabel('Predicted')\n",
        "plt.ylabel('Truth')"
      ],
      "metadata": {
        "colab": {
          "base_uri": "https://localhost:8080/",
          "height": 546
        },
        "id": "jLH_Ej3vjr7V",
        "outputId": "c44b3a5c-2959-4b12-c016-023756a5c1e2"
      },
      "execution_count": 355,
      "outputs": [
        {
          "output_type": "stream",
          "name": "stdout",
          "text": [
            "Accuration:  64.0 %\n",
            "Precission:  83.33333333333334 %\n",
            "Recall:  38.46153846153847 %\n",
            "F1 Score:  52.63157894736842 %\n",
            "======================\n"
          ]
        },
        {
          "output_type": "execute_result",
          "data": {
            "text/plain": [
              "Text(69.0, 0.5, 'Truth')"
            ]
          },
          "metadata": {},
          "execution_count": 355
        },
        {
          "output_type": "display_data",
          "data": {
            "text/plain": [
              "<Figure size 720x504 with 2 Axes>"
            ],
            "image/png": "[encoded data removed]"
          },
          "metadata": {
            "needs_background": "light"
          }
        }
      ]
    },
    {
      "cell_type": "code",
      "source": [
        "fig = plt.subplots(figsize=(18,6))\n",
        "barWidth = 0.25\n",
        "ACCURACY = [(true_1 / (true_1 + false_1) * 100), (true_2 / (true_2 + false_2) * 100), (true_3 / (true_3 + false_3) * 100), (true_4 / (true_4 + false_4) * 100), (true_5 / (true_5 + false_5) * 100), (true_6 / (true_6 + false_6) * 100), (true_7 / (true_7 + false_7) * 100), (true_8 / (true_8 + false_8) * 100), (true_9 / (true_9 + false_9) * 100), (true_10 / (true_10 + false_10) * 100)]\n",
        "PRECISION = [precision_score_1 * 100, precision_score_2 * 100, precision_score_3 * 100, precision_score_4 * 100, precision_score_5 * 100, precision_score_6 * 100, precision_score_7 * 100, precision_score_8 * 100, precision_score_9 * 100, precision_score_10 * 100]\n",
        "RECALL = [recall_score_1 * 100, recall_score_2 * 100, recall_score_3 * 100, recall_score_4 * 100, recall_score_5 * 100, recall_score_6 * 100, recall_score_7 * 100, recall_score_8 * 100, recall_score_9 * 100, recall_score_10 * 100]\n",
        " \n",
        "br1 = np.arange(len(ACCURACY))\n",
        "br2 = [x + barWidth for x in br1]\n",
        "br3 = [x + barWidth for x in br2]\n",
        "\n",
        "plt.title(\"ACCURATION PLOT PER FOLD\")\n",
        "plt.bar(br1, ACCURACY, color ='r', width = barWidth,\n",
        "        edgecolor ='grey', label ='AKURASI')\n",
        "plt.bar(br2, PRECISION, color ='g', width = barWidth,\n",
        "        edgecolor ='grey', label ='PRESISI')\n",
        "plt.bar(br3, RECALL, color ='b', width = barWidth,\n",
        "        edgecolor ='grey', label ='RECALL')\n",
        "\n",
        "plt.xticks([r + barWidth for r in range(len(ACCURACY))],\n",
        "    [\"Fold 1\", \"Fold 2\", \"Fold 3\", \"Fold 4\", \"Fold 5\", \"Fold 6\", \"Fold 7\", \"Fold 8\", \"Fold 9\", \"Fold 10\"])\n",
        " \n",
        "plt.legend()\n",
        "plt.show()"
      ],
      "metadata": {
        "colab": {
          "base_uri": "https://localhost:8080/",
          "height": 390
        },
        "id": "sNaGE92uExr7",
        "outputId": "156f7033-07ae-4db7-e1a0-4c2c53c20bff"
      },
      "execution_count": 356,
      "outputs": [
        {
          "output_type": "display_data",
          "data": {
            "text/plain": [
              "<Figure size 1296x432 with 1 Axes>"
            ],
            "image/png": "[encoded data removed]"
          },
          "metadata": {
            "needs_background": "light"
          }
        }
      ]
    },
    {
      "cell_type": "code",
      "source": [
        "def get_average(num):\n",
        "    sum_num = 0\n",
        "    for t in num:\n",
        "        sum_num = sum_num + t           \n",
        "\n",
        "    avg = sum_num / len(num)\n",
        "    return avg\n",
        "\n",
        "acc_avg = get_average(ACCURACY)\n",
        "pre_avg = get_average(PRECISION)\n",
        "rec_avg = get_average(RECALL)\n",
        "\n",
        "print('Akurasi', acc_avg, '%')\n",
        "print('Presisi', pre_avg, '%')\n",
        "print('Recall', rec_avg, '%')\n",
        "\n",
        "fig = plt.subplots(figsize=(6,6))\n",
        "barWidth = 0.1\n",
        " \n",
        "br1 = np.arange(len([acc_avg]))\n",
        "br2 = [x + barWidth for x in br1]\n",
        "br3 = [x + barWidth for x in br2]\n",
        "\n",
        "plt.title(\"ACCURATION PLOT\")\n",
        "plt.bar(br1, [acc_avg], color ='r', width = barWidth,\n",
        "        edgecolor ='grey', label ='AKURASI')\n",
        "plt.bar(br2, [pre_avg], color ='g', width = barWidth,\n",
        "        edgecolor ='grey', label ='PRESISI')\n",
        "plt.bar(br3, [rec_avg], color ='b', width = barWidth,\n",
        "        edgecolor ='grey', label ='RECALL')\n",
        "\n",
        "plt.xticks([r + barWidth for r in range(len([acc_avg]))],\n",
        "    [\"Fold AVG\"])\n",
        " \n",
        "plt.legend()\n",
        "plt.show()"
      ],
      "metadata": {
        "colab": {
          "base_uri": "https://localhost:8080/",
          "height": 442
        },
        "id": "YUT8ettrPu8B",
        "outputId": "de97506b-a3ff-4fdd-9583-f1422c81e7ff"
      },
      "execution_count": 357,
      "outputs": [
        {
          "output_type": "stream",
          "name": "stdout",
          "text": [
            "Akurasi 76.4 %\n",
            "Presisi 83.33333333333334 %\n",
            "Recall 49.50730315436198 %\n"
          ]
        },
        {
          "output_type": "display_data",
          "data": {
            "text/plain": [
              "<Figure size 432x432 with 1 Axes>"
            ],
            "image/png": "[encoded data removed]"
          },
          "metadata": {
            "needs_background": "light"
          }
        }
      ]
    }
  ]
}