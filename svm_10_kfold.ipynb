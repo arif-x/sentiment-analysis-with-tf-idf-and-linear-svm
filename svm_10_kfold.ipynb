{
  "nbformat": 4,
  "nbformat_minor": 0,
  "metadata": {
    "colab": {
      "provenance": []
    },
    "kernelspec": {
      "name": "python3",
      "display_name": "Python 3"
    },
    "language_info": {
      "name": "python"
    }
  },
  "cells": [
    {
      "cell_type": "code",
      "execution_count": 1,
      "metadata": {
        "colab": {
          "base_uri": "https://localhost:8080/",
          "height": 1000
        },
        "id": "qsAahsRvoonV",
        "outputId": "737c6c2a-d182-497e-f237-354c0f72424b"
      },
      "outputs": [
        {
          "output_type": "stream",
          "name": "stdout",
          "text": [
            "Mounted at /content/drive\n"
          ]
        },
        {
          "output_type": "execute_result",
          "data": {
            "text/plain": [
              "     Unnamed: 0                                               text  Sentimen  \\\n",
              "0             0  23:29:56,\"Semoga aplikasinya cepat diperbaiki,...         1   \n",
              "1             1        23:31:43,Aplikasi apa ini nik tidak terbaca         1   \n",
              "2             2    23:41:43,Ntah laah susah di jelaskan....ribeet…         0   \n",
              "3             3  23:45:23,Selevel negara kok g mampu bikin apli...         0   \n",
              "4             4   00:00:53,\"Maaf kasih 1 bntng karna ga epektif...         0   \n",
              "..          ...                                                ...       ...   \n",
              "245         245  Setelah hampir sehari mengisi data diri,di sub...         1   \n",
              "246         246                      Dengan aplikasi MyPertamina👍👍         1   \n",
              "247         247  Masih ada banyak kekurangan / ada banyak sekal...         0   \n",
              "248         248  Tolong di batasin donk pembelian pertalite yg ...         1   \n",
              "249         249  Ga semua konsumen punya smartphone....beli bbm...         0   \n",
              "\n",
              "                                             cleansing  \\\n",
              "0          Semoga aplikasinya cepat diperbaiki kare...   \n",
              "1                   Aplikasi apa ini nik tidak terbaca   \n",
              "2                   Ntah laah susah di jelaskanribeet    \n",
              "3          Selevel negara kok g mampu bikin aplikas...   \n",
              "4          Maaf kasih   bntng karna ga epektif mala...   \n",
              "..                                                 ...   \n",
              "245  Setelah hampir sehari mengisi data diridi subs...   \n",
              "246                      Dengan aplikasi MyPertamina     \n",
              "247  Masih ada banyak kekurangan   ada banyak sekal...   \n",
              "248  Tolong di batasin donk pembelian pertalite yg ...   \n",
              "249  Ga semua konsumen punya smartphonebeli bbm kok...   \n",
              "\n",
              "                                           casefolding  \\\n",
              "0          semoga aplikasinya cepat diperbaiki kare...   \n",
              "1                   aplikasi apa ini nik tidak terbaca   \n",
              "2                   ntah laah susah di jelaskanribeet    \n",
              "3          selevel negara kok g mampu bikin aplikas...   \n",
              "4          maaf kasih   bntng karna ga epektif mala...   \n",
              "..                                                 ...   \n",
              "245  setelah hampir sehari mengisi data diridi subs...   \n",
              "246                      dengan aplikasi mypertamina     \n",
              "247  masih ada banyak kekurangan   ada banyak sekal...   \n",
              "248  tolong di batasin donk pembelian pertalite yg ...   \n",
              "249  ga semua konsumen punya smartphonebeli bbm kok...   \n",
              "\n",
              "                                               steemed  \\\n",
              "0    moga aplikasi cepat baik karena begitu banyak ...   \n",
              "1                      aplikasi apa ini nik tidak baca   \n",
              "2                    ntah laah susah di jelaskanribeet   \n",
              "3    level negara kok g mampu bikin aplikasi yg bai...   \n",
              "4    maaf kasih bntng karna ga epektif malah tambah...   \n",
              "..                                                 ...   \n",
              "245  telah hampir hari isi data ridi subsidi tepat ...   \n",
              "246                        dengan aplikasi mypertamina   \n",
              "247  masih ada banyak kurang ada banyak sekali bug ...   \n",
              "248  tolong di batasin donk beli pertalite yg guna ...   \n",
              "249  ga semua konsumen punya smartphonebeli bbm kok...   \n",
              "\n",
              "                                           normalisasi  \\\n",
              "0    moga aplikasi cepat aplikasi aplikasi susahkar...   \n",
              "1                                    aplikasi nik baca   \n",
              "2                       ntah laah susah jelaskanribeet   \n",
              "3    level negara g bikin aplikasi yg udah dftr ula...   \n",
              "4    maaf kasih bntng karna ga epektif ribet daftar...   \n",
              "..                                                 ...   \n",
              "245  isi data ridi subsidi sasaranpilihan simpan dn...   \n",
              "246                               aplikasi mypertamina   \n",
              "247                 bug sulit aplikasi nya tolol bikin   \n",
              "248    tolong batasin donk beli pertalite yg kapasitas   \n",
              "249  ga konsumen smartphonebeli bbm ribetinfrastruk...   \n",
              "\n",
              "                                            tokenizing  \\\n",
              "0    ['moga', 'aplikasi', 'cepat', 'aplikasi', 'apl...   \n",
              "1                          ['aplikasi', 'nik', 'baca']   \n",
              "2          ['ntah', 'laah', 'susah', 'jelaskanribeet']   \n",
              "3    ['level', 'negara', 'g', 'bikin', 'aplikasi', ...   \n",
              "4    ['maaf', 'kasih', 'bntng', 'karna', 'ga', 'epe...   \n",
              "..                                                 ...   \n",
              "245  ['isi', 'data', 'ridi', 'subsidi', 'sasaranpil...   \n",
              "246                        ['aplikasi', 'mypertamina']   \n",
              "247  ['bug', 'sulit', 'aplikasi', 'nya', 'tolol', '...   \n",
              "248  ['tolong', 'batasin', 'donk', 'beli', 'pertali...   \n",
              "249  ['ga', 'konsumen', 'smartphonebeli', 'bbm', 'r...   \n",
              "\n",
              "                                               tf_dict  \\\n",
              "0    {'moga': 0.125, 'aplikasi': 0.375, 'cepat': 0....   \n",
              "1    {'aplikasi': 0.3333333333333333, 'nik': 0.3333...   \n",
              "2    {'ntah': 0.25, 'laah': 0.25, 'susah': 0.25, 'j...   \n",
              "3    {'level': 0.037037037037037035, 'negara': 0.07...   \n",
              "4    {'maaf': 0.1, 'kasih': 0.1, 'bntng': 0.1, 'kar...   \n",
              "..                                                 ...   \n",
              "245  {'isi': 0.1111111111111111, 'data': 0.11111111...   \n",
              "246              {'aplikasi': 0.5, 'mypertamina': 0.5}   \n",
              "247  {'bug': 0.16666666666666666, 'sulit': 0.166666...   \n",
              "248  {'tolong': 0.14285714285714285, 'batasin': 0.1...   \n",
              "249  {'ga': 0.06666666666666667, 'konsumen': 0.0666...   \n",
              "\n",
              "                                           tf_idf_dict  \\\n",
              "0    {'moga': 0.37956928350928076, 'aplikasi': 0.22...   \n",
              "1    {'aplikasi': 0.20293534404206476, 'nik': 1.108...   \n",
              "2    {'ntah': 1.2070784343255754, 'laah': 1.2070784...   \n",
              "3    {'level': 0.17882643471490003, 'negara': 0.306...   \n",
              "4    {'maaf': 0.48283137373023016, 'kasih': 0.27488...   \n",
              "..                                                 ...   \n",
              "245  {'isi': 0.25148493109341824, 'data': 0.2355848...   \n",
              "246  {'aplikasi': 0.30440301606309716, 'mypertamina...   \n",
              "247  {'bug': 0.5959251281344888, 'sulit': 0.3905678...   \n",
              "248  {'tolong': 0.49171705374034436, 'batasin': 0.6...   \n",
              "249  {'ga': 0.15089095865605096, 'konsumen': 0.3218...   \n",
              "\n",
              "                                            tf_idf_vec  \n",
              "0    [0.22830226204732287, 0.0, 0.0, 0.0, 0.2290726...  \n",
              "1    [0.20293534404206476, 0.0, 0.0, 0.0, 0.0, 0.0,...  \n",
              "2    [0.0, 0.0, 0.0, 0.0, 0.45814536593707755, 0.0,...  \n",
              "3    [0.02254837156022942, 0.0, 0.05411177434503063...  \n",
              "4    [0.0, 0.12447947988461912, 0.0, 0.0, 0.1832581...  \n",
              "..                                                 ...  \n",
              "245  [0.0, 0.0, 0.0, 0.0, 0.0, 0.0, 0.0, 0.0, 0.235...  \n",
              "246  [0.30440301606309716, 0.0, 0.0, 0.0, 0.0, 0.0,...  \n",
              "247  [0.10146767202103238, 0.0, 0.0, 0.278552219358...  \n",
              "248  [0.0, 0.0, 0.208716843902261, 0.0, 0.0, 0.0, 0...  \n",
              "249  [0.0, 0.0, 0.0, 0.0, 0.0, 0.0, 0.0, 0.0, 0.0, ...  \n",
              "\n",
              "[250 rows x 11 columns]"
            ],
            "text/html": [
              "\n",
              "  <div id=\"df-4e52ad09-059d-440d-bb70-f17fb64a4f37\">\n",
              "    <div class=\"colab-df-container\">\n",
              "      <div>\n",
              "<style scoped>\n",
              "    .dataframe tbody tr th:only-of-type {\n",
              "        vertical-align: middle;\n",
              "    }\n",
              "\n",
              "    .dataframe tbody tr th {\n",
              "        vertical-align: top;\n",
              "    }\n",
              "\n",
              "    .dataframe thead th {\n",
              "        text-align: right;\n",
              "    }\n",
              "</style>\n",
              "<table border=\"1\" class=\"dataframe\">\n",
              "  <thead>\n",
              "    <tr style=\"text-align: right;\">\n",
              "      <th></th>\n",
              "      <th>Unnamed: 0</th>\n",
              "      <th>text</th>\n",
              "      <th>Sentimen</th>\n",
              "      <th>cleansing</th>\n",
              "      <th>casefolding</th>\n",
              "      <th>steemed</th>\n",
              "      <th>normalisasi</th>\n",
              "      <th>tokenizing</th>\n",
              "      <th>tf_dict</th>\n",
              "      <th>tf_idf_dict</th>\n",
              "      <th>tf_idf_vec</th>\n",
              "    </tr>\n",
              "  </thead>\n",
              "  <tbody>\n",
              "    <tr>\n",
              "      <th>0</th>\n",
              "      <td>0</td>\n",
              "      <td>23:29:56,\"Semoga aplikasinya cepat diperbaiki,...</td>\n",
              "      <td>1</td>\n",
              "      <td>Semoga aplikasinya cepat diperbaiki kare...</td>\n",
              "      <td>semoga aplikasinya cepat diperbaiki kare...</td>\n",
              "      <td>moga aplikasi cepat baik karena begitu banyak ...</td>\n",
              "      <td>moga aplikasi cepat aplikasi aplikasi susahkar...</td>\n",
              "      <td>['moga', 'aplikasi', 'cepat', 'aplikasi', 'apl...</td>\n",
              "      <td>{'moga': 0.125, 'aplikasi': 0.375, 'cepat': 0....</td>\n",
              "      <td>{'moga': 0.37956928350928076, 'aplikasi': 0.22...</td>\n",
              "      <td>[0.22830226204732287, 0.0, 0.0, 0.0, 0.2290726...</td>\n",
              "    </tr>\n",
              "    <tr>\n",
              "      <th>1</th>\n",
              "      <td>1</td>\n",
              "      <td>23:31:43,Aplikasi apa ini nik tidak terbaca</td>\n",
              "      <td>1</td>\n",
              "      <td>Aplikasi apa ini nik tidak terbaca</td>\n",
              "      <td>aplikasi apa ini nik tidak terbaca</td>\n",
              "      <td>aplikasi apa ini nik tidak baca</td>\n",
              "      <td>aplikasi nik baca</td>\n",
              "      <td>['aplikasi', 'nik', 'baca']</td>\n",
              "      <td>{'aplikasi': 0.3333333333333333, 'nik': 0.3333...</td>\n",
              "      <td>{'aplikasi': 0.20293534404206476, 'nik': 1.108...</td>\n",
              "      <td>[0.20293534404206476, 0.0, 0.0, 0.0, 0.0, 0.0,...</td>\n",
              "    </tr>\n",
              "    <tr>\n",
              "      <th>2</th>\n",
              "      <td>2</td>\n",
              "      <td>23:41:43,Ntah laah susah di jelaskan....ribeet…</td>\n",
              "      <td>0</td>\n",
              "      <td>Ntah laah susah di jelaskanribeet</td>\n",
              "      <td>ntah laah susah di jelaskanribeet</td>\n",
              "      <td>ntah laah susah di jelaskanribeet</td>\n",
              "      <td>ntah laah susah jelaskanribeet</td>\n",
              "      <td>['ntah', 'laah', 'susah', 'jelaskanribeet']</td>\n",
              "      <td>{'ntah': 0.25, 'laah': 0.25, 'susah': 0.25, 'j...</td>\n",
              "      <td>{'ntah': 1.2070784343255754, 'laah': 1.2070784...</td>\n",
              "      <td>[0.0, 0.0, 0.0, 0.0, 0.45814536593707755, 0.0,...</td>\n",
              "    </tr>\n",
              "    <tr>\n",
              "      <th>3</th>\n",
              "      <td>3</td>\n",
              "      <td>23:45:23,Selevel negara kok g mampu bikin apli...</td>\n",
              "      <td>0</td>\n",
              "      <td>Selevel negara kok g mampu bikin aplikas...</td>\n",
              "      <td>selevel negara kok g mampu bikin aplikas...</td>\n",
              "      <td>level negara kok g mampu bikin aplikasi yg bai...</td>\n",
              "      <td>level negara g bikin aplikasi yg udah dftr ula...</td>\n",
              "      <td>['level', 'negara', 'g', 'bikin', 'aplikasi', ...</td>\n",
              "      <td>{'level': 0.037037037037037035, 'negara': 0.07...</td>\n",
              "      <td>{'level': 0.17882643471490003, 'negara': 0.306...</td>\n",
              "      <td>[0.02254837156022942, 0.0, 0.05411177434503063...</td>\n",
              "    </tr>\n",
              "    <tr>\n",
              "      <th>4</th>\n",
              "      <td>4</td>\n",
              "      <td>00:00:53,\"Maaf kasih 1 bntng karna ga epektif...</td>\n",
              "      <td>0</td>\n",
              "      <td>Maaf kasih   bntng karna ga epektif mala...</td>\n",
              "      <td>maaf kasih   bntng karna ga epektif mala...</td>\n",
              "      <td>maaf kasih bntng karna ga epektif malah tambah...</td>\n",
              "      <td>maaf kasih bntng karna ga epektif ribet daftar...</td>\n",
              "      <td>['maaf', 'kasih', 'bntng', 'karna', 'ga', 'epe...</td>\n",
              "      <td>{'maaf': 0.1, 'kasih': 0.1, 'bntng': 0.1, 'kar...</td>\n",
              "      <td>{'maaf': 0.48283137373023016, 'kasih': 0.27488...</td>\n",
              "      <td>[0.0, 0.12447947988461912, 0.0, 0.0, 0.1832581...</td>\n",
              "    </tr>\n",
              "    <tr>\n",
              "      <th>...</th>\n",
              "      <td>...</td>\n",
              "      <td>...</td>\n",
              "      <td>...</td>\n",
              "      <td>...</td>\n",
              "      <td>...</td>\n",
              "      <td>...</td>\n",
              "      <td>...</td>\n",
              "      <td>...</td>\n",
              "      <td>...</td>\n",
              "      <td>...</td>\n",
              "      <td>...</td>\n",
              "    </tr>\n",
              "    <tr>\n",
              "      <th>245</th>\n",
              "      <td>245</td>\n",
              "      <td>Setelah hampir sehari mengisi data diri,di sub...</td>\n",
              "      <td>1</td>\n",
              "      <td>Setelah hampir sehari mengisi data diridi subs...</td>\n",
              "      <td>setelah hampir sehari mengisi data diridi subs...</td>\n",
              "      <td>telah hampir hari isi data ridi subsidi tepat ...</td>\n",
              "      <td>isi data ridi subsidi sasaranpilihan simpan dn...</td>\n",
              "      <td>['isi', 'data', 'ridi', 'subsidi', 'sasaranpil...</td>\n",
              "      <td>{'isi': 0.1111111111111111, 'data': 0.11111111...</td>\n",
              "      <td>{'isi': 0.25148493109341824, 'data': 0.2355848...</td>\n",
              "      <td>[0.0, 0.0, 0.0, 0.0, 0.0, 0.0, 0.0, 0.0, 0.235...</td>\n",
              "    </tr>\n",
              "    <tr>\n",
              "      <th>246</th>\n",
              "      <td>246</td>\n",
              "      <td>Dengan aplikasi MyPertamina👍👍</td>\n",
              "      <td>1</td>\n",
              "      <td>Dengan aplikasi MyPertamina</td>\n",
              "      <td>dengan aplikasi mypertamina</td>\n",
              "      <td>dengan aplikasi mypertamina</td>\n",
              "      <td>aplikasi mypertamina</td>\n",
              "      <td>['aplikasi', 'mypertamina']</td>\n",
              "      <td>{'aplikasi': 0.5, 'mypertamina': 0.5}</td>\n",
              "      <td>{'aplikasi': 0.30440301606309716, 'mypertamina...</td>\n",
              "      <td>[0.30440301606309716, 0.0, 0.0, 0.0, 0.0, 0.0,...</td>\n",
              "    </tr>\n",
              "    <tr>\n",
              "      <th>247</th>\n",
              "      <td>247</td>\n",
              "      <td>Masih ada banyak kekurangan / ada banyak sekal...</td>\n",
              "      <td>0</td>\n",
              "      <td>Masih ada banyak kekurangan   ada banyak sekal...</td>\n",
              "      <td>masih ada banyak kekurangan   ada banyak sekal...</td>\n",
              "      <td>masih ada banyak kurang ada banyak sekali bug ...</td>\n",
              "      <td>bug sulit aplikasi nya tolol bikin</td>\n",
              "      <td>['bug', 'sulit', 'aplikasi', 'nya', 'tolol', '...</td>\n",
              "      <td>{'bug': 0.16666666666666666, 'sulit': 0.166666...</td>\n",
              "      <td>{'bug': 0.5959251281344888, 'sulit': 0.3905678...</td>\n",
              "      <td>[0.10146767202103238, 0.0, 0.0, 0.278552219358...</td>\n",
              "    </tr>\n",
              "    <tr>\n",
              "      <th>248</th>\n",
              "      <td>248</td>\n",
              "      <td>Tolong di batasin donk pembelian pertalite yg ...</td>\n",
              "      <td>1</td>\n",
              "      <td>Tolong di batasin donk pembelian pertalite yg ...</td>\n",
              "      <td>tolong di batasin donk pembelian pertalite yg ...</td>\n",
              "      <td>tolong di batasin donk beli pertalite yg guna ...</td>\n",
              "      <td>tolong batasin donk beli pertalite yg kapasitas</td>\n",
              "      <td>['tolong', 'batasin', 'donk', 'beli', 'pertali...</td>\n",
              "      <td>{'tolong': 0.14285714285714285, 'batasin': 0.1...</td>\n",
              "      <td>{'tolong': 0.49171705374034436, 'batasin': 0.6...</td>\n",
              "      <td>[0.0, 0.0, 0.208716843902261, 0.0, 0.0, 0.0, 0...</td>\n",
              "    </tr>\n",
              "    <tr>\n",
              "      <th>249</th>\n",
              "      <td>249</td>\n",
              "      <td>Ga semua konsumen punya smartphone....beli bbm...</td>\n",
              "      <td>0</td>\n",
              "      <td>Ga semua konsumen punya smartphonebeli bbm kok...</td>\n",
              "      <td>ga semua konsumen punya smartphonebeli bbm kok...</td>\n",
              "      <td>ga semua konsumen punya smartphonebeli bbm kok...</td>\n",
              "      <td>ga konsumen smartphonebeli bbm ribetinfrastruk...</td>\n",
              "      <td>['ga', 'konsumen', 'smartphonebeli', 'bbm', 'r...</td>\n",
              "      <td>{'ga': 0.06666666666666667, 'konsumen': 0.0666...</td>\n",
              "      <td>{'ga': 0.15089095865605096, 'konsumen': 0.3218...</td>\n",
              "      <td>[0.0, 0.0, 0.0, 0.0, 0.0, 0.0, 0.0, 0.0, 0.0, ...</td>\n",
              "    </tr>\n",
              "  </tbody>\n",
              "</table>\n",
              "<p>250 rows × 11 columns</p>\n",
              "</div>\n",
              "      <button class=\"colab-df-convert\" onclick=\"convertToInteractive('df-4e52ad09-059d-440d-bb70-f17fb64a4f37')\"\n",
              "              title=\"Convert this dataframe to an interactive table.\"\n",
              "              style=\"display:none;\">\n",
              "        \n",
              "  <svg xmlns=\"http://www.w3.org/2000/svg\" height=\"24px\"viewBox=\"0 0 24 24\"\n",
              "       width=\"24px\">\n",
              "    <path d=\"M0 0h24v24H0V0z\" fill=\"none\"/>\n",
              "    <path d=\"M18.56 5.44l.94 2.06.94-2.06 2.06-.94-2.06-.94-.94-2.06-.94 2.06-2.06.94zm-11 1L8.5 8.5l.94-2.06 2.06-.94-2.06-.94L8.5 2.5l-.94 2.06-2.06.94zm10 10l.94 2.06.94-2.06 2.06-.94-2.06-.94-.94-2.06-.94 2.06-2.06.94z\"/><path d=\"M17.41 7.96l-1.37-1.37c-.4-.4-.92-.59-1.43-.59-.52 0-1.04.2-1.43.59L10.3 9.45l-7.72 7.72c-.78.78-.78 2.05 0 2.83L4 21.41c.39.39.9.59 1.41.59.51 0 1.02-.2 1.41-.59l7.78-7.78 2.81-2.81c.8-.78.8-2.07 0-2.86zM5.41 20L4 18.59l7.72-7.72 1.47 1.35L5.41 20z\"/>\n",
              "  </svg>\n",
              "      </button>\n",
              "      \n",
              "  <style>\n",
              "    .colab-df-container {\n",
              "      display:flex;\n",
              "      flex-wrap:wrap;\n",
              "      gap: 12px;\n",
              "    }\n",
              "\n",
              "    .colab-df-convert {\n",
              "      background-color: #E8F0FE;\n",
              "      border: none;\n",
              "      border-radius: 50%;\n",
              "      cursor: pointer;\n",
              "      display: none;\n",
              "      fill: #1967D2;\n",
              "      height: 32px;\n",
              "      padding: 0 0 0 0;\n",
              "      width: 32px;\n",
              "    }\n",
              "\n",
              "    .colab-df-convert:hover {\n",
              "      background-color: #E2EBFA;\n",
              "      box-shadow: 0px 1px 2px rgba(60, 64, 67, 0.3), 0px 1px 3px 1px rgba(60, 64, 67, 0.15);\n",
              "      fill: #174EA6;\n",
              "    }\n",
              "\n",
              "    [theme=dark] .colab-df-convert {\n",
              "      background-color: #3B4455;\n",
              "      fill: #D2E3FC;\n",
              "    }\n",
              "\n",
              "    [theme=dark] .colab-df-convert:hover {\n",
              "      background-color: #434B5C;\n",
              "      box-shadow: 0px 1px 3px 1px rgba(0, 0, 0, 0.15);\n",
              "      filter: drop-shadow(0px 1px 2px rgba(0, 0, 0, 0.3));\n",
              "      fill: #FFFFFF;\n",
              "    }\n",
              "  </style>\n",
              "\n",
              "      <script>\n",
              "        const buttonEl =\n",
              "          document.querySelector('#df-4e52ad09-059d-440d-bb70-f17fb64a4f37 button.colab-df-convert');\n",
              "        buttonEl.style.display =\n",
              "          google.colab.kernel.accessAllowed ? 'block' : 'none';\n",
              "\n",
              "        async function convertToInteractive(key) {\n",
              "          const element = document.querySelector('#df-4e52ad09-059d-440d-bb70-f17fb64a4f37');\n",
              "          const dataTable =\n",
              "            await google.colab.kernel.invokeFunction('convertToInteractive',\n",
              "                                                     [key], {});\n",
              "          if (!dataTable) return;\n",
              "\n",
              "          const docLinkHtml = 'Like what you see? Visit the ' +\n",
              "            '<a target=\"_blank\" href=https://colab.research.google.com/notebooks/data_table.ipynb>data table notebook</a>'\n",
              "            + ' to learn more about interactive tables.';\n",
              "          element.innerHTML = '';\n",
              "          dataTable['output_type'] = 'display_data';\n",
              "          await google.colab.output.renderOutput(dataTable, element);\n",
              "          const docLink = document.createElement('div');\n",
              "          docLink.innerHTML = docLinkHtml;\n",
              "          element.appendChild(docLink);\n",
              "        }\n",
              "      </script>\n",
              "    </div>\n",
              "  </div>\n",
              "  "
            ]
          },
          "metadata": {},
          "execution_count": 1
        }
      ],
      "source": [
        "import requests\n",
        "import pandas as pd\n",
        "import re\n",
        "from sklearn.metrics import accuracy_score\n",
        "import warnings\n",
        "import numpy as np\n",
        "\n",
        "# Import dataset dari hasil TF-IDF\n",
        "from google.colab import drive\n",
        "drive.mount('/content/drive')\n",
        "\n",
        "df_dataset = pd.read_excel('/content/drive/MyDrive/Colab Notebooks/data.xlsx')\n",
        "df_dataset"
      ]
    },
    {
      "cell_type": "code",
      "source": [
        "from sklearn.svm import SVC\n",
        "from sklearn.preprocessing import LabelEncoder\n",
        "from sklearn.model_selection import train_test_split\n",
        "from sklearn.metrics import accuracy_score, confusion_matrix, classification_report"
      ],
      "metadata": {
        "id": "B_W3-bi5KAiM"
      },
      "execution_count": 2,
      "outputs": []
    },
    {
      "cell_type": "code",
      "source": [
        "# Jadikan sentimen (nilai y) menjadi nilai 0 dan 1\n",
        "\n",
        "enc = LabelEncoder()\n",
        "df_dataset['Sentimen'] = enc.fit_transform(df_dataset['Sentimen'].values)\n",
        "cls = df_dataset['Sentimen']\n",
        "cls"
      ],
      "metadata": {
        "colab": {
          "base_uri": "https://localhost:8080/"
        },
        "id": "J1KfPNhlKGWd",
        "outputId": "aeae6f7b-0443-4e50-fb4d-b7ab78c2915a"
      },
      "execution_count": 3,
      "outputs": [
        {
          "output_type": "execute_result",
          "data": {
            "text/plain": [
              "0      1\n",
              "1      1\n",
              "2      0\n",
              "3      0\n",
              "4      0\n",
              "      ..\n",
              "245    1\n",
              "246    1\n",
              "247    0\n",
              "248    1\n",
              "249    0\n",
              "Name: Sentimen, Length: 250, dtype: int64"
            ]
          },
          "metadata": {},
          "execution_count": 3
        }
      ]
    },
    {
      "cell_type": "code",
      "source": [
        "# Tetapkan nilai X dari hasil TF-IDF \n",
        "\n",
        "attrs = df_dataset['tf_idf_vec']\n",
        "attrs"
      ],
      "metadata": {
        "colab": {
          "base_uri": "https://localhost:8080/"
        },
        "id": "2wlM4iJBKUjm",
        "outputId": "41deccda-84c9-41a6-bae8-84692aab3ea1"
      },
      "execution_count": 4,
      "outputs": [
        {
          "output_type": "execute_result",
          "data": {
            "text/plain": [
              "0      [0.22830226204732287, 0.0, 0.0, 0.0, 0.2290726...\n",
              "1      [0.20293534404206476, 0.0, 0.0, 0.0, 0.0, 0.0,...\n",
              "2      [0.0, 0.0, 0.0, 0.0, 0.45814536593707755, 0.0,...\n",
              "3      [0.02254837156022942, 0.0, 0.05411177434503063...\n",
              "4      [0.0, 0.12447947988461912, 0.0, 0.0, 0.1832581...\n",
              "                             ...                        \n",
              "245    [0.0, 0.0, 0.0, 0.0, 0.0, 0.0, 0.0, 0.0, 0.235...\n",
              "246    [0.30440301606309716, 0.0, 0.0, 0.0, 0.0, 0.0,...\n",
              "247    [0.10146767202103238, 0.0, 0.0, 0.278552219358...\n",
              "248    [0.0, 0.0, 0.208716843902261, 0.0, 0.0, 0.0, 0...\n",
              "249    [0.0, 0.0, 0.0, 0.0, 0.0, 0.0, 0.0, 0.0, 0.0, ...\n",
              "Name: tf_idf_vec, Length: 250, dtype: object"
            ]
          },
          "metadata": {},
          "execution_count": 4
        }
      ]
    },
    {
      "cell_type": "code",
      "source": [
        "# Jadikan nilai x menjadi dataframe\n",
        "import ast\n",
        "for i in range(len(attrs)):\n",
        "    attrs[i] = ast.literal_eval(attrs[i])\n",
        "\n",
        "column_name = []\n",
        "dataset = []\n",
        "\n",
        "for i in range(len(attrs[0])):\n",
        "    column_name.append(\"X\"+str(i))\n",
        "\n",
        "for i in range(len(attrs)):\n",
        "    dataset.append(attrs[i])\n",
        "\n",
        "attr = pd.DataFrame(dataset, columns=column_name)\n",
        "attr"
      ],
      "metadata": {
        "id": "oCZpBoN4L9Yv",
        "colab": {
          "base_uri": "https://localhost:8080/",
          "height": 574
        },
        "outputId": "06c68a14-c92c-464a-b89a-a4b3b7a692dd"
      },
      "execution_count": 5,
      "outputs": [
        {
          "output_type": "stream",
          "name": "stderr",
          "text": [
            "<ipython-input-5-c3bd5cb043e1>:4: SettingWithCopyWarning: \n",
            "A value is trying to be set on a copy of a slice from a DataFrame\n",
            "\n",
            "See the caveats in the documentation: https://pandas.pydata.org/pandas-docs/stable/user_guide/indexing.html#returning-a-view-versus-a-copy\n",
            "  attrs[i] = ast.literal_eval(attrs[i])\n"
          ]
        },
        {
          "output_type": "execute_result",
          "data": {
            "text/plain": [
              "           X0        X1        X2        X3        X4   X5   X6   X7  \\\n",
              "0    0.228302  0.000000  0.000000  0.000000  0.229073  0.0  0.0  0.0   \n",
              "1    0.202935  0.000000  0.000000  0.000000  0.000000  0.0  0.0  0.0   \n",
              "2    0.000000  0.000000  0.000000  0.000000  0.458145  0.0  0.0  0.0   \n",
              "3    0.022548  0.000000  0.054112  0.000000  0.000000  0.0  0.0  0.0   \n",
              "4    0.000000  0.124479  0.000000  0.000000  0.183258  0.0  0.0  0.0   \n",
              "..        ...       ...       ...       ...       ...  ...  ...  ...   \n",
              "245  0.000000  0.000000  0.000000  0.000000  0.000000  0.0  0.0  0.0   \n",
              "246  0.304403  0.000000  0.000000  0.000000  0.000000  0.0  0.0  0.0   \n",
              "247  0.101468  0.000000  0.000000  0.278552  0.000000  0.0  0.0  0.0   \n",
              "248  0.000000  0.000000  0.208717  0.000000  0.000000  0.0  0.0  0.0   \n",
              "249  0.000000  0.000000  0.000000  0.000000  0.000000  0.0  0.0  0.0   \n",
              "\n",
              "           X8   X9  ...       X15  X16       X17  X18       X19       X20  \\\n",
              "0    0.000000  0.0  ...  0.000000  0.0  0.000000  0.0  0.000000  0.000000   \n",
              "1    0.000000  0.0  ...  0.000000  0.0  0.000000  0.0  0.000000  0.000000   \n",
              "2    0.000000  0.0  ...  0.000000  0.0  0.000000  0.0  0.000000  0.000000   \n",
              "3    0.000000  0.0  ...  0.000000  0.0  0.000000  0.0  0.000000  0.086793   \n",
              "4    0.000000  0.0  ...  0.226336  0.0  0.000000  0.0  0.000000  0.000000   \n",
              "..        ...  ...  ...       ...  ...       ...  ...       ...       ...   \n",
              "245  0.235585  0.0  ...  0.000000  0.0  0.251485  0.0  0.255843  0.000000   \n",
              "246  0.000000  0.0  ...  0.000000  0.0  0.000000  0.0  0.000000  0.000000   \n",
              "247  0.000000  0.0  ...  0.000000  0.0  0.000000  0.0  0.000000  0.390568   \n",
              "248  0.000000  0.0  ...  0.000000  0.0  0.000000  0.0  0.000000  0.000000   \n",
              "249  0.000000  0.0  ...  0.150891  0.0  0.000000  0.0  0.000000  0.000000   \n",
              "\n",
              "          X21       X22       X23       X24  \n",
              "0    0.000000  0.000000  0.000000  0.000000  \n",
              "1    0.000000  0.000000  0.000000  0.000000  \n",
              "2    0.000000  0.000000  0.000000  0.000000  \n",
              "3    0.000000  0.090015  0.000000  0.093546  \n",
              "4    0.000000  0.000000  0.000000  0.000000  \n",
              "..        ...       ...       ...       ...  \n",
              "245  0.000000  0.000000  0.000000  0.000000  \n",
              "246  0.000000  0.000000  1.215209  0.000000  \n",
              "247  0.000000  0.000000  0.000000  0.000000  \n",
              "248  0.000000  0.000000  0.000000  0.000000  \n",
              "249  0.156227  0.000000  0.000000  0.336764  \n",
              "\n",
              "[250 rows x 25 columns]"
            ],
            "text/html": [
              "\n",
              "  <div id=\"df-66a5aa37-70c4-4ddf-a6d9-04fa109f9894\">\n",
              "    <div class=\"colab-df-container\">\n",
              "      <div>\n",
              "<style scoped>\n",
              "    .dataframe tbody tr th:only-of-type {\n",
              "        vertical-align: middle;\n",
              "    }\n",
              "\n",
              "    .dataframe tbody tr th {\n",
              "        vertical-align: top;\n",
              "    }\n",
              "\n",
              "    .dataframe thead th {\n",
              "        text-align: right;\n",
              "    }\n",
              "</style>\n",
              "<table border=\"1\" class=\"dataframe\">\n",
              "  <thead>\n",
              "    <tr style=\"text-align: right;\">\n",
              "      <th></th>\n",
              "      <th>X0</th>\n",
              "      <th>X1</th>\n",
              "      <th>X2</th>\n",
              "      <th>X3</th>\n",
              "      <th>X4</th>\n",
              "      <th>X5</th>\n",
              "      <th>X6</th>\n",
              "      <th>X7</th>\n",
              "      <th>X8</th>\n",
              "      <th>X9</th>\n",
              "      <th>...</th>\n",
              "      <th>X15</th>\n",
              "      <th>X16</th>\n",
              "      <th>X17</th>\n",
              "      <th>X18</th>\n",
              "      <th>X19</th>\n",
              "      <th>X20</th>\n",
              "      <th>X21</th>\n",
              "      <th>X22</th>\n",
              "      <th>X23</th>\n",
              "      <th>X24</th>\n",
              "    </tr>\n",
              "  </thead>\n",
              "  <tbody>\n",
              "    <tr>\n",
              "      <th>0</th>\n",
              "      <td>0.228302</td>\n",
              "      <td>0.000000</td>\n",
              "      <td>0.000000</td>\n",
              "      <td>0.000000</td>\n",
              "      <td>0.229073</td>\n",
              "      <td>0.0</td>\n",
              "      <td>0.0</td>\n",
              "      <td>0.0</td>\n",
              "      <td>0.000000</td>\n",
              "      <td>0.0</td>\n",
              "      <td>...</td>\n",
              "      <td>0.000000</td>\n",
              "      <td>0.0</td>\n",
              "      <td>0.000000</td>\n",
              "      <td>0.0</td>\n",
              "      <td>0.000000</td>\n",
              "      <td>0.000000</td>\n",
              "      <td>0.000000</td>\n",
              "      <td>0.000000</td>\n",
              "      <td>0.000000</td>\n",
              "      <td>0.000000</td>\n",
              "    </tr>\n",
              "    <tr>\n",
              "      <th>1</th>\n",
              "      <td>0.202935</td>\n",
              "      <td>0.000000</td>\n",
              "      <td>0.000000</td>\n",
              "      <td>0.000000</td>\n",
              "      <td>0.000000</td>\n",
              "      <td>0.0</td>\n",
              "      <td>0.0</td>\n",
              "      <td>0.0</td>\n",
              "      <td>0.000000</td>\n",
              "      <td>0.0</td>\n",
              "      <td>...</td>\n",
              "      <td>0.000000</td>\n",
              "      <td>0.0</td>\n",
              "      <td>0.000000</td>\n",
              "      <td>0.0</td>\n",
              "      <td>0.000000</td>\n",
              "      <td>0.000000</td>\n",
              "      <td>0.000000</td>\n",
              "      <td>0.000000</td>\n",
              "      <td>0.000000</td>\n",
              "      <td>0.000000</td>\n",
              "    </tr>\n",
              "    <tr>\n",
              "      <th>2</th>\n",
              "      <td>0.000000</td>\n",
              "      <td>0.000000</td>\n",
              "      <td>0.000000</td>\n",
              "      <td>0.000000</td>\n",
              "      <td>0.458145</td>\n",
              "      <td>0.0</td>\n",
              "      <td>0.0</td>\n",
              "      <td>0.0</td>\n",
              "      <td>0.000000</td>\n",
              "      <td>0.0</td>\n",
              "      <td>...</td>\n",
              "      <td>0.000000</td>\n",
              "      <td>0.0</td>\n",
              "      <td>0.000000</td>\n",
              "      <td>0.0</td>\n",
              "      <td>0.000000</td>\n",
              "      <td>0.000000</td>\n",
              "      <td>0.000000</td>\n",
              "      <td>0.000000</td>\n",
              "      <td>0.000000</td>\n",
              "      <td>0.000000</td>\n",
              "    </tr>\n",
              "    <tr>\n",
              "      <th>3</th>\n",
              "      <td>0.022548</td>\n",
              "      <td>0.000000</td>\n",
              "      <td>0.054112</td>\n",
              "      <td>0.000000</td>\n",
              "      <td>0.000000</td>\n",
              "      <td>0.0</td>\n",
              "      <td>0.0</td>\n",
              "      <td>0.0</td>\n",
              "      <td>0.000000</td>\n",
              "      <td>0.0</td>\n",
              "      <td>...</td>\n",
              "      <td>0.000000</td>\n",
              "      <td>0.0</td>\n",
              "      <td>0.000000</td>\n",
              "      <td>0.0</td>\n",
              "      <td>0.000000</td>\n",
              "      <td>0.086793</td>\n",
              "      <td>0.000000</td>\n",
              "      <td>0.090015</td>\n",
              "      <td>0.000000</td>\n",
              "      <td>0.093546</td>\n",
              "    </tr>\n",
              "    <tr>\n",
              "      <th>4</th>\n",
              "      <td>0.000000</td>\n",
              "      <td>0.124479</td>\n",
              "      <td>0.000000</td>\n",
              "      <td>0.000000</td>\n",
              "      <td>0.183258</td>\n",
              "      <td>0.0</td>\n",
              "      <td>0.0</td>\n",
              "      <td>0.0</td>\n",
              "      <td>0.000000</td>\n",
              "      <td>0.0</td>\n",
              "      <td>...</td>\n",
              "      <td>0.226336</td>\n",
              "      <td>0.0</td>\n",
              "      <td>0.000000</td>\n",
              "      <td>0.0</td>\n",
              "      <td>0.000000</td>\n",
              "      <td>0.000000</td>\n",
              "      <td>0.000000</td>\n",
              "      <td>0.000000</td>\n",
              "      <td>0.000000</td>\n",
              "      <td>0.000000</td>\n",
              "    </tr>\n",
              "    <tr>\n",
              "      <th>...</th>\n",
              "      <td>...</td>\n",
              "      <td>...</td>\n",
              "      <td>...</td>\n",
              "      <td>...</td>\n",
              "      <td>...</td>\n",
              "      <td>...</td>\n",
              "      <td>...</td>\n",
              "      <td>...</td>\n",
              "      <td>...</td>\n",
              "      <td>...</td>\n",
              "      <td>...</td>\n",
              "      <td>...</td>\n",
              "      <td>...</td>\n",
              "      <td>...</td>\n",
              "      <td>...</td>\n",
              "      <td>...</td>\n",
              "      <td>...</td>\n",
              "      <td>...</td>\n",
              "      <td>...</td>\n",
              "      <td>...</td>\n",
              "      <td>...</td>\n",
              "    </tr>\n",
              "    <tr>\n",
              "      <th>245</th>\n",
              "      <td>0.000000</td>\n",
              "      <td>0.000000</td>\n",
              "      <td>0.000000</td>\n",
              "      <td>0.000000</td>\n",
              "      <td>0.000000</td>\n",
              "      <td>0.0</td>\n",
              "      <td>0.0</td>\n",
              "      <td>0.0</td>\n",
              "      <td>0.235585</td>\n",
              "      <td>0.0</td>\n",
              "      <td>...</td>\n",
              "      <td>0.000000</td>\n",
              "      <td>0.0</td>\n",
              "      <td>0.251485</td>\n",
              "      <td>0.0</td>\n",
              "      <td>0.255843</td>\n",
              "      <td>0.000000</td>\n",
              "      <td>0.000000</td>\n",
              "      <td>0.000000</td>\n",
              "      <td>0.000000</td>\n",
              "      <td>0.000000</td>\n",
              "    </tr>\n",
              "    <tr>\n",
              "      <th>246</th>\n",
              "      <td>0.304403</td>\n",
              "      <td>0.000000</td>\n",
              "      <td>0.000000</td>\n",
              "      <td>0.000000</td>\n",
              "      <td>0.000000</td>\n",
              "      <td>0.0</td>\n",
              "      <td>0.0</td>\n",
              "      <td>0.0</td>\n",
              "      <td>0.000000</td>\n",
              "      <td>0.0</td>\n",
              "      <td>...</td>\n",
              "      <td>0.000000</td>\n",
              "      <td>0.0</td>\n",
              "      <td>0.000000</td>\n",
              "      <td>0.0</td>\n",
              "      <td>0.000000</td>\n",
              "      <td>0.000000</td>\n",
              "      <td>0.000000</td>\n",
              "      <td>0.000000</td>\n",
              "      <td>1.215209</td>\n",
              "      <td>0.000000</td>\n",
              "    </tr>\n",
              "    <tr>\n",
              "      <th>247</th>\n",
              "      <td>0.101468</td>\n",
              "      <td>0.000000</td>\n",
              "      <td>0.000000</td>\n",
              "      <td>0.278552</td>\n",
              "      <td>0.000000</td>\n",
              "      <td>0.0</td>\n",
              "      <td>0.0</td>\n",
              "      <td>0.0</td>\n",
              "      <td>0.000000</td>\n",
              "      <td>0.0</td>\n",
              "      <td>...</td>\n",
              "      <td>0.000000</td>\n",
              "      <td>0.0</td>\n",
              "      <td>0.000000</td>\n",
              "      <td>0.0</td>\n",
              "      <td>0.000000</td>\n",
              "      <td>0.390568</td>\n",
              "      <td>0.000000</td>\n",
              "      <td>0.000000</td>\n",
              "      <td>0.000000</td>\n",
              "      <td>0.000000</td>\n",
              "    </tr>\n",
              "    <tr>\n",
              "      <th>248</th>\n",
              "      <td>0.000000</td>\n",
              "      <td>0.000000</td>\n",
              "      <td>0.208717</td>\n",
              "      <td>0.000000</td>\n",
              "      <td>0.000000</td>\n",
              "      <td>0.0</td>\n",
              "      <td>0.0</td>\n",
              "      <td>0.0</td>\n",
              "      <td>0.000000</td>\n",
              "      <td>0.0</td>\n",
              "      <td>...</td>\n",
              "      <td>0.000000</td>\n",
              "      <td>0.0</td>\n",
              "      <td>0.000000</td>\n",
              "      <td>0.0</td>\n",
              "      <td>0.000000</td>\n",
              "      <td>0.000000</td>\n",
              "      <td>0.000000</td>\n",
              "      <td>0.000000</td>\n",
              "      <td>0.000000</td>\n",
              "      <td>0.000000</td>\n",
              "    </tr>\n",
              "    <tr>\n",
              "      <th>249</th>\n",
              "      <td>0.000000</td>\n",
              "      <td>0.000000</td>\n",
              "      <td>0.000000</td>\n",
              "      <td>0.000000</td>\n",
              "      <td>0.000000</td>\n",
              "      <td>0.0</td>\n",
              "      <td>0.0</td>\n",
              "      <td>0.0</td>\n",
              "      <td>0.000000</td>\n",
              "      <td>0.0</td>\n",
              "      <td>...</td>\n",
              "      <td>0.150891</td>\n",
              "      <td>0.0</td>\n",
              "      <td>0.000000</td>\n",
              "      <td>0.0</td>\n",
              "      <td>0.000000</td>\n",
              "      <td>0.000000</td>\n",
              "      <td>0.156227</td>\n",
              "      <td>0.000000</td>\n",
              "      <td>0.000000</td>\n",
              "      <td>0.336764</td>\n",
              "    </tr>\n",
              "  </tbody>\n",
              "</table>\n",
              "<p>250 rows × 25 columns</p>\n",
              "</div>\n",
              "      <button class=\"colab-df-convert\" onclick=\"convertToInteractive('df-66a5aa37-70c4-4ddf-a6d9-04fa109f9894')\"\n",
              "              title=\"Convert this dataframe to an interactive table.\"\n",
              "              style=\"display:none;\">\n",
              "        \n",
              "  <svg xmlns=\"http://www.w3.org/2000/svg\" height=\"24px\"viewBox=\"0 0 24 24\"\n",
              "       width=\"24px\">\n",
              "    <path d=\"M0 0h24v24H0V0z\" fill=\"none\"/>\n",
              "    <path d=\"M18.56 5.44l.94 2.06.94-2.06 2.06-.94-2.06-.94-.94-2.06-.94 2.06-2.06.94zm-11 1L8.5 8.5l.94-2.06 2.06-.94-2.06-.94L8.5 2.5l-.94 2.06-2.06.94zm10 10l.94 2.06.94-2.06 2.06-.94-2.06-.94-.94-2.06-.94 2.06-2.06.94z\"/><path d=\"M17.41 7.96l-1.37-1.37c-.4-.4-.92-.59-1.43-.59-.52 0-1.04.2-1.43.59L10.3 9.45l-7.72 7.72c-.78.78-.78 2.05 0 2.83L4 21.41c.39.39.9.59 1.41.59.51 0 1.02-.2 1.41-.59l7.78-7.78 2.81-2.81c.8-.78.8-2.07 0-2.86zM5.41 20L4 18.59l7.72-7.72 1.47 1.35L5.41 20z\"/>\n",
              "  </svg>\n",
              "      </button>\n",
              "      \n",
              "  <style>\n",
              "    .colab-df-container {\n",
              "      display:flex;\n",
              "      flex-wrap:wrap;\n",
              "      gap: 12px;\n",
              "    }\n",
              "\n",
              "    .colab-df-convert {\n",
              "      background-color: #E8F0FE;\n",
              "      border: none;\n",
              "      border-radius: 50%;\n",
              "      cursor: pointer;\n",
              "      display: none;\n",
              "      fill: #1967D2;\n",
              "      height: 32px;\n",
              "      padding: 0 0 0 0;\n",
              "      width: 32px;\n",
              "    }\n",
              "\n",
              "    .colab-df-convert:hover {\n",
              "      background-color: #E2EBFA;\n",
              "      box-shadow: 0px 1px 2px rgba(60, 64, 67, 0.3), 0px 1px 3px 1px rgba(60, 64, 67, 0.15);\n",
              "      fill: #174EA6;\n",
              "    }\n",
              "\n",
              "    [theme=dark] .colab-df-convert {\n",
              "      background-color: #3B4455;\n",
              "      fill: #D2E3FC;\n",
              "    }\n",
              "\n",
              "    [theme=dark] .colab-df-convert:hover {\n",
              "      background-color: #434B5C;\n",
              "      box-shadow: 0px 1px 3px 1px rgba(0, 0, 0, 0.15);\n",
              "      filter: drop-shadow(0px 1px 2px rgba(0, 0, 0, 0.3));\n",
              "      fill: #FFFFFF;\n",
              "    }\n",
              "  </style>\n",
              "\n",
              "      <script>\n",
              "        const buttonEl =\n",
              "          document.querySelector('#df-66a5aa37-70c4-4ddf-a6d9-04fa109f9894 button.colab-df-convert');\n",
              "        buttonEl.style.display =\n",
              "          google.colab.kernel.accessAllowed ? 'block' : 'none';\n",
              "\n",
              "        async function convertToInteractive(key) {\n",
              "          const element = document.querySelector('#df-66a5aa37-70c4-4ddf-a6d9-04fa109f9894');\n",
              "          const dataTable =\n",
              "            await google.colab.kernel.invokeFunction('convertToInteractive',\n",
              "                                                     [key], {});\n",
              "          if (!dataTable) return;\n",
              "\n",
              "          const docLinkHtml = 'Like what you see? Visit the ' +\n",
              "            '<a target=\"_blank\" href=https://colab.research.google.com/notebooks/data_table.ipynb>data table notebook</a>'\n",
              "            + ' to learn more about interactive tables.';\n",
              "          element.innerHTML = '';\n",
              "          dataTable['output_type'] = 'display_data';\n",
              "          await google.colab.output.renderOutput(dataTable, element);\n",
              "          const docLink = document.createElement('div');\n",
              "          docLink.innerHTML = docLinkHtml;\n",
              "          element.appendChild(docLink);\n",
              "        }\n",
              "      </script>\n",
              "    </div>\n",
              "  </div>\n",
              "  "
            ]
          },
          "metadata": {},
          "execution_count": 5
        }
      ]
    },
    {
      "cell_type": "code",
      "source": [
        "from sklearn.preprocessing import MinMaxScaler\n",
        "from sklearn.model_selection import KFold\n",
        "\n",
        "# Proses K-FOLDING\n",
        "kf = KFold(n_splits=10)\n",
        "kf.get_n_splits(attr)\n",
        "x_train_data = [0,0,0,0,0,0,0,0,0,0]\n",
        "x_test_data = [0,0,0,0,0,0,0,0,0,0]\n",
        "y_train_data = [0,0,0,0,0,0,0,0,0,0]\n",
        "y_test_data = [0,0,0,0,0,0,0,0,0,0]\n",
        "for i, (train_index, test_index) in enumerate(kf.split(attr)):\n",
        "    # x_train, x_test, y_train, y_test = train_test_split(attr, cls, test_size = 0.2)\n",
        "    x_train , x_test = attr.iloc[train_index,:],attr.iloc[test_index,:]\n",
        "    y_train , y_test = cls[train_index] , cls[test_index]\n",
        "\n",
        "    scaler = MinMaxScaler()\n",
        "    x_train = scaler.fit_transform(x_train)\n",
        "    x_test = scaler.transform(x_test)\n",
        "\n",
        "    tree = SVC()\n",
        "    tree.fit(x_train, y_train)\n",
        "\n",
        "    x_train_data[i] = x_train\n",
        "    x_test_data[i] = x_test\n",
        "    y_train_data[i] = y_train\n",
        "    y_test_data[i] = y_test"
      ],
      "metadata": {
        "id": "QtlAFHsV9MzU"
      },
      "execution_count": 6,
      "outputs": []
    },
    {
      "cell_type": "code",
      "source": [
        "import matplotlib.pyplot as plt\n",
        "import seaborn as sn\n",
        "%matplotlib inline"
      ],
      "metadata": {
        "id": "BGsACCLCCc3m"
      },
      "execution_count": 7,
      "outputs": []
    },
    {
      "cell_type": "code",
      "source": [
        "# PLot nilai Y test per fold\n",
        "\n",
        "fig = plt.subplots(figsize=(18,6))\n",
        "barWidth = 0.15\n",
        "Y_TEST_POS = [sum(p == 1 for p in y_test_data[0]), sum(p == 1 for p in y_test_data[1]), sum(p == 1 for p in y_test_data[2]), sum(p == 1 for p in y_test_data[3]), sum(p == 1 for p in y_test_data[4]), sum(p == 1 for p in y_test_data[5]), sum(p == 1 for p in y_test_data[6]), sum(p == 1 for p in y_test_data[7]), sum(p == 1 for p in y_test_data[8]), sum(p == 1 for p in y_test_data[9])]\n",
        "Y_TEST_NEG = [sum(p == 0 for p in y_test_data[0]), sum(p == 0 for p in y_test_data[1]), sum(p == 0 for p in y_test_data[2]), sum(p == 0 for p in y_test_data[3]), sum(p == 0 for p in y_test_data[4]), sum(p == 0 for p in y_test_data[5]), sum(p == 0 for p in y_test_data[6]), sum(p == 0 for p in y_test_data[7]), sum(p == 0 for p in y_test_data[8]), sum(p == 0 for p in y_test_data[9])]\n",
        "\n",
        "br1 = np.arange(len(Y_TEST_POS))\n",
        "br2 = [x + barWidth for x in br1]\n",
        "\n",
        "plt.title(\"Total Y Train & Y Test Class Per Fold\")\n",
        "plt.bar(br1, Y_TEST_POS, color ='b', width = barWidth,\n",
        "        edgecolor ='grey', label ='Y_TEST_POS')\n",
        "plt.bar(br2, Y_TEST_NEG, color ='m', width = barWidth,\n",
        "        edgecolor ='grey', label ='Y_TEST_NEG')\n",
        "\n",
        "plt.xticks([r + barWidth for r in range(len(Y_TEST_POS))],\n",
        "        [\"Fold 1\", \"Fold 2\", \"Fold 3\", \"Fold 4\", \"Fold 5\", \"Fold 6\", \"Fold 7\", \"Fold 8\", \"Fold 9\", \"Fold 10\"])\n",
        " \n",
        "plt.legend()\n",
        "plt.show()"
      ],
      "metadata": {
        "colab": {
          "base_uri": "https://localhost:8080/",
          "height": 325
        },
        "id": "sptVwxp8J7oY",
        "outputId": "df0b80cb-2f77-427c-d894-410621739881"
      },
      "execution_count": 8,
      "outputs": [
        {
          "output_type": "display_data",
          "data": {
            "text/plain": [
              "<Figure size 1296x432 with 1 Axes>"
            ],
            "image/png": "[encoded data removed]"
          },
          "metadata": {
            "needs_background": "light"
          }
        }
      ]
    },
    {
      "cell_type": "code",
      "source": [
        "# Parameter SVM\n",
        "\n",
        "c_data = 15\n",
        "max_iteration = 50000\n",
        "tolerance = 0.01\n",
        "np.random.seed(10)"
      ],
      "metadata": {
        "id": "ymPZMmcJS-no"
      },
      "execution_count": 9,
      "outputs": []
    },
    {
      "cell_type": "code",
      "source": [
        "# Proses training FOLD-1\n",
        "\n",
        "fold_1 = SVC(\n",
        "    C = c_data,\n",
        "    kernel = 'linear',\n",
        "    max_iter = max_iteration,\n",
        "    random_state = 0,\n",
        "    tol = tolerance,\n",
        "    )\n",
        "\n",
        "# Proses testing FOLD-1\n",
        "fold_1 = fold_1.fit(x_train_data[0], y_train_data[0])\n",
        "\n",
        "prediction_1 = fold_1.predict(x_test_data[0])\n",
        "false_1 = (prediction_1 != y_test_data[0]).sum()\n",
        "true_1 = (prediction_1 == y_test_data[0]).sum()\n",
        "tn_1, fp_1, fn_1, tp_1 = confusion_matrix(y_test_data[0], prediction_1).ravel()\n",
        "precision_score_1 = tp_1 / (tp_1 + fp_1)\n",
        "recall_score_1 = tp_1 / (tp_1 + fn_1)\n",
        "f1_score_1 = 2 * (recall_score_1 * precision_score_1) / (recall_score_1 + precision_score_1)\n",
        "\n",
        "# Hasil Akurasi\n",
        "print(\"Accuration: \", true_1 / (true_1 + false_1) * 100, '%')\n",
        "# Hasil Presisi\n",
        "print(\"Precission: \", precision_score_1 * 100, \"%\")\n",
        "# Hasil Recall\n",
        "print(\"Recall: \", recall_score_1 * 100, \"%\")\n",
        "# Hasil F1\n",
        "print(\"F1 Score: \", f1_score_1 * 100, \"%\")\n",
        "print(\"======================\")\n",
        "# Plot Confusion Matrix\n",
        "cm_1 = confusion_matrix(y_test, prediction_1)\n",
        "plt.figure(figsize=(10,7))\n",
        "sn.heatmap(cm_1, annot=True)\n",
        "plt.xlabel('Predicted')\n",
        "plt.ylabel('Truth')"
      ],
      "metadata": {
        "colab": {
          "base_uri": "https://localhost:8080/",
          "height": 546
        },
        "id": "4Hwj8On9AhKL",
        "outputId": "be8e0502-e60c-4af6-d6b9-21080a1c9017"
      },
      "execution_count": 10,
      "outputs": [
        {
          "output_type": "stream",
          "name": "stdout",
          "text": [
            "Accuration:  76.0 %\n",
            "Precission:  100.0 %\n",
            "Recall:  33.33333333333333 %\n",
            "F1 Score:  50.0 %\n",
            "======================\n"
          ]
        },
        {
          "output_type": "execute_result",
          "data": {
            "text/plain": [
              "Text(69.0, 0.5, 'Truth')"
            ]
          },
          "metadata": {},
          "execution_count": 10
        },
        {
          "output_type": "display_data",
          "data": {
            "text/plain": [
              "<Figure size 720x504 with 2 Axes>"
            ],
            "image/png": "[encoded data removed]"
          },
          "metadata": {
            "needs_background": "light"
          }
        }
      ]
    },
    {
      "cell_type": "code",
      "source": [
        "# Proses training FOLD-2\n",
        "\n",
        "fold_2 = SVC(\n",
        "    C = c_data,\n",
        "    kernel = 'linear',\n",
        "    max_iter = max_iteration,\n",
        "    random_state = 0,\n",
        "    tol = tolerance,\n",
        "    )\n",
        "\n",
        "# Proses testing FOLD-2\n",
        "fold_2 = fold_2.fit(x_train_data[1], y_train_data[1])\n",
        "\n",
        "prediction_2 = fold_2.predict(x_test_data[1])\n",
        "false_2 = (prediction_2 != y_test_data[1]).sum()\n",
        "true_2 = (prediction_2 == y_test_data[1]).sum()\n",
        "tn_2, fp_2, fn_2, tp_2 = confusion_matrix(y_test_data[1], prediction_2).ravel()\n",
        "precision_score_2 = tp_2 / (tp_2 + fp_2)\n",
        "recall_score_2 = tp_2 / (tp_2 + fn_2)\n",
        "f1_score_2 = 2 * (recall_score_2 * precision_score_2) / (recall_score_2 + precision_score_2)\n",
        "\n",
        "# Hasil Akurasi\n",
        "print(\"Accuration: \", true_2 / (true_2 + false_2) * 100, '%')\n",
        "# Hasil Presisi\n",
        "print(\"Precission: \", precision_score_2 * 100, \"%\")\n",
        "# Hasil Recall\n",
        "print(\"Recall: \", recall_score_2 * 100, \"%\")\n",
        "# Hasil F1\n",
        "print(\"F1 Score: \", f1_score_2 * 100, \"%\")\n",
        "print(\"======================\")\n",
        "# Plot Confusion Matrix\n",
        "cm_2 = confusion_matrix(y_test, prediction_2)\n",
        "plt.figure(figsize=(10,7))\n",
        "sn.heatmap(cm_2, annot=True)\n",
        "plt.xlabel('Predicted')\n",
        "plt.ylabel('Truth')"
      ],
      "metadata": {
        "colab": {
          "base_uri": "https://localhost:8080/",
          "height": 550
        },
        "id": "IG0JzHYBCGj1",
        "outputId": "0c8e9217-76a0-4a9c-d4ec-a24daf61233a"
      },
      "execution_count": 11,
      "outputs": [
        {
          "output_type": "stream",
          "name": "stdout",
          "text": [
            "Accuration:  80.0 %\n",
            "Precission:  62.5 %\n",
            "Recall:  71.42857142857143 %\n",
            "F1 Score:  66.66666666666666 %\n",
            "======================\n"
          ]
        },
        {
          "output_type": "execute_result",
          "data": {
            "text/plain": [
              "Text(69.0, 0.5, 'Truth')"
            ]
          },
          "metadata": {},
          "execution_count": 11
        },
        {
          "output_type": "display_data",
          "data": {
            "text/plain": [
              "<Figure size 720x504 with 2 Axes>"
            ],
            "image/png": "[encoded data removed]"
          },
          "metadata": {
            "needs_background": "light"
          }
        }
      ]
    },
    {
      "cell_type": "code",
      "source": [
        "# Proses training FOLD-3\n",
        "\n",
        "fold_3 = SVC(\n",
        "    C = c_data,\n",
        "    kernel = 'linear',\n",
        "    max_iter = max_iteration,\n",
        "    random_state = 0,\n",
        "    tol = tolerance,\n",
        "    )\n",
        "\n",
        "# Proses testing FOLD-3\n",
        "fold_3 = fold_3.fit(x_train_data[2], y_train_data[2])\n",
        "\n",
        "prediction_3 = fold_3.predict(x_test_data[2])\n",
        "false_3 = (prediction_3 != y_test_data[2]).sum()\n",
        "true_3 = (prediction_3 == y_test_data[2]).sum()\n",
        "tn_3, fp_3, fn_3, tp_3 = confusion_matrix(y_test_data[2], prediction_3).ravel()\n",
        "precision_score_3 = tp_3 / (tp_3 + fp_3)\n",
        "recall_score_3 = tp_3 / (tp_3 + fn_3)\n",
        "f1_score_3 = 2 * (recall_score_3 * precision_score_3) / (recall_score_3 + precision_score_3)\n",
        "\n",
        "# Hasil Akurasi\n",
        "print(\"Accuration: \", true_3 / (true_3 + false_3) * 100, '%')\n",
        "# Hasil Presisi\n",
        "print(\"Precission: \", precision_score_3 * 100, \"%\")\n",
        "# Hasil Recall\n",
        "print(\"Recall: \", recall_score_3 * 100, \"%\")\n",
        "# Hasil F1\n",
        "print(\"F1 Score: \", f1_score_3 * 100, \"%\")\n",
        "print(\"======================\")\n",
        "# Plot Confusion Matrix\n",
        "cm_3 = confusion_matrix(y_test, prediction_3)\n",
        "plt.figure(figsize=(10,7))\n",
        "sn.heatmap(cm_3, annot=True)\n",
        "plt.xlabel('Predicted')\n",
        "plt.ylabel('Truth')"
      ],
      "metadata": {
        "colab": {
          "base_uri": "https://localhost:8080/",
          "height": 550
        },
        "id": "0zbzi_Z-CqHY",
        "outputId": "4cdb65f7-c1a2-4820-80ec-4c3e5d09c092"
      },
      "execution_count": 12,
      "outputs": [
        {
          "output_type": "stream",
          "name": "stdout",
          "text": [
            "Accuration:  60.0 %\n",
            "Precission:  88.88888888888889 %\n",
            "Recall:  47.05882352941176 %\n",
            "F1 Score:  61.53846153846153 %\n",
            "======================\n"
          ]
        },
        {
          "output_type": "execute_result",
          "data": {
            "text/plain": [
              "Text(69.0, 0.5, 'Truth')"
            ]
          },
          "metadata": {},
          "execution_count": 12
        },
        {
          "output_type": "display_data",
          "data": {
            "text/plain": [
              "<Figure size 720x504 with 2 Axes>"
            ],
            "image/png": "[encoded data removed]"
          },
          "metadata": {
            "needs_background": "light"
          }
        }
      ]
    },
    {
      "cell_type": "code",
      "source": [
        "# Proses training FOLD-4\n",
        "\n",
        "fold_4 = SVC(\n",
        "    C = c_data,\n",
        "    kernel = 'linear',\n",
        "    max_iter = max_iteration,\n",
        "    random_state = 0,\n",
        "    tol = tolerance,\n",
        "    )\n",
        "\n",
        "# Proses testing FOLD-4\n",
        "fold_4 = fold_4.fit(x_train_data[3], y_train_data[3])\n",
        "\n",
        "prediction_4 = fold_4.predict(x_test_data[3])\n",
        "false_4 = (prediction_4 != y_test_data[3]).sum()\n",
        "true_4 = (prediction_4 == y_test_data[3]).sum()\n",
        "tn_4, fp_4, fn_4, tp_4 = confusion_matrix(y_test_data[3], prediction_4).ravel()\n",
        "precision_score_4 = tp_4 / (tp_4 + fp_4)\n",
        "recall_score_4 = tp_4 / (tp_4 + fn_4)\n",
        "f1_score_4 = 2 * (recall_score_4 * precision_score_4) / (recall_score_4 + precision_score_4)\n",
        "\n",
        "# Hasil Akurasi\n",
        "print(\"Accuration: \", true_4 / (true_4 + false_4) * 100, '%')\n",
        "# Hasil Presisi\n",
        "print(\"Precission: \", precision_score_4 * 100, \"%\")\n",
        "# Hasil Recall\n",
        "print(\"Recall: \", recall_score_4 * 100, \"%\")\n",
        "# Hasil F1\n",
        "print(\"F1 Score: \", f1_score_4 * 100, \"%\")\n",
        "print(\"======================\")\n",
        "# Plot Confusion Matrix\n",
        "cm_4 = confusion_matrix(y_test, prediction_4)\n",
        "plt.figure(figsize=(10,7))\n",
        "sn.heatmap(cm_4, annot=True)\n",
        "plt.xlabel('Predicted')\n",
        "plt.ylabel('Truth')"
      ],
      "metadata": {
        "colab": {
          "base_uri": "https://localhost:8080/",
          "height": 550
        },
        "id": "Ldc9VfNMCu9J",
        "outputId": "4d1321b3-a874-4068-86f4-83ac9e229257"
      },
      "execution_count": 13,
      "outputs": [
        {
          "output_type": "stream",
          "name": "stdout",
          "text": [
            "Accuration:  76.0 %\n",
            "Precission:  66.66666666666666 %\n",
            "Recall:  50.0 %\n",
            "F1 Score:  57.14285714285715 %\n",
            "======================\n"
          ]
        },
        {
          "output_type": "execute_result",
          "data": {
            "text/plain": [
              "Text(69.0, 0.5, 'Truth')"
            ]
          },
          "metadata": {},
          "execution_count": 13
        },
        {
          "output_type": "display_data",
          "data": {
            "text/plain": [
              "<Figure size 720x504 with 2 Axes>"
            ],
            "image/png": "[encoded data removed]"
          },
          "metadata": {
            "needs_background": "light"
          }
        }
      ]
    },
    {
      "cell_type": "code",
      "source": [
        "# Proses training FOLD-5\n",
        "\n",
        "fold_5 = SVC(\n",
        "    C = c_data,\n",
        "    kernel = 'linear',\n",
        "    max_iter = max_iteration,\n",
        "    random_state = 0,\n",
        "    tol = tolerance,\n",
        "    )\n",
        "\n",
        "# Proses testing FOLD-5\n",
        "fold_5 = fold_5.fit(x_train_data[4], y_train_data[4])\n",
        "\n",
        "prediction_5 = fold_5.predict(x_test_data[4])\n",
        "false_5 = (prediction_5 != y_test_data[4]).sum()\n",
        "true_5 = (prediction_5 == y_test_data[4]).sum()\n",
        "tn_5, fp_5, fn_5, tp_5 = confusion_matrix(y_test_data[4], prediction_5).ravel()\n",
        "precision_score_5 = tp_5 / (tp_5 + fp_5)\n",
        "recall_score_5 = tp_5 / (tp_5 + fn_5)\n",
        "f1_score_5 = 2 * (recall_score_5 * precision_score_5) / (recall_score_5 + precision_score_5)\n",
        "\n",
        "# Hasil Akurasi\n",
        "print(\"Accuration: \", true_5 / (true_5 + false_5) * 100, '%')\n",
        "# Hasil Presisi\n",
        "print(\"Precission: \", precision_score_5 * 100, \"%\")\n",
        "# Hasil Recall\n",
        "print(\"Recall: \", recall_score_5 * 100, \"%\")\n",
        "# Hasil F1\n",
        "print(\"F1 Score: \", f1_score_5 * 100, \"%\")\n",
        "print(\"======================\")\n",
        "# Plot Confusion Matrix\n",
        "cm_5 = confusion_matrix(y_test, prediction_5)\n",
        "plt.figure(figsize=(10,7))\n",
        "sn.heatmap(cm_5, annot=True)\n",
        "plt.xlabel('Predicted')\n",
        "plt.ylabel('Truth')"
      ],
      "metadata": {
        "colab": {
          "base_uri": "https://localhost:8080/",
          "height": 550
        },
        "id": "gaKe5dLNC0xs",
        "outputId": "48cb23fe-5e2b-4403-bb46-64e3c7253d7f"
      },
      "execution_count": 14,
      "outputs": [
        {
          "output_type": "stream",
          "name": "stdout",
          "text": [
            "Accuration:  80.0 %\n",
            "Precission:  87.5 %\n",
            "Recall:  63.63636363636363 %\n",
            "F1 Score:  73.68421052631578 %\n",
            "======================\n"
          ]
        },
        {
          "output_type": "execute_result",
          "data": {
            "text/plain": [
              "Text(69.0, 0.5, 'Truth')"
            ]
          },
          "metadata": {},
          "execution_count": 14
        },
        {
          "output_type": "display_data",
          "data": {
            "text/plain": [
              "<Figure size 720x504 with 2 Axes>"
            ],
            "image/png": "[encoded data removed]"
          },
          "metadata": {
            "needs_background": "light"
          }
        }
      ]
    },
    {
      "cell_type": "code",
      "source": [
        "# Proses training FOLD-5\n",
        "\n",
        "fold_6 = SVC(\n",
        "    C = c_data,\n",
        "    kernel = 'linear',\n",
        "    max_iter = max_iteration,\n",
        "    random_state = 0,\n",
        "    tol = tolerance,\n",
        "    )\n",
        "\n",
        "# Proses testing FOLD-5\n",
        "fold_6 = fold_6.fit(x_train_data[5], y_train_data[5])\n",
        "\n",
        "prediction_6 = fold_6.predict(x_test_data[5])\n",
        "false_6 = (prediction_6 != y_test_data[5]).sum()\n",
        "true_6 = (prediction_6 == y_test_data[5]).sum()\n",
        "tn_6, fp_6, fn_6, tp_6 = confusion_matrix(y_test_data[5], prediction_6).ravel()\n",
        "precision_score_6 = tp_6 / (tp_6 + fp_6)\n",
        "recall_score_6 = tp_6 / (tp_6 + fn_6)\n",
        "f1_score_6 = 2 * (recall_score_6 * precision_score_6) / (recall_score_6 + precision_score_6)\n",
        "\n",
        "# Hasil Akurasi\n",
        "print(\"Accuration: \", true_6 / (true_6 + false_6) * 100, '%')\n",
        "# Hasil Presisi\n",
        "print(\"Precission: \", precision_score_6 * 100, \"%\")\n",
        "# Hasil Recall\n",
        "print(\"Recall: \", recall_score_6 * 100, \"%\")\n",
        "# Hasil F1\n",
        "print(\"F1 Score: \", f1_score_6 * 100, \"%\")\n",
        "print(\"======================\")\n",
        "# Plot Confusion Matrix\n",
        "cm_6 = confusion_matrix(y_test, prediction_6)\n",
        "plt.figure(figsize=(10,7))\n",
        "sn.heatmap(cm_6, annot=True)\n",
        "plt.xlabel('Predicted')\n",
        "plt.ylabel('Truth')"
      ],
      "metadata": {
        "colab": {
          "base_uri": "https://localhost:8080/",
          "height": 550
        },
        "id": "9VFPasL9jdvT",
        "outputId": "e4e0bb1d-5f1e-4a92-b160-28f85f7b2cf2"
      },
      "execution_count": 15,
      "outputs": [
        {
          "output_type": "stream",
          "name": "stdout",
          "text": [
            "Accuration:  84.0 %\n",
            "Precission:  33.33333333333333 %\n",
            "Recall:  33.33333333333333 %\n",
            "F1 Score:  33.33333333333333 %\n",
            "======================\n"
          ]
        },
        {
          "output_type": "execute_result",
          "data": {
            "text/plain": [
              "Text(69.0, 0.5, 'Truth')"
            ]
          },
          "metadata": {},
          "execution_count": 15
        },
        {
          "output_type": "display_data",
          "data": {
            "text/plain": [
              "<Figure size 720x504 with 2 Axes>"
            ],
            "image/png": "[encoded data removed]"
          },
          "metadata": {
            "needs_background": "light"
          }
        }
      ]
    },
    {
      "cell_type": "code",
      "source": [
        "# Proses training FOLD-5\n",
        "\n",
        "fold_7 = SVC(\n",
        "    C = c_data,\n",
        "    kernel = 'linear',\n",
        "    max_iter = max_iteration,\n",
        "    random_state = 0,\n",
        "    tol = tolerance,\n",
        "    )\n",
        "\n",
        "# Proses testing FOLD-5\n",
        "fold_7 = fold_7.fit(x_train_data[6], y_train_data[6])\n",
        "\n",
        "prediction_7 = fold_7.predict(x_test_data[6])\n",
        "false_7 = (prediction_7 != y_test_data[6]).sum()\n",
        "true_7 = (prediction_7 == y_test_data[6]).sum()\n",
        "tn_7, fp_7, fn_7, tp_7 = confusion_matrix(y_test_data[6], prediction_7).ravel()\n",
        "precision_score_7 = tp_7 / (tp_7 + fp_7)\n",
        "recall_score_7 = tp_7 / (tp_7 + fn_7)\n",
        "f1_score_7 = 2 * (recall_score_7 * precision_score_7) / (recall_score_7 + precision_score_7)\n",
        "\n",
        "# Hasil Akurasi\n",
        "print(\"Accuration: \", true_7 / (true_7 + false_7) * 100, '%')\n",
        "# Hasil Presisi\n",
        "print(\"Precission: \", precision_score_7 * 100, \"%\")\n",
        "# Hasil Recall\n",
        "print(\"Recall: \", recall_score_7 * 100, \"%\")\n",
        "# Hasil F1\n",
        "print(\"F1 Score: \", f1_score_7 * 100, \"%\")\n",
        "print(\"======================\")\n",
        "# Plot Confusion Matrix\n",
        "cm_7 = confusion_matrix(y_test, prediction_7)\n",
        "plt.figure(figsize=(10,7))\n",
        "sn.heatmap(cm_7, annot=True)\n",
        "plt.xlabel('Predicted')\n",
        "plt.ylabel('Truth')"
      ],
      "metadata": {
        "colab": {
          "base_uri": "https://localhost:8080/",
          "height": 546
        },
        "id": "5qscLuVCjh12",
        "outputId": "c60e7683-117b-4680-effb-50566bb385dd"
      },
      "execution_count": 16,
      "outputs": [
        {
          "output_type": "stream",
          "name": "stdout",
          "text": [
            "Accuration:  76.0 %\n",
            "Precission:  57.14285714285714 %\n",
            "Recall:  57.14285714285714 %\n",
            "F1 Score:  57.14285714285714 %\n",
            "======================\n"
          ]
        },
        {
          "output_type": "execute_result",
          "data": {
            "text/plain": [
              "Text(69.0, 0.5, 'Truth')"
            ]
          },
          "metadata": {},
          "execution_count": 16
        },
        {
          "output_type": "display_data",
          "data": {
            "text/plain": [
              "<Figure size 720x504 with 2 Axes>"
            ],
            "image/png": "[encoded data removed]"
          },
          "metadata": {
            "needs_background": "light"
          }
        }
      ]
    },
    {
      "cell_type": "code",
      "source": [
        "# Proses training FOLD-5\n",
        "\n",
        "fold_8 = SVC(\n",
        "    C = c_data,\n",
        "    kernel = 'linear',\n",
        "    max_iter = max_iteration,\n",
        "    random_state = 0,\n",
        "    tol = tolerance,\n",
        "    )\n",
        "\n",
        "# Proses testing FOLD-5\n",
        "fold_8 = fold_8.fit(x_train_data[7], y_train_data[7])\n",
        "\n",
        "prediction_8 = fold_8.predict(x_test_data[7])\n",
        "false_8 = (prediction_8 != y_test_data[7]).sum()\n",
        "true_8 = (prediction_8 == y_test_data[7]).sum()\n",
        "tn_8, fp_8, fn_8, tp_8 = confusion_matrix(y_test_data[7], prediction_8).ravel()\n",
        "precision_score_8 = tp_8 / (tp_8 + fp_8)\n",
        "recall_score_8 = tp_8 / (tp_8 + fn_8)\n",
        "f1_score_8 = 2 * (recall_score_8 * precision_score_8) / (recall_score_8 + precision_score_8)\n",
        "\n",
        "# Hasil Akurasi\n",
        "print(\"Accuration: \", true_8 / (true_8 + false_8) * 100, '%')\n",
        "# Hasil Presisi\n",
        "print(\"Precission: \", precision_score_8 * 100, \"%\")\n",
        "# Hasil Recall\n",
        "print(\"Recall: \", recall_score_8 * 100, \"%\")\n",
        "# Hasil F1\n",
        "print(\"F1 Score: \", f1_score_8 * 100, \"%\")\n",
        "print(\"======================\")\n",
        "# Plot Confusion Matrix\n",
        "cm_8 = confusion_matrix(y_test, prediction_8)\n",
        "plt.figure(figsize=(10,7))\n",
        "sn.heatmap(cm_8, annot=True)\n",
        "plt.xlabel('Predicted')\n",
        "plt.ylabel('Truth')"
      ],
      "metadata": {
        "colab": {
          "base_uri": "https://localhost:8080/",
          "height": 550
        },
        "id": "IjXvAc5ujlN_",
        "outputId": "cddfdedb-0168-430c-84db-371cee07a4cc"
      },
      "execution_count": 17,
      "outputs": [
        {
          "output_type": "stream",
          "name": "stdout",
          "text": [
            "Accuration:  72.0 %\n",
            "Precission:  71.42857142857143 %\n",
            "Recall:  50.0 %\n",
            "F1 Score:  58.823529411764696 %\n",
            "======================\n"
          ]
        },
        {
          "output_type": "execute_result",
          "data": {
            "text/plain": [
              "Text(69.0, 0.5, 'Truth')"
            ]
          },
          "metadata": {},
          "execution_count": 17
        },
        {
          "output_type": "display_data",
          "data": {
            "text/plain": [
              "<Figure size 720x504 with 2 Axes>"
            ],
            "image/png": "[encoded data removed]"
          },
          "metadata": {
            "needs_background": "light"
          }
        }
      ]
    },
    {
      "cell_type": "code",
      "source": [
        "# Proses training FOLD-5\n",
        "\n",
        "fold_9 = SVC(\n",
        "    C = c_data,\n",
        "    kernel = 'linear',\n",
        "    max_iter = max_iteration,\n",
        "    random_state = 0,\n",
        "    tol = tolerance,\n",
        "    )\n",
        "\n",
        "# Proses testing FOLD-5\n",
        "fold_9 = fold_9.fit(x_train_data[8], y_train_data[8])\n",
        "\n",
        "prediction_9 = fold_9.predict(x_test_data[8])\n",
        "false_9 = (prediction_9 != y_test_data[8]).sum()\n",
        "true_9 = (prediction_9 == y_test_data[8]).sum()\n",
        "tn_9, fp_9, fn_9, tp_9 = confusion_matrix(y_test_data[8], prediction_9).ravel()\n",
        "precision_score_9 = tp_9 / (tp_9 + fp_9)\n",
        "recall_score_9 = tp_9 / (tp_9 + fn_9)\n",
        "f1_score_9 = 2 * (recall_score_9 * precision_score_9) / (recall_score_9 + precision_score_9)\n",
        "\n",
        "# Hasil Akurasi\n",
        "print(\"Accuration: \", true_9 / (true_9 + false_9) * 100, '%')\n",
        "# Hasil Presisi\n",
        "print(\"Precission: \", precision_score_9 * 100, \"%\")\n",
        "# Hasil Recall\n",
        "print(\"Recall: \", recall_score_9 * 100, \"%\")\n",
        "# Hasil F1\n",
        "print(\"F1 Score: \", f1_score_9 * 100, \"%\")\n",
        "print(\"======================\")\n",
        "# Plot Confusion Matrix\n",
        "cm_9 = confusion_matrix(y_test, prediction_9)\n",
        "plt.figure(figsize=(10,7))\n",
        "sn.heatmap(cm_9, annot=True)\n",
        "plt.xlabel('Predicted')\n",
        "plt.ylabel('Truth')"
      ],
      "metadata": {
        "colab": {
          "base_uri": "https://localhost:8080/",
          "height": 550
        },
        "id": "JhK6qj8NjotQ",
        "outputId": "f82b0dc3-680f-4ad0-d950-7e8da9c67969"
      },
      "execution_count": 18,
      "outputs": [
        {
          "output_type": "stream",
          "name": "stdout",
          "text": [
            "Accuration:  92.0 %\n",
            "Precission:  83.33333333333334 %\n",
            "Recall:  83.33333333333334 %\n",
            "F1 Score:  83.33333333333334 %\n",
            "======================\n"
          ]
        },
        {
          "output_type": "execute_result",
          "data": {
            "text/plain": [
              "Text(69.0, 0.5, 'Truth')"
            ]
          },
          "metadata": {},
          "execution_count": 18
        },
        {
          "output_type": "display_data",
          "data": {
            "text/plain": [
              "<Figure size 720x504 with 2 Axes>"
            ],
            "image/png": "[encoded data removed]"
          },
          "metadata": {
            "needs_background": "light"
          }
        }
      ]
    },
    {
      "cell_type": "code",
      "source": [
        "# Proses training FOLD-5\n",
        "\n",
        "fold_10 = SVC(\n",
        "    C = c_data,\n",
        "    kernel = 'linear',\n",
        "    max_iter = max_iteration,\n",
        "    random_state = 0,\n",
        "    tol = tolerance,\n",
        "    )\n",
        "\n",
        "# Proses testing FOLD-5\n",
        "fold_10 = fold_10.fit(x_train_data[9], y_train_data[9])\n",
        "\n",
        "prediction_10 = fold_10.predict(x_test_data[9])\n",
        "false_10 = (prediction_10 != y_test_data[9]).sum()\n",
        "true_10 = (prediction_10 == y_test_data[9]).sum()\n",
        "tn_10, fp_10, fn_10, tp_10 = confusion_matrix(y_test_data[9], prediction_10).ravel()\n",
        "precision_score_10 = tp_10 / (tp_10 + fp_10)\n",
        "recall_score_10 = tp_10 / (tp_10 + fn_10)\n",
        "f1_score_10 = 2 * (recall_score_10 * precision_score_10) / (recall_score_10 + precision_score_10)\n",
        "\n",
        "# Hasil Akurasi\n",
        "print(\"Accuration: \", true_10 / (true_10 + false_10) * 100, '%')\n",
        "# Hasil Presisi\n",
        "print(\"Precission: \", precision_score_10 * 100, \"%\")\n",
        "# Hasil Recall\n",
        "print(\"Recall: \", recall_score_10 * 100, \"%\")\n",
        "# Hasil F1\n",
        "print(\"F1 Score: \", f1_score_10 * 100, \"%\")\n",
        "print(\"======================\")\n",
        "# Plot Confusion Matrix\n",
        "cm_10 = confusion_matrix(y_test, prediction_10)\n",
        "plt.figure(figsize=(10,7))\n",
        "sn.heatmap(cm_10, annot=True)\n",
        "plt.xlabel('Predicted')\n",
        "plt.ylabel('Truth')"
      ],
      "metadata": {
        "colab": {
          "base_uri": "https://localhost:8080/",
          "height": 546
        },
        "id": "jLH_Ej3vjr7V",
        "outputId": "eb24b3ee-95c4-4981-9384-4b335b8fad65"
      },
      "execution_count": 19,
      "outputs": [
        {
          "output_type": "stream",
          "name": "stdout",
          "text": [
            "Accuration:  56.00000000000001 %\n",
            "Precission:  75.0 %\n",
            "Recall:  23.076923076923077 %\n",
            "F1 Score:  35.29411764705882 %\n",
            "======================\n"
          ]
        },
        {
          "output_type": "execute_result",
          "data": {
            "text/plain": [
              "Text(69.0, 0.5, 'Truth')"
            ]
          },
          "metadata": {},
          "execution_count": 19
        },
        {
          "output_type": "display_data",
          "data": {
            "text/plain": [
              "<Figure size 720x504 with 2 Axes>"
            ],
            "image/png": "[encoded data removed]"
          },
          "metadata": {
            "needs_background": "light"
          }
        }
      ]
    },
    {
      "cell_type": "code",
      "source": [
        "fig = plt.subplots(figsize=(18,6))\n",
        "barWidth = 0.25\n",
        "ACCURACY = [(true_1 / (true_1 + false_1) * 100), (true_2 / (true_2 + false_2) * 100), (true_3 / (true_3 + false_3) * 100), (true_4 / (true_4 + false_4) * 100), (true_5 / (true_5 + false_5) * 100), (true_6 / (true_6 + false_6) * 100), (true_7 / (true_7 + false_7) * 100), (true_8 / (true_8 + false_8) * 100), (true_9 / (true_9 + false_9) * 100), (true_10 / (true_10 + false_10) * 100)]\n",
        "PRECISION = [precision_score_1 * 100, precision_score_2 * 100, precision_score_3 * 100, precision_score_4 * 100, precision_score_5 * 100, precision_score_6 * 100, precision_score_7 * 100, precision_score_8 * 100, precision_score_9 * 100, precision_score_10 * 100]\n",
        "RECALL = [recall_score_1 * 100, recall_score_2 * 100, recall_score_3 * 100, recall_score_4 * 100, recall_score_5 * 100, recall_score_6 * 100, recall_score_7 * 100, recall_score_8 * 100, recall_score_9 * 100, recall_score_10 * 100]\n",
        " \n",
        "br1 = np.arange(len(ACCURACY))\n",
        "br2 = [x + barWidth for x in br1]\n",
        "br3 = [x + barWidth for x in br2]\n",
        "\n",
        "plt.title(\"ACCURATION PLOT PER FOLD\")\n",
        "plt.bar(br1, ACCURACY, color ='r', width = barWidth,\n",
        "        edgecolor ='grey', label ='AKURASI')\n",
        "plt.bar(br2, PRECISION, color ='g', width = barWidth,\n",
        "        edgecolor ='grey', label ='PRESISI')\n",
        "plt.bar(br3, RECALL, color ='b', width = barWidth,\n",
        "        edgecolor ='grey', label ='RECALL')\n",
        "\n",
        "plt.xticks([r + barWidth for r in range(len(ACCURACY))],\n",
        "    [\"Fold 1\", \"Fold 2\", \"Fold 3\", \"Fold 4\", \"Fold 5\", \"Fold 6\", \"Fold 7\", \"Fold 8\", \"Fold 9\", \"Fold 10\"])\n",
        " \n",
        "plt.legend()\n",
        "plt.show()"
      ],
      "metadata": {
        "colab": {
          "base_uri": "https://localhost:8080/",
          "height": 324
        },
        "id": "sNaGE92uExr7",
        "outputId": "515022a1-2cdf-4b62-f697-a7c40edc14a8"
      },
      "execution_count": 20,
      "outputs": [
        {
          "output_type": "display_data",
          "data": {
            "text/plain": [
              "<Figure size 1296x432 with 1 Axes>"
            ],
            "image/png": "[encoded data removed]"
          },
          "metadata": {
            "needs_background": "light"
          }
        }
      ]
    },
    {
      "cell_type": "code",
      "source": [
        "def get_average(num):\n",
        "    sum_num = 0\n",
        "    for t in num:\n",
        "        sum_num = sum_num + t           \n",
        "\n",
        "    avg = sum_num / len(num)\n",
        "    return avg\n",
        "\n",
        "acc_avg = get_average(ACCURACY)\n",
        "pre_avg = get_average(PRECISION)\n",
        "rec_avg = get_average(RECALL)\n",
        "\n",
        "print('Akurasi', acc_avg, '%')\n",
        "print('Presisi', pre_avg, '%')\n",
        "print('Recall', rec_avg, '%')\n",
        "\n",
        "fig = plt.subplots(figsize=(18,6))\n",
        "barWidth = 0.1\n",
        " \n",
        "br1 = np.arange(len([acc_avg]))\n",
        "br2 = [x + barWidth for x in br1]\n",
        "br3 = [x + barWidth for x in br2]\n",
        "\n",
        "plt.title(\"ACCURATION PLOT\")\n",
        "plt.bar(br1, [acc_avg], color ='r', width = barWidth,\n",
        "        edgecolor ='grey', label ='AKURASI')\n",
        "plt.bar(br2, [pre_avg], color ='g', width = barWidth,\n",
        "        edgecolor ='grey', label ='PRESISI')\n",
        "plt.bar(br3, [rec_avg], color ='b', width = barWidth,\n",
        "        edgecolor ='grey', label ='RECALL')\n",
        "\n",
        "plt.xticks([r + barWidth for r in range(len([acc_avg]))],\n",
        "    [\"Fold AVG\"])\n",
        " \n",
        "plt.legend()\n",
        "plt.show()"
      ],
      "metadata": {
        "colab": {
          "base_uri": "https://localhost:8080/",
          "height": 378
        },
        "id": "YUT8ettrPu8B",
        "outputId": "bae689b6-c16a-444b-cdd5-ea9628252f6a"
      },
      "execution_count": 34,
      "outputs": [
        {
          "output_type": "stream",
          "name": "stdout",
          "text": [
            "Akurasi 75.2 %\n",
            "Presisi 72.57936507936509 %\n",
            "Recall 51.23435388141271 %\n"
          ]
        },
        {
          "output_type": "display_data",
          "data": {
            "text/plain": [
              "<Figure size 1296x432 with 1 Axes>"
            ],
            "image/png": "[encoded data removed]"
          },
          "metadata": {
            "needs_background": "light"
          }
        }
      ]
    }
  ]
}