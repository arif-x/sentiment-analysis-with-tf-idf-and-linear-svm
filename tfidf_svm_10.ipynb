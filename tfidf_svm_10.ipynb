{
  "nbformat": 4,
  "nbformat_minor": 0,
  "metadata": {
    "colab": {
      "provenance": []
    },
    "kernelspec": {
      "name": "python3",
      "display_name": "Python 3"
    },
    "language_info": {
      "name": "python"
    }
  },
  "cells": [
    {
      "cell_type": "code",
      "execution_count": 2,
      "metadata": {
        "colab": {
          "base_uri": "https://localhost:8080/",
          "height": 206
        },
        "id": "qsAahsRvoonV",
        "outputId": "84c29973-2ecc-4793-9773-b2429e645a91"
      },
      "outputs": [
        {
          "output_type": "execute_result",
          "data": {
            "text/plain": [
              "                                                text  Sentimen\n",
              "0  23:29:56,\"Semoga aplikasinya cepat diperbaiki,...         1\n",
              "1        23:31:43,Aplikasi apa ini nik tidak terbaca         1\n",
              "2    23:41:43,Ntah laah susah di jelaskan....ribeet…         0\n",
              "3  23:45:23,Selevel negara kok g mampu bikin apli...         0\n",
              "4   00:00:53,\"Maaf kasih 1 bntng karna ga epektif...         0"
            ],
            "text/html": [
              "\n",
              "  <div id=\"df-a172c913-ce5a-4c1f-851c-c36b500c2304\">\n",
              "    <div class=\"colab-df-container\">\n",
              "      <div>\n",
              "<style scoped>\n",
              "    .dataframe tbody tr th:only-of-type {\n",
              "        vertical-align: middle;\n",
              "    }\n",
              "\n",
              "    .dataframe tbody tr th {\n",
              "        vertical-align: top;\n",
              "    }\n",
              "\n",
              "    .dataframe thead th {\n",
              "        text-align: right;\n",
              "    }\n",
              "</style>\n",
              "<table border=\"1\" class=\"dataframe\">\n",
              "  <thead>\n",
              "    <tr style=\"text-align: right;\">\n",
              "      <th></th>\n",
              "      <th>text</th>\n",
              "      <th>Sentimen</th>\n",
              "    </tr>\n",
              "  </thead>\n",
              "  <tbody>\n",
              "    <tr>\n",
              "      <th>0</th>\n",
              "      <td>23:29:56,\"Semoga aplikasinya cepat diperbaiki,...</td>\n",
              "      <td>1</td>\n",
              "    </tr>\n",
              "    <tr>\n",
              "      <th>1</th>\n",
              "      <td>23:31:43,Aplikasi apa ini nik tidak terbaca</td>\n",
              "      <td>1</td>\n",
              "    </tr>\n",
              "    <tr>\n",
              "      <th>2</th>\n",
              "      <td>23:41:43,Ntah laah susah di jelaskan....ribeet…</td>\n",
              "      <td>0</td>\n",
              "    </tr>\n",
              "    <tr>\n",
              "      <th>3</th>\n",
              "      <td>23:45:23,Selevel negara kok g mampu bikin apli...</td>\n",
              "      <td>0</td>\n",
              "    </tr>\n",
              "    <tr>\n",
              "      <th>4</th>\n",
              "      <td>00:00:53,\"Maaf kasih 1 bntng karna ga epektif...</td>\n",
              "      <td>0</td>\n",
              "    </tr>\n",
              "  </tbody>\n",
              "</table>\n",
              "</div>\n",
              "      <button class=\"colab-df-convert\" onclick=\"convertToInteractive('df-a172c913-ce5a-4c1f-851c-c36b500c2304')\"\n",
              "              title=\"Convert this dataframe to an interactive table.\"\n",
              "              style=\"display:none;\">\n",
              "        \n",
              "  <svg xmlns=\"http://www.w3.org/2000/svg\" height=\"24px\"viewBox=\"0 0 24 24\"\n",
              "       width=\"24px\">\n",
              "    <path d=\"M0 0h24v24H0V0z\" fill=\"none\"/>\n",
              "    <path d=\"M18.56 5.44l.94 2.06.94-2.06 2.06-.94-2.06-.94-.94-2.06-.94 2.06-2.06.94zm-11 1L8.5 8.5l.94-2.06 2.06-.94-2.06-.94L8.5 2.5l-.94 2.06-2.06.94zm10 10l.94 2.06.94-2.06 2.06-.94-2.06-.94-.94-2.06-.94 2.06-2.06.94z\"/><path d=\"M17.41 7.96l-1.37-1.37c-.4-.4-.92-.59-1.43-.59-.52 0-1.04.2-1.43.59L10.3 9.45l-7.72 7.72c-.78.78-.78 2.05 0 2.83L4 21.41c.39.39.9.59 1.41.59.51 0 1.02-.2 1.41-.59l7.78-7.78 2.81-2.81c.8-.78.8-2.07 0-2.86zM5.41 20L4 18.59l7.72-7.72 1.47 1.35L5.41 20z\"/>\n",
              "  </svg>\n",
              "      </button>\n",
              "      \n",
              "  <style>\n",
              "    .colab-df-container {\n",
              "      display:flex;\n",
              "      flex-wrap:wrap;\n",
              "      gap: 12px;\n",
              "    }\n",
              "\n",
              "    .colab-df-convert {\n",
              "      background-color: #E8F0FE;\n",
              "      border: none;\n",
              "      border-radius: 50%;\n",
              "      cursor: pointer;\n",
              "      display: none;\n",
              "      fill: #1967D2;\n",
              "      height: 32px;\n",
              "      padding: 0 0 0 0;\n",
              "      width: 32px;\n",
              "    }\n",
              "\n",
              "    .colab-df-convert:hover {\n",
              "      background-color: #E2EBFA;\n",
              "      box-shadow: 0px 1px 2px rgba(60, 64, 67, 0.3), 0px 1px 3px 1px rgba(60, 64, 67, 0.15);\n",
              "      fill: #174EA6;\n",
              "    }\n",
              "\n",
              "    [theme=dark] .colab-df-convert {\n",
              "      background-color: #3B4455;\n",
              "      fill: #D2E3FC;\n",
              "    }\n",
              "\n",
              "    [theme=dark] .colab-df-convert:hover {\n",
              "      background-color: #434B5C;\n",
              "      box-shadow: 0px 1px 3px 1px rgba(0, 0, 0, 0.15);\n",
              "      filter: drop-shadow(0px 1px 2px rgba(0, 0, 0, 0.3));\n",
              "      fill: #FFFFFF;\n",
              "    }\n",
              "  </style>\n",
              "\n",
              "      <script>\n",
              "        const buttonEl =\n",
              "          document.querySelector('#df-a172c913-ce5a-4c1f-851c-c36b500c2304 button.colab-df-convert');\n",
              "        buttonEl.style.display =\n",
              "          google.colab.kernel.accessAllowed ? 'block' : 'none';\n",
              "\n",
              "        async function convertToInteractive(key) {\n",
              "          const element = document.querySelector('#df-a172c913-ce5a-4c1f-851c-c36b500c2304');\n",
              "          const dataTable =\n",
              "            await google.colab.kernel.invokeFunction('convertToInteractive',\n",
              "                                                     [key], {});\n",
              "          if (!dataTable) return;\n",
              "\n",
              "          const docLinkHtml = 'Like what you see? Visit the ' +\n",
              "            '<a target=\"_blank\" href=https://colab.research.google.com/notebooks/data_table.ipynb>data table notebook</a>'\n",
              "            + ' to learn more about interactive tables.';\n",
              "          element.innerHTML = '';\n",
              "          dataTable['output_type'] = 'display_data';\n",
              "          await google.colab.output.renderOutput(dataTable, element);\n",
              "          const docLink = document.createElement('div');\n",
              "          docLink.innerHTML = docLinkHtml;\n",
              "          element.appendChild(docLink);\n",
              "        }\n",
              "      </script>\n",
              "    </div>\n",
              "  </div>\n",
              "  "
            ]
          },
          "metadata": {},
          "execution_count": 2
        }
      ],
      "source": [
        "import pandas as pd\n",
        "import re\n",
        "from sklearn.metrics import accuracy_score\n",
        "import warnings\n",
        "warnings.filterwarnings('ignore', 'Solver terminated early.*')\n",
        "\n",
        "# Import dataset csv\n",
        "df_dataset= pd.read_excel(\"mypertaminadata.xlsx\")\n",
        "df_dataset.head()"
      ]
    },
    {
      "cell_type": "code",
      "source": [
        "# Cleansing dataset\n",
        "df_dataset['text'] = df_dataset['text'].apply(lambda x: re.sub('(<.*?>)', ' ', x))\n",
        "df_dataset['text'] = df_dataset['text'].apply(lambda x: re.sub('[,\\.!?:()\"]', '', x))  \n",
        "df_dataset['text'] = df_dataset['text'].apply(lambda x: x.strip())\n",
        "df_dataset['text'] = df_dataset['text'].apply(lambda x: re.sub('[^a-zA-Z\"]',' ',x))\n",
        "# Contoh data pertama yg dicleansing\n",
        "df_dataset['text'][0]"
      ],
      "metadata": {
        "id": "Quj3EXTi5E54",
        "colab": {
          "base_uri": "https://localhost:8080/",
          "height": 52
        },
        "outputId": "a95f07c2-0ab0-4faf-edf3-46e7b2c4b144"
      },
      "execution_count": 3,
      "outputs": [
        {
          "output_type": "execute_result",
          "data": {
            "text/plain": [
              "'      Semoga aplikasinya cepat diperbaiki karena begitu banyak masalah saat menggunakan aplikasi ini aplikasi ini setidaknya jangan membuat kami tambah susahkarena kami udah sangat susah'"
            ],
            "application/vnd.google.colaboratory.intrinsic+json": {
              "type": "string"
            }
          },
          "metadata": {},
          "execution_count": 3
        }
      ]
    },
    {
      "cell_type": "code",
      "source": [
        "# Dataset Casefolding\n",
        "df_dataset['text'] = df_dataset['text'].apply(lambda x: x.lower())\n",
        "# Contoh data pertama yg dicasefolding\n",
        "df_dataset['text'][0]"
      ],
      "metadata": {
        "colab": {
          "base_uri": "https://localhost:8080/",
          "height": 52
        },
        "id": "q-AmLBBJWoqR",
        "outputId": "d921bbcd-0b80-4e64-a4ae-d1f451ea33e1"
      },
      "execution_count": 4,
      "outputs": [
        {
          "output_type": "execute_result",
          "data": {
            "text/plain": [
              "'      semoga aplikasinya cepat diperbaiki karena begitu banyak masalah saat menggunakan aplikasi ini aplikasi ini setidaknya jangan membuat kami tambah susahkarena kami udah sangat susah'"
            ],
            "application/vnd.google.colaboratory.intrinsic+json": {
              "type": "string"
            }
          },
          "metadata": {},
          "execution_count": 4
        }
      ]
    },
    {
      "cell_type": "code",
      "source": [
        "!pip install Sastrawi"
      ],
      "metadata": {
        "colab": {
          "base_uri": "https://localhost:8080/"
        },
        "id": "WR9y9tFNUTRD",
        "outputId": "d3b288cf-b03a-4694-db4c-a66a00c81999"
      },
      "execution_count": 5,
      "outputs": [
        {
          "output_type": "stream",
          "name": "stdout",
          "text": [
            "Looking in indexes: https://pypi.org/simple, https://us-python.pkg.dev/colab-wheels/public/simple/\n",
            "Collecting Sastrawi\n",
            "  Downloading Sastrawi-1.0.1-py2.py3-none-any.whl (209 kB)\n",
            "\u001b[2K     \u001b[90m━━━━━━━━━━━━━━━━━━━━━━━━━━━━━━━━━━━━━━━\u001b[0m \u001b[32m209.7/209.7 KB\u001b[0m \u001b[31m6.1 MB/s\u001b[0m eta \u001b[36m0:00:00\u001b[0m\n",
            "\u001b[?25hInstalling collected packages: Sastrawi\n",
            "Successfully installed Sastrawi-1.0.1\n"
          ]
        }
      ]
    },
    {
      "cell_type": "code",
      "source": [
        "# Steeming dataset\n",
        "\n",
        "from Sastrawi.Stemmer.StemmerFactory import StemmerFactory\n",
        "\n",
        "df_dataset['steemed'] = None\n",
        "for i in range (len(df_dataset['text'])):\n",
        "    factory = StemmerFactory()\n",
        "    stemmer = factory.create_stemmer()\n",
        "    text = stemmer.stem(df_dataset['text'][i])\n",
        "    df_dataset['steemed'][i] = text\n",
        "    print(i, end = ' ')"
      ],
      "metadata": {
        "colab": {
          "base_uri": "https://localhost:8080/"
        },
        "id": "JokLitCAUw5S",
        "outputId": "d5b7499e-f1df-49fa-f421-4eb3fd68c42c"
      },
      "execution_count": 6,
      "outputs": [
        {
          "output_type": "stream",
          "name": "stderr",
          "text": [
            "<ipython-input-6-8c89bb5ca359>:10: SettingWithCopyWarning: \n",
            "A value is trying to be set on a copy of a slice from a DataFrame\n",
            "\n",
            "See the caveats in the documentation: https://pandas.pydata.org/pandas-docs/stable/user_guide/indexing.html#returning-a-view-versus-a-copy\n",
            "  df_dataset['steemed'][i] = text\n"
          ]
        },
        {
          "output_type": "stream",
          "name": "stdout",
          "text": [
            "0 1 2 3 4 5 6 7 8 9 10 11 12 13 14 15 16 17 18 19 20 21 22 23 24 25 26 27 28 29 30 31 32 33 34 35 36 37 38 39 40 41 42 43 44 45 46 47 48 49 50 51 52 53 54 55 56 57 58 59 60 61 62 63 64 65 66 67 68 69 70 71 72 73 74 75 76 77 78 79 80 81 82 83 84 85 86 87 88 89 90 91 92 93 94 95 96 97 98 99 100 101 102 103 104 105 106 107 108 109 110 111 112 113 114 115 116 117 118 119 120 121 122 123 124 125 126 127 128 129 130 131 132 133 134 135 136 137 138 139 140 141 142 143 144 145 146 147 148 149 150 151 152 153 154 155 156 157 158 159 160 161 162 163 164 165 166 167 168 169 170 171 172 173 174 175 176 177 178 179 180 181 182 183 184 185 186 187 188 189 190 191 192 193 194 195 196 197 198 199 200 201 202 203 204 205 206 207 208 209 210 211 212 213 214 215 216 217 218 219 220 221 222 223 224 225 226 227 228 229 230 231 232 233 234 235 236 237 238 239 240 241 242 243 244 245 246 247 248 249 "
          ]
        }
      ]
    },
    {
      "cell_type": "code",
      "source": [
        "# Contoh data pertama yg disteeming\n",
        "df_dataset['steemed'][0]"
      ],
      "metadata": {
        "colab": {
          "base_uri": "https://localhost:8080/",
          "height": 52
        },
        "id": "bpy_eTM3dczI",
        "outputId": "8bea67a3-a4f3-46dd-874f-6e294b12aa70"
      },
      "execution_count": 7,
      "outputs": [
        {
          "output_type": "execute_result",
          "data": {
            "text/plain": [
              "'moga aplikasi cepat baik karena begitu banyak masalah saat guna aplikasi ini aplikasi ini tidak jangan buat kami tambah susahkarena kami udah sangat susah'"
            ],
            "application/vnd.google.colaboratory.intrinsic+json": {
              "type": "string"
            }
          },
          "metadata": {},
          "execution_count": 7
        }
      ]
    },
    {
      "cell_type": "code",
      "source": [
        "import nltk\n",
        "nltk.download('punkt')\n",
        "from nltk.tokenize import word_tokenize\n",
        "from nltk.tokenize import sent_tokenize\n",
        "\n",
        "# Proses tokeninzing\n",
        "data = []\n",
        "for i in range (len(df_dataset['steemed'])):\n",
        "    steemed = word_tokenize(df_dataset['steemed'][i])\n",
        "    data.append(steemed)\n",
        "\n",
        "# Contoh data pertama yang ditokenizing\n",
        "data[0]"
      ],
      "metadata": {
        "colab": {
          "base_uri": "https://localhost:8080/"
        },
        "id": "0AGB8-kYtlau",
        "outputId": "5ca711c4-4ef3-4d19-9fbc-17f92162737e"
      },
      "execution_count": 8,
      "outputs": [
        {
          "output_type": "stream",
          "name": "stderr",
          "text": [
            "[nltk_data] Downloading package punkt to /root/nltk_data...\n",
            "[nltk_data]   Unzipping tokenizers/punkt.zip.\n"
          ]
        },
        {
          "output_type": "execute_result",
          "data": {
            "text/plain": [
              "['moga',\n",
              " 'aplikasi',\n",
              " 'cepat',\n",
              " 'baik',\n",
              " 'karena',\n",
              " 'begitu',\n",
              " 'banyak',\n",
              " 'masalah',\n",
              " 'saat',\n",
              " 'guna',\n",
              " 'aplikasi',\n",
              " 'ini',\n",
              " 'aplikasi',\n",
              " 'ini',\n",
              " 'tidak',\n",
              " 'jangan',\n",
              " 'buat',\n",
              " 'kami',\n",
              " 'tambah',\n",
              " 'susahkarena',\n",
              " 'kami',\n",
              " 'udah',\n",
              " 'sangat',\n",
              " 'susah']"
            ]
          },
          "metadata": {},
          "execution_count": 8
        }
      ]
    },
    {
      "cell_type": "code",
      "source": [
        "# Data stopwords\n",
        "text_file = open(\"stopwords-id.txt\", \"r\")\n",
        "lines = text_file.readlines()\n",
        "stopwords = []\n",
        "for sub in lines:\n",
        "    stopwords.append(sub.replace(\"\\n\", \"\"))"
      ],
      "metadata": {
        "id": "zXpyxx6Zvmph"
      },
      "execution_count": 9,
      "outputs": []
    },
    {
      "cell_type": "code",
      "source": [
        "# Proses penghapusan stopwords\n",
        "quote_without_stopwords_arr = []\n",
        "\n",
        "for i in range(len(df_dataset['steemed'])):\n",
        "    quote_without_stopwords = []\n",
        "    for word in data[i]:\n",
        "        if word.casefold() not in stopwords:\n",
        "            quote_without_stopwords.append(word)\n",
        "    quote_without_stopwords_arr.append(quote_without_stopwords)\n",
        "\n",
        "# Contoh data pertama yang dihapus stopwordsnya\n",
        "quote_without_stopwords_arr[0]"
      ],
      "metadata": {
        "colab": {
          "base_uri": "https://localhost:8080/"
        },
        "id": "ITpE7-qsv2ZK",
        "outputId": "9b7558e4-b319-4def-c5cc-b7f191319954"
      },
      "execution_count": 10,
      "outputs": [
        {
          "output_type": "execute_result",
          "data": {
            "text/plain": [
              "['moga',\n",
              " 'aplikasi',\n",
              " 'cepat',\n",
              " 'aplikasi',\n",
              " 'aplikasi',\n",
              " 'susahkarena',\n",
              " 'udah',\n",
              " 'susah']"
            ]
          },
          "metadata": {},
          "execution_count": 10
        }
      ]
    },
    {
      "cell_type": "code",
      "source": [
        "# Masukkan data yang sudah dihapus stopwordnya & dijadikan list ke dalam dataframe\n",
        "df_dataset['stoppedword'] = None\n",
        "df_dataset['text_list'] = None\n",
        "for i in range(len(df_dataset['text'])):\n",
        "    df_dataset['stoppedword'][i] = ' '.join(quote_without_stopwords_arr[i])\n",
        "    df_dataset['text_list'][i] = quote_without_stopwords_arr[i]"
      ],
      "metadata": {
        "colab": {
          "base_uri": "https://localhost:8080/"
        },
        "id": "5afCyBKI0pBz",
        "outputId": "cf7208e4-dc7b-4265-99be-845f16029269"
      },
      "execution_count": 11,
      "outputs": [
        {
          "output_type": "stream",
          "name": "stderr",
          "text": [
            "<ipython-input-11-597af64377b0>:5: SettingWithCopyWarning: \n",
            "A value is trying to be set on a copy of a slice from a DataFrame\n",
            "\n",
            "See the caveats in the documentation: https://pandas.pydata.org/pandas-docs/stable/user_guide/indexing.html#returning-a-view-versus-a-copy\n",
            "  df_dataset['stoppedword'][i] = ' '.join(quote_without_stopwords_arr[i])\n",
            "<ipython-input-11-597af64377b0>:6: SettingWithCopyWarning: \n",
            "A value is trying to be set on a copy of a slice from a DataFrame\n",
            "\n",
            "See the caveats in the documentation: https://pandas.pydata.org/pandas-docs/stable/user_guide/indexing.html#returning-a-view-versus-a-copy\n",
            "  df_dataset['text_list'][i] = quote_without_stopwords_arr[i]\n"
          ]
        }
      ]
    },
    {
      "cell_type": "code",
      "source": [
        "df_dataset.head()"
      ],
      "metadata": {
        "colab": {
          "base_uri": "https://localhost:8080/",
          "height": 337
        },
        "id": "WxE8dq_X1-u2",
        "outputId": "5ffba2f0-b354-4911-f96a-3a6771fdcea6"
      },
      "execution_count": 12,
      "outputs": [
        {
          "output_type": "execute_result",
          "data": {
            "text/plain": [
              "                                                text  Sentimen  \\\n",
              "0        semoga aplikasinya cepat diperbaiki kare...         1   \n",
              "1                 aplikasi apa ini nik tidak terbaca         1   \n",
              "2                 ntah laah susah di jelaskanribeet          0   \n",
              "3        selevel negara kok g mampu bikin aplikas...         0   \n",
              "4        maaf kasih   bntng karna ga epektif mala...         0   \n",
              "\n",
              "                                             steemed  \\\n",
              "0  moga aplikasi cepat baik karena begitu banyak ...   \n",
              "1                    aplikasi apa ini nik tidak baca   \n",
              "2                  ntah laah susah di jelaskanribeet   \n",
              "3  level negara kok g mampu bikin aplikasi yg bai...   \n",
              "4  maaf kasih bntng karna ga epektif malah tambah...   \n",
              "\n",
              "                                         stoppedword  \\\n",
              "0  moga aplikasi cepat aplikasi aplikasi susahkar...   \n",
              "1                                  aplikasi nik baca   \n",
              "2                     ntah laah susah jelaskanribeet   \n",
              "3  level negara g bikin aplikasi yg udah dftr ula...   \n",
              "4  maaf kasih bntng karna ga epektif ribet daftar...   \n",
              "\n",
              "                                           text_list  \n",
              "0  [moga, aplikasi, cepat, aplikasi, aplikasi, su...  \n",
              "1                              [aplikasi, nik, baca]  \n",
              "2                [ntah, laah, susah, jelaskanribeet]  \n",
              "3  [level, negara, g, bikin, aplikasi, yg, udah, ...  \n",
              "4  [maaf, kasih, bntng, karna, ga, epektif, ribet...  "
            ],
            "text/html": [
              "\n",
              "  <div id=\"df-655b7d05-a95f-4544-ae37-6f5f3698ffce\">\n",
              "    <div class=\"colab-df-container\">\n",
              "      <div>\n",
              "<style scoped>\n",
              "    .dataframe tbody tr th:only-of-type {\n",
              "        vertical-align: middle;\n",
              "    }\n",
              "\n",
              "    .dataframe tbody tr th {\n",
              "        vertical-align: top;\n",
              "    }\n",
              "\n",
              "    .dataframe thead th {\n",
              "        text-align: right;\n",
              "    }\n",
              "</style>\n",
              "<table border=\"1\" class=\"dataframe\">\n",
              "  <thead>\n",
              "    <tr style=\"text-align: right;\">\n",
              "      <th></th>\n",
              "      <th>text</th>\n",
              "      <th>Sentimen</th>\n",
              "      <th>steemed</th>\n",
              "      <th>stoppedword</th>\n",
              "      <th>text_list</th>\n",
              "    </tr>\n",
              "  </thead>\n",
              "  <tbody>\n",
              "    <tr>\n",
              "      <th>0</th>\n",
              "      <td>semoga aplikasinya cepat diperbaiki kare...</td>\n",
              "      <td>1</td>\n",
              "      <td>moga aplikasi cepat baik karena begitu banyak ...</td>\n",
              "      <td>moga aplikasi cepat aplikasi aplikasi susahkar...</td>\n",
              "      <td>[moga, aplikasi, cepat, aplikasi, aplikasi, su...</td>\n",
              "    </tr>\n",
              "    <tr>\n",
              "      <th>1</th>\n",
              "      <td>aplikasi apa ini nik tidak terbaca</td>\n",
              "      <td>1</td>\n",
              "      <td>aplikasi apa ini nik tidak baca</td>\n",
              "      <td>aplikasi nik baca</td>\n",
              "      <td>[aplikasi, nik, baca]</td>\n",
              "    </tr>\n",
              "    <tr>\n",
              "      <th>2</th>\n",
              "      <td>ntah laah susah di jelaskanribeet</td>\n",
              "      <td>0</td>\n",
              "      <td>ntah laah susah di jelaskanribeet</td>\n",
              "      <td>ntah laah susah jelaskanribeet</td>\n",
              "      <td>[ntah, laah, susah, jelaskanribeet]</td>\n",
              "    </tr>\n",
              "    <tr>\n",
              "      <th>3</th>\n",
              "      <td>selevel negara kok g mampu bikin aplikas...</td>\n",
              "      <td>0</td>\n",
              "      <td>level negara kok g mampu bikin aplikasi yg bai...</td>\n",
              "      <td>level negara g bikin aplikasi yg udah dftr ula...</td>\n",
              "      <td>[level, negara, g, bikin, aplikasi, yg, udah, ...</td>\n",
              "    </tr>\n",
              "    <tr>\n",
              "      <th>4</th>\n",
              "      <td>maaf kasih   bntng karna ga epektif mala...</td>\n",
              "      <td>0</td>\n",
              "      <td>maaf kasih bntng karna ga epektif malah tambah...</td>\n",
              "      <td>maaf kasih bntng karna ga epektif ribet daftar...</td>\n",
              "      <td>[maaf, kasih, bntng, karna, ga, epektif, ribet...</td>\n",
              "    </tr>\n",
              "  </tbody>\n",
              "</table>\n",
              "</div>\n",
              "      <button class=\"colab-df-convert\" onclick=\"convertToInteractive('df-655b7d05-a95f-4544-ae37-6f5f3698ffce')\"\n",
              "              title=\"Convert this dataframe to an interactive table.\"\n",
              "              style=\"display:none;\">\n",
              "        \n",
              "  <svg xmlns=\"http://www.w3.org/2000/svg\" height=\"24px\"viewBox=\"0 0 24 24\"\n",
              "       width=\"24px\">\n",
              "    <path d=\"M0 0h24v24H0V0z\" fill=\"none\"/>\n",
              "    <path d=\"M18.56 5.44l.94 2.06.94-2.06 2.06-.94-2.06-.94-.94-2.06-.94 2.06-2.06.94zm-11 1L8.5 8.5l.94-2.06 2.06-.94-2.06-.94L8.5 2.5l-.94 2.06-2.06.94zm10 10l.94 2.06.94-2.06 2.06-.94-2.06-.94-.94-2.06-.94 2.06-2.06.94z\"/><path d=\"M17.41 7.96l-1.37-1.37c-.4-.4-.92-.59-1.43-.59-.52 0-1.04.2-1.43.59L10.3 9.45l-7.72 7.72c-.78.78-.78 2.05 0 2.83L4 21.41c.39.39.9.59 1.41.59.51 0 1.02-.2 1.41-.59l7.78-7.78 2.81-2.81c.8-.78.8-2.07 0-2.86zM5.41 20L4 18.59l7.72-7.72 1.47 1.35L5.41 20z\"/>\n",
              "  </svg>\n",
              "      </button>\n",
              "      \n",
              "  <style>\n",
              "    .colab-df-container {\n",
              "      display:flex;\n",
              "      flex-wrap:wrap;\n",
              "      gap: 12px;\n",
              "    }\n",
              "\n",
              "    .colab-df-convert {\n",
              "      background-color: #E8F0FE;\n",
              "      border: none;\n",
              "      border-radius: 50%;\n",
              "      cursor: pointer;\n",
              "      display: none;\n",
              "      fill: #1967D2;\n",
              "      height: 32px;\n",
              "      padding: 0 0 0 0;\n",
              "      width: 32px;\n",
              "    }\n",
              "\n",
              "    .colab-df-convert:hover {\n",
              "      background-color: #E2EBFA;\n",
              "      box-shadow: 0px 1px 2px rgba(60, 64, 67, 0.3), 0px 1px 3px 1px rgba(60, 64, 67, 0.15);\n",
              "      fill: #174EA6;\n",
              "    }\n",
              "\n",
              "    [theme=dark] .colab-df-convert {\n",
              "      background-color: #3B4455;\n",
              "      fill: #D2E3FC;\n",
              "    }\n",
              "\n",
              "    [theme=dark] .colab-df-convert:hover {\n",
              "      background-color: #434B5C;\n",
              "      box-shadow: 0px 1px 3px 1px rgba(0, 0, 0, 0.15);\n",
              "      filter: drop-shadow(0px 1px 2px rgba(0, 0, 0, 0.3));\n",
              "      fill: #FFFFFF;\n",
              "    }\n",
              "  </style>\n",
              "\n",
              "      <script>\n",
              "        const buttonEl =\n",
              "          document.querySelector('#df-655b7d05-a95f-4544-ae37-6f5f3698ffce button.colab-df-convert');\n",
              "        buttonEl.style.display =\n",
              "          google.colab.kernel.accessAllowed ? 'block' : 'none';\n",
              "\n",
              "        async function convertToInteractive(key) {\n",
              "          const element = document.querySelector('#df-655b7d05-a95f-4544-ae37-6f5f3698ffce');\n",
              "          const dataTable =\n",
              "            await google.colab.kernel.invokeFunction('convertToInteractive',\n",
              "                                                     [key], {});\n",
              "          if (!dataTable) return;\n",
              "\n",
              "          const docLinkHtml = 'Like what you see? Visit the ' +\n",
              "            '<a target=\"_blank\" href=https://colab.research.google.com/notebooks/data_table.ipynb>data table notebook</a>'\n",
              "            + ' to learn more about interactive tables.';\n",
              "          element.innerHTML = '';\n",
              "          dataTable['output_type'] = 'display_data';\n",
              "          await google.colab.output.renderOutput(dataTable, element);\n",
              "          const docLink = document.createElement('div');\n",
              "          docLink.innerHTML = docLinkHtml;\n",
              "          element.appendChild(docLink);\n",
              "        }\n",
              "      </script>\n",
              "    </div>\n",
              "  </div>\n",
              "  "
            ]
          },
          "metadata": {},
          "execution_count": 12
        }
      ]
    },
    {
      "cell_type": "code",
      "source": [
        "# Fungsi hitung nilai TF\n",
        "def calc_tf(document):\n",
        "    tf_dict = {}\n",
        "    for term in document:\n",
        "        if term in tf_dict:\n",
        "            tf_dict[term] += 1\n",
        "        else:\n",
        "            tf_dict[term] = 1\n",
        "            \n",
        "    for term in tf_dict:\n",
        "        tf_dict[term] = tf_dict[term] / len(document)\n",
        "    return tf_dict\n",
        "\n",
        "df_dataset[\"tf_dict\"] = df_dataset['text_list'].apply(calc_tf)"
      ],
      "metadata": {
        "id": "wKQ4NtYwI_nA"
      },
      "execution_count": 13,
      "outputs": []
    },
    {
      "cell_type": "code",
      "source": [
        "# Fungsi hitung nilai DF\n",
        "def calc_df(tfDict):\n",
        "    count_df = {}\n",
        "    for document in tfDict:\n",
        "        for term in document:\n",
        "            if term in count_df:\n",
        "                count_df[term] += 1\n",
        "            else:\n",
        "                count_df[term] = 1\n",
        "    return count_df\n",
        "\n",
        "df = calc_df(quote_without_stopwords_arr)"
      ],
      "metadata": {
        "id": "UG7ZYNpuGxyB"
      },
      "execution_count": 14,
      "outputs": []
    },
    {
      "cell_type": "code",
      "source": [
        "import numpy as np\n",
        "\n",
        "# Fungsi hitung nilai IDF\n",
        "\n",
        "n_document = len(df_dataset)\n",
        "\n",
        "def calc_idf(n_document, df):\n",
        "    idf_Dict = {}\n",
        "    for term in df:\n",
        "        idf_Dict[term] = np.log(n_document / (df[term] + 1))\n",
        "    return idf_Dict\n",
        "  \n",
        "idf = calc_idf(n_document, df)"
      ],
      "metadata": {
        "id": "fsbzVnJTHZ7n"
      },
      "execution_count": 15,
      "outputs": []
    },
    {
      "cell_type": "code",
      "source": [
        "# Hitung nilai TH-IDF\n",
        "\n",
        "def calc_tf_idf(tf):\n",
        "    tf_idf_Dict = {}\n",
        "    for key in tf:\n",
        "        tf_idf_Dict[key] = tf[key] * idf[key]\n",
        "    return tf_idf_Dict\n",
        "\n",
        "df_dataset[\"tf_idf_dict\"] = df_dataset[\"tf_dict\"].apply(calc_tf_idf)"
      ],
      "metadata": {
        "id": "YUiFWYuxIyc5"
      },
      "execution_count": 16,
      "outputs": []
    },
    {
      "cell_type": "code",
      "source": [
        "df_dataset.head()"
      ],
      "metadata": {
        "colab": {
          "base_uri": "https://localhost:8080/",
          "height": 510
        },
        "id": "NZ00-mvAJXJb",
        "outputId": "a1b0f29a-31bf-480e-e195-9290722933d3"
      },
      "execution_count": 17,
      "outputs": [
        {
          "output_type": "execute_result",
          "data": {
            "text/plain": [
              "                                                text  Sentimen  \\\n",
              "0        semoga aplikasinya cepat diperbaiki kare...         1   \n",
              "1                 aplikasi apa ini nik tidak terbaca         1   \n",
              "2                 ntah laah susah di jelaskanribeet          0   \n",
              "3        selevel negara kok g mampu bikin aplikas...         0   \n",
              "4        maaf kasih   bntng karna ga epektif mala...         0   \n",
              "\n",
              "                                             steemed  \\\n",
              "0  moga aplikasi cepat baik karena begitu banyak ...   \n",
              "1                    aplikasi apa ini nik tidak baca   \n",
              "2                  ntah laah susah di jelaskanribeet   \n",
              "3  level negara kok g mampu bikin aplikasi yg bai...   \n",
              "4  maaf kasih bntng karna ga epektif malah tambah...   \n",
              "\n",
              "                                         stoppedword  \\\n",
              "0  moga aplikasi cepat aplikasi aplikasi susahkar...   \n",
              "1                                  aplikasi nik baca   \n",
              "2                     ntah laah susah jelaskanribeet   \n",
              "3  level negara g bikin aplikasi yg udah dftr ula...   \n",
              "4  maaf kasih bntng karna ga epektif ribet daftar...   \n",
              "\n",
              "                                           text_list  \\\n",
              "0  [moga, aplikasi, cepat, aplikasi, aplikasi, su...   \n",
              "1                              [aplikasi, nik, baca]   \n",
              "2                [ntah, laah, susah, jelaskanribeet]   \n",
              "3  [level, negara, g, bikin, aplikasi, yg, udah, ...   \n",
              "4  [maaf, kasih, bntng, karna, ga, epektif, ribet...   \n",
              "\n",
              "                                             tf_dict  \\\n",
              "0  {'moga': 0.125, 'aplikasi': 0.375, 'cepat': 0....   \n",
              "1  {'aplikasi': 0.3333333333333333, 'nik': 0.3333...   \n",
              "2  {'ntah': 0.25, 'laah': 0.25, 'susah': 0.25, 'j...   \n",
              "3  {'level': 0.037037037037037035, 'negara': 0.07...   \n",
              "4  {'maaf': 0.1, 'kasih': 0.1, 'bntng': 0.1, 'kar...   \n",
              "\n",
              "                                         tf_idf_dict  \n",
              "0  {'moga': 0.37956928350928076, 'aplikasi': 0.22...  \n",
              "1  {'aplikasi': 0.20293534404206476, 'nik': 1.108...  \n",
              "2  {'ntah': 1.2070784343255754, 'laah': 1.2070784...  \n",
              "3  {'level': 0.17882643471490003, 'negara': 0.306...  \n",
              "4  {'maaf': 0.48283137373023016, 'kasih': 0.27488...  "
            ],
            "text/html": [
              "\n",
              "  <div id=\"df-60521637-bbff-4ec9-ae89-f8b934819afc\">\n",
              "    <div class=\"colab-df-container\">\n",
              "      <div>\n",
              "<style scoped>\n",
              "    .dataframe tbody tr th:only-of-type {\n",
              "        vertical-align: middle;\n",
              "    }\n",
              "\n",
              "    .dataframe tbody tr th {\n",
              "        vertical-align: top;\n",
              "    }\n",
              "\n",
              "    .dataframe thead th {\n",
              "        text-align: right;\n",
              "    }\n",
              "</style>\n",
              "<table border=\"1\" class=\"dataframe\">\n",
              "  <thead>\n",
              "    <tr style=\"text-align: right;\">\n",
              "      <th></th>\n",
              "      <th>text</th>\n",
              "      <th>Sentimen</th>\n",
              "      <th>steemed</th>\n",
              "      <th>stoppedword</th>\n",
              "      <th>text_list</th>\n",
              "      <th>tf_dict</th>\n",
              "      <th>tf_idf_dict</th>\n",
              "    </tr>\n",
              "  </thead>\n",
              "  <tbody>\n",
              "    <tr>\n",
              "      <th>0</th>\n",
              "      <td>semoga aplikasinya cepat diperbaiki kare...</td>\n",
              "      <td>1</td>\n",
              "      <td>moga aplikasi cepat baik karena begitu banyak ...</td>\n",
              "      <td>moga aplikasi cepat aplikasi aplikasi susahkar...</td>\n",
              "      <td>[moga, aplikasi, cepat, aplikasi, aplikasi, su...</td>\n",
              "      <td>{'moga': 0.125, 'aplikasi': 0.375, 'cepat': 0....</td>\n",
              "      <td>{'moga': 0.37956928350928076, 'aplikasi': 0.22...</td>\n",
              "    </tr>\n",
              "    <tr>\n",
              "      <th>1</th>\n",
              "      <td>aplikasi apa ini nik tidak terbaca</td>\n",
              "      <td>1</td>\n",
              "      <td>aplikasi apa ini nik tidak baca</td>\n",
              "      <td>aplikasi nik baca</td>\n",
              "      <td>[aplikasi, nik, baca]</td>\n",
              "      <td>{'aplikasi': 0.3333333333333333, 'nik': 0.3333...</td>\n",
              "      <td>{'aplikasi': 0.20293534404206476, 'nik': 1.108...</td>\n",
              "    </tr>\n",
              "    <tr>\n",
              "      <th>2</th>\n",
              "      <td>ntah laah susah di jelaskanribeet</td>\n",
              "      <td>0</td>\n",
              "      <td>ntah laah susah di jelaskanribeet</td>\n",
              "      <td>ntah laah susah jelaskanribeet</td>\n",
              "      <td>[ntah, laah, susah, jelaskanribeet]</td>\n",
              "      <td>{'ntah': 0.25, 'laah': 0.25, 'susah': 0.25, 'j...</td>\n",
              "      <td>{'ntah': 1.2070784343255754, 'laah': 1.2070784...</td>\n",
              "    </tr>\n",
              "    <tr>\n",
              "      <th>3</th>\n",
              "      <td>selevel negara kok g mampu bikin aplikas...</td>\n",
              "      <td>0</td>\n",
              "      <td>level negara kok g mampu bikin aplikasi yg bai...</td>\n",
              "      <td>level negara g bikin aplikasi yg udah dftr ula...</td>\n",
              "      <td>[level, negara, g, bikin, aplikasi, yg, udah, ...</td>\n",
              "      <td>{'level': 0.037037037037037035, 'negara': 0.07...</td>\n",
              "      <td>{'level': 0.17882643471490003, 'negara': 0.306...</td>\n",
              "    </tr>\n",
              "    <tr>\n",
              "      <th>4</th>\n",
              "      <td>maaf kasih   bntng karna ga epektif mala...</td>\n",
              "      <td>0</td>\n",
              "      <td>maaf kasih bntng karna ga epektif malah tambah...</td>\n",
              "      <td>maaf kasih bntng karna ga epektif ribet daftar...</td>\n",
              "      <td>[maaf, kasih, bntng, karna, ga, epektif, ribet...</td>\n",
              "      <td>{'maaf': 0.1, 'kasih': 0.1, 'bntng': 0.1, 'kar...</td>\n",
              "      <td>{'maaf': 0.48283137373023016, 'kasih': 0.27488...</td>\n",
              "    </tr>\n",
              "  </tbody>\n",
              "</table>\n",
              "</div>\n",
              "      <button class=\"colab-df-convert\" onclick=\"convertToInteractive('df-60521637-bbff-4ec9-ae89-f8b934819afc')\"\n",
              "              title=\"Convert this dataframe to an interactive table.\"\n",
              "              style=\"display:none;\">\n",
              "        \n",
              "  <svg xmlns=\"http://www.w3.org/2000/svg\" height=\"24px\"viewBox=\"0 0 24 24\"\n",
              "       width=\"24px\">\n",
              "    <path d=\"M0 0h24v24H0V0z\" fill=\"none\"/>\n",
              "    <path d=\"M18.56 5.44l.94 2.06.94-2.06 2.06-.94-2.06-.94-.94-2.06-.94 2.06-2.06.94zm-11 1L8.5 8.5l.94-2.06 2.06-.94-2.06-.94L8.5 2.5l-.94 2.06-2.06.94zm10 10l.94 2.06.94-2.06 2.06-.94-2.06-.94-.94-2.06-.94 2.06-2.06.94z\"/><path d=\"M17.41 7.96l-1.37-1.37c-.4-.4-.92-.59-1.43-.59-.52 0-1.04.2-1.43.59L10.3 9.45l-7.72 7.72c-.78.78-.78 2.05 0 2.83L4 21.41c.39.39.9.59 1.41.59.51 0 1.02-.2 1.41-.59l7.78-7.78 2.81-2.81c.8-.78.8-2.07 0-2.86zM5.41 20L4 18.59l7.72-7.72 1.47 1.35L5.41 20z\"/>\n",
              "  </svg>\n",
              "      </button>\n",
              "      \n",
              "  <style>\n",
              "    .colab-df-container {\n",
              "      display:flex;\n",
              "      flex-wrap:wrap;\n",
              "      gap: 12px;\n",
              "    }\n",
              "\n",
              "    .colab-df-convert {\n",
              "      background-color: #E8F0FE;\n",
              "      border: none;\n",
              "      border-radius: 50%;\n",
              "      cursor: pointer;\n",
              "      display: none;\n",
              "      fill: #1967D2;\n",
              "      height: 32px;\n",
              "      padding: 0 0 0 0;\n",
              "      width: 32px;\n",
              "    }\n",
              "\n",
              "    .colab-df-convert:hover {\n",
              "      background-color: #E2EBFA;\n",
              "      box-shadow: 0px 1px 2px rgba(60, 64, 67, 0.3), 0px 1px 3px 1px rgba(60, 64, 67, 0.15);\n",
              "      fill: #174EA6;\n",
              "    }\n",
              "\n",
              "    [theme=dark] .colab-df-convert {\n",
              "      background-color: #3B4455;\n",
              "      fill: #D2E3FC;\n",
              "    }\n",
              "\n",
              "    [theme=dark] .colab-df-convert:hover {\n",
              "      background-color: #434B5C;\n",
              "      box-shadow: 0px 1px 3px 1px rgba(0, 0, 0, 0.15);\n",
              "      filter: drop-shadow(0px 1px 2px rgba(0, 0, 0, 0.3));\n",
              "      fill: #FFFFFF;\n",
              "    }\n",
              "  </style>\n",
              "\n",
              "      <script>\n",
              "        const buttonEl =\n",
              "          document.querySelector('#df-60521637-bbff-4ec9-ae89-f8b934819afc button.colab-df-convert');\n",
              "        buttonEl.style.display =\n",
              "          google.colab.kernel.accessAllowed ? 'block' : 'none';\n",
              "\n",
              "        async function convertToInteractive(key) {\n",
              "          const element = document.querySelector('#df-60521637-bbff-4ec9-ae89-f8b934819afc');\n",
              "          const dataTable =\n",
              "            await google.colab.kernel.invokeFunction('convertToInteractive',\n",
              "                                                     [key], {});\n",
              "          if (!dataTable) return;\n",
              "\n",
              "          const docLinkHtml = 'Like what you see? Visit the ' +\n",
              "            '<a target=\"_blank\" href=https://colab.research.google.com/notebooks/data_table.ipynb>data table notebook</a>'\n",
              "            + ' to learn more about interactive tables.';\n",
              "          element.innerHTML = '';\n",
              "          dataTable['output_type'] = 'display_data';\n",
              "          await google.colab.output.renderOutput(dataTable, element);\n",
              "          const docLink = document.createElement('div');\n",
              "          docLink.innerHTML = docLinkHtml;\n",
              "          element.appendChild(docLink);\n",
              "        }\n",
              "      </script>\n",
              "    </div>\n",
              "  </div>\n",
              "  "
            ]
          },
          "metadata": {},
          "execution_count": 17
        }
      ]
    },
    {
      "cell_type": "code",
      "source": [
        "feature = 25\n",
        "sorted_df = sorted(df.items(), key=lambda kv: kv[1], reverse=True)[:feature]\n",
        "\n",
        "unique_term = [item[0] for item in sorted_df]\n",
        "\n",
        "def calc_tf_idf_vec(tf_idf_dict):\n",
        "    tf_idf_vector = [0.0] * len(unique_term)\n",
        "\n",
        "    for i, term in enumerate(unique_term):\n",
        "        if term in tf_idf_dict:\n",
        "            tf_idf_vector[i] = tf_idf_dict[term]\n",
        "    return tf_idf_vector\n",
        "\n",
        "df_dataset[\"tf_idf_vec\"] = df_dataset[\"tf_idf_dict\"].apply(calc_tf_idf_vec)\n",
        "\n",
        "print(\"Sort\")\n",
        "print(sorted_df)\n",
        "print(\"print first row matrix tf_idf_vec Series\\n\")\n",
        "print(df_dataset[\"tf_idf_vec\"][0])\n",
        "\n",
        "print(\"\\nmatrix size : \", len(df_dataset[\"tf_idf_vec\"][0]))"
      ],
      "metadata": {
        "colab": {
          "base_uri": "https://localhost:8080/"
        },
        "id": "zxpFN8CcJo27",
        "outputId": "fc9d2f4f-52ea-42d8-bd6a-7c1a36d05e9f"
      },
      "execution_count": 18,
      "outputs": [
        {
          "output_type": "stream",
          "name": "stdout",
          "text": [
            "Sort\n",
            "[('aplikasi', 135), ('daftar', 71), ('yg', 57), ('nya', 46), ('susah', 39), ('aja', 38), ('pertamina', 33), ('gak', 32), ('data', 29), ('bagus', 29), ('beli', 28), ('udah', 27), ('bikin', 27), ('mudah', 27), ('ribet', 26), ('ga', 25), ('spbu', 25), ('isi', 25), ('bayar', 24), ('subsidi', 24), ('sulit', 23), ('bbm', 23), ('hp', 21), ('mypertamina', 21), ('rakyat', 19)]\n",
            "print first row matrix tf_idf_vec Series\n",
            "\n",
            "[0.22830226204732287, 0.0, 0.0, 0.0, 0.22907268296853878, 0.0, 0.0, 0.0, 0.0, 0.0, 0.0, 0.27365705096088033, 0.0, 0.0, 0.0, 0.0, 0.0, 0.0, 0.0, 0.0, 0.0, 0.0, 0.0, 0.0, 0.0]\n",
            "\n",
            "matrix size :  25\n"
          ]
        }
      ]
    },
    {
      "cell_type": "code",
      "source": [
        "df_dataset.head()"
      ],
      "metadata": {
        "colab": {
          "base_uri": "https://localhost:8080/",
          "height": 547
        },
        "id": "QnZiUfsvLcsO",
        "outputId": "f9f1408a-516a-459a-ef46-41d5ebe68168"
      },
      "execution_count": 19,
      "outputs": [
        {
          "output_type": "execute_result",
          "data": {
            "text/plain": [
              "                                                text  Sentimen  \\\n",
              "0        semoga aplikasinya cepat diperbaiki kare...         1   \n",
              "1                 aplikasi apa ini nik tidak terbaca         1   \n",
              "2                 ntah laah susah di jelaskanribeet          0   \n",
              "3        selevel negara kok g mampu bikin aplikas...         0   \n",
              "4        maaf kasih   bntng karna ga epektif mala...         0   \n",
              "\n",
              "                                             steemed  \\\n",
              "0  moga aplikasi cepat baik karena begitu banyak ...   \n",
              "1                    aplikasi apa ini nik tidak baca   \n",
              "2                  ntah laah susah di jelaskanribeet   \n",
              "3  level negara kok g mampu bikin aplikasi yg bai...   \n",
              "4  maaf kasih bntng karna ga epektif malah tambah...   \n",
              "\n",
              "                                         stoppedword  \\\n",
              "0  moga aplikasi cepat aplikasi aplikasi susahkar...   \n",
              "1                                  aplikasi nik baca   \n",
              "2                     ntah laah susah jelaskanribeet   \n",
              "3  level negara g bikin aplikasi yg udah dftr ula...   \n",
              "4  maaf kasih bntng karna ga epektif ribet daftar...   \n",
              "\n",
              "                                           text_list  \\\n",
              "0  [moga, aplikasi, cepat, aplikasi, aplikasi, su...   \n",
              "1                              [aplikasi, nik, baca]   \n",
              "2                [ntah, laah, susah, jelaskanribeet]   \n",
              "3  [level, negara, g, bikin, aplikasi, yg, udah, ...   \n",
              "4  [maaf, kasih, bntng, karna, ga, epektif, ribet...   \n",
              "\n",
              "                                             tf_dict  \\\n",
              "0  {'moga': 0.125, 'aplikasi': 0.375, 'cepat': 0....   \n",
              "1  {'aplikasi': 0.3333333333333333, 'nik': 0.3333...   \n",
              "2  {'ntah': 0.25, 'laah': 0.25, 'susah': 0.25, 'j...   \n",
              "3  {'level': 0.037037037037037035, 'negara': 0.07...   \n",
              "4  {'maaf': 0.1, 'kasih': 0.1, 'bntng': 0.1, 'kar...   \n",
              "\n",
              "                                         tf_idf_dict  \\\n",
              "0  {'moga': 0.37956928350928076, 'aplikasi': 0.22...   \n",
              "1  {'aplikasi': 0.20293534404206476, 'nik': 1.108...   \n",
              "2  {'ntah': 1.2070784343255754, 'laah': 1.2070784...   \n",
              "3  {'level': 0.17882643471490003, 'negara': 0.306...   \n",
              "4  {'maaf': 0.48283137373023016, 'kasih': 0.27488...   \n",
              "\n",
              "                                          tf_idf_vec  \n",
              "0  [0.22830226204732287, 0.0, 0.0, 0.0, 0.2290726...  \n",
              "1  [0.20293534404206476, 0.0, 0.0, 0.0, 0.0, 0.0,...  \n",
              "2  [0.0, 0.0, 0.0, 0.0, 0.45814536593707755, 0.0,...  \n",
              "3  [0.02254837156022942, 0.0, 0.05411177434503063...  \n",
              "4  [0.0, 0.12447947988461912, 0.0, 0.0, 0.1832581...  "
            ],
            "text/html": [
              "\n",
              "  <div id=\"df-8e6b3c4c-77a3-4f68-8f70-5b2b2478befd\">\n",
              "    <div class=\"colab-df-container\">\n",
              "      <div>\n",
              "<style scoped>\n",
              "    .dataframe tbody tr th:only-of-type {\n",
              "        vertical-align: middle;\n",
              "    }\n",
              "\n",
              "    .dataframe tbody tr th {\n",
              "        vertical-align: top;\n",
              "    }\n",
              "\n",
              "    .dataframe thead th {\n",
              "        text-align: right;\n",
              "    }\n",
              "</style>\n",
              "<table border=\"1\" class=\"dataframe\">\n",
              "  <thead>\n",
              "    <tr style=\"text-align: right;\">\n",
              "      <th></th>\n",
              "      <th>text</th>\n",
              "      <th>Sentimen</th>\n",
              "      <th>steemed</th>\n",
              "      <th>stoppedword</th>\n",
              "      <th>text_list</th>\n",
              "      <th>tf_dict</th>\n",
              "      <th>tf_idf_dict</th>\n",
              "      <th>tf_idf_vec</th>\n",
              "    </tr>\n",
              "  </thead>\n",
              "  <tbody>\n",
              "    <tr>\n",
              "      <th>0</th>\n",
              "      <td>semoga aplikasinya cepat diperbaiki kare...</td>\n",
              "      <td>1</td>\n",
              "      <td>moga aplikasi cepat baik karena begitu banyak ...</td>\n",
              "      <td>moga aplikasi cepat aplikasi aplikasi susahkar...</td>\n",
              "      <td>[moga, aplikasi, cepat, aplikasi, aplikasi, su...</td>\n",
              "      <td>{'moga': 0.125, 'aplikasi': 0.375, 'cepat': 0....</td>\n",
              "      <td>{'moga': 0.37956928350928076, 'aplikasi': 0.22...</td>\n",
              "      <td>[0.22830226204732287, 0.0, 0.0, 0.0, 0.2290726...</td>\n",
              "    </tr>\n",
              "    <tr>\n",
              "      <th>1</th>\n",
              "      <td>aplikasi apa ini nik tidak terbaca</td>\n",
              "      <td>1</td>\n",
              "      <td>aplikasi apa ini nik tidak baca</td>\n",
              "      <td>aplikasi nik baca</td>\n",
              "      <td>[aplikasi, nik, baca]</td>\n",
              "      <td>{'aplikasi': 0.3333333333333333, 'nik': 0.3333...</td>\n",
              "      <td>{'aplikasi': 0.20293534404206476, 'nik': 1.108...</td>\n",
              "      <td>[0.20293534404206476, 0.0, 0.0, 0.0, 0.0, 0.0,...</td>\n",
              "    </tr>\n",
              "    <tr>\n",
              "      <th>2</th>\n",
              "      <td>ntah laah susah di jelaskanribeet</td>\n",
              "      <td>0</td>\n",
              "      <td>ntah laah susah di jelaskanribeet</td>\n",
              "      <td>ntah laah susah jelaskanribeet</td>\n",
              "      <td>[ntah, laah, susah, jelaskanribeet]</td>\n",
              "      <td>{'ntah': 0.25, 'laah': 0.25, 'susah': 0.25, 'j...</td>\n",
              "      <td>{'ntah': 1.2070784343255754, 'laah': 1.2070784...</td>\n",
              "      <td>[0.0, 0.0, 0.0, 0.0, 0.45814536593707755, 0.0,...</td>\n",
              "    </tr>\n",
              "    <tr>\n",
              "      <th>3</th>\n",
              "      <td>selevel negara kok g mampu bikin aplikas...</td>\n",
              "      <td>0</td>\n",
              "      <td>level negara kok g mampu bikin aplikasi yg bai...</td>\n",
              "      <td>level negara g bikin aplikasi yg udah dftr ula...</td>\n",
              "      <td>[level, negara, g, bikin, aplikasi, yg, udah, ...</td>\n",
              "      <td>{'level': 0.037037037037037035, 'negara': 0.07...</td>\n",
              "      <td>{'level': 0.17882643471490003, 'negara': 0.306...</td>\n",
              "      <td>[0.02254837156022942, 0.0, 0.05411177434503063...</td>\n",
              "    </tr>\n",
              "    <tr>\n",
              "      <th>4</th>\n",
              "      <td>maaf kasih   bntng karna ga epektif mala...</td>\n",
              "      <td>0</td>\n",
              "      <td>maaf kasih bntng karna ga epektif malah tambah...</td>\n",
              "      <td>maaf kasih bntng karna ga epektif ribet daftar...</td>\n",
              "      <td>[maaf, kasih, bntng, karna, ga, epektif, ribet...</td>\n",
              "      <td>{'maaf': 0.1, 'kasih': 0.1, 'bntng': 0.1, 'kar...</td>\n",
              "      <td>{'maaf': 0.48283137373023016, 'kasih': 0.27488...</td>\n",
              "      <td>[0.0, 0.12447947988461912, 0.0, 0.0, 0.1832581...</td>\n",
              "    </tr>\n",
              "  </tbody>\n",
              "</table>\n",
              "</div>\n",
              "      <button class=\"colab-df-convert\" onclick=\"convertToInteractive('df-8e6b3c4c-77a3-4f68-8f70-5b2b2478befd')\"\n",
              "              title=\"Convert this dataframe to an interactive table.\"\n",
              "              style=\"display:none;\">\n",
              "        \n",
              "  <svg xmlns=\"http://www.w3.org/2000/svg\" height=\"24px\"viewBox=\"0 0 24 24\"\n",
              "       width=\"24px\">\n",
              "    <path d=\"M0 0h24v24H0V0z\" fill=\"none\"/>\n",
              "    <path d=\"M18.56 5.44l.94 2.06.94-2.06 2.06-.94-2.06-.94-.94-2.06-.94 2.06-2.06.94zm-11 1L8.5 8.5l.94-2.06 2.06-.94-2.06-.94L8.5 2.5l-.94 2.06-2.06.94zm10 10l.94 2.06.94-2.06 2.06-.94-2.06-.94-.94-2.06-.94 2.06-2.06.94z\"/><path d=\"M17.41 7.96l-1.37-1.37c-.4-.4-.92-.59-1.43-.59-.52 0-1.04.2-1.43.59L10.3 9.45l-7.72 7.72c-.78.78-.78 2.05 0 2.83L4 21.41c.39.39.9.59 1.41.59.51 0 1.02-.2 1.41-.59l7.78-7.78 2.81-2.81c.8-.78.8-2.07 0-2.86zM5.41 20L4 18.59l7.72-7.72 1.47 1.35L5.41 20z\"/>\n",
              "  </svg>\n",
              "      </button>\n",
              "      \n",
              "  <style>\n",
              "    .colab-df-container {\n",
              "      display:flex;\n",
              "      flex-wrap:wrap;\n",
              "      gap: 12px;\n",
              "    }\n",
              "\n",
              "    .colab-df-convert {\n",
              "      background-color: #E8F0FE;\n",
              "      border: none;\n",
              "      border-radius: 50%;\n",
              "      cursor: pointer;\n",
              "      display: none;\n",
              "      fill: #1967D2;\n",
              "      height: 32px;\n",
              "      padding: 0 0 0 0;\n",
              "      width: 32px;\n",
              "    }\n",
              "\n",
              "    .colab-df-convert:hover {\n",
              "      background-color: #E2EBFA;\n",
              "      box-shadow: 0px 1px 2px rgba(60, 64, 67, 0.3), 0px 1px 3px 1px rgba(60, 64, 67, 0.15);\n",
              "      fill: #174EA6;\n",
              "    }\n",
              "\n",
              "    [theme=dark] .colab-df-convert {\n",
              "      background-color: #3B4455;\n",
              "      fill: #D2E3FC;\n",
              "    }\n",
              "\n",
              "    [theme=dark] .colab-df-convert:hover {\n",
              "      background-color: #434B5C;\n",
              "      box-shadow: 0px 1px 3px 1px rgba(0, 0, 0, 0.15);\n",
              "      filter: drop-shadow(0px 1px 2px rgba(0, 0, 0, 0.3));\n",
              "      fill: #FFFFFF;\n",
              "    }\n",
              "  </style>\n",
              "\n",
              "      <script>\n",
              "        const buttonEl =\n",
              "          document.querySelector('#df-8e6b3c4c-77a3-4f68-8f70-5b2b2478befd button.colab-df-convert');\n",
              "        buttonEl.style.display =\n",
              "          google.colab.kernel.accessAllowed ? 'block' : 'none';\n",
              "\n",
              "        async function convertToInteractive(key) {\n",
              "          const element = document.querySelector('#df-8e6b3c4c-77a3-4f68-8f70-5b2b2478befd');\n",
              "          const dataTable =\n",
              "            await google.colab.kernel.invokeFunction('convertToInteractive',\n",
              "                                                     [key], {});\n",
              "          if (!dataTable) return;\n",
              "\n",
              "          const docLinkHtml = 'Like what you see? Visit the ' +\n",
              "            '<a target=\"_blank\" href=https://colab.research.google.com/notebooks/data_table.ipynb>data table notebook</a>'\n",
              "            + ' to learn more about interactive tables.';\n",
              "          element.innerHTML = '';\n",
              "          dataTable['output_type'] = 'display_data';\n",
              "          await google.colab.output.renderOutput(dataTable, element);\n",
              "          const docLink = document.createElement('div');\n",
              "          docLink.innerHTML = docLinkHtml;\n",
              "          element.appendChild(docLink);\n",
              "        }\n",
              "      </script>\n",
              "    </div>\n",
              "  </div>\n",
              "  "
            ]
          },
          "metadata": {},
          "execution_count": 19
        }
      ]
    },
    {
      "cell_type": "code",
      "source": [
        "from sklearn.svm import SVC\n",
        "from sklearn.preprocessing import LabelEncoder\n",
        "from sklearn.model_selection import train_test_split\n",
        "from sklearn.metrics import accuracy_score, confusion_matrix, classification_report"
      ],
      "metadata": {
        "id": "B_W3-bi5KAiM"
      },
      "execution_count": 20,
      "outputs": []
    },
    {
      "cell_type": "code",
      "source": [
        "# Jadikan sentimen (nilai y) menjadi nilai 0 dan 1\n",
        "\n",
        "enc = LabelEncoder()\n",
        "df_dataset['Sentimen'] = enc.fit_transform(df_dataset['Sentimen'].values)\n",
        "cls = df_dataset['Sentimen']\n",
        "cls"
      ],
      "metadata": {
        "colab": {
          "base_uri": "https://localhost:8080/"
        },
        "id": "J1KfPNhlKGWd",
        "outputId": "8d8f081d-269d-496a-b296-ed790d544f85"
      },
      "execution_count": 21,
      "outputs": [
        {
          "output_type": "execute_result",
          "data": {
            "text/plain": [
              "0      1\n",
              "1      1\n",
              "2      0\n",
              "3      0\n",
              "4      0\n",
              "      ..\n",
              "245    1\n",
              "246    1\n",
              "247    0\n",
              "248    1\n",
              "249    0\n",
              "Name: Sentimen, Length: 250, dtype: int64"
            ]
          },
          "metadata": {},
          "execution_count": 21
        }
      ]
    },
    {
      "cell_type": "code",
      "source": [
        "# Tetapkan nilai X dari hasil TF-IDF \n",
        "\n",
        "attrs = df_dataset['tf_idf_vec']\n",
        "attrs"
      ],
      "metadata": {
        "colab": {
          "base_uri": "https://localhost:8080/"
        },
        "id": "2wlM4iJBKUjm",
        "outputId": "f7eaf252-2784-44ca-8ff3-394c79ccb7f2"
      },
      "execution_count": 22,
      "outputs": [
        {
          "output_type": "execute_result",
          "data": {
            "text/plain": [
              "0      [0.22830226204732287, 0.0, 0.0, 0.0, 0.2290726...\n",
              "1      [0.20293534404206476, 0.0, 0.0, 0.0, 0.0, 0.0,...\n",
              "2      [0.0, 0.0, 0.0, 0.0, 0.45814536593707755, 0.0,...\n",
              "3      [0.02254837156022942, 0.0, 0.05411177434503063...\n",
              "4      [0.0, 0.12447947988461912, 0.0, 0.0, 0.1832581...\n",
              "                             ...                        \n",
              "245    [0.0, 0.0, 0.0, 0.0, 0.0, 0.0, 0.0, 0.0, 0.235...\n",
              "246    [0.30440301606309716, 0.0, 0.0, 0.0, 0.0, 0.0,...\n",
              "247    [0.10146767202103238, 0.0, 0.0, 0.278552219358...\n",
              "248    [0.0, 0.0, 0.208716843902261, 0.0, 0.0, 0.0, 0...\n",
              "249    [0.0, 0.0, 0.0, 0.0, 0.0, 0.0, 0.0, 0.0, 0.0, ...\n",
              "Name: tf_idf_vec, Length: 250, dtype: object"
            ]
          },
          "metadata": {},
          "execution_count": 22
        }
      ]
    },
    {
      "cell_type": "code",
      "source": [
        "# Jadikan nilai x menjadi dataframe\n",
        "\n",
        "column_name = []\n",
        "dataset = []\n",
        "\n",
        "for i in range(len(attrs[0])):\n",
        "    column_name.append(\"X\"+str(i))\n",
        "\n",
        "for i in range(len(attrs)):\n",
        "    dataset.append(attrs[i])\n",
        "\n",
        "attr = pd.DataFrame(dataset, columns=column_name)\n",
        "attr"
      ],
      "metadata": {
        "id": "oCZpBoN4L9Yv",
        "colab": {
          "base_uri": "https://localhost:8080/",
          "height": 487
        },
        "outputId": "5deae084-3bc0-41d6-848f-8ce86c284004"
      },
      "execution_count": 23,
      "outputs": [
        {
          "output_type": "execute_result",
          "data": {
            "text/plain": [
              "           X0        X1        X2        X3        X4   X5   X6   X7  \\\n",
              "0    0.228302  0.000000  0.000000  0.000000  0.229073  0.0  0.0  0.0   \n",
              "1    0.202935  0.000000  0.000000  0.000000  0.000000  0.0  0.0  0.0   \n",
              "2    0.000000  0.000000  0.000000  0.000000  0.458145  0.0  0.0  0.0   \n",
              "3    0.022548  0.000000  0.054112  0.000000  0.000000  0.0  0.0  0.0   \n",
              "4    0.000000  0.124479  0.000000  0.000000  0.183258  0.0  0.0  0.0   \n",
              "..        ...       ...       ...       ...       ...  ...  ...  ...   \n",
              "245  0.000000  0.000000  0.000000  0.000000  0.000000  0.0  0.0  0.0   \n",
              "246  0.304403  0.000000  0.000000  0.000000  0.000000  0.0  0.0  0.0   \n",
              "247  0.101468  0.000000  0.000000  0.278552  0.000000  0.0  0.0  0.0   \n",
              "248  0.000000  0.000000  0.208717  0.000000  0.000000  0.0  0.0  0.0   \n",
              "249  0.000000  0.000000  0.000000  0.000000  0.000000  0.0  0.0  0.0   \n",
              "\n",
              "           X8   X9  ...       X15  X16       X17  X18       X19       X20  \\\n",
              "0    0.000000  0.0  ...  0.000000  0.0  0.000000  0.0  0.000000  0.000000   \n",
              "1    0.000000  0.0  ...  0.000000  0.0  0.000000  0.0  0.000000  0.000000   \n",
              "2    0.000000  0.0  ...  0.000000  0.0  0.000000  0.0  0.000000  0.000000   \n",
              "3    0.000000  0.0  ...  0.000000  0.0  0.000000  0.0  0.000000  0.086793   \n",
              "4    0.000000  0.0  ...  0.226336  0.0  0.000000  0.0  0.000000  0.000000   \n",
              "..        ...  ...  ...       ...  ...       ...  ...       ...       ...   \n",
              "245  0.235585  0.0  ...  0.000000  0.0  0.251485  0.0  0.255843  0.000000   \n",
              "246  0.000000  0.0  ...  0.000000  0.0  0.000000  0.0  0.000000  0.000000   \n",
              "247  0.000000  0.0  ...  0.000000  0.0  0.000000  0.0  0.000000  0.390568   \n",
              "248  0.000000  0.0  ...  0.000000  0.0  0.000000  0.0  0.000000  0.000000   \n",
              "249  0.000000  0.0  ...  0.150891  0.0  0.000000  0.0  0.000000  0.000000   \n",
              "\n",
              "          X21       X22       X23       X24  \n",
              "0    0.000000  0.000000  0.000000  0.000000  \n",
              "1    0.000000  0.000000  0.000000  0.000000  \n",
              "2    0.000000  0.000000  0.000000  0.000000  \n",
              "3    0.000000  0.090015  0.000000  0.093546  \n",
              "4    0.000000  0.000000  0.000000  0.000000  \n",
              "..        ...       ...       ...       ...  \n",
              "245  0.000000  0.000000  0.000000  0.000000  \n",
              "246  0.000000  0.000000  1.215209  0.000000  \n",
              "247  0.000000  0.000000  0.000000  0.000000  \n",
              "248  0.000000  0.000000  0.000000  0.000000  \n",
              "249  0.156227  0.000000  0.000000  0.336764  \n",
              "\n",
              "[250 rows x 25 columns]"
            ],
            "text/html": [
              "\n",
              "  <div id=\"df-ef982484-d5d3-4367-b724-5bedd9748575\">\n",
              "    <div class=\"colab-df-container\">\n",
              "      <div>\n",
              "<style scoped>\n",
              "    .dataframe tbody tr th:only-of-type {\n",
              "        vertical-align: middle;\n",
              "    }\n",
              "\n",
              "    .dataframe tbody tr th {\n",
              "        vertical-align: top;\n",
              "    }\n",
              "\n",
              "    .dataframe thead th {\n",
              "        text-align: right;\n",
              "    }\n",
              "</style>\n",
              "<table border=\"1\" class=\"dataframe\">\n",
              "  <thead>\n",
              "    <tr style=\"text-align: right;\">\n",
              "      <th></th>\n",
              "      <th>X0</th>\n",
              "      <th>X1</th>\n",
              "      <th>X2</th>\n",
              "      <th>X3</th>\n",
              "      <th>X4</th>\n",
              "      <th>X5</th>\n",
              "      <th>X6</th>\n",
              "      <th>X7</th>\n",
              "      <th>X8</th>\n",
              "      <th>X9</th>\n",
              "      <th>...</th>\n",
              "      <th>X15</th>\n",
              "      <th>X16</th>\n",
              "      <th>X17</th>\n",
              "      <th>X18</th>\n",
              "      <th>X19</th>\n",
              "      <th>X20</th>\n",
              "      <th>X21</th>\n",
              "      <th>X22</th>\n",
              "      <th>X23</th>\n",
              "      <th>X24</th>\n",
              "    </tr>\n",
              "  </thead>\n",
              "  <tbody>\n",
              "    <tr>\n",
              "      <th>0</th>\n",
              "      <td>0.228302</td>\n",
              "      <td>0.000000</td>\n",
              "      <td>0.000000</td>\n",
              "      <td>0.000000</td>\n",
              "      <td>0.229073</td>\n",
              "      <td>0.0</td>\n",
              "      <td>0.0</td>\n",
              "      <td>0.0</td>\n",
              "      <td>0.000000</td>\n",
              "      <td>0.0</td>\n",
              "      <td>...</td>\n",
              "      <td>0.000000</td>\n",
              "      <td>0.0</td>\n",
              "      <td>0.000000</td>\n",
              "      <td>0.0</td>\n",
              "      <td>0.000000</td>\n",
              "      <td>0.000000</td>\n",
              "      <td>0.000000</td>\n",
              "      <td>0.000000</td>\n",
              "      <td>0.000000</td>\n",
              "      <td>0.000000</td>\n",
              "    </tr>\n",
              "    <tr>\n",
              "      <th>1</th>\n",
              "      <td>0.202935</td>\n",
              "      <td>0.000000</td>\n",
              "      <td>0.000000</td>\n",
              "      <td>0.000000</td>\n",
              "      <td>0.000000</td>\n",
              "      <td>0.0</td>\n",
              "      <td>0.0</td>\n",
              "      <td>0.0</td>\n",
              "      <td>0.000000</td>\n",
              "      <td>0.0</td>\n",
              "      <td>...</td>\n",
              "      <td>0.000000</td>\n",
              "      <td>0.0</td>\n",
              "      <td>0.000000</td>\n",
              "      <td>0.0</td>\n",
              "      <td>0.000000</td>\n",
              "      <td>0.000000</td>\n",
              "      <td>0.000000</td>\n",
              "      <td>0.000000</td>\n",
              "      <td>0.000000</td>\n",
              "      <td>0.000000</td>\n",
              "    </tr>\n",
              "    <tr>\n",
              "      <th>2</th>\n",
              "      <td>0.000000</td>\n",
              "      <td>0.000000</td>\n",
              "      <td>0.000000</td>\n",
              "      <td>0.000000</td>\n",
              "      <td>0.458145</td>\n",
              "      <td>0.0</td>\n",
              "      <td>0.0</td>\n",
              "      <td>0.0</td>\n",
              "      <td>0.000000</td>\n",
              "      <td>0.0</td>\n",
              "      <td>...</td>\n",
              "      <td>0.000000</td>\n",
              "      <td>0.0</td>\n",
              "      <td>0.000000</td>\n",
              "      <td>0.0</td>\n",
              "      <td>0.000000</td>\n",
              "      <td>0.000000</td>\n",
              "      <td>0.000000</td>\n",
              "      <td>0.000000</td>\n",
              "      <td>0.000000</td>\n",
              "      <td>0.000000</td>\n",
              "    </tr>\n",
              "    <tr>\n",
              "      <th>3</th>\n",
              "      <td>0.022548</td>\n",
              "      <td>0.000000</td>\n",
              "      <td>0.054112</td>\n",
              "      <td>0.000000</td>\n",
              "      <td>0.000000</td>\n",
              "      <td>0.0</td>\n",
              "      <td>0.0</td>\n",
              "      <td>0.0</td>\n",
              "      <td>0.000000</td>\n",
              "      <td>0.0</td>\n",
              "      <td>...</td>\n",
              "      <td>0.000000</td>\n",
              "      <td>0.0</td>\n",
              "      <td>0.000000</td>\n",
              "      <td>0.0</td>\n",
              "      <td>0.000000</td>\n",
              "      <td>0.086793</td>\n",
              "      <td>0.000000</td>\n",
              "      <td>0.090015</td>\n",
              "      <td>0.000000</td>\n",
              "      <td>0.093546</td>\n",
              "    </tr>\n",
              "    <tr>\n",
              "      <th>4</th>\n",
              "      <td>0.000000</td>\n",
              "      <td>0.124479</td>\n",
              "      <td>0.000000</td>\n",
              "      <td>0.000000</td>\n",
              "      <td>0.183258</td>\n",
              "      <td>0.0</td>\n",
              "      <td>0.0</td>\n",
              "      <td>0.0</td>\n",
              "      <td>0.000000</td>\n",
              "      <td>0.0</td>\n",
              "      <td>...</td>\n",
              "      <td>0.226336</td>\n",
              "      <td>0.0</td>\n",
              "      <td>0.000000</td>\n",
              "      <td>0.0</td>\n",
              "      <td>0.000000</td>\n",
              "      <td>0.000000</td>\n",
              "      <td>0.000000</td>\n",
              "      <td>0.000000</td>\n",
              "      <td>0.000000</td>\n",
              "      <td>0.000000</td>\n",
              "    </tr>\n",
              "    <tr>\n",
              "      <th>...</th>\n",
              "      <td>...</td>\n",
              "      <td>...</td>\n",
              "      <td>...</td>\n",
              "      <td>...</td>\n",
              "      <td>...</td>\n",
              "      <td>...</td>\n",
              "      <td>...</td>\n",
              "      <td>...</td>\n",
              "      <td>...</td>\n",
              "      <td>...</td>\n",
              "      <td>...</td>\n",
              "      <td>...</td>\n",
              "      <td>...</td>\n",
              "      <td>...</td>\n",
              "      <td>...</td>\n",
              "      <td>...</td>\n",
              "      <td>...</td>\n",
              "      <td>...</td>\n",
              "      <td>...</td>\n",
              "      <td>...</td>\n",
              "      <td>...</td>\n",
              "    </tr>\n",
              "    <tr>\n",
              "      <th>245</th>\n",
              "      <td>0.000000</td>\n",
              "      <td>0.000000</td>\n",
              "      <td>0.000000</td>\n",
              "      <td>0.000000</td>\n",
              "      <td>0.000000</td>\n",
              "      <td>0.0</td>\n",
              "      <td>0.0</td>\n",
              "      <td>0.0</td>\n",
              "      <td>0.235585</td>\n",
              "      <td>0.0</td>\n",
              "      <td>...</td>\n",
              "      <td>0.000000</td>\n",
              "      <td>0.0</td>\n",
              "      <td>0.251485</td>\n",
              "      <td>0.0</td>\n",
              "      <td>0.255843</td>\n",
              "      <td>0.000000</td>\n",
              "      <td>0.000000</td>\n",
              "      <td>0.000000</td>\n",
              "      <td>0.000000</td>\n",
              "      <td>0.000000</td>\n",
              "    </tr>\n",
              "    <tr>\n",
              "      <th>246</th>\n",
              "      <td>0.304403</td>\n",
              "      <td>0.000000</td>\n",
              "      <td>0.000000</td>\n",
              "      <td>0.000000</td>\n",
              "      <td>0.000000</td>\n",
              "      <td>0.0</td>\n",
              "      <td>0.0</td>\n",
              "      <td>0.0</td>\n",
              "      <td>0.000000</td>\n",
              "      <td>0.0</td>\n",
              "      <td>...</td>\n",
              "      <td>0.000000</td>\n",
              "      <td>0.0</td>\n",
              "      <td>0.000000</td>\n",
              "      <td>0.0</td>\n",
              "      <td>0.000000</td>\n",
              "      <td>0.000000</td>\n",
              "      <td>0.000000</td>\n",
              "      <td>0.000000</td>\n",
              "      <td>1.215209</td>\n",
              "      <td>0.000000</td>\n",
              "    </tr>\n",
              "    <tr>\n",
              "      <th>247</th>\n",
              "      <td>0.101468</td>\n",
              "      <td>0.000000</td>\n",
              "      <td>0.000000</td>\n",
              "      <td>0.278552</td>\n",
              "      <td>0.000000</td>\n",
              "      <td>0.0</td>\n",
              "      <td>0.0</td>\n",
              "      <td>0.0</td>\n",
              "      <td>0.000000</td>\n",
              "      <td>0.0</td>\n",
              "      <td>...</td>\n",
              "      <td>0.000000</td>\n",
              "      <td>0.0</td>\n",
              "      <td>0.000000</td>\n",
              "      <td>0.0</td>\n",
              "      <td>0.000000</td>\n",
              "      <td>0.390568</td>\n",
              "      <td>0.000000</td>\n",
              "      <td>0.000000</td>\n",
              "      <td>0.000000</td>\n",
              "      <td>0.000000</td>\n",
              "    </tr>\n",
              "    <tr>\n",
              "      <th>248</th>\n",
              "      <td>0.000000</td>\n",
              "      <td>0.000000</td>\n",
              "      <td>0.208717</td>\n",
              "      <td>0.000000</td>\n",
              "      <td>0.000000</td>\n",
              "      <td>0.0</td>\n",
              "      <td>0.0</td>\n",
              "      <td>0.0</td>\n",
              "      <td>0.000000</td>\n",
              "      <td>0.0</td>\n",
              "      <td>...</td>\n",
              "      <td>0.000000</td>\n",
              "      <td>0.0</td>\n",
              "      <td>0.000000</td>\n",
              "      <td>0.0</td>\n",
              "      <td>0.000000</td>\n",
              "      <td>0.000000</td>\n",
              "      <td>0.000000</td>\n",
              "      <td>0.000000</td>\n",
              "      <td>0.000000</td>\n",
              "      <td>0.000000</td>\n",
              "    </tr>\n",
              "    <tr>\n",
              "      <th>249</th>\n",
              "      <td>0.000000</td>\n",
              "      <td>0.000000</td>\n",
              "      <td>0.000000</td>\n",
              "      <td>0.000000</td>\n",
              "      <td>0.000000</td>\n",
              "      <td>0.0</td>\n",
              "      <td>0.0</td>\n",
              "      <td>0.0</td>\n",
              "      <td>0.000000</td>\n",
              "      <td>0.0</td>\n",
              "      <td>...</td>\n",
              "      <td>0.150891</td>\n",
              "      <td>0.0</td>\n",
              "      <td>0.000000</td>\n",
              "      <td>0.0</td>\n",
              "      <td>0.000000</td>\n",
              "      <td>0.000000</td>\n",
              "      <td>0.156227</td>\n",
              "      <td>0.000000</td>\n",
              "      <td>0.000000</td>\n",
              "      <td>0.336764</td>\n",
              "    </tr>\n",
              "  </tbody>\n",
              "</table>\n",
              "<p>250 rows × 25 columns</p>\n",
              "</div>\n",
              "      <button class=\"colab-df-convert\" onclick=\"convertToInteractive('df-ef982484-d5d3-4367-b724-5bedd9748575')\"\n",
              "              title=\"Convert this dataframe to an interactive table.\"\n",
              "              style=\"display:none;\">\n",
              "        \n",
              "  <svg xmlns=\"http://www.w3.org/2000/svg\" height=\"24px\"viewBox=\"0 0 24 24\"\n",
              "       width=\"24px\">\n",
              "    <path d=\"M0 0h24v24H0V0z\" fill=\"none\"/>\n",
              "    <path d=\"M18.56 5.44l.94 2.06.94-2.06 2.06-.94-2.06-.94-.94-2.06-.94 2.06-2.06.94zm-11 1L8.5 8.5l.94-2.06 2.06-.94-2.06-.94L8.5 2.5l-.94 2.06-2.06.94zm10 10l.94 2.06.94-2.06 2.06-.94-2.06-.94-.94-2.06-.94 2.06-2.06.94z\"/><path d=\"M17.41 7.96l-1.37-1.37c-.4-.4-.92-.59-1.43-.59-.52 0-1.04.2-1.43.59L10.3 9.45l-7.72 7.72c-.78.78-.78 2.05 0 2.83L4 21.41c.39.39.9.59 1.41.59.51 0 1.02-.2 1.41-.59l7.78-7.78 2.81-2.81c.8-.78.8-2.07 0-2.86zM5.41 20L4 18.59l7.72-7.72 1.47 1.35L5.41 20z\"/>\n",
              "  </svg>\n",
              "      </button>\n",
              "      \n",
              "  <style>\n",
              "    .colab-df-container {\n",
              "      display:flex;\n",
              "      flex-wrap:wrap;\n",
              "      gap: 12px;\n",
              "    }\n",
              "\n",
              "    .colab-df-convert {\n",
              "      background-color: #E8F0FE;\n",
              "      border: none;\n",
              "      border-radius: 50%;\n",
              "      cursor: pointer;\n",
              "      display: none;\n",
              "      fill: #1967D2;\n",
              "      height: 32px;\n",
              "      padding: 0 0 0 0;\n",
              "      width: 32px;\n",
              "    }\n",
              "\n",
              "    .colab-df-convert:hover {\n",
              "      background-color: #E2EBFA;\n",
              "      box-shadow: 0px 1px 2px rgba(60, 64, 67, 0.3), 0px 1px 3px 1px rgba(60, 64, 67, 0.15);\n",
              "      fill: #174EA6;\n",
              "    }\n",
              "\n",
              "    [theme=dark] .colab-df-convert {\n",
              "      background-color: #3B4455;\n",
              "      fill: #D2E3FC;\n",
              "    }\n",
              "\n",
              "    [theme=dark] .colab-df-convert:hover {\n",
              "      background-color: #434B5C;\n",
              "      box-shadow: 0px 1px 3px 1px rgba(0, 0, 0, 0.15);\n",
              "      filter: drop-shadow(0px 1px 2px rgba(0, 0, 0, 0.3));\n",
              "      fill: #FFFFFF;\n",
              "    }\n",
              "  </style>\n",
              "\n",
              "      <script>\n",
              "        const buttonEl =\n",
              "          document.querySelector('#df-ef982484-d5d3-4367-b724-5bedd9748575 button.colab-df-convert');\n",
              "        buttonEl.style.display =\n",
              "          google.colab.kernel.accessAllowed ? 'block' : 'none';\n",
              "\n",
              "        async function convertToInteractive(key) {\n",
              "          const element = document.querySelector('#df-ef982484-d5d3-4367-b724-5bedd9748575');\n",
              "          const dataTable =\n",
              "            await google.colab.kernel.invokeFunction('convertToInteractive',\n",
              "                                                     [key], {});\n",
              "          if (!dataTable) return;\n",
              "\n",
              "          const docLinkHtml = 'Like what you see? Visit the ' +\n",
              "            '<a target=\"_blank\" href=https://colab.research.google.com/notebooks/data_table.ipynb>data table notebook</a>'\n",
              "            + ' to learn more about interactive tables.';\n",
              "          element.innerHTML = '';\n",
              "          dataTable['output_type'] = 'display_data';\n",
              "          await google.colab.output.renderOutput(dataTable, element);\n",
              "          const docLink = document.createElement('div');\n",
              "          docLink.innerHTML = docLinkHtml;\n",
              "          element.appendChild(docLink);\n",
              "        }\n",
              "      </script>\n",
              "    </div>\n",
              "  </div>\n",
              "  "
            ]
          },
          "metadata": {},
          "execution_count": 23
        }
      ]
    },
    {
      "cell_type": "code",
      "source": [
        "from sklearn.preprocessing import MinMaxScaler\n",
        "from sklearn.model_selection import KFold\n",
        "\n",
        "# Proses K-FOLDING\n",
        "kf = KFold(n_splits=10)\n",
        "kf.get_n_splits(attr)\n",
        "x_train_data = [0,0,0,0,0,0,0,0,0,0]\n",
        "x_test_data = [0,0,0,0,0,0,0,0,0,0]\n",
        "y_train_data = [0,0,0,0,0,0,0,0,0,0]\n",
        "y_test_data = [0,0,0,0,0,0,0,0,0,0]\n",
        "for i, (train_index, test_index) in enumerate(kf.split(attr)):\n",
        "    # x_train, x_test, y_train, y_test = train_test_split(attr, cls, test_size = 0.2)\n",
        "    x_train , x_test = attr.iloc[train_index,:],attr.iloc[test_index,:]\n",
        "    y_train , y_test = cls[train_index] , cls[test_index]\n",
        "\n",
        "    scaler = MinMaxScaler()\n",
        "    x_train = scaler.fit_transform(x_train)\n",
        "    x_test = scaler.transform(x_test)\n",
        "\n",
        "    tree = SVC()\n",
        "    tree.fit(x_train, y_train)\n",
        "\n",
        "    x_train_data[i] = x_train\n",
        "    x_test_data[i] = x_test\n",
        "    y_train_data[i] = y_train\n",
        "    y_test_data[i] = y_test"
      ],
      "metadata": {
        "id": "QtlAFHsV9MzU"
      },
      "execution_count": 24,
      "outputs": []
    },
    {
      "cell_type": "code",
      "source": [
        "import matplotlib.pyplot as plt\n",
        "import seaborn as sn\n",
        "%matplotlib inline"
      ],
      "metadata": {
        "id": "BGsACCLCCc3m"
      },
      "execution_count": 25,
      "outputs": []
    },
    {
      "cell_type": "code",
      "source": [
        "# PLot nilai Y test per fold\n",
        "\n",
        "fig = plt.subplots(figsize=(18,6))\n",
        "barWidth = 0.15\n",
        "Y_TEST_POS = [sum(p == 1 for p in y_test_data[0]), sum(p == 1 for p in y_test_data[1]), sum(p == 1 for p in y_test_data[2]), sum(p == 1 for p in y_test_data[3]), sum(p == 1 for p in y_test_data[4]), sum(p == 1 for p in y_test_data[5]), sum(p == 1 for p in y_test_data[6]), sum(p == 1 for p in y_test_data[7]), sum(p == 1 for p in y_test_data[8]), sum(p == 1 for p in y_test_data[9])]\n",
        "Y_TEST_NEG = [sum(p == 0 for p in y_test_data[0]), sum(p == 0 for p in y_test_data[1]), sum(p == 0 for p in y_test_data[2]), sum(p == 0 for p in y_test_data[3]), sum(p == 0 for p in y_test_data[4]), sum(p == 0 for p in y_test_data[5]), sum(p == 0 for p in y_test_data[6]), sum(p == 0 for p in y_test_data[7]), sum(p == 0 for p in y_test_data[8]), sum(p == 0 for p in y_test_data[9])]\n",
        "\n",
        "br1 = np.arange(len(Y_TEST_POS))\n",
        "br2 = [x + barWidth for x in br1]\n",
        "\n",
        "plt.title(\"Total Y Train & Y Test Class Per Fold\")\n",
        "plt.bar(br1, Y_TEST_POS, color ='b', width = barWidth,\n",
        "        edgecolor ='grey', label ='Y_TEST_POS')\n",
        "plt.bar(br2, Y_TEST_NEG, color ='m', width = barWidth,\n",
        "        edgecolor ='grey', label ='Y_TEST_NEG')\n",
        "\n",
        "plt.xticks([r + barWidth for r in range(len(Y_TEST_POS))],\n",
        "        [\"Fold 1\", \"Fold 2\", \"Fold 3\", \"Fold 4\", \"Fold 5\", \"Fold 6\", \"Fold 7\", \"Fold 8\", \"Fold 9\", \"Fold 10\"])\n",
        " \n",
        "plt.legend()\n",
        "plt.show()"
      ],
      "metadata": {
        "colab": {
          "base_uri": "https://localhost:8080/",
          "height": 325
        },
        "id": "sptVwxp8J7oY",
        "outputId": "3160b05a-ea4f-4e77-b621-afa95a4fd0ab"
      },
      "execution_count": 26,
      "outputs": [
        {
          "output_type": "display_data",
          "data": {
            "text/plain": [
              "<Figure size 1296x432 with 1 Axes>"
            ],
            "image/png": "[encoded data removed]"
          },
          "metadata": {
            "needs_background": "light"
          }
        }
      ]
    },
    {
      "cell_type": "code",
      "source": [
        "# Parameter SVM\n",
        "\n",
        "c_data = 15\n",
        "max_iteration = 50000\n",
        "tolerance = 0.01\n",
        "np.random.seed(10)"
      ],
      "metadata": {
        "id": "ymPZMmcJS-no"
      },
      "execution_count": 27,
      "outputs": []
    },
    {
      "cell_type": "code",
      "source": [
        "# Proses training FOLD-1\n",
        "\n",
        "model_1 = SVC(\n",
        "    C = c_data,\n",
        "    kernel = 'linear',\n",
        "    max_iter = max_iteration,\n",
        "    random_state = 0,\n",
        "    tol = tolerance,\n",
        "    )\n",
        "\n",
        "# Proses testing FOLD-1\n",
        "model_1 = model_1.fit(x_train_data[0], y_train_data[0])\n",
        "\n",
        "prediction_1 = model_1.predict(x_test_data[0])\n",
        "false_1 = (prediction_1 != y_test_data[0]).sum()\n",
        "true_1 = (prediction_1 == y_test_data[0]).sum()\n",
        "tn_1, fp_1, fn_1, tp_1 = confusion_matrix(y_test_data[0], prediction_1).ravel()\n",
        "precision_score_1 = tp_1 / (tp_1 + fp_1)\n",
        "recall_score_1 = tp_1 / (tp_1 + fn_1)\n",
        "f1_score_1 = 2 * (recall_score_1 * precision_score_1) / (recall_score_1 + precision_score_1)\n",
        "\n",
        "# Hasil Akurasi\n",
        "print(\"Accuration: \", true_1 / (true_1 + false_1) * 100, '%')\n",
        "# Hasil Presisi\n",
        "print(\"Precission: \", precision_score_1 * 100, \"%\")\n",
        "# Hasil Recall\n",
        "print(\"Recall: \", recall_score_1 * 100, \"%\")\n",
        "# Hasil F1\n",
        "print(\"F1 Score: \", f1_score_1 * 100, \"%\")\n",
        "print(\"======================\")\n",
        "# Plot Confusion Matrix\n",
        "cm_1 = confusion_matrix(y_test, prediction_1)\n",
        "plt.figure(figsize=(10,7))\n",
        "sn.heatmap(cm_1, annot=True)\n",
        "plt.xlabel('Predicted')\n",
        "plt.ylabel('Truth')"
      ],
      "metadata": {
        "colab": {
          "base_uri": "https://localhost:8080/",
          "height": 546
        },
        "id": "4Hwj8On9AhKL",
        "outputId": "7aabc797-79bf-4c67-eb38-c1d2f1263df5"
      },
      "execution_count": 28,
      "outputs": [
        {
          "output_type": "stream",
          "name": "stdout",
          "text": [
            "Accuration:  76.0 %\n",
            "Precission:  100.0 %\n",
            "Recall:  33.33333333333333 %\n",
            "F1 Score:  50.0 %\n",
            "======================\n"
          ]
        },
        {
          "output_type": "execute_result",
          "data": {
            "text/plain": [
              "Text(69.0, 0.5, 'Truth')"
            ]
          },
          "metadata": {},
          "execution_count": 28
        },
        {
          "output_type": "display_data",
          "data": {
            "text/plain": [
              "<Figure size 720x504 with 2 Axes>"
            ],
            "image/png": "[encoded data removed]"
          },
          "metadata": {
            "needs_background": "light"
          }
        }
      ]
    },
    {
      "cell_type": "code",
      "source": [
        "# Proses training FOLD-2\n",
        "\n",
        "model_2 = SVC(\n",
        "    C = c_data,\n",
        "    kernel = 'linear',\n",
        "    max_iter = max_iteration,\n",
        "    random_state = 0,\n",
        "    tol = tolerance,\n",
        "    )\n",
        "\n",
        "# Proses testing FOLD-2\n",
        "model_2 = model_2.fit(x_train_data[1], y_train_data[1])\n",
        "\n",
        "prediction_2 = model_2.predict(x_test_data[1])\n",
        "false_2 = (prediction_2 != y_test_data[1]).sum()\n",
        "true_2 = (prediction_2 == y_test_data[1]).sum()\n",
        "tn_2, fp_2, fn_2, tp_2 = confusion_matrix(y_test_data[1], prediction_2).ravel()\n",
        "precision_score_2 = tp_2 / (tp_2 + fp_2)\n",
        "recall_score_2 = tp_2 / (tp_2 + fn_2)\n",
        "f1_score_2 = 2 * (recall_score_2 * precision_score_2) / (recall_score_2 + precision_score_2)\n",
        "\n",
        "# Hasil Akurasi\n",
        "print(\"Accuration: \", true_2 / (true_2 + false_2) * 100, '%')\n",
        "# Hasil Presisi\n",
        "print(\"Precission: \", precision_score_2 * 100, \"%\")\n",
        "# Hasil Recall\n",
        "print(\"Recall: \", recall_score_2 * 100, \"%\")\n",
        "# Hasil F1\n",
        "print(\"F1 Score: \", f1_score_2 * 100, \"%\")\n",
        "print(\"======================\")\n",
        "# Plot Confusion Matrix\n",
        "cm_2 = confusion_matrix(y_test, prediction_2)\n",
        "plt.figure(figsize=(10,7))\n",
        "sn.heatmap(cm_2, annot=True)\n",
        "plt.xlabel('Predicted')\n",
        "plt.ylabel('Truth')"
      ],
      "metadata": {
        "colab": {
          "base_uri": "https://localhost:8080/",
          "height": 550
        },
        "id": "IG0JzHYBCGj1",
        "outputId": "e8b6e293-4a48-4abb-cd95-b90048ced9f7"
      },
      "execution_count": 29,
      "outputs": [
        {
          "output_type": "stream",
          "name": "stdout",
          "text": [
            "Accuration:  80.0 %\n",
            "Precission:  62.5 %\n",
            "Recall:  71.42857142857143 %\n",
            "F1 Score:  66.66666666666666 %\n",
            "======================\n"
          ]
        },
        {
          "output_type": "execute_result",
          "data": {
            "text/plain": [
              "Text(69.0, 0.5, 'Truth')"
            ]
          },
          "metadata": {},
          "execution_count": 29
        },
        {
          "output_type": "display_data",
          "data": {
            "text/plain": [
              "<Figure size 720x504 with 2 Axes>"
            ],
            "image/png": "[encoded data removed]"
          },
          "metadata": {
            "needs_background": "light"
          }
        }
      ]
    },
    {
      "cell_type": "code",
      "source": [
        "# Proses training FOLD-3\n",
        "\n",
        "model_3 = SVC(\n",
        "    C = c_data,\n",
        "    kernel = 'linear',\n",
        "    max_iter = max_iteration,\n",
        "    random_state = 0,\n",
        "    tol = tolerance,\n",
        "    )\n",
        "\n",
        "# Proses testing FOLD-3\n",
        "model_3 = model_3.fit(x_train_data[2], y_train_data[2])\n",
        "\n",
        "prediction_3 = model_3.predict(x_test_data[2])\n",
        "false_3 = (prediction_3 != y_test_data[2]).sum()\n",
        "true_3 = (prediction_3 == y_test_data[2]).sum()\n",
        "tn_3, fp_3, fn_3, tp_3 = confusion_matrix(y_test_data[2], prediction_3).ravel()\n",
        "precision_score_3 = tp_3 / (tp_3 + fp_3)\n",
        "recall_score_3 = tp_3 / (tp_3 + fn_3)\n",
        "f1_score_3 = 2 * (recall_score_3 * precision_score_3) / (recall_score_3 + precision_score_3)\n",
        "\n",
        "# Hasil Akurasi\n",
        "print(\"Accuration: \", true_3 / (true_3 + false_3) * 100, '%')\n",
        "# Hasil Presisi\n",
        "print(\"Precission: \", precision_score_3 * 100, \"%\")\n",
        "# Hasil Recall\n",
        "print(\"Recall: \", recall_score_3 * 100, \"%\")\n",
        "# Hasil F1\n",
        "print(\"F1 Score: \", f1_score_3 * 100, \"%\")\n",
        "print(\"======================\")\n",
        "# Plot Confusion Matrix\n",
        "cm_3 = confusion_matrix(y_test, prediction_3)\n",
        "plt.figure(figsize=(10,7))\n",
        "sn.heatmap(cm_3, annot=True)\n",
        "plt.xlabel('Predicted')\n",
        "plt.ylabel('Truth')"
      ],
      "metadata": {
        "colab": {
          "base_uri": "https://localhost:8080/",
          "height": 550
        },
        "id": "0zbzi_Z-CqHY",
        "outputId": "2e08768d-5a21-4047-f16f-75b576494500"
      },
      "execution_count": 30,
      "outputs": [
        {
          "output_type": "stream",
          "name": "stdout",
          "text": [
            "Accuration:  60.0 %\n",
            "Precission:  88.88888888888889 %\n",
            "Recall:  47.05882352941176 %\n",
            "F1 Score:  61.53846153846153 %\n",
            "======================\n"
          ]
        },
        {
          "output_type": "execute_result",
          "data": {
            "text/plain": [
              "Text(69.0, 0.5, 'Truth')"
            ]
          },
          "metadata": {},
          "execution_count": 30
        },
        {
          "output_type": "display_data",
          "data": {
            "text/plain": [
              "<Figure size 720x504 with 2 Axes>"
            ],
            "image/png": "[encoded data removed]"
          },
          "metadata": {
            "needs_background": "light"
          }
        }
      ]
    },
    {
      "cell_type": "code",
      "source": [
        "# Proses training FOLD-4\n",
        "\n",
        "model_4 = SVC(\n",
        "    C = c_data,\n",
        "    kernel = 'linear',\n",
        "    max_iter = max_iteration,\n",
        "    random_state = 0,\n",
        "    tol = tolerance,\n",
        "    )\n",
        "\n",
        "# Proses testing FOLD-4\n",
        "model_4 = model_4.fit(x_train_data[3], y_train_data[3])\n",
        "\n",
        "prediction_4 = model_4.predict(x_test_data[3])\n",
        "false_4 = (prediction_4 != y_test_data[3]).sum()\n",
        "true_4 = (prediction_4 == y_test_data[3]).sum()\n",
        "tn_4, fp_4, fn_4, tp_4 = confusion_matrix(y_test_data[3], prediction_4).ravel()\n",
        "precision_score_4 = tp_4 / (tp_4 + fp_4)\n",
        "recall_score_4 = tp_4 / (tp_4 + fn_4)\n",
        "f1_score_4 = 2 * (recall_score_4 * precision_score_4) / (recall_score_4 + precision_score_4)\n",
        "\n",
        "# Hasil Akurasi\n",
        "print(\"Accuration: \", true_4 / (true_4 + false_4) * 100, '%')\n",
        "# Hasil Presisi\n",
        "print(\"Precission: \", precision_score_4 * 100, \"%\")\n",
        "# Hasil Recall\n",
        "print(\"Recall: \", recall_score_4 * 100, \"%\")\n",
        "# Hasil F1\n",
        "print(\"F1 Score: \", f1_score_4 * 100, \"%\")\n",
        "print(\"======================\")\n",
        "# Plot Confusion Matrix\n",
        "cm_4 = confusion_matrix(y_test, prediction_4)\n",
        "plt.figure(figsize=(10,7))\n",
        "sn.heatmap(cm_4, annot=True)\n",
        "plt.xlabel('Predicted')\n",
        "plt.ylabel('Truth')"
      ],
      "metadata": {
        "colab": {
          "base_uri": "https://localhost:8080/",
          "height": 550
        },
        "id": "Ldc9VfNMCu9J",
        "outputId": "2d906ba7-c59e-4753-811b-4998477e37f7"
      },
      "execution_count": 31,
      "outputs": [
        {
          "output_type": "stream",
          "name": "stdout",
          "text": [
            "Accuration:  76.0 %\n",
            "Precission:  66.66666666666666 %\n",
            "Recall:  50.0 %\n",
            "F1 Score:  57.14285714285715 %\n",
            "======================\n"
          ]
        },
        {
          "output_type": "execute_result",
          "data": {
            "text/plain": [
              "Text(69.0, 0.5, 'Truth')"
            ]
          },
          "metadata": {},
          "execution_count": 31
        },
        {
          "output_type": "display_data",
          "data": {
            "text/plain": [
              "<Figure size 720x504 with 2 Axes>"
            ],
            "image/png": "[encoded data removed]"
          },
          "metadata": {
            "needs_background": "light"
          }
        }
      ]
    },
    {
      "cell_type": "code",
      "source": [
        "# Proses training FOLD-5\n",
        "\n",
        "model_5 = SVC(\n",
        "    C = c_data,\n",
        "    kernel = 'linear',\n",
        "    max_iter = max_iteration,\n",
        "    random_state = 0,\n",
        "    tol = tolerance,\n",
        "    )\n",
        "\n",
        "# Proses testing FOLD-5\n",
        "model_5 = model_5.fit(x_train_data[4], y_train_data[4])\n",
        "\n",
        "prediction_5 = model_5.predict(x_test_data[4])\n",
        "false_5 = (prediction_5 != y_test_data[4]).sum()\n",
        "true_5 = (prediction_5 == y_test_data[4]).sum()\n",
        "tn_5, fp_5, fn_5, tp_5 = confusion_matrix(y_test_data[4], prediction_5).ravel()\n",
        "precision_score_5 = tp_5 / (tp_5 + fp_5)\n",
        "recall_score_5 = tp_5 / (tp_5 + fn_5)\n",
        "f1_score_5 = 2 * (recall_score_5 * precision_score_5) / (recall_score_5 + precision_score_5)\n",
        "\n",
        "# Hasil Akurasi\n",
        "print(\"Accuration: \", true_5 / (true_5 + false_5) * 100, '%')\n",
        "# Hasil Presisi\n",
        "print(\"Precission: \", precision_score_5 * 100, \"%\")\n",
        "# Hasil Recall\n",
        "print(\"Recall: \", recall_score_5 * 100, \"%\")\n",
        "# Hasil F1\n",
        "print(\"F1 Score: \", f1_score_5 * 100, \"%\")\n",
        "print(\"======================\")\n",
        "# Plot Confusion Matrix\n",
        "cm_5 = confusion_matrix(y_test, prediction_5)\n",
        "plt.figure(figsize=(10,7))\n",
        "sn.heatmap(cm_5, annot=True)\n",
        "plt.xlabel('Predicted')\n",
        "plt.ylabel('Truth')"
      ],
      "metadata": {
        "colab": {
          "base_uri": "https://localhost:8080/",
          "height": 550
        },
        "id": "gaKe5dLNC0xs",
        "outputId": "9af4e8d5-d5e7-49df-b88c-784670b44e77"
      },
      "execution_count": 32,
      "outputs": [
        {
          "output_type": "stream",
          "name": "stdout",
          "text": [
            "Accuration:  80.0 %\n",
            "Precission:  87.5 %\n",
            "Recall:  63.63636363636363 %\n",
            "F1 Score:  73.68421052631578 %\n",
            "======================\n"
          ]
        },
        {
          "output_type": "execute_result",
          "data": {
            "text/plain": [
              "Text(69.0, 0.5, 'Truth')"
            ]
          },
          "metadata": {},
          "execution_count": 32
        },
        {
          "output_type": "display_data",
          "data": {
            "text/plain": [
              "<Figure size 720x504 with 2 Axes>"
            ],
            "image/png": "[encoded data removed]"
          },
          "metadata": {
            "needs_background": "light"
          }
        }
      ]
    },
    {
      "cell_type": "code",
      "source": [
        "# Proses training FOLD-5\n",
        "\n",
        "model_6 = SVC(\n",
        "    C = c_data,\n",
        "    kernel = 'linear',\n",
        "    max_iter = max_iteration,\n",
        "    random_state = 0,\n",
        "    tol = tolerance,\n",
        "    )\n",
        "\n",
        "# Proses testing FOLD-5\n",
        "model_6 = model_6.fit(x_train_data[5], y_train_data[5])\n",
        "\n",
        "prediction_6 = model_6.predict(x_test_data[5])\n",
        "false_6 = (prediction_6 != y_test_data[5]).sum()\n",
        "true_6 = (prediction_6 == y_test_data[5]).sum()\n",
        "tn_6, fp_6, fn_6, tp_6 = confusion_matrix(y_test_data[5], prediction_6).ravel()\n",
        "precision_score_6 = tp_6 / (tp_6 + fp_6)\n",
        "recall_score_6 = tp_6 / (tp_6 + fn_6)\n",
        "f1_score_6 = 2 * (recall_score_6 * precision_score_6) / (recall_score_6 + precision_score_6)\n",
        "\n",
        "# Hasil Akurasi\n",
        "print(\"Accuration: \", true_6 / (true_6 + false_6) * 100, '%')\n",
        "# Hasil Presisi\n",
        "print(\"Precission: \", precision_score_6 * 100, \"%\")\n",
        "# Hasil Recall\n",
        "print(\"Recall: \", recall_score_6 * 100, \"%\")\n",
        "# Hasil F1\n",
        "print(\"F1 Score: \", f1_score_6 * 100, \"%\")\n",
        "print(\"======================\")\n",
        "# Plot Confusion Matrix\n",
        "cm_6 = confusion_matrix(y_test, prediction_6)\n",
        "plt.figure(figsize=(10,7))\n",
        "sn.heatmap(cm_6, annot=True)\n",
        "plt.xlabel('Predicted')\n",
        "plt.ylabel('Truth')"
      ],
      "metadata": {
        "colab": {
          "base_uri": "https://localhost:8080/",
          "height": 550
        },
        "id": "9VFPasL9jdvT",
        "outputId": "065ee5fa-675b-4769-f3a0-05165bacf848"
      },
      "execution_count": 33,
      "outputs": [
        {
          "output_type": "stream",
          "name": "stdout",
          "text": [
            "Accuration:  84.0 %\n",
            "Precission:  33.33333333333333 %\n",
            "Recall:  33.33333333333333 %\n",
            "F1 Score:  33.33333333333333 %\n",
            "======================\n"
          ]
        },
        {
          "output_type": "execute_result",
          "data": {
            "text/plain": [
              "Text(69.0, 0.5, 'Truth')"
            ]
          },
          "metadata": {},
          "execution_count": 33
        },
        {
          "output_type": "display_data",
          "data": {
            "text/plain": [
              "<Figure size 720x504 with 2 Axes>"
            ],
            "image/png": "[encoded data removed]"
          },
          "metadata": {
            "needs_background": "light"
          }
        }
      ]
    },
    {
      "cell_type": "code",
      "source": [
        "# Proses training FOLD-5\n",
        "\n",
        "model_7 = SVC(\n",
        "    C = c_data,\n",
        "    kernel = 'linear',\n",
        "    max_iter = max_iteration,\n",
        "    random_state = 0,\n",
        "    tol = tolerance,\n",
        "    )\n",
        "\n",
        "# Proses testing FOLD-5\n",
        "model_7 = model_7.fit(x_train_data[6], y_train_data[6])\n",
        "\n",
        "prediction_7 = model_7.predict(x_test_data[6])\n",
        "false_7 = (prediction_7 != y_test_data[6]).sum()\n",
        "true_7 = (prediction_7 == y_test_data[6]).sum()\n",
        "tn_7, fp_7, fn_7, tp_7 = confusion_matrix(y_test_data[6], prediction_7).ravel()\n",
        "precision_score_7 = tp_7 / (tp_7 + fp_7)\n",
        "recall_score_7 = tp_7 / (tp_7 + fn_7)\n",
        "f1_score_7 = 2 * (recall_score_7 * precision_score_7) / (recall_score_7 + precision_score_7)\n",
        "\n",
        "# Hasil Akurasi\n",
        "print(\"Accuration: \", true_7 / (true_7 + false_7) * 100, '%')\n",
        "# Hasil Presisi\n",
        "print(\"Precission: \", precision_score_7 * 100, \"%\")\n",
        "# Hasil Recall\n",
        "print(\"Recall: \", recall_score_7 * 100, \"%\")\n",
        "# Hasil F1\n",
        "print(\"F1 Score: \", f1_score_7 * 100, \"%\")\n",
        "print(\"======================\")\n",
        "# Plot Confusion Matrix\n",
        "cm_7 = confusion_matrix(y_test, prediction_7)\n",
        "plt.figure(figsize=(10,7))\n",
        "sn.heatmap(cm_7, annot=True)\n",
        "plt.xlabel('Predicted')\n",
        "plt.ylabel('Truth')"
      ],
      "metadata": {
        "colab": {
          "base_uri": "https://localhost:8080/",
          "height": 546
        },
        "id": "5qscLuVCjh12",
        "outputId": "7bdd3565-ac94-480b-d523-358b6e850f89"
      },
      "execution_count": 34,
      "outputs": [
        {
          "output_type": "stream",
          "name": "stdout",
          "text": [
            "Accuration:  76.0 %\n",
            "Precission:  57.14285714285714 %\n",
            "Recall:  57.14285714285714 %\n",
            "F1 Score:  57.14285714285714 %\n",
            "======================\n"
          ]
        },
        {
          "output_type": "execute_result",
          "data": {
            "text/plain": [
              "Text(69.0, 0.5, 'Truth')"
            ]
          },
          "metadata": {},
          "execution_count": 34
        },
        {
          "output_type": "display_data",
          "data": {
            "text/plain": [
              "<Figure size 720x504 with 2 Axes>"
            ],
            "image/png": "[encoded data removed]"
          },
          "metadata": {
            "needs_background": "light"
          }
        }
      ]
    },
    {
      "cell_type": "code",
      "source": [
        "# Proses training FOLD-5\n",
        "\n",
        "model_8 = SVC(\n",
        "    C = c_data,\n",
        "    kernel = 'linear',\n",
        "    max_iter = max_iteration,\n",
        "    random_state = 0,\n",
        "    tol = tolerance,\n",
        "    )\n",
        "\n",
        "# Proses testing FOLD-5\n",
        "model_8 = model_8.fit(x_train_data[7], y_train_data[7])\n",
        "\n",
        "prediction_8 = model_8.predict(x_test_data[7])\n",
        "false_8 = (prediction_8 != y_test_data[7]).sum()\n",
        "true_8 = (prediction_8 == y_test_data[7]).sum()\n",
        "tn_8, fp_8, fn_8, tp_8 = confusion_matrix(y_test_data[7], prediction_8).ravel()\n",
        "precision_score_8 = tp_8 / (tp_8 + fp_8)\n",
        "recall_score_8 = tp_8 / (tp_8 + fn_8)\n",
        "f1_score_8 = 2 * (recall_score_8 * precision_score_8) / (recall_score_8 + precision_score_8)\n",
        "\n",
        "# Hasil Akurasi\n",
        "print(\"Accuration: \", true_8 / (true_8 + false_8) * 100, '%')\n",
        "# Hasil Presisi\n",
        "print(\"Precission: \", precision_score_8 * 100, \"%\")\n",
        "# Hasil Recall\n",
        "print(\"Recall: \", recall_score_8 * 100, \"%\")\n",
        "# Hasil F1\n",
        "print(\"F1 Score: \", f1_score_8 * 100, \"%\")\n",
        "print(\"======================\")\n",
        "# Plot Confusion Matrix\n",
        "cm_8 = confusion_matrix(y_test, prediction_8)\n",
        "plt.figure(figsize=(10,7))\n",
        "sn.heatmap(cm_8, annot=True)\n",
        "plt.xlabel('Predicted')\n",
        "plt.ylabel('Truth')"
      ],
      "metadata": {
        "colab": {
          "base_uri": "https://localhost:8080/",
          "height": 550
        },
        "id": "IjXvAc5ujlN_",
        "outputId": "8d9d5bb2-6fe4-4799-aef9-dba5fe7dcfdc"
      },
      "execution_count": 35,
      "outputs": [
        {
          "output_type": "stream",
          "name": "stdout",
          "text": [
            "Accuration:  72.0 %\n",
            "Precission:  71.42857142857143 %\n",
            "Recall:  50.0 %\n",
            "F1 Score:  58.823529411764696 %\n",
            "======================\n"
          ]
        },
        {
          "output_type": "execute_result",
          "data": {
            "text/plain": [
              "Text(69.0, 0.5, 'Truth')"
            ]
          },
          "metadata": {},
          "execution_count": 35
        },
        {
          "output_type": "display_data",
          "data": {
            "text/plain": [
              "<Figure size 720x504 with 2 Axes>"
            ],
            "image/png": "[encoded data removed]"
          },
          "metadata": {
            "needs_background": "light"
          }
        }
      ]
    },
    {
      "cell_type": "code",
      "source": [
        "# Proses training FOLD-5\n",
        "\n",
        "model_9 = SVC(\n",
        "    C = c_data,\n",
        "    kernel = 'linear',\n",
        "    max_iter = max_iteration,\n",
        "    random_state = 0,\n",
        "    tol = tolerance,\n",
        "    )\n",
        "\n",
        "# Proses testing FOLD-5\n",
        "model_9 = model_9.fit(x_train_data[8], y_train_data[8])\n",
        "\n",
        "prediction_9 = model_9.predict(x_test_data[8])\n",
        "false_9 = (prediction_9 != y_test_data[8]).sum()\n",
        "true_9 = (prediction_9 == y_test_data[8]).sum()\n",
        "tn_9, fp_9, fn_9, tp_9 = confusion_matrix(y_test_data[8], prediction_9).ravel()\n",
        "precision_score_9 = tp_9 / (tp_9 + fp_9)\n",
        "recall_score_9 = tp_9 / (tp_9 + fn_9)\n",
        "f1_score_9 = 2 * (recall_score_9 * precision_score_9) / (recall_score_9 + precision_score_9)\n",
        "\n",
        "# Hasil Akurasi\n",
        "print(\"Accuration: \", true_9 / (true_9 + false_9) * 100, '%')\n",
        "# Hasil Presisi\n",
        "print(\"Precission: \", precision_score_9 * 100, \"%\")\n",
        "# Hasil Recall\n",
        "print(\"Recall: \", recall_score_9 * 100, \"%\")\n",
        "# Hasil F1\n",
        "print(\"F1 Score: \", f1_score_9 * 100, \"%\")\n",
        "print(\"======================\")\n",
        "# Plot Confusion Matrix\n",
        "cm_9 = confusion_matrix(y_test, prediction_9)\n",
        "plt.figure(figsize=(10,7))\n",
        "sn.heatmap(cm_9, annot=True)\n",
        "plt.xlabel('Predicted')\n",
        "plt.ylabel('Truth')"
      ],
      "metadata": {
        "colab": {
          "base_uri": "https://localhost:8080/",
          "height": 550
        },
        "id": "JhK6qj8NjotQ",
        "outputId": "dbbb1e53-3b16-47e3-c09d-b395bf943cb4"
      },
      "execution_count": 36,
      "outputs": [
        {
          "output_type": "stream",
          "name": "stdout",
          "text": [
            "Accuration:  92.0 %\n",
            "Precission:  83.33333333333334 %\n",
            "Recall:  83.33333333333334 %\n",
            "F1 Score:  83.33333333333334 %\n",
            "======================\n"
          ]
        },
        {
          "output_type": "execute_result",
          "data": {
            "text/plain": [
              "Text(69.0, 0.5, 'Truth')"
            ]
          },
          "metadata": {},
          "execution_count": 36
        },
        {
          "output_type": "display_data",
          "data": {
            "text/plain": [
              "<Figure size 720x504 with 2 Axes>"
            ],
            "image/png": "[encoded data removed]"
          },
          "metadata": {
            "needs_background": "light"
          }
        }
      ]
    },
    {
      "cell_type": "code",
      "source": [
        "# Proses training FOLD-5\n",
        "\n",
        "model_10 = SVC(\n",
        "    C = c_data,\n",
        "    kernel = 'linear',\n",
        "    max_iter = max_iteration,\n",
        "    random_state = 0,\n",
        "    tol = tolerance,\n",
        "    )\n",
        "\n",
        "# Proses testing FOLD-5\n",
        "model_10 = model_10.fit(x_train_data[9], y_train_data[9])\n",
        "\n",
        "prediction_10 = model_10.predict(x_test_data[9])\n",
        "false_10 = (prediction_10 != y_test_data[9]).sum()\n",
        "true_10 = (prediction_10 == y_test_data[9]).sum()\n",
        "tn_10, fp_10, fn_10, tp_10 = confusion_matrix(y_test_data[9], prediction_10).ravel()\n",
        "precision_score_10 = tp_10 / (tp_10 + fp_10)\n",
        "recall_score_10 = tp_10 / (tp_10 + fn_10)\n",
        "f1_score_10 = 2 * (recall_score_10 * precision_score_10) / (recall_score_10 + precision_score_10)\n",
        "\n",
        "# Hasil Akurasi\n",
        "print(\"Accuration: \", true_10 / (true_10 + false_10) * 100, '%')\n",
        "# Hasil Presisi\n",
        "print(\"Precission: \", precision_score_10 * 100, \"%\")\n",
        "# Hasil Recall\n",
        "print(\"Recall: \", recall_score_10 * 100, \"%\")\n",
        "# Hasil F1\n",
        "print(\"F1 Score: \", f1_score_10 * 100, \"%\")\n",
        "print(\"======================\")\n",
        "# Plot Confusion Matrix\n",
        "cm_10 = confusion_matrix(y_test, prediction_10)\n",
        "plt.figure(figsize=(10,7))\n",
        "sn.heatmap(cm_10, annot=True)\n",
        "plt.xlabel('Predicted')\n",
        "plt.ylabel('Truth')"
      ],
      "metadata": {
        "colab": {
          "base_uri": "https://localhost:8080/",
          "height": 546
        },
        "id": "jLH_Ej3vjr7V",
        "outputId": "f4950d00-33d5-4080-8755-2b4ce4b9b739"
      },
      "execution_count": 37,
      "outputs": [
        {
          "output_type": "stream",
          "name": "stdout",
          "text": [
            "Accuration:  56.00000000000001 %\n",
            "Precission:  75.0 %\n",
            "Recall:  23.076923076923077 %\n",
            "F1 Score:  35.29411764705882 %\n",
            "======================\n"
          ]
        },
        {
          "output_type": "execute_result",
          "data": {
            "text/plain": [
              "Text(69.0, 0.5, 'Truth')"
            ]
          },
          "metadata": {},
          "execution_count": 37
        },
        {
          "output_type": "display_data",
          "data": {
            "text/plain": [
              "<Figure size 720x504 with 2 Axes>"
            ],
            "image/png": "[encoded data removed]"
          },
          "metadata": {
            "needs_background": "light"
          }
        }
      ]
    },
    {
      "cell_type": "code",
      "source": [
        "fig = plt.subplots(figsize=(18,6))\n",
        "barWidth = 0.25\n",
        "ACCURACY = [(true_1 / (true_1 + false_1) * 100), (true_2 / (true_2 + false_2) * 100), (true_3 / (true_3 + false_3) * 100), (true_4 / (true_4 + false_4) * 100), (true_5 / (true_5 + false_5) * 100), (true_6 / (true_6 + false_6) * 100), (true_7 / (true_7 + false_7) * 100), (true_8 / (true_8 + false_8) * 100), (true_9 / (true_9 + false_9) * 100), (true_10 / (true_10 + false_10) * 100)]\n",
        "PRECISION = [precision_score_1 * 100, precision_score_2 * 100, precision_score_3 * 100, precision_score_4 * 100, precision_score_5 * 100, precision_score_6 * 100, precision_score_7 * 100, precision_score_8 * 100, precision_score_9 * 100, precision_score_10 * 100]\n",
        "RECALL = [recall_score_1 * 100, recall_score_2 * 100, recall_score_3 * 100, recall_score_4 * 100, recall_score_5 * 100, recall_score_6 * 100, recall_score_7 * 100, recall_score_8 * 100, recall_score_9 * 100, recall_score_10 * 100]\n",
        " \n",
        "br1 = np.arange(len(ACCURACY))\n",
        "br2 = [x + barWidth for x in br1]\n",
        "br3 = [x + barWidth for x in br2]\n",
        "\n",
        "plt.title(\"ACCURATION PLOT PER FOLD\")\n",
        "plt.bar(br1, ACCURACY, color ='r', width = barWidth,\n",
        "        edgecolor ='grey', label ='AKURASI')\n",
        "plt.bar(br2, PRECISION, color ='g', width = barWidth,\n",
        "        edgecolor ='grey', label ='PRESISI')\n",
        "plt.bar(br3, RECALL, color ='b', width = barWidth,\n",
        "        edgecolor ='grey', label ='RECALL')\n",
        "\n",
        "plt.xticks([r + barWidth for r in range(len(ACCURACY))],\n",
        "    [\"Fold 1\", \"Fold 2\", \"Fold 3\", \"Fold 4\", \"Fold 5\", \"Fold 6\", \"Fold 7\", \"Fold 8\", \"Fold 9\", \"Fold 10\"])\n",
        " \n",
        "plt.legend()\n",
        "plt.show()"
      ],
      "metadata": {
        "colab": {
          "base_uri": "https://localhost:8080/",
          "height": 324
        },
        "id": "sNaGE92uExr7",
        "outputId": "8e087991-9028-4886-d376-e56a23054175"
      },
      "execution_count": 38,
      "outputs": [
        {
          "output_type": "display_data",
          "data": {
            "text/plain": [
              "<Figure size 1296x432 with 1 Axes>"
            ],
            "image/png": "[encoded data removed]"
          },
          "metadata": {
            "needs_background": "light"
          }
        }
      ]
    },
    {
      "cell_type": "code",
      "source": [
        "avg = (true_1 / (true_1 + false_1) * 100) + (true_2 / (true_2 + false_2) * 100) + (true_3 / (true_3 + false_3) * 100) + (true_4 / (true_4 + false_4) * 100) + (true_5 / (true_5 + false_5) * 100) + (true_6 / (true_6 + false_6) * 100) + (true_7 / (true_7 + false_7) * 100) + (true_8 / (true_8 + false_8) * 100) + (true_9 / (true_9 + false_9) * 100) + (true_10 / (true_10 + false_10) * 100)\n",
        "avg = avg/10\n",
        "avg"
      ],
      "metadata": {
        "colab": {
          "base_uri": "https://localhost:8080/"
        },
        "id": "YUT8ettrPu8B",
        "outputId": "4d2abb59-a9c0-485e-ce3d-397ce2b778fd"
      },
      "execution_count": 39,
      "outputs": [
        {
          "output_type": "execute_result",
          "data": {
            "text/plain": [
              "75.2"
            ]
          },
          "metadata": {},
          "execution_count": 39
        }
      ]
    }
  ]
}